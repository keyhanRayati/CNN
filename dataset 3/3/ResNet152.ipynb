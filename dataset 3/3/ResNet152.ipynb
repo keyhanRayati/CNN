{
  "cells": [
    {
      "cell_type": "code",
      "execution_count": 2,
      "metadata": {
        "id": "TigqoVMMP-pU"
      },
      "outputs": [],
      "source": [
        "import numpy as np\n",
        "from tensorflow import keras\n",
        "from tensorflow.keras import layers\n",
        "from tensorflow.keras.models import Sequential\n",
        "from tensorflow.keras.layers import Flatten, Conv2D, MaxPool2D, Dense, Dropout , Input\n",
        "from tensorflow.keras.utils import to_categorical\n",
        "from tensorflow.keras.preprocessing.image import ImageDataGenerator\n",
        "from tensorflow.keras.models import load_model\n",
        "from tensorflow.keras.layers import GlobalMaxPooling2D, MaxPooling2D\n",
        "from tensorflow.keras.layers import BatchNormalization\n",
        "from tensorflow.keras.models import Model\n",
        "from tensorflow.keras import regularizers, optimizers\n",
        "from sklearn.metrics import accuracy_score\n",
        "import matplotlib.pyplot as plt\n",
        "import pandas as pd\n",
        "from PIL import Image\n",
        "import glob\n",
        "import cv2\n",
        "import keras\n",
        "import tensorflow as tf\n",
        "\n",
        "\n",
        "\n",
        "\n",
        "import warnings\n",
        "warnings.filterwarnings('ignore')"
      ]
    },
    {
      "cell_type": "markdown",
      "metadata": {
        "id": "RsE1OwGuJo4I"
      },
      "source": [
        "# Prepare and load dataset"
      ]
    },
    {
      "cell_type": "code",
      "execution_count": 3,
      "metadata": {
        "id": "QUfKXoGgCgaX"
      },
      "outputs": [],
      "source": [
        "x_train = []\n",
        "y_train = []\n",
        "for img in glob.glob(\"/content/drive/MyDrive/datasets3/dataset2-master/dataset2-master/images/TRAIN/EOSINOPHIL/*.jpeg\"):\n",
        "    n = cv2.imread(img)\n",
        "    n = cv2.resize(n, (130,130), interpolation = cv2.INTER_AREA)\n",
        "    x_train.append(n)\n",
        "    y_train.append(0)\n",
        "\n",
        "for img in glob.glob(\"/content/drive/MyDrive/datasets3/dataset2-master/dataset2-master/images/TRAIN/LYMPHOCYTE/*.jpeg\"):\n",
        "    n = cv2.imread(img)\n",
        "    n = cv2.resize(n, (130,130), interpolation = cv2.INTER_AREA)\n",
        "    x_train.append(n)\n",
        "    y_train.append(1)\n",
        "\n",
        "\n",
        "for img in glob.glob(\"/content/drive/MyDrive/datasets3/dataset2-master/dataset2-master/images/TRAIN/MONOCYTE/*.jpeg\"):\n",
        "    n = cv2.imread(img)\n",
        "    n = cv2.resize(n, (130,130), interpolation = cv2.INTER_AREA)\n",
        "    x_train.append(n)\n",
        "    y_train.append(2)\n",
        "\n",
        "for img in glob.glob(\"/content/drive/MyDrive/datasets3/dataset2-master/dataset2-master/images/TRAIN/NEUTROPHIL/*.jpeg\"):\n",
        "    n = cv2.imread(img)\n",
        "    n = cv2.resize(n, (130,130), interpolation = cv2.INTER_AREA)\n",
        "    x_train.append(n)\n",
        "    y_train.append(3)\n",
        "\n"
      ]
    },
    {
      "cell_type": "code",
      "execution_count": 4,
      "metadata": {
        "id": "K9hMt5K-ZfXF"
      },
      "outputs": [],
      "source": [
        "from sklearn.model_selection import train_test_split\n",
        "x_train, x_valid, y_train, y_valid = train_test_split(x_train, y_train, test_size=0.15, random_state=42)"
      ]
    },
    {
      "cell_type": "markdown",
      "metadata": {
        "id": "5YhV_1lKJo4N"
      },
      "source": [
        "# Prepare and load data Test"
      ]
    },
    {
      "cell_type": "code",
      "execution_count": 5,
      "metadata": {
        "id": "dqkaAsmYyQQV"
      },
      "outputs": [],
      "source": [
        "x_test = []\n",
        "y_test = []\n",
        "for img in glob.glob(\"/content/drive/MyDrive/datasets3/dataset2-master/dataset2-master/images/TEST_SIMPLE/EOSINOPHIL/*.jpeg\"):\n",
        "    n = cv2.imread(img)\n",
        "    n = cv2.resize(n, (130,130), interpolation = cv2.INTER_AREA)\n",
        "    x_test.append(n)\n",
        "    y_test.append(0)\n",
        "\n",
        "for img in glob.glob(\"/content/drive/MyDrive/datasets3/dataset2-master/dataset2-master/images/TEST_SIMPLE/LYMPHOCYTE/*.jpeg\"):\n",
        "    n = cv2.imread(img)\n",
        "    n = cv2.resize(n, (130,130), interpolation = cv2.INTER_AREA)\n",
        "    x_test.append(n)\n",
        "    y_test.append(1)\n",
        "\n",
        "\n",
        "for img in glob.glob(\"/content/drive/MyDrive/datasets3/dataset2-master/dataset2-master/images/TEST_SIMPLE/MONOCYTE/*.jpeg\"):\n",
        "    n = cv2.imread(img)\n",
        "    n = cv2.resize(n, (130,130), interpolation = cv2.INTER_AREA)\n",
        "    x_test.append(n)\n",
        "    y_test.append(2)\n",
        "\n",
        "for img in glob.glob(\"/content/drive/MyDrive/datasets3/dataset2-master/dataset2-master/images/TEST_SIMPLE/NEUTROPHIL/*.jpeg\"):\n",
        "    n = cv2.imread(img)\n",
        "    n = cv2.resize(n, (130,130), interpolation = cv2.INTER_AREA)\n",
        "    x_test.append(n)\n",
        "    y_test.append(3)\n"
      ]
    },
    {
      "attachments": {},
      "cell_type": "markdown",
      "metadata": {
        "id": "zm9YBMbUHnba"
      },
      "source": [
        "# Preprocessing the data"
      ]
    },
    {
      "cell_type": "code",
      "execution_count": 6,
      "metadata": {
        "id": "gW_rTigKHpLH"
      },
      "outputs": [],
      "source": [
        "from tensorflow.keras.applications.resnet import preprocess_input\n",
        "\n",
        "                                            "
      ]
    },
    {
      "cell_type": "code",
      "execution_count": 7,
      "metadata": {
        "id": "QGvYnniBL8j5"
      },
      "outputs": [],
      "source": [
        "x_train = np.array(x_train)\n",
        "x_test = np.array(x_test)\n",
        "x_valid = np.array(x_valid)\n",
        "y_valid = np.array(y_valid)\n",
        "y_train = np.array(y_train)\n",
        "y_test = np.array(y_test)"
      ]
    },
    {
      "cell_type": "code",
      "execution_count": 8,
      "metadata": {
        "id": "iyk1vvm4Cgag"
      },
      "outputs": [],
      "source": [
        "train_ds = preprocess_input(x_train)\n",
        "valid_ds = preprocess_input(x_valid) \n",
        "test_ds = preprocess_input(x_test)"
      ]
    },
    {
      "attachments": {},
      "cell_type": "markdown",
      "metadata": {},
      "source": [
        "# Create the base model from the pre-trained model ResNet152"
      ]
    },
    {
      "cell_type": "code",
      "execution_count": 9,
      "metadata": {
        "colab": {
          "base_uri": "https://localhost:8080/"
        },
        "id": "1xxAvUKOMoqB",
        "outputId": "a8bf6ce3-d174-4a9e-ef76-100b099dcd8e"
      },
      "outputs": [
        {
          "name": "stdout",
          "output_type": "stream",
          "text": [
            "Downloading data from https://storage.googleapis.com/tensorflow/keras-applications/resnet/resnet152_weights_tf_dim_ordering_tf_kernels_notop.h5\n",
            "234698864/234698864 [==============================] - 11s 0us/step\n"
          ]
        }
      ],
      "source": [
        "from tensorflow.keras.applications.resnet import ResNet152\n",
        "\n",
        "base_model = tf.keras.applications.ResNet152(weights = 'imagenet', include_top = False, input_shape = (130,130,3))\n",
        "for layer in base_model.layers:\n",
        "  layer.trainable = False"
      ]
    },
    {
      "cell_type": "code",
      "execution_count": 10,
      "metadata": {
        "id": "nt04jGzMCgag"
      },
      "outputs": [],
      "source": [
        "model = Sequential()\n",
        "model.add(base_model)\n",
        "model.add(Flatten())\n",
        "model.add(Dropout(0.5))\n",
        "\n",
        "model.add(Dense(4096,activation='relu'))\n",
        "model.add(Dense(4096,activation='relu'))\n",
        "model.add(Dense(4 , activation = 'softmax'))\n",
        "model.compile(loss='sparse_categorical_crossentropy',optimizer='Adam',metrics=['accuracy'])"
      ]
    },
    {
      "attachments": {},
      "cell_type": "markdown",
      "metadata": {
        "id": "5iB3QRkdJo4R"
      },
      "source": [
        "# train the model"
      ]
    },
    {
      "cell_type": "code",
      "execution_count": 11,
      "metadata": {
        "colab": {
          "base_uri": "https://localhost:8080/"
        },
        "id": "hLyhUhAlbnnm",
        "outputId": "fef68782-bc94-4c27-f74b-d314e5abcac5"
      },
      "outputs": [
        {
          "name": "stdout",
          "output_type": "stream",
          "text": [
            "Epoch 1/50\n",
            "265/265 [==============================] - 70s 208ms/step - loss: 4.4789 - accuracy: 0.3485 - val_loss: 1.2659 - val_accuracy: 0.4170\n",
            "Epoch 2/50\n",
            "265/265 [==============================] - 51s 191ms/step - loss: 1.1983 - accuracy: 0.4737 - val_loss: 1.2226 - val_accuracy: 0.4103\n",
            "Epoch 3/50\n",
            "265/265 [==============================] - 54s 205ms/step - loss: 1.0099 - accuracy: 0.5639 - val_loss: 0.9591 - val_accuracy: 0.6091\n",
            "Epoch 4/50\n",
            "265/265 [==============================] - 50s 187ms/step - loss: 0.8773 - accuracy: 0.6290 - val_loss: 0.8793 - val_accuracy: 0.6473\n",
            "Epoch 5/50\n",
            "265/265 [==============================] - 50s 187ms/step - loss: 0.7454 - accuracy: 0.6973 - val_loss: 0.7490 - val_accuracy: 0.7115\n",
            "Epoch 6/50\n",
            "265/265 [==============================] - 50s 187ms/step - loss: 0.6775 - accuracy: 0.7288 - val_loss: 0.7042 - val_accuracy: 0.7122\n",
            "Epoch 7/50\n",
            "265/265 [==============================] - 49s 184ms/step - loss: 0.5954 - accuracy: 0.7657 - val_loss: 0.7161 - val_accuracy: 0.7082\n",
            "Epoch 8/50\n",
            "265/265 [==============================] - 54s 204ms/step - loss: 0.5772 - accuracy: 0.7762 - val_loss: 0.6430 - val_accuracy: 0.7383\n",
            "Epoch 9/50\n",
            "265/265 [==============================] - 50s 187ms/step - loss: 0.5315 - accuracy: 0.7975 - val_loss: 0.6382 - val_accuracy: 0.7497\n",
            "Epoch 10/50\n",
            "265/265 [==============================] - 48s 183ms/step - loss: 0.4912 - accuracy: 0.8178 - val_loss: 0.6654 - val_accuracy: 0.7410\n",
            "Epoch 11/50\n",
            "265/265 [==============================] - 53s 201ms/step - loss: 0.4610 - accuracy: 0.8189 - val_loss: 0.6844 - val_accuracy: 0.7229\n",
            "Epoch 12/50\n",
            "265/265 [==============================] - 53s 201ms/step - loss: 0.4394 - accuracy: 0.8404 - val_loss: 0.6587 - val_accuracy: 0.7610\n",
            "Epoch 13/50\n",
            "265/265 [==============================] - 54s 204ms/step - loss: 0.4037 - accuracy: 0.8517 - val_loss: 0.6193 - val_accuracy: 0.7497\n",
            "Epoch 14/50\n",
            "265/265 [==============================] - 54s 204ms/step - loss: 0.4180 - accuracy: 0.8479 - val_loss: 0.6073 - val_accuracy: 0.7798\n",
            "Epoch 15/50\n",
            "265/265 [==============================] - 50s 188ms/step - loss: 0.3593 - accuracy: 0.8697 - val_loss: 0.6042 - val_accuracy: 0.7718\n",
            "Epoch 16/50\n",
            "265/265 [==============================] - 54s 204ms/step - loss: 0.3672 - accuracy: 0.8673 - val_loss: 0.5835 - val_accuracy: 0.7831\n",
            "Epoch 17/50\n",
            "265/265 [==============================] - 49s 183ms/step - loss: 0.3540 - accuracy: 0.8725 - val_loss: 0.5975 - val_accuracy: 0.7718\n",
            "Epoch 18/50\n",
            "265/265 [==============================] - 48s 183ms/step - loss: 0.3169 - accuracy: 0.8867 - val_loss: 0.6742 - val_accuracy: 0.7523\n",
            "Epoch 19/50\n",
            "265/265 [==============================] - 49s 183ms/step - loss: 0.3234 - accuracy: 0.8859 - val_loss: 0.5847 - val_accuracy: 0.7878\n",
            "Epoch 20/50\n",
            "265/265 [==============================] - 48s 183ms/step - loss: 0.3330 - accuracy: 0.8827 - val_loss: 0.6007 - val_accuracy: 0.7798\n",
            "Epoch 21/50\n",
            "265/265 [==============================] - 48s 183ms/step - loss: 0.3101 - accuracy: 0.8945 - val_loss: 0.6059 - val_accuracy: 0.7764\n",
            "Epoch 22/50\n",
            "265/265 [==============================] - 48s 183ms/step - loss: 0.3286 - accuracy: 0.8850 - val_loss: 0.5935 - val_accuracy: 0.7851\n",
            "Epoch 23/50\n",
            "265/265 [==============================] - 53s 200ms/step - loss: 0.3005 - accuracy: 0.8964 - val_loss: 0.6160 - val_accuracy: 0.7731\n",
            "Epoch 24/50\n",
            "265/265 [==============================] - 49s 185ms/step - loss: 0.2960 - accuracy: 0.9012 - val_loss: 0.7332 - val_accuracy: 0.7510\n",
            "Epoch 25/50\n",
            "265/265 [==============================] - 53s 200ms/step - loss: 0.2898 - accuracy: 0.8999 - val_loss: 0.6659 - val_accuracy: 0.7657\n",
            "Epoch 26/50\n",
            "265/265 [==============================] - 54s 204ms/step - loss: 0.2794 - accuracy: 0.9023 - val_loss: 0.5458 - val_accuracy: 0.8046\n",
            "Epoch 27/50\n",
            "265/265 [==============================] - 49s 183ms/step - loss: 0.2550 - accuracy: 0.9114 - val_loss: 0.5870 - val_accuracy: 0.7938\n",
            "Epoch 28/50\n",
            "265/265 [==============================] - 53s 200ms/step - loss: 0.2550 - accuracy: 0.9102 - val_loss: 0.6258 - val_accuracy: 0.7905\n",
            "Epoch 29/50\n",
            "265/265 [==============================] - 49s 183ms/step - loss: 0.2879 - accuracy: 0.8993 - val_loss: 0.6012 - val_accuracy: 0.7778\n",
            "Epoch 30/50\n",
            "265/265 [==============================] - 48s 183ms/step - loss: 0.2394 - accuracy: 0.9169 - val_loss: 0.5575 - val_accuracy: 0.7871\n",
            "Epoch 31/50\n",
            "265/265 [==============================] - 49s 184ms/step - loss: 0.2304 - accuracy: 0.9226 - val_loss: 0.5981 - val_accuracy: 0.7905\n",
            "Epoch 32/50\n",
            "265/265 [==============================] - 53s 200ms/step - loss: 0.2328 - accuracy: 0.9191 - val_loss: 0.8403 - val_accuracy: 0.7718\n",
            "Epoch 33/50\n",
            "265/265 [==============================] - 49s 184ms/step - loss: 0.2214 - accuracy: 0.9214 - val_loss: 0.6425 - val_accuracy: 0.7758\n",
            "Epoch 34/50\n",
            "265/265 [==============================] - 48s 183ms/step - loss: 0.2055 - accuracy: 0.9295 - val_loss: 0.6544 - val_accuracy: 0.7972\n",
            "Epoch 35/50\n",
            "265/265 [==============================] - 48s 182ms/step - loss: 0.2106 - accuracy: 0.9291 - val_loss: 0.6014 - val_accuracy: 0.7972\n",
            "Epoch 36/50\n",
            "265/265 [==============================] - 53s 199ms/step - loss: 0.2151 - accuracy: 0.9252 - val_loss: 0.6016 - val_accuracy: 0.7972\n",
            "Epoch 37/50\n",
            "265/265 [==============================] - 49s 183ms/step - loss: 0.1899 - accuracy: 0.9371 - val_loss: 0.6199 - val_accuracy: 0.7918\n",
            "Epoch 38/50\n",
            "265/265 [==============================] - 48s 183ms/step - loss: 0.1917 - accuracy: 0.9328 - val_loss: 0.6188 - val_accuracy: 0.8039\n",
            "Epoch 39/50\n",
            "265/265 [==============================] - 48s 182ms/step - loss: 0.1922 - accuracy: 0.9338 - val_loss: 0.6399 - val_accuracy: 0.7892\n",
            "Epoch 40/50\n",
            "265/265 [==============================] - 48s 182ms/step - loss: 0.1857 - accuracy: 0.9375 - val_loss: 0.5682 - val_accuracy: 0.8046\n",
            "Epoch 41/50\n",
            "265/265 [==============================] - 48s 182ms/step - loss: 0.1870 - accuracy: 0.9376 - val_loss: 0.5758 - val_accuracy: 0.7992\n",
            "Epoch 42/50\n",
            "265/265 [==============================] - 48s 183ms/step - loss: 0.1697 - accuracy: 0.9410 - val_loss: 0.6216 - val_accuracy: 0.8012\n",
            "Epoch 43/50\n",
            "265/265 [==============================] - 48s 182ms/step - loss: 0.1743 - accuracy: 0.9390 - val_loss: 0.6313 - val_accuracy: 0.7878\n",
            "Epoch 44/50\n",
            "265/265 [==============================] - 48s 183ms/step - loss: 0.1798 - accuracy: 0.9382 - val_loss: 0.5932 - val_accuracy: 0.7999\n",
            "Epoch 45/50\n",
            "265/265 [==============================] - 53s 200ms/step - loss: 0.1710 - accuracy: 0.9438 - val_loss: 0.5662 - val_accuracy: 0.7952\n",
            "Epoch 46/50\n",
            "265/265 [==============================] - 48s 183ms/step - loss: 0.1741 - accuracy: 0.9414 - val_loss: 0.6153 - val_accuracy: 0.8052\n",
            "Epoch 47/50\n",
            "265/265 [==============================] - 48s 182ms/step - loss: 0.1823 - accuracy: 0.9378 - val_loss: 0.6787 - val_accuracy: 0.7912\n",
            "Epoch 48/50\n",
            "265/265 [==============================] - 48s 183ms/step - loss: 0.1652 - accuracy: 0.9438 - val_loss: 0.5756 - val_accuracy: 0.7965\n",
            "Epoch 49/50\n",
            "265/265 [==============================] - 48s 182ms/step - loss: 0.1721 - accuracy: 0.9413 - val_loss: 0.6554 - val_accuracy: 0.7858\n",
            "Epoch 50/50\n",
            "265/265 [==============================] - 48s 183ms/step - loss: 0.1821 - accuracy: 0.9373 - val_loss: 0.6288 - val_accuracy: 0.7925\n"
          ]
        }
      ],
      "source": [
        "from tensorflow.keras.callbacks import EarlyStopping\n",
        "\n",
        "\n",
        "\n",
        "history = model.fit(train_ds,y_train, validation_data= (valid_ds,y_valid),  \n",
        "                              epochs=50,\n",
        "                              verbose=1,callbacks=[tf.keras.callbacks.EarlyStopping\n",
        "                               (monitor=\"val_loss\",\n",
        "                                patience=30,verbose=1,\n",
        "                                restore_best_weights=True),\n",
        "                               ])"
      ]
    },
    {
      "cell_type": "markdown",
      "metadata": {
        "id": "o1i6Kp0pJo4T"
      },
      "source": [
        "# plot the loss and accuracy of the model"
      ]
    },
    {
      "cell_type": "code",
      "execution_count": 15,
      "metadata": {
        "colab": {
          "base_uri": "https://localhost:8080/",
          "height": 281
        },
        "id": "gcBB7V8JEbna",
        "outputId": "d418ea1c-e3ed-4c74-f6cc-b6d22663a9c6"
      },
      "outputs": [
        {
          "data": {
            "image/png": "[encoded data removed]",
            "text/plain": [
              "<Figure size 1080x288 with 2 Axes>"
            ]
          },
          "metadata": {
            "needs_background": "light"
          },
          "output_type": "display_data"
        }
      ],
      "source": [
        "import matplotlib.pyplot as plt\n",
        "fig, ax = plt.subplots(1, 2, figsize = (15, 4))\n",
        "ax[0].plot(history.history['loss'], color='b', label=\"Training loss\")\n",
        "ax[0].plot(history.history['val_loss'], color='r', label=\"validation loss\",axes =ax[0])\n",
        "ax[0].set_title('Loss function per ephoch')\n",
        "legend = ax[0].legend(loc='best', shadow=True)\n",
        "ax[1].plot(history.history['accuracy'], color='b', label=\"Training accuracy\")\n",
        "ax[1].plot(history.history['val_accuracy'], color='r',label=\"Validation accuracy\")\n",
        "ax[1].set_title('Model Accuracy')\n",
        "legend = ax[1].legend(loc='best', shadow=True)"
      ]
    },
    {
      "cell_type": "markdown",
      "metadata": {
        "id": "qIYQFXxeJo4T"
      },
      "source": [
        "# train & test loss and accuracy"
      ]
    },
    {
      "cell_type": "code",
      "execution_count": 13,
      "metadata": {
        "colab": {
          "base_uri": "https://localhost:8080/"
        },
        "id": "Hy9cUaCMHLRh",
        "outputId": "52d9aadc-291f-463f-afed-adc9e529c547"
      },
      "outputs": [
        {
          "name": "stdout",
          "output_type": "stream",
          "text": [
            "265/265 [==============================] - 32s 121ms/step - loss: 0.0506 - accuracy: 0.9903\n",
            "train acc: 0.990310788154602\n",
            "train loss: 0.05061757564544678\n"
          ]
        }
      ],
      "source": [
        "train_loss, train_acc= model.evaluate(train_ds,y_train)\n",
        "print('train acc:', train_acc)\n",
        "print('train loss:', train_loss)"
      ]
    },
    {
      "cell_type": "code",
      "execution_count": 14,
      "metadata": {
        "colab": {
          "base_uri": "https://localhost:8080/"
        },
        "id": "5dy_luE5Hsmr",
        "outputId": "5a7331ba-2e30-4e45-af3b-b6a24e6b74fe"
      },
      "outputs": [
        {
          "name": "stdout",
          "output_type": "stream",
          "text": [
            "3/3 [==============================] - 1s 288ms/step - loss: 1.5004 - accuracy: 0.6197\n",
            "test acc: 0.6197183132171631\n",
            "test loss: 1.5003827810287476\n"
          ]
        }
      ],
      "source": [
        "test_loss, test_acc = model.evaluate(test_ds,y_test)\n",
        "print('test acc:', test_acc)\n",
        "print('test loss:', test_loss)"
      ]
    }
  ],
  "metadata": {
    "accelerator": "GPU",
    "colab": {
      "provenance": []
    },
    "gpuClass": "standard",
    "kernelspec": {
      "display_name": "Python 3 (ipykernel)",
      "language": "python",
      "name": "python3"
    },
    "language_info": {
      "codemirror_mode": {
        "name": "ipython",
        "version": 3
      },
      "file_extension": ".py",
      "mimetype": "text/x-python",
      "name": "python",
      "nbconvert_exporter": "python",
      "pygments_lexer": "ipython3",
      "version": "3.8.5"
    }
  },
  "nbformat": 4,
  "nbformat_minor": 0
}
