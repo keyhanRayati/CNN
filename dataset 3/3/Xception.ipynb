{
  "cells": [
    {
      "cell_type": "markdown",
      "metadata": {
        "id": "VqKgctjHLJIo"
      },
      "source": [
        "# Prepare and load dataset"
      ]
    },
    {
      "cell_type": "code",
      "execution_count": 2,
      "metadata": {
        "id": "TigqoVMMP-pU"
      },
      "outputs": [],
      "source": [
        "import numpy as np\n",
        "from tensorflow import keras\n",
        "from tensorflow.keras import layers\n",
        "from tensorflow.keras.models import Sequential\n",
        "from tensorflow.keras.layers import Flatten, Conv2D, MaxPool2D, Dense, Dropout\n",
        "from tensorflow.keras.utils import to_categorical\n",
        "from tensorflow.keras.preprocessing.image import ImageDataGenerator\n",
        "from tensorflow.keras.models import load_model\n",
        "import matplotlib.pyplot as plt\n",
        "import pandas as pd\n",
        "from PIL import Image\n",
        "import glob\n",
        "import cv2\n",
        "\n",
        "import numpy as np\n",
        "import matplotlib.pyplot as plt\n",
        "%matplotlib inline\n",
        "import keras\n",
        "import tensorflow as tf\n",
        "import cv2\n",
        "\n",
        "\n",
        "from tensorflow import keras\n",
        "from keras.models import Sequential\n",
        "from tensorflow.keras.layers import Input, Conv2D, Dense, Flatten, Dropout\n",
        "from tensorflow.keras.layers import GlobalMaxPooling2D, MaxPooling2D\n",
        "from tensorflow.keras.layers import BatchNormalization\n",
        "from tensorflow.keras.models import Model\n",
        "from tensorflow.keras import regularizers, optimizers\n",
        "from tensorflow.keras.utils import to_categorical\n",
        "from sklearn.metrics import accuracy_score\n",
        "import skimage\n",
        "import warnings\n",
        "warnings.filterwarnings('ignore')\n"
      ]
    },
    {
      "cell_type": "code",
      "execution_count": 3,
      "metadata": {
        "id": "iAW0l5ea7uoo"
      },
      "outputs": [],
      "source": [
        "x_train = []\n",
        "y_train = []\n",
        "for img in glob.glob(\"/content/drive/MyDrive/datasets3/dataset2-master/dataset2-master/images/TRAIN/EOSINOPHIL/*.jpeg\"):\n",
        "    n = cv2.imread(img)\n",
        "    n = cv2.resize(n, (140,160), interpolation = cv2.INTER_AREA)\n",
        "    x_train.append(n)\n",
        "    y_train.append(0)\n",
        "\n",
        "for img in glob.glob(\"/content/drive/MyDrive/datasets3/dataset2-master/dataset2-master/images/TRAIN/LYMPHOCYTE/*.jpeg\"):\n",
        "    n = cv2.imread(img)\n",
        "    n = cv2.resize(n, (140,160), interpolation = cv2.INTER_AREA)\n",
        "    x_train.append(n)\n",
        "    y_train.append(1)\n",
        "\n",
        "\n",
        "for img in glob.glob(\"/content/drive/MyDrive/datasets3/dataset2-master/dataset2-master/images/TRAIN/MONOCYTE/*.jpeg\"):\n",
        "    n = cv2.imread(img)\n",
        "    n = cv2.resize(n, (140,160), interpolation = cv2.INTER_AREA)\n",
        "    x_train.append(n)\n",
        "    y_train.append(2)\n",
        "\n",
        "for img in glob.glob(\"/content/drive/MyDrive/datasets3/dataset2-master/dataset2-master/images/TRAIN/NEUTROPHIL/*.jpeg\"):\n",
        "    n = cv2.imread(img)\n",
        "    n = cv2.resize(n, (140,160), interpolation = cv2.INTER_AREA)\n",
        "    x_train.append(n)\n",
        "    y_train.append(3)\n",
        "\n",
        "\n"
      ]
    },
    {
      "cell_type": "markdown",
      "metadata": {
        "id": "ViyZ6YFSLSNz"
      },
      "source": [
        "# Prepare and load data Test"
      ]
    },
    {
      "cell_type": "code",
      "execution_count": 4,
      "metadata": {
        "id": "dqkaAsmYyQQV"
      },
      "outputs": [],
      "source": [
        "x_test = []\n",
        "y_test = []\n",
        "for img in glob.glob(\"/content/drive/MyDrive/datasets3/dataset2-master/dataset2-master/images/TEST_SIMPLE/EOSINOPHIL/*.jpeg\"):\n",
        "    n = cv2.imread(img)\n",
        "    n = cv2.resize(n, (140,160), interpolation = cv2.INTER_AREA)\n",
        "    x_test.append(n)\n",
        "    y_test.append(0)\n",
        "\n",
        "for img in glob.glob(\"/content/drive/MyDrive/datasets3/dataset2-master/dataset2-master/images/TEST_SIMPLE/LYMPHOCYTE/*.jpeg\"):\n",
        "    n = cv2.imread(img)\n",
        "    n = cv2.resize(n, (140,160), interpolation = cv2.INTER_AREA)\n",
        "    x_test.append(n)\n",
        "    y_test.append(1)\n",
        "\n",
        "\n",
        "for img in glob.glob(\"/content/drive/MyDrive/datasets3/dataset2-master/dataset2-master/images/TEST_SIMPLE/MONOCYTE/*.jpeg\"):\n",
        "    n = cv2.imread(img)\n",
        "    n = cv2.resize(n, (140,160), interpolation = cv2.INTER_AREA)\n",
        "    x_test.append(n)\n",
        "    y_test.append(2)\n",
        "\n",
        "for img in glob.glob(\"/content/drive/MyDrive/datasets3/dataset2-master/dataset2-master/images/TEST_SIMPLE/NEUTROPHIL/*.jpeg\"):\n",
        "    n = cv2.imread(img)\n",
        "    n = cv2.resize(n, (140,160), interpolation = cv2.INTER_AREA)\n",
        "    x_test.append(n)\n",
        "    y_test.append(3)\n"
      ]
    },
    {
      "cell_type": "markdown",
      "metadata": {
        "id": "zm9YBMbUHnba"
      },
      "source": [
        "# Create the base model from the pre-trained model Xception"
      ]
    },
    {
      "cell_type": "code",
      "execution_count": 5,
      "metadata": {
        "id": "gW_rTigKHpLH"
      },
      "outputs": [],
      "source": [
        "from tensorflow.keras.applications.xception import Xception\n",
        "from tensorflow.keras.applications.xception import preprocess_input\n",
        "\n",
        "                                            "
      ]
    },
    {
      "cell_type": "code",
      "execution_count": 6,
      "metadata": {
        "id": "8hB6fweMmus2"
      },
      "outputs": [],
      "source": [
        "x_train = preprocess_input(np.array(x_train,dtype=np.float32))\n",
        "x_test = preprocess_input(np.array(x_test,dtype=np.float32))\n",
        "y_train = np.array(y_train,dtype=np.uint8)\n",
        "y_test = np.array(y_test,dtype=np.uint8)"
      ]
    },
    {
      "cell_type": "code",
      "execution_count": 7,
      "metadata": {
        "id": "9WUHlwGYmvWm"
      },
      "outputs": [],
      "source": [
        "from sklearn.model_selection import train_test_split\n",
        "x_train, x_valid, y_train, y_valid = train_test_split(x_train, y_train, test_size=0.15, random_state=42)"
      ]
    },
    {
      "cell_type": "code",
      "execution_count": 8,
      "metadata": {
        "id": "NSFwOdne7uo4"
      },
      "outputs": [],
      "source": [
        "base_model = Xception(include_top=False,weights='imagenet',input_shape=(x_train[0].shape),pooling='avg')"
      ]
    },
    {
      "cell_type": "code",
      "execution_count": 9,
      "metadata": {
        "id": "m2zefPrD7uo4"
      },
      "outputs": [],
      "source": [
        "base_model.trainable = False"
      ]
    },
    {
      "cell_type": "code",
      "execution_count": 10,
      "metadata": {
        "id": "GboU_Fye7uo7"
      },
      "outputs": [],
      "source": [
        "flatten_layer = layers.Flatten()\n",
        "dropout_layer_1 = layers.Dropout(0.5)\n",
        "\n",
        "dense_layer_1 = layers.Dense(4096, activation='relu')\n",
        "dropout_layer_2 = layers.Dropout(0.5)\n",
        "\n",
        "dense_layer_2 = layers.Dense(1024, activation='relu')\n",
        "dropout_layer_3 = layers.Dropout(0.3)\n",
        "prediction_layer = layers.Dense(4, activation='softmax')"
      ]
    },
    {
      "cell_type": "code",
      "execution_count": 11,
      "metadata": {
        "id": "lPoh91te7uo9"
      },
      "outputs": [],
      "source": [
        "model = Sequential([\n",
        "    base_model,\n",
        "    flatten_layer,\n",
        "    dropout_layer_1,\n",
        "    dense_layer_1,\n",
        "    dropout_layer_2,\n",
        "    dense_layer_2,\n",
        "    dropout_layer_3,\n",
        "    prediction_layer\n",
        "])"
      ]
    },
    {
      "cell_type": "code",
      "execution_count": 12,
      "metadata": {
        "colab": {
          "base_uri": "https://localhost:8080/"
        },
        "id": "cubgjXPnnCRd",
        "outputId": "6b64d1c3-3a4d-44c6-83db-1b06803f09c4"
      },
      "outputs": [
        {
          "name": "stdout",
          "output_type": "stream",
          "text": [
            "Model: \"sequential\"\n",
            "_________________________________________________________________\n",
            " Layer (type)                Output Shape              Param #   \n",
            "=================================================================\n",
            " xception (Functional)       (None, 2048)              20861480  \n",
            "                                                                 \n",
            " flatten (Flatten)           (None, 2048)              0         \n",
            "                                                                 \n",
            " dropout (Dropout)           (None, 2048)              0         \n",
            "                                                                 \n",
            " dense (Dense)               (None, 4096)              8392704   \n",
            "                                                                 \n",
            " dropout_1 (Dropout)         (None, 4096)              0         \n",
            "                                                                 \n",
            " dense_1 (Dense)             (None, 1024)              4195328   \n",
            "                                                                 \n",
            " dropout_2 (Dropout)         (None, 1024)              0         \n",
            "                                                                 \n",
            " dense_2 (Dense)             (None, 4)                 4100      \n",
            "                                                                 \n",
            "=================================================================\n",
            "Total params: 33,453,612\n",
            "Trainable params: 12,592,132\n",
            "Non-trainable params: 20,861,480\n",
            "_________________________________________________________________\n"
          ]
        }
      ],
      "source": [
        "model.summary()"
      ]
    },
    {
      "cell_type": "code",
      "execution_count": 13,
      "metadata": {
        "colab": {
          "base_uri": "https://localhost:8080/"
        },
        "id": "Hx9ofqErpXv0",
        "outputId": "52ff329b-829b-45b4-ef0e-3a32e30be30b"
      },
      "outputs": [
        {
          "data": {
            "text/plain": [
              "(8463, 160, 140, 3)"
            ]
          },
          "execution_count": 13,
          "metadata": {},
          "output_type": "execute_result"
        }
      ],
      "source": [
        "x_train.shape"
      ]
    },
    {
      "attachments": {},
      "cell_type": "markdown",
      "metadata": {
        "id": "LaWvYfaQLv9C"
      },
      "source": [
        "# Train the model"
      ]
    },
    {
      "cell_type": "code",
      "execution_count": 14,
      "metadata": {
        "colab": {
          "base_uri": "https://localhost:8080/"
        },
        "id": "hLyhUhAlbnnm",
        "outputId": "597c2414-7cd2-401c-ea65-0f5fd5988ab0"
      },
      "outputs": [
        {
          "name": "stdout",
          "output_type": "stream",
          "text": [
            "Epoch 1/80\n",
            "71/71 [==============================] - 30s 325ms/step - loss: 1.4784 - accuracy: 0.3654 - val_loss: 1.0862 - val_accuracy: 0.5268\n",
            "Epoch 2/80\n",
            "71/71 [==============================] - 20s 282ms/step - loss: 1.1243 - accuracy: 0.5038 - val_loss: 1.0309 - val_accuracy: 0.5736\n",
            "Epoch 3/80\n",
            "71/71 [==============================] - 19s 273ms/step - loss: 1.0598 - accuracy: 0.5374 - val_loss: 0.9687 - val_accuracy: 0.6312\n",
            "Epoch 4/80\n",
            "71/71 [==============================] - 19s 267ms/step - loss: 1.0023 - accuracy: 0.5701 - val_loss: 0.8938 - val_accuracy: 0.6439\n",
            "Epoch 5/80\n",
            "71/71 [==============================] - 19s 269ms/step - loss: 0.9718 - accuracy: 0.5889 - val_loss: 0.8810 - val_accuracy: 0.6499\n",
            "Epoch 6/80\n",
            "71/71 [==============================] - 19s 272ms/step - loss: 0.9462 - accuracy: 0.6045 - val_loss: 0.8706 - val_accuracy: 0.6539\n",
            "Epoch 7/80\n",
            "71/71 [==============================] - 19s 275ms/step - loss: 0.9143 - accuracy: 0.6179 - val_loss: 0.8366 - val_accuracy: 0.6687\n",
            "Epoch 8/80\n",
            "71/71 [==============================] - 19s 271ms/step - loss: 0.8925 - accuracy: 0.6324 - val_loss: 0.7973 - val_accuracy: 0.6747\n",
            "Epoch 9/80\n",
            "71/71 [==============================] - 19s 270ms/step - loss: 0.8633 - accuracy: 0.6414 - val_loss: 0.8033 - val_accuracy: 0.6827\n",
            "Epoch 10/80\n",
            "71/71 [==============================] - 19s 274ms/step - loss: 0.8449 - accuracy: 0.6466 - val_loss: 0.7697 - val_accuracy: 0.6928\n",
            "Epoch 11/80\n",
            "71/71 [==============================] - 19s 271ms/step - loss: 0.8243 - accuracy: 0.6525 - val_loss: 0.7602 - val_accuracy: 0.7088\n",
            "Epoch 12/80\n",
            "71/71 [==============================] - 19s 272ms/step - loss: 0.7931 - accuracy: 0.6690 - val_loss: 0.7463 - val_accuracy: 0.7068\n",
            "Epoch 13/80\n",
            "71/71 [==============================] - 22s 304ms/step - loss: 0.7909 - accuracy: 0.6749 - val_loss: 0.7171 - val_accuracy: 0.7289\n",
            "Epoch 14/80\n",
            "71/71 [==============================] - 19s 271ms/step - loss: 0.7798 - accuracy: 0.6803 - val_loss: 0.7209 - val_accuracy: 0.7242\n",
            "Epoch 15/80\n",
            "71/71 [==============================] - 19s 273ms/step - loss: 0.7549 - accuracy: 0.6834 - val_loss: 0.6852 - val_accuracy: 0.7450\n",
            "Epoch 16/80\n",
            "71/71 [==============================] - 19s 271ms/step - loss: 0.7397 - accuracy: 0.6940 - val_loss: 0.6948 - val_accuracy: 0.7430\n",
            "Epoch 17/80\n",
            "71/71 [==============================] - 19s 271ms/step - loss: 0.7195 - accuracy: 0.7031 - val_loss: 0.6795 - val_accuracy: 0.7349\n",
            "Epoch 18/80\n",
            "71/71 [==============================] - 19s 272ms/step - loss: 0.7148 - accuracy: 0.7087 - val_loss: 0.6618 - val_accuracy: 0.7537\n",
            "Epoch 19/80\n",
            "71/71 [==============================] - 19s 273ms/step - loss: 0.6851 - accuracy: 0.7270 - val_loss: 0.6308 - val_accuracy: 0.7624\n",
            "Epoch 20/80\n",
            "71/71 [==============================] - 19s 272ms/step - loss: 0.6807 - accuracy: 0.7228 - val_loss: 0.6524 - val_accuracy: 0.7530\n",
            "Epoch 21/80\n",
            "71/71 [==============================] - 19s 274ms/step - loss: 0.6710 - accuracy: 0.7354 - val_loss: 0.6378 - val_accuracy: 0.7564\n",
            "Epoch 22/80\n",
            "71/71 [==============================] - 19s 272ms/step - loss: 0.6591 - accuracy: 0.7341 - val_loss: 0.6210 - val_accuracy: 0.7637\n",
            "Epoch 23/80\n",
            "71/71 [==============================] - 19s 272ms/step - loss: 0.6395 - accuracy: 0.7378 - val_loss: 0.6066 - val_accuracy: 0.7697\n",
            "Epoch 24/80\n",
            "71/71 [==============================] - 19s 271ms/step - loss: 0.6355 - accuracy: 0.7422 - val_loss: 0.5963 - val_accuracy: 0.7691\n",
            "Epoch 25/80\n",
            "71/71 [==============================] - 19s 271ms/step - loss: 0.6247 - accuracy: 0.7497 - val_loss: 0.6013 - val_accuracy: 0.7677\n",
            "Epoch 26/80\n",
            "71/71 [==============================] - 19s 271ms/step - loss: 0.6220 - accuracy: 0.7546 - val_loss: 0.5809 - val_accuracy: 0.7718\n",
            "Epoch 27/80\n",
            "71/71 [==============================] - 19s 271ms/step - loss: 0.6006 - accuracy: 0.7571 - val_loss: 0.5690 - val_accuracy: 0.7805\n",
            "Epoch 28/80\n",
            "71/71 [==============================] - 19s 271ms/step - loss: 0.5960 - accuracy: 0.7640 - val_loss: 0.5649 - val_accuracy: 0.7945\n",
            "Epoch 29/80\n",
            "71/71 [==============================] - 19s 271ms/step - loss: 0.5928 - accuracy: 0.7645 - val_loss: 0.5927 - val_accuracy: 0.7778\n",
            "Epoch 30/80\n",
            "71/71 [==============================] - 19s 271ms/step - loss: 0.5696 - accuracy: 0.7729 - val_loss: 0.5529 - val_accuracy: 0.7851\n",
            "Epoch 31/80\n",
            "71/71 [==============================] - 19s 271ms/step - loss: 0.5638 - accuracy: 0.7748 - val_loss: 0.5330 - val_accuracy: 0.7938\n",
            "Epoch 32/80\n",
            "71/71 [==============================] - 19s 272ms/step - loss: 0.5588 - accuracy: 0.7745 - val_loss: 0.5299 - val_accuracy: 0.8019\n",
            "Epoch 33/80\n",
            "71/71 [==============================] - 19s 273ms/step - loss: 0.5424 - accuracy: 0.7832 - val_loss: 0.5645 - val_accuracy: 0.7631\n",
            "Epoch 34/80\n",
            "71/71 [==============================] - 19s 274ms/step - loss: 0.5472 - accuracy: 0.7779 - val_loss: 0.5487 - val_accuracy: 0.7932\n",
            "Epoch 35/80\n",
            "71/71 [==============================] - 19s 272ms/step - loss: 0.5428 - accuracy: 0.7855 - val_loss: 0.5436 - val_accuracy: 0.7918\n",
            "Epoch 36/80\n",
            "71/71 [==============================] - 19s 271ms/step - loss: 0.5310 - accuracy: 0.7898 - val_loss: 0.5226 - val_accuracy: 0.7952\n",
            "Epoch 37/80\n",
            "71/71 [==============================] - 19s 271ms/step - loss: 0.5248 - accuracy: 0.7940 - val_loss: 0.5090 - val_accuracy: 0.8106\n",
            "Epoch 38/80\n",
            "71/71 [==============================] - 19s 270ms/step - loss: 0.5210 - accuracy: 0.7907 - val_loss: 0.5199 - val_accuracy: 0.8046\n",
            "Epoch 39/80\n",
            "71/71 [==============================] - 19s 270ms/step - loss: 0.5071 - accuracy: 0.8020 - val_loss: 0.5307 - val_accuracy: 0.8012\n",
            "Epoch 40/80\n",
            "71/71 [==============================] - 19s 271ms/step - loss: 0.5010 - accuracy: 0.8005 - val_loss: 0.5158 - val_accuracy: 0.7959\n",
            "Epoch 41/80\n",
            "71/71 [==============================] - 19s 272ms/step - loss: 0.4830 - accuracy: 0.8115 - val_loss: 0.5345 - val_accuracy: 0.7811\n",
            "Epoch 42/80\n",
            "71/71 [==============================] - 19s 272ms/step - loss: 0.4798 - accuracy: 0.8100 - val_loss: 0.4966 - val_accuracy: 0.8153\n",
            "Epoch 43/80\n",
            "71/71 [==============================] - 19s 272ms/step - loss: 0.4911 - accuracy: 0.8048 - val_loss: 0.5042 - val_accuracy: 0.8086\n",
            "Epoch 44/80\n",
            "71/71 [==============================] - 19s 274ms/step - loss: 0.4753 - accuracy: 0.8113 - val_loss: 0.5031 - val_accuracy: 0.8052\n",
            "Epoch 45/80\n",
            "71/71 [==============================] - 22s 304ms/step - loss: 0.4667 - accuracy: 0.8126 - val_loss: 0.4946 - val_accuracy: 0.8019\n",
            "Epoch 46/80\n",
            "71/71 [==============================] - 19s 271ms/step - loss: 0.4825 - accuracy: 0.8121 - val_loss: 0.5059 - val_accuracy: 0.8066\n",
            "Epoch 47/80\n",
            "71/71 [==============================] - 19s 272ms/step - loss: 0.4654 - accuracy: 0.8143 - val_loss: 0.4896 - val_accuracy: 0.8146\n",
            "Epoch 48/80\n",
            "71/71 [==============================] - 19s 272ms/step - loss: 0.4533 - accuracy: 0.8225 - val_loss: 0.4924 - val_accuracy: 0.8193\n",
            "Epoch 49/80\n",
            "71/71 [==============================] - 19s 273ms/step - loss: 0.4520 - accuracy: 0.8241 - val_loss: 0.4975 - val_accuracy: 0.8086\n",
            "Epoch 50/80\n",
            "71/71 [==============================] - 19s 272ms/step - loss: 0.4587 - accuracy: 0.8183 - val_loss: 0.4781 - val_accuracy: 0.8246\n",
            "Epoch 51/80\n",
            "71/71 [==============================] - 19s 271ms/step - loss: 0.4386 - accuracy: 0.8267 - val_loss: 0.4888 - val_accuracy: 0.8139\n",
            "Epoch 52/80\n",
            "71/71 [==============================] - 21s 303ms/step - loss: 0.4444 - accuracy: 0.8258 - val_loss: 0.4734 - val_accuracy: 0.8186\n",
            "Epoch 53/80\n",
            "71/71 [==============================] - 22s 304ms/step - loss: 0.4501 - accuracy: 0.8252 - val_loss: 0.4912 - val_accuracy: 0.8066\n",
            "Epoch 54/80\n",
            "71/71 [==============================] - 19s 271ms/step - loss: 0.4273 - accuracy: 0.8306 - val_loss: 0.4749 - val_accuracy: 0.8233\n",
            "Epoch 55/80\n",
            "71/71 [==============================] - 19s 272ms/step - loss: 0.4301 - accuracy: 0.8363 - val_loss: 0.4913 - val_accuracy: 0.8166\n",
            "Epoch 56/80\n",
            "71/71 [==============================] - 19s 271ms/step - loss: 0.4316 - accuracy: 0.8329 - val_loss: 0.4719 - val_accuracy: 0.8226\n",
            "Epoch 57/80\n",
            "71/71 [==============================] - 19s 269ms/step - loss: 0.4224 - accuracy: 0.8358 - val_loss: 0.4902 - val_accuracy: 0.8046\n",
            "Epoch 58/80\n",
            "71/71 [==============================] - 19s 270ms/step - loss: 0.4199 - accuracy: 0.8380 - val_loss: 0.4871 - val_accuracy: 0.8112\n",
            "Epoch 59/80\n",
            "71/71 [==============================] - 19s 271ms/step - loss: 0.4178 - accuracy: 0.8382 - val_loss: 0.4915 - val_accuracy: 0.8173\n",
            "Epoch 60/80\n",
            "71/71 [==============================] - 19s 271ms/step - loss: 0.4070 - accuracy: 0.8399 - val_loss: 0.4664 - val_accuracy: 0.8213\n",
            "Epoch 61/80\n",
            "71/71 [==============================] - 19s 272ms/step - loss: 0.4199 - accuracy: 0.8379 - val_loss: 0.4945 - val_accuracy: 0.8079\n",
            "Epoch 62/80\n",
            "71/71 [==============================] - 19s 270ms/step - loss: 0.4039 - accuracy: 0.8415 - val_loss: 0.4612 - val_accuracy: 0.8307\n",
            "Epoch 63/80\n",
            "71/71 [==============================] - 19s 272ms/step - loss: 0.3934 - accuracy: 0.8464 - val_loss: 0.4636 - val_accuracy: 0.8166\n",
            "Epoch 64/80\n",
            "71/71 [==============================] - 19s 272ms/step - loss: 0.3987 - accuracy: 0.8467 - val_loss: 0.4726 - val_accuracy: 0.8153\n",
            "Epoch 65/80\n",
            "71/71 [==============================] - 19s 271ms/step - loss: 0.4007 - accuracy: 0.8491 - val_loss: 0.4476 - val_accuracy: 0.8333\n",
            "Epoch 66/80\n",
            "71/71 [==============================] - 19s 272ms/step - loss: 0.3974 - accuracy: 0.8459 - val_loss: 0.4766 - val_accuracy: 0.8179\n",
            "Epoch 67/80\n",
            "71/71 [==============================] - 19s 272ms/step - loss: 0.3942 - accuracy: 0.8472 - val_loss: 0.4609 - val_accuracy: 0.8340\n",
            "Epoch 68/80\n",
            "71/71 [==============================] - 19s 271ms/step - loss: 0.3979 - accuracy: 0.8493 - val_loss: 0.4592 - val_accuracy: 0.8347\n",
            "Epoch 69/80\n",
            "71/71 [==============================] - 19s 272ms/step - loss: 0.3763 - accuracy: 0.8557 - val_loss: 0.4462 - val_accuracy: 0.8286\n",
            "Epoch 70/80\n",
            "71/71 [==============================] - 19s 271ms/step - loss: 0.3796 - accuracy: 0.8536 - val_loss: 0.4525 - val_accuracy: 0.8313\n",
            "Epoch 71/80\n",
            "71/71 [==============================] - 19s 272ms/step - loss: 0.3777 - accuracy: 0.8554 - val_loss: 0.4647 - val_accuracy: 0.8233\n",
            "Epoch 72/80\n",
            "71/71 [==============================] - 19s 271ms/step - loss: 0.3723 - accuracy: 0.8540 - val_loss: 0.4547 - val_accuracy: 0.8280\n",
            "Epoch 73/80\n",
            "71/71 [==============================] - 22s 305ms/step - loss: 0.3482 - accuracy: 0.8651 - val_loss: 0.4496 - val_accuracy: 0.8280\n",
            "Epoch 74/80\n",
            "71/71 [==============================] - 19s 271ms/step - loss: 0.3739 - accuracy: 0.8610 - val_loss: 0.4505 - val_accuracy: 0.8313\n",
            "Epoch 75/80\n",
            "71/71 [==============================] - 19s 271ms/step - loss: 0.3638 - accuracy: 0.8608 - val_loss: 0.4558 - val_accuracy: 0.8220\n",
            "Epoch 76/80\n",
            "71/71 [==============================] - 19s 272ms/step - loss: 0.3580 - accuracy: 0.8662 - val_loss: 0.4436 - val_accuracy: 0.8400\n",
            "Epoch 77/80\n",
            "71/71 [==============================] - 19s 272ms/step - loss: 0.3611 - accuracy: 0.8613 - val_loss: 0.4440 - val_accuracy: 0.8387\n",
            "Epoch 78/80\n",
            "71/71 [==============================] - 19s 271ms/step - loss: 0.3567 - accuracy: 0.8629 - val_loss: 0.4492 - val_accuracy: 0.8373\n",
            "Epoch 79/80\n",
            "71/71 [==============================] - 19s 270ms/step - loss: 0.3594 - accuracy: 0.8601 - val_loss: 0.4707 - val_accuracy: 0.8220\n",
            "Epoch 80/80\n",
            "71/71 [==============================] - 19s 271ms/step - loss: 0.3596 - accuracy: 0.8636 - val_loss: 0.4659 - val_accuracy: 0.8206\n"
          ]
        }
      ],
      "source": [
        "from tensorflow.keras.callbacks import EarlyStopping\n",
        "\n",
        "model.compile(loss='sparse_categorical_crossentropy',\n",
        "              optimizer= 'Adam',\n",
        "              metrics=['accuracy'])\n",
        "\n",
        "history = model.fit(x_train,y_train, validation_data= (x_valid,y_valid),  \n",
        "                              epochs=80,batch_size=120)\n"
      ]
    },
    {
      "cell_type": "markdown",
      "metadata": {
        "id": "vjPg5eLAL58C"
      },
      "source": [
        "# plot the loss and accuracy of the model"
      ]
    },
    {
      "cell_type": "code",
      "execution_count": 15,
      "metadata": {
        "colab": {
          "base_uri": "https://localhost:8080/",
          "height": 281
        },
        "id": "gcBB7V8JEbna",
        "outputId": "fe4eafbe-f789-4398-a3d9-c9af839d435a"
      },
      "outputs": [
        {
          "data": {
            "image/png": "[encoded data removed]",
            "text/plain": [
              "<Figure size 1080x288 with 2 Axes>"
            ]
          },
          "metadata": {
            "needs_background": "light"
          },
          "output_type": "display_data"
        }
      ],
      "source": [
        "import matplotlib.pyplot as plt\n",
        "fig, ax = plt.subplots(1, 2, figsize = (15, 4))\n",
        "ax[0].plot(history.history['loss'], color='b', label=\"Training loss\")\n",
        "ax[0].plot(history.history['val_loss'], color='r', label=\"validation loss\",axes =ax[0])\n",
        "ax[0].set_title('Loss function per ephoch')\n",
        "legend = ax[0].legend(loc='best', shadow=True)\n",
        "ax[1].plot(history.history['accuracy'], color='b', label=\"Training accuracy\")\n",
        "ax[1].plot(history.history['val_accuracy'], color='r',label=\"Validation accuracy\")\n",
        "ax[1].set_title('Model Accuracy')\n",
        "legend = ax[1].legend(loc='best', shadow=True)"
      ]
    },
    {
      "cell_type": "markdown",
      "metadata": {
        "id": "7PoEbr8ML-dI"
      },
      "source": [
        "# train & test loss and accuracy"
      ]
    },
    {
      "cell_type": "code",
      "execution_count": 18,
      "metadata": {
        "colab": {
          "base_uri": "https://localhost:8080/"
        },
        "id": "Hy9cUaCMHLRh",
        "outputId": "3038470f-1e32-468b-d8e8-18ecd7bf0f08"
      },
      "outputs": [
        {
          "name": "stdout",
          "output_type": "stream",
          "text": [
            "265/265 [==============================] - 17s 64ms/step - loss: 0.1360 - accuracy: 0.9826\n",
            "train acc: 0.9826302528381348\n",
            "train loss: 0.13602985441684723\n"
          ]
        }
      ],
      "source": [
        "train_loss, train_acc= model.evaluate(x_train,y_train)\n",
        "print('train acc:', train_acc)\n",
        "print('train loss:', train_loss)"
      ]
    },
    {
      "cell_type": "code",
      "execution_count": 19,
      "metadata": {
        "colab": {
          "base_uri": "https://localhost:8080/"
        },
        "id": "5dy_luE5Hsmr",
        "outputId": "0ed9459d-94c9-45fd-ce49-0e6afaa6c48f"
      },
      "outputs": [
        {
          "name": "stdout",
          "output_type": "stream",
          "text": [
            "3/3 [==============================] - 0s 60ms/step - loss: 1.8398 - accuracy: 0.6761\n",
            "test acc: 0.6760563254356384\n",
            "test loss: 1.839812994003296\n"
          ]
        }
      ],
      "source": [
        "test_loss, test_acc = model.evaluate(x_test,y_test)\n",
        "print('test acc:', test_acc)\n",
        "print('test loss:', test_loss)"
      ]
    }
  ],
  "metadata": {
    "accelerator": "GPU",
    "colab": {
      "provenance": []
    },
    "gpuClass": "standard",
    "kernelspec": {
      "display_name": "Python 3",
      "language": "python",
      "name": "python3"
    },
    "language_info": {
      "codemirror_mode": {
        "name": "ipython",
        "version": 3
      },
      "file_extension": ".py",
      "mimetype": "text/x-python",
      "name": "python",
      "nbconvert_exporter": "python",
      "pygments_lexer": "ipython3",
      "version": "3.10.5 (tags/v3.10.5:f377153, Jun  6 2022, 16:14:13) [MSC v.1929 64 bit (AMD64)]"
    },
    "vscode": {
      "interpreter": {
        "hash": "98a70705198618b40757f4d0e0cd81e920cd534dd864d2ad541ce8c6b4f10eed"
      }
    }
  },
  "nbformat": 4,
  "nbformat_minor": 0
}
