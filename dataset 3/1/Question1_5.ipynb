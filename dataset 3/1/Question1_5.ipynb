{
  "cells": [
    {
      "attachments": {},
      "cell_type": "markdown",
      "metadata": {},
      "source": [
        "# Prepare Data"
      ]
    },
    {
      "cell_type": "code",
      "execution_count": 6,
      "metadata": {
        "id": "oLe-QW3iU50o"
      },
      "outputs": [],
      "source": [
        "import numpy as np\n",
        "from tensorflow import keras\n",
        "from tensorflow.keras import layers\n",
        "from tensorflow.keras.models import Sequential\n",
        "from tensorflow.keras.layers import Flatten, Conv2D, MaxPool2D, Dense, Dropout , Input\n",
        "from tensorflow.keras.utils import to_categorical\n",
        "from tensorflow.keras.preprocessing.image import ImageDataGenerator\n",
        "from tensorflow.keras.models import load_model\n",
        "from tensorflow.keras.layers import GlobalMaxPooling2D, MaxPooling2D\n",
        "from tensorflow.keras.layers import BatchNormalization\n",
        "from tensorflow.keras.models import Model\n",
        "from tensorflow.keras import regularizers, optimizers\n",
        "from sklearn.metrics import accuracy_score\n",
        "import matplotlib.pyplot as plt\n",
        "import pandas as pd\n",
        "from PIL import Image\n",
        "import glob\n",
        "import cv2\n",
        "import keras\n",
        "import tensorflow as tf\n",
        "\n",
        "\n",
        "\n",
        "\n",
        "import warnings\n",
        "warnings.filterwarnings('ignore')"
      ]
    },
    {
      "cell_type": "code",
      "execution_count": 7,
      "metadata": {
        "id": "urQxqh7siz8p"
      },
      "outputs": [],
      "source": [
        "X_train = []\n",
        "y_train = []\n",
        "for img in glob.glob(\"/content/drive/MyDrive/datasets3/dataset2-master/dataset2-master/images/TRAIN/EOSINOPHIL/*.jpeg\"):\n",
        "    n = cv2.imread(img)\n",
        "    n = cv2.resize(n, (64,64), interpolation = cv2.INTER_AREA)\n",
        "    X_train.append(n)\n",
        "    y_train.append(0)\n",
        "\n",
        "for img in glob.glob(\"/content/drive/MyDrive/datasets3/dataset2-master/dataset2-master/images/TRAIN/LYMPHOCYTE/*.jpeg\"):\n",
        "    n = cv2.imread(img)\n",
        "    n = cv2.resize(n, (64,64), interpolation = cv2.INTER_AREA)\n",
        "    X_train.append(n)\n",
        "    y_train.append(1)\n",
        "\n",
        "\n",
        "for img in glob.glob(\"/content/drive/MyDrive/datasets3/dataset2-master/dataset2-master/images/TRAIN/MONOCYTE/*.jpeg\"):\n",
        "    n = cv2.imread(img)\n",
        "    n = cv2.resize(n, (64,64), interpolation = cv2.INTER_AREA)\n",
        "    X_train.append(n)\n",
        "    y_train.append(2)\n",
        "\n",
        "for img in glob.glob(\"/content/drive/MyDrive/datasets3/dataset2-master/dataset2-master/images/TRAIN/NEUTROPHIL/*.jpeg\"):\n",
        "    n = cv2.imread(img)\n",
        "    n = cv2.resize(n, (64,64), interpolation = cv2.INTER_AREA)\n",
        "    X_train.append(n)\n",
        "    y_train.append(3)"
      ]
    },
    {
      "cell_type": "code",
      "execution_count": 8,
      "metadata": {
        "id": "xFj590IYlDIe"
      },
      "outputs": [],
      "source": [
        "X_test = []\n",
        "y_test = []\n",
        "for img in glob.glob(\"/content/drive/MyDrive/datasets3/dataset2-master/dataset2-master/images/TEST_SIMPLE/EOSINOPHIL/*.jpeg\"):\n",
        "    n = cv2.imread(img)\n",
        "    n = cv2.resize(n, (64,64), interpolation = cv2.INTER_AREA)\n",
        "    X_test.append(n)\n",
        "    y_test.append(0)\n",
        "\n",
        "for img in glob.glob(\"/content/drive/MyDrive/datasets3/dataset2-master/dataset2-master/images/TEST_SIMPLE/LYMPHOCYTE/*.jpeg\"):\n",
        "    n = cv2.imread(img)\n",
        "    n = cv2.resize(n, (64,64), interpolation = cv2.INTER_AREA)\n",
        "    X_test.append(n)\n",
        "    y_test.append(1)\n",
        "\n",
        "\n",
        "for img in glob.glob(\"/content/drive/MyDrive/datasets3/dataset2-master/dataset2-master/images/TEST_SIMPLE/MONOCYTE/*.jpeg\"):\n",
        "    n = cv2.imread(img)\n",
        "    n = cv2.resize(n, (64,64), interpolation = cv2.INTER_AREA)\n",
        "    X_test.append(n)\n",
        "    y_test.append(2)\n",
        "\n",
        "for img in glob.glob(\"/content/drive/MyDrive/datasets3/dataset2-master/dataset2-master/images/TEST_SIMPLE/NEUTROPHIL/*.jpeg\"):\n",
        "    n = cv2.imread(img)\n",
        "    n = cv2.resize(n, (64,64), interpolation = cv2.INTER_AREA)\n",
        "    X_test.append(n)\n",
        "    y_test.append(3)\n"
      ]
    },
    {
      "cell_type": "code",
      "execution_count": 9,
      "metadata": {
        "colab": {
          "base_uri": "https://localhost:8080/"
        },
        "id": "pnKl_gFmNaU2",
        "outputId": "f95cf7f2-ac82-410d-c7f7-29839b8e76b0"
      },
      "outputs": [
        {
          "name": "stdout",
          "output_type": "stream",
          "text": [
            "2499\n"
          ]
        }
      ],
      "source": [
        "# 0 : 2497\n",
        "# 1 : 2483\n",
        "# 2 : 2478\n",
        "# 3 : 2499\n",
        "\n",
        "sum=0\n",
        "for i in y_train:\n",
        "  if i == 3:\n",
        "    sum+=1\n",
        "print(sum )"
      ]
    },
    {
      "cell_type": "code",
      "execution_count": 10,
      "metadata": {
        "id": "QxeuAP8DmmJb"
      },
      "outputs": [],
      "source": [
        "X_train = np.array(X_train)/255\n",
        "X_test = np.array(X_test)/255\n",
        "y_train = np.array(y_train)\n",
        "y_test = np.array(y_test)"
      ]
    },
    {
      "cell_type": "code",
      "execution_count": 11,
      "metadata": {
        "id": "MiutseSVm-dH"
      },
      "outputs": [],
      "source": [
        "from tensorflow.keras.layers import GlobalMaxPooling2D, MaxPooling2D\n"
      ]
    },
    {
      "attachments": {},
      "cell_type": "markdown",
      "metadata": {},
      "source": [
        "# bulding model"
      ]
    },
    {
      "cell_type": "code",
      "execution_count": 70,
      "metadata": {
        "id": "CaCKsxXmWFXv"
      },
      "outputs": [],
      "source": [
        "model = Sequential()\n",
        "model.add(Conv2D(32, 3, input_shape=(64,64,3) , activation='relu'))\n",
        "model.add(MaxPooling2D(pool_size=2))\n",
        "model.add(Conv2D(64, 3,activation='relu'))\n",
        "model.add(MaxPooling2D(pool_size=2))\n",
        "model.add(Conv2D(128, 3, activation='relu'))\n",
        "model.add(MaxPooling2D(pool_size=2))\n",
        "model.add(Conv2D(256, 3, activation='relu'))\n",
        "model.add(MaxPooling2D(pool_size=2))\n",
        "\n",
        "model.add(Flatten())\n",
        "model.add(Dropout(0.5))\n",
        "\n",
        "model.add(Dense(2048, activation='relu'))\n",
        "model.add(Dropout(0.5))\n",
        "\n",
        "model.add(Dense(2048, activation='relu'))\n",
        "model.add(Dropout(0.5))\n",
        "\n",
        "model.add(Dense(4, activation='softmax'))\n",
        "\n",
        "model.compile(loss='sparse_categorical_crossentropy',optimizer='SGD',metrics=['accuracy'])"
      ]
    },
    {
      "cell_type": "code",
      "execution_count": 71,
      "metadata": {
        "colab": {
          "base_uri": "https://localhost:8080/"
        },
        "id": "aPgTBODZWK1E",
        "outputId": "ecaaa860-abba-4392-ce99-91dfa2d91ab0"
      },
      "outputs": [
        {
          "name": "stdout",
          "output_type": "stream",
          "text": [
            "Model: \"sequential_14\"\n",
            "_________________________________________________________________\n",
            " Layer (type)                Output Shape              Param #   \n",
            "=================================================================\n",
            " conv2d_58 (Conv2D)          (None, 62, 62, 32)        896       \n",
            "                                                                 \n",
            " max_pooling2d_55 (MaxPoolin  (None, 31, 31, 32)       0         \n",
            " g2D)                                                            \n",
            "                                                                 \n",
            " conv2d_59 (Conv2D)          (None, 29, 29, 64)        18496     \n",
            "                                                                 \n",
            " max_pooling2d_56 (MaxPoolin  (None, 14, 14, 64)       0         \n",
            " g2D)                                                            \n",
            "                                                                 \n",
            " conv2d_60 (Conv2D)          (None, 12, 12, 128)       73856     \n",
            "                                                                 \n",
            " max_pooling2d_57 (MaxPoolin  (None, 6, 6, 128)        0         \n",
            " g2D)                                                            \n",
            "                                                                 \n",
            " conv2d_61 (Conv2D)          (None, 4, 4, 256)         295168    \n",
            "                                                                 \n",
            " max_pooling2d_58 (MaxPoolin  (None, 2, 2, 256)        0         \n",
            " g2D)                                                            \n",
            "                                                                 \n",
            " flatten_11 (Flatten)        (None, 1024)              0         \n",
            "                                                                 \n",
            " dropout_27 (Dropout)        (None, 1024)              0         \n",
            "                                                                 \n",
            " dense_35 (Dense)            (None, 2048)              2099200   \n",
            "                                                                 \n",
            " dropout_28 (Dropout)        (None, 2048)              0         \n",
            "                                                                 \n",
            " dense_36 (Dense)            (None, 2048)              4196352   \n",
            "                                                                 \n",
            " dropout_29 (Dropout)        (None, 2048)              0         \n",
            "                                                                 \n",
            " dense_37 (Dense)            (None, 4)                 8196      \n",
            "                                                                 \n",
            "=================================================================\n",
            "Total params: 6,692,164\n",
            "Trainable params: 6,692,164\n",
            "Non-trainable params: 0\n",
            "_________________________________________________________________\n"
          ]
        }
      ],
      "source": [
        "model.summary() "
      ]
    },
    {
      "attachments": {},
      "cell_type": "markdown",
      "metadata": {},
      "source": [
        "# Split data into Train and Validation"
      ]
    },
    {
      "cell_type": "code",
      "execution_count": 14,
      "metadata": {
        "id": "hIECdT14RClP"
      },
      "outputs": [],
      "source": [
        "from sklearn.model_selection import train_test_split\n",
        "X_train, X_valid, y_train, y_valid = train_test_split(X_train, y_train, test_size=0.15, random_state=42)"
      ]
    },
    {
      "attachments": {},
      "cell_type": "markdown",
      "metadata": {},
      "source": [
        "# Train the model"
      ]
    },
    {
      "cell_type": "code",
      "execution_count": 72,
      "metadata": {
        "colab": {
          "base_uri": "https://localhost:8080/"
        },
        "id": "yDI0_pXFWNCR",
        "outputId": "d88a46b8-ba6c-4ade-d211-29548c268f4d"
      },
      "outputs": [
        {
          "name": "stdout",
          "output_type": "stream",
          "text": [
            "Epoch 1/100\n",
            "265/265 [==============================] - 3s 9ms/step - loss: 1.3880 - accuracy: 0.2525 - val_loss: 1.3869 - val_accuracy: 0.2363\n",
            "Epoch 2/100\n",
            "265/265 [==============================] - 2s 8ms/step - loss: 1.3872 - accuracy: 0.2506 - val_loss: 1.3861 - val_accuracy: 0.2557\n",
            "Epoch 3/100\n",
            "265/265 [==============================] - 2s 8ms/step - loss: 1.3870 - accuracy: 0.2510 - val_loss: 1.3862 - val_accuracy: 0.2550\n",
            "Epoch 4/100\n",
            "265/265 [==============================] - 2s 8ms/step - loss: 1.3864 - accuracy: 0.2499 - val_loss: 1.3861 - val_accuracy: 0.2550\n",
            "Epoch 5/100\n",
            "265/265 [==============================] - 2s 8ms/step - loss: 1.3870 - accuracy: 0.2500 - val_loss: 1.3864 - val_accuracy: 0.2363\n",
            "Epoch 6/100\n",
            "265/265 [==============================] - 2s 8ms/step - loss: 1.3868 - accuracy: 0.2487 - val_loss: 1.3859 - val_accuracy: 0.2550\n",
            "Epoch 7/100\n",
            "265/265 [==============================] - 2s 8ms/step - loss: 1.3861 - accuracy: 0.2524 - val_loss: 1.3863 - val_accuracy: 0.2363\n",
            "Epoch 8/100\n",
            "265/265 [==============================] - 2s 8ms/step - loss: 1.3867 - accuracy: 0.2574 - val_loss: 1.3858 - val_accuracy: 0.2584\n",
            "Epoch 9/100\n",
            "265/265 [==============================] - 2s 8ms/step - loss: 1.3860 - accuracy: 0.2624 - val_loss: 1.3855 - val_accuracy: 0.2584\n",
            "Epoch 10/100\n",
            "265/265 [==============================] - 2s 8ms/step - loss: 1.3861 - accuracy: 0.2572 - val_loss: 1.3854 - val_accuracy: 0.2550\n",
            "Epoch 11/100\n",
            "265/265 [==============================] - 2s 8ms/step - loss: 1.3862 - accuracy: 0.2621 - val_loss: 1.3857 - val_accuracy: 0.2369\n",
            "Epoch 12/100\n",
            "265/265 [==============================] - 2s 8ms/step - loss: 1.3859 - accuracy: 0.2616 - val_loss: 1.3855 - val_accuracy: 0.2731\n",
            "Epoch 13/100\n",
            "265/265 [==============================] - 2s 8ms/step - loss: 1.3858 - accuracy: 0.2678 - val_loss: 1.3853 - val_accuracy: 0.2517\n",
            "Epoch 14/100\n",
            "265/265 [==============================] - 2s 8ms/step - loss: 1.3854 - accuracy: 0.2597 - val_loss: 1.3857 - val_accuracy: 0.2430\n",
            "Epoch 15/100\n",
            "265/265 [==============================] - 2s 8ms/step - loss: 1.3855 - accuracy: 0.2581 - val_loss: 1.3848 - val_accuracy: 0.2972\n",
            "Epoch 16/100\n",
            "265/265 [==============================] - 2s 8ms/step - loss: 1.3853 - accuracy: 0.2673 - val_loss: 1.3845 - val_accuracy: 0.2651\n",
            "Epoch 17/100\n",
            "265/265 [==============================] - 2s 8ms/step - loss: 1.3845 - accuracy: 0.2745 - val_loss: 1.3839 - val_accuracy: 0.2617\n",
            "Epoch 18/100\n",
            "265/265 [==============================] - 2s 8ms/step - loss: 1.3842 - accuracy: 0.2720 - val_loss: 1.3831 - val_accuracy: 0.2624\n",
            "Epoch 19/100\n",
            "265/265 [==============================] - 2s 8ms/step - loss: 1.3836 - accuracy: 0.2828 - val_loss: 1.3819 - val_accuracy: 0.3106\n",
            "Epoch 20/100\n",
            "265/265 [==============================] - 2s 8ms/step - loss: 1.3826 - accuracy: 0.2924 - val_loss: 1.3824 - val_accuracy: 0.2383\n",
            "Epoch 21/100\n",
            "265/265 [==============================] - 2s 8ms/step - loss: 1.3819 - accuracy: 0.3008 - val_loss: 1.3794 - val_accuracy: 0.3608\n",
            "Epoch 22/100\n",
            "265/265 [==============================] - 2s 8ms/step - loss: 1.3794 - accuracy: 0.3153 - val_loss: 1.3774 - val_accuracy: 0.3052\n",
            "Epoch 23/100\n",
            "265/265 [==============================] - 2s 8ms/step - loss: 1.3767 - accuracy: 0.3310 - val_loss: 1.3758 - val_accuracy: 0.2550\n",
            "Epoch 24/100\n",
            "265/265 [==============================] - 2s 8ms/step - loss: 1.3718 - accuracy: 0.3349 - val_loss: 1.3659 - val_accuracy: 0.3206\n",
            "Epoch 25/100\n",
            "265/265 [==============================] - 2s 8ms/step - loss: 1.3639 - accuracy: 0.3505 - val_loss: 1.3567 - val_accuracy: 0.3862\n",
            "Epoch 26/100\n",
            "265/265 [==============================] - 2s 8ms/step - loss: 1.3472 - accuracy: 0.3697 - val_loss: 1.3466 - val_accuracy: 0.3855\n",
            "Epoch 27/100\n",
            "265/265 [==============================] - 2s 8ms/step - loss: 1.3120 - accuracy: 0.3860 - val_loss: 1.2916 - val_accuracy: 0.4063\n",
            "Epoch 28/100\n",
            "265/265 [==============================] - 2s 9ms/step - loss: 1.2691 - accuracy: 0.3997 - val_loss: 1.2789 - val_accuracy: 0.3996\n",
            "Epoch 29/100\n",
            "265/265 [==============================] - 2s 9ms/step - loss: 1.2150 - accuracy: 0.4344 - val_loss: 1.1756 - val_accuracy: 0.4739\n",
            "Epoch 30/100\n",
            "265/265 [==============================] - 2s 8ms/step - loss: 1.2159 - accuracy: 0.4281 - val_loss: 1.1796 - val_accuracy: 0.4585\n",
            "Epoch 31/100\n",
            "265/265 [==============================] - 2s 8ms/step - loss: 1.1473 - accuracy: 0.4751 - val_loss: 1.1058 - val_accuracy: 0.5167\n",
            "Epoch 32/100\n",
            "265/265 [==============================] - 2s 8ms/step - loss: 1.1019 - accuracy: 0.5036 - val_loss: 1.0721 - val_accuracy: 0.5308\n",
            "Epoch 33/100\n",
            "265/265 [==============================] - 2s 8ms/step - loss: 1.0684 - accuracy: 0.5292 - val_loss: 1.0297 - val_accuracy: 0.5783\n",
            "Epoch 34/100\n",
            "265/265 [==============================] - 2s 8ms/step - loss: 1.0302 - accuracy: 0.5474 - val_loss: 1.0877 - val_accuracy: 0.4438\n",
            "Epoch 35/100\n",
            "265/265 [==============================] - 2s 8ms/step - loss: 0.9888 - accuracy: 0.5661 - val_loss: 0.9881 - val_accuracy: 0.5944\n",
            "Epoch 36/100\n",
            "265/265 [==============================] - 2s 8ms/step - loss: 0.9518 - accuracy: 0.5837 - val_loss: 0.9483 - val_accuracy: 0.5515\n",
            "Epoch 37/100\n",
            "265/265 [==============================] - 2s 8ms/step - loss: 0.9095 - accuracy: 0.5900 - val_loss: 0.8644 - val_accuracy: 0.6493\n",
            "Epoch 38/100\n",
            "265/265 [==============================] - 2s 8ms/step - loss: 0.8919 - accuracy: 0.5959 - val_loss: 0.9065 - val_accuracy: 0.5850\n",
            "Epoch 39/100\n",
            "265/265 [==============================] - 2s 8ms/step - loss: 0.9065 - accuracy: 0.5867 - val_loss: 1.1519 - val_accuracy: 0.4645\n",
            "Epoch 40/100\n",
            "265/265 [==============================] - 2s 8ms/step - loss: 0.8665 - accuracy: 0.6099 - val_loss: 0.7855 - val_accuracy: 0.6419\n",
            "Epoch 41/100\n",
            "265/265 [==============================] - 2s 8ms/step - loss: 0.7893 - accuracy: 0.6449 - val_loss: 0.8652 - val_accuracy: 0.6024\n",
            "Epoch 42/100\n",
            "265/265 [==============================] - 2s 8ms/step - loss: 0.7553 - accuracy: 0.6604 - val_loss: 0.7258 - val_accuracy: 0.6640\n",
            "Epoch 43/100\n",
            "265/265 [==============================] - 2s 8ms/step - loss: 0.7237 - accuracy: 0.6823 - val_loss: 0.8235 - val_accuracy: 0.6091\n",
            "Epoch 44/100\n",
            "265/265 [==============================] - 2s 8ms/step - loss: 0.7100 - accuracy: 0.6811 - val_loss: 0.6138 - val_accuracy: 0.6975\n",
            "Epoch 45/100\n",
            "265/265 [==============================] - 2s 8ms/step - loss: 0.6564 - accuracy: 0.7155 - val_loss: 0.8061 - val_accuracy: 0.6037\n",
            "Epoch 46/100\n",
            "265/265 [==============================] - 2s 8ms/step - loss: 0.6446 - accuracy: 0.7262 - val_loss: 0.6174 - val_accuracy: 0.6787\n",
            "Epoch 47/100\n",
            "265/265 [==============================] - 2s 8ms/step - loss: 0.9082 - accuracy: 0.6215 - val_loss: 0.7286 - val_accuracy: 0.6386\n",
            "Epoch 48/100\n",
            "265/265 [==============================] - 2s 8ms/step - loss: 0.6540 - accuracy: 0.7142 - val_loss: 0.6017 - val_accuracy: 0.7122\n",
            "Epoch 49/100\n",
            "265/265 [==============================] - 2s 8ms/step - loss: 0.6902 - accuracy: 0.7047 - val_loss: 0.6514 - val_accuracy: 0.6553\n",
            "Epoch 50/100\n",
            "265/265 [==============================] - 2s 8ms/step - loss: 0.6043 - accuracy: 0.7490 - val_loss: 0.5342 - val_accuracy: 0.7952\n",
            "Epoch 51/100\n",
            "265/265 [==============================] - 2s 8ms/step - loss: 0.5884 - accuracy: 0.7486 - val_loss: 0.5415 - val_accuracy: 0.7115\n",
            "Epoch 52/100\n",
            "265/265 [==============================] - 2s 8ms/step - loss: 0.5917 - accuracy: 0.7513 - val_loss: 0.4956 - val_accuracy: 0.7805\n",
            "Epoch 53/100\n",
            "265/265 [==============================] - 2s 8ms/step - loss: 0.5384 - accuracy: 0.7743 - val_loss: 0.5130 - val_accuracy: 0.7383\n",
            "Epoch 54/100\n",
            "265/265 [==============================] - 2s 9ms/step - loss: 0.5268 - accuracy: 0.7814 - val_loss: 0.4550 - val_accuracy: 0.7912\n",
            "Epoch 55/100\n",
            "265/265 [==============================] - 2s 9ms/step - loss: 0.5206 - accuracy: 0.7849 - val_loss: 0.4702 - val_accuracy: 0.7845\n",
            "Epoch 56/100\n",
            "265/265 [==============================] - 2s 8ms/step - loss: 0.6273 - accuracy: 0.7421 - val_loss: 0.6017 - val_accuracy: 0.7108\n",
            "Epoch 57/100\n",
            "265/265 [==============================] - 2s 8ms/step - loss: 0.5275 - accuracy: 0.7795 - val_loss: 0.4973 - val_accuracy: 0.7778\n",
            "Epoch 58/100\n",
            "265/265 [==============================] - 2s 8ms/step - loss: 0.4806 - accuracy: 0.8013 - val_loss: 0.4268 - val_accuracy: 0.8099\n",
            "Epoch 59/100\n",
            "265/265 [==============================] - 2s 8ms/step - loss: 0.4952 - accuracy: 0.7939 - val_loss: 0.4303 - val_accuracy: 0.7912\n",
            "Epoch 60/100\n",
            "265/265 [==============================] - 2s 8ms/step - loss: 0.4501 - accuracy: 0.8185 - val_loss: 0.4750 - val_accuracy: 0.7691\n",
            "Epoch 61/100\n",
            "265/265 [==============================] - 2s 8ms/step - loss: 0.4403 - accuracy: 0.8166 - val_loss: 0.4139 - val_accuracy: 0.7972\n",
            "Epoch 62/100\n",
            "265/265 [==============================] - 2s 8ms/step - loss: 0.4204 - accuracy: 0.8275 - val_loss: 0.4493 - val_accuracy: 0.7912\n",
            "Epoch 63/100\n",
            "265/265 [==============================] - 2s 8ms/step - loss: 0.3951 - accuracy: 0.8358 - val_loss: 0.3498 - val_accuracy: 0.8548\n",
            "Epoch 64/100\n",
            "265/265 [==============================] - 2s 8ms/step - loss: 0.3840 - accuracy: 0.8401 - val_loss: 0.3590 - val_accuracy: 0.8400\n",
            "Epoch 65/100\n",
            "265/265 [==============================] - 2s 8ms/step - loss: 0.4697 - accuracy: 0.8198 - val_loss: 0.4965 - val_accuracy: 0.7456\n",
            "Epoch 66/100\n",
            "265/265 [==============================] - 2s 8ms/step - loss: 0.3732 - accuracy: 0.8493 - val_loss: 1.3697 - val_accuracy: 0.4799\n",
            "Epoch 67/100\n",
            "265/265 [==============================] - 2s 8ms/step - loss: 0.4618 - accuracy: 0.8173 - val_loss: 0.4068 - val_accuracy: 0.8019\n",
            "Epoch 68/100\n",
            "265/265 [==============================] - 2s 8ms/step - loss: 0.3644 - accuracy: 0.8505 - val_loss: 0.4572 - val_accuracy: 0.7972\n",
            "Epoch 69/100\n",
            "265/265 [==============================] - 2s 8ms/step - loss: 0.3402 - accuracy: 0.8600 - val_loss: 0.2983 - val_accuracy: 0.8822\n",
            "Epoch 70/100\n",
            "265/265 [==============================] - 2s 8ms/step - loss: 0.3192 - accuracy: 0.8680 - val_loss: 0.3573 - val_accuracy: 0.8253\n",
            "Epoch 71/100\n",
            "265/265 [==============================] - 2s 8ms/step - loss: 0.2885 - accuracy: 0.8818 - val_loss: 0.6109 - val_accuracy: 0.7798\n",
            "Epoch 72/100\n",
            "265/265 [==============================] - 2s 8ms/step - loss: 0.2982 - accuracy: 0.8770 - val_loss: 0.2856 - val_accuracy: 0.8835\n",
            "Epoch 73/100\n",
            "265/265 [==============================] - 2s 8ms/step - loss: 0.3167 - accuracy: 0.8718 - val_loss: 0.2659 - val_accuracy: 0.8829\n",
            "Epoch 74/100\n",
            "265/265 [==============================] - 2s 8ms/step - loss: 0.3052 - accuracy: 0.8758 - val_loss: 1.1462 - val_accuracy: 0.5669\n",
            "Epoch 75/100\n",
            "265/265 [==============================] - 2s 8ms/step - loss: 0.2862 - accuracy: 0.8838 - val_loss: 0.3942 - val_accuracy: 0.8059\n",
            "Epoch 76/100\n",
            "265/265 [==============================] - 2s 8ms/step - loss: 0.2405 - accuracy: 0.8991 - val_loss: 0.3992 - val_accuracy: 0.8320\n",
            "Epoch 77/100\n",
            "265/265 [==============================] - 2s 8ms/step - loss: 0.2427 - accuracy: 0.9005 - val_loss: 0.2504 - val_accuracy: 0.8902\n",
            "Epoch 78/100\n",
            "265/265 [==============================] - 2s 8ms/step - loss: 0.2295 - accuracy: 0.9084 - val_loss: 0.2177 - val_accuracy: 0.9190\n",
            "Epoch 79/100\n",
            "265/265 [==============================] - 2s 8ms/step - loss: 0.2200 - accuracy: 0.9149 - val_loss: 0.4759 - val_accuracy: 0.8086\n",
            "Epoch 80/100\n",
            "265/265 [==============================] - 2s 8ms/step - loss: 0.2328 - accuracy: 0.9088 - val_loss: 0.2352 - val_accuracy: 0.8909\n",
            "Epoch 81/100\n",
            "265/265 [==============================] - 2s 8ms/step - loss: 0.1992 - accuracy: 0.9205 - val_loss: 0.2162 - val_accuracy: 0.9203\n",
            "Epoch 82/100\n",
            "265/265 [==============================] - 2s 8ms/step - loss: 0.2032 - accuracy: 0.9202 - val_loss: 0.2212 - val_accuracy: 0.8949\n",
            "Epoch 83/100\n",
            "265/265 [==============================] - 2s 9ms/step - loss: 0.2619 - accuracy: 0.8997 - val_loss: 0.1838 - val_accuracy: 0.9290\n",
            "Epoch 84/100\n",
            "265/265 [==============================] - 2s 8ms/step - loss: 0.1994 - accuracy: 0.9228 - val_loss: 0.1947 - val_accuracy: 0.9224\n",
            "Epoch 85/100\n",
            "265/265 [==============================] - 2s 8ms/step - loss: 0.1678 - accuracy: 0.9370 - val_loss: 0.2051 - val_accuracy: 0.9016\n",
            "Epoch 86/100\n",
            "265/265 [==============================] - 2s 8ms/step - loss: 0.1572 - accuracy: 0.9396 - val_loss: 0.2360 - val_accuracy: 0.8882\n",
            "Epoch 87/100\n",
            "265/265 [==============================] - 2s 8ms/step - loss: 0.2354 - accuracy: 0.9187 - val_loss: 0.1841 - val_accuracy: 0.9230\n",
            "Epoch 88/100\n",
            "265/265 [==============================] - 2s 8ms/step - loss: 0.1805 - accuracy: 0.9351 - val_loss: 0.1790 - val_accuracy: 0.9163\n",
            "Epoch 89/100\n",
            "265/265 [==============================] - 2s 8ms/step - loss: 0.1406 - accuracy: 0.9474 - val_loss: 0.1826 - val_accuracy: 0.9203\n",
            "Epoch 90/100\n",
            "265/265 [==============================] - 2s 8ms/step - loss: 0.1583 - accuracy: 0.9459 - val_loss: 1.5037 - val_accuracy: 0.6667\n",
            "Epoch 91/100\n",
            "265/265 [==============================] - 2s 8ms/step - loss: 0.2994 - accuracy: 0.9007 - val_loss: 0.1608 - val_accuracy: 0.9344\n",
            "Epoch 92/100\n",
            "265/265 [==============================] - 2s 8ms/step - loss: 0.1286 - accuracy: 0.9539 - val_loss: 0.1822 - val_accuracy: 0.9190\n",
            "Epoch 93/100\n",
            "265/265 [==============================] - 2s 8ms/step - loss: 0.1080 - accuracy: 0.9610 - val_loss: 0.1317 - val_accuracy: 0.9438\n",
            "Epoch 94/100\n",
            "265/265 [==============================] - 2s 9ms/step - loss: 0.1056 - accuracy: 0.9643 - val_loss: 0.1981 - val_accuracy: 0.9317\n",
            "Epoch 95/100\n",
            "265/265 [==============================] - 2s 8ms/step - loss: 0.1021 - accuracy: 0.9621 - val_loss: 0.2020 - val_accuracy: 0.9116\n",
            "Epoch 96/100\n",
            "265/265 [==============================] - 2s 8ms/step - loss: 0.1618 - accuracy: 0.9440 - val_loss: 0.1316 - val_accuracy: 0.9465\n",
            "Epoch 97/100\n",
            "265/265 [==============================] - 2s 8ms/step - loss: 0.0898 - accuracy: 0.9693 - val_loss: 0.2170 - val_accuracy: 0.9150\n",
            "Epoch 98/100\n",
            "265/265 [==============================] - 2s 8ms/step - loss: 0.0742 - accuracy: 0.9780 - val_loss: 0.1327 - val_accuracy: 0.9438\n",
            "Epoch 99/100\n",
            "265/265 [==============================] - 2s 8ms/step - loss: 0.1142 - accuracy: 0.9616 - val_loss: 0.1285 - val_accuracy: 0.9444\n",
            "Epoch 100/100\n",
            "265/265 [==============================] - 2s 8ms/step - loss: 0.0668 - accuracy: 0.9783 - val_loss: 0.1211 - val_accuracy: 0.9505\n"
          ]
        }
      ],
      "source": [
        "history = model.fit( X_train, y_train, epochs = 100, verbose=1 ,  validation_data=(X_valid, y_valid)  )"
      ]
    },
    {
      "attachments": {},
      "cell_type": "markdown",
      "metadata": {},
      "source": [
        "# Results"
      ]
    },
    {
      "cell_type": "code",
      "execution_count": 73,
      "metadata": {
        "colab": {
          "base_uri": "https://localhost:8080/",
          "height": 590
        },
        "id": "zWwWqIMeWVuJ",
        "outputId": "a69c0d65-ad14-446d-b530-5a4dc834cf95"
      },
      "outputs": [
        {
          "data": {
            "image/png": "[encoded data removed]",
            "text/plain": [
              "<Figure size 432x288 with 1 Axes>"
            ]
          },
          "metadata": {
            "needs_background": "light"
          },
          "output_type": "display_data"
        },
        {
          "data": {
            "text/plain": [
              "<matplotlib.legend.Legend at 0x7f27065374c0>"
            ]
          },
          "execution_count": 73,
          "metadata": {},
          "output_type": "execute_result"
        },
        {
          "data": {
            "image/png": "[encoded data removed]",
            "text/plain": [
              "<Figure size 432x288 with 1 Axes>"
            ]
          },
          "metadata": {
            "needs_background": "light"
          },
          "output_type": "display_data"
        }
      ],
      "source": [
        "import matplotlib.pyplot as plt\n",
        "loss = history.history['loss']\n",
        "val_loss = history.history['val_loss']\n",
        "acc = history.history['accuracy']\n",
        "val_acc = history.history['val_accuracy']\n",
        "epochs = range(1, len(loss) + 1)\n",
        "plt.plot(epochs, loss, color='green', label='Training loss')\n",
        "plt.plot(epochs, val_loss, color='blue', linestyle='dashed', label='Validation loss')\n",
        "plt.xlabel('Epochs')\n",
        "plt.ylabel('Loss')\n",
        "plt.title('Training and validation loss')\n",
        "plt.legend()\n",
        "plt.show()\n",
        "plt.figure()\n",
        "plt.plot(epochs, acc, color='green', label='Training acc')\n",
        "plt.plot(epochs, val_acc, color='blue', linestyle='dashed', label='Validation acc')\n",
        "plt.xlabel('Epochs')\n",
        "plt.ylabel('accuracy')\n",
        "plt.title('Training and validation accuracy')\n",
        "plt.legend()\n"
      ]
    },
    {
      "cell_type": "code",
      "execution_count": 74,
      "metadata": {
        "colab": {
          "base_uri": "https://localhost:8080/"
        },
        "id": "EkYh86BhWcnU",
        "outputId": "437fdee2-57c5-491c-afa0-32178e4fcdae"
      },
      "outputs": [
        {
          "name": "stdout",
          "output_type": "stream",
          "text": [
            "Train loss: 0.03202037140727043\n",
            "Train accuracy:  99.31466579437256 %\n"
          ]
        }
      ],
      "source": [
        "score = model.evaluate(X_train , y_train, verbose=0)\n",
        "\n",
        "print('Train loss:', score[0])\n",
        "print('Train accuracy: ', score[1]*100.0 ,'%')"
      ]
    },
    {
      "cell_type": "code",
      "execution_count": 75,
      "metadata": {
        "colab": {
          "base_uri": "https://localhost:8080/"
        },
        "id": "neYfPGSSWeM8",
        "outputId": "ca9a010f-d85a-4829-c8db-03d2db0f30d6"
      },
      "outputs": [
        {
          "name": "stdout",
          "output_type": "stream",
          "text": [
            "Test loss: 0.31069231033325195\n",
            "Test accuracy:  88.73239159584045 %\n"
          ]
        }
      ],
      "source": [
        "score = model.evaluate(X_test , y_test, verbose=0)\n",
        "print('Test loss:', score[0])\n",
        "print('Test accuracy: ', score[1]*100.0 ,'%')"
      ]
    }
  ],
  "metadata": {
    "accelerator": "GPU",
    "colab": {
      "provenance": []
    },
    "gpuClass": "standard",
    "kernelspec": {
      "display_name": "Python 3",
      "language": "python",
      "name": "python3"
    },
    "language_info": {
      "name": "python",
      "version": "3.10.5 (tags/v3.10.5:f377153, Jun  6 2022, 16:14:13) [MSC v.1929 64 bit (AMD64)]"
    },
    "vscode": {
      "interpreter": {
        "hash": "98a70705198618b40757f4d0e0cd81e920cd534dd864d2ad541ce8c6b4f10eed"
      }
    }
  },
  "nbformat": 4,
  "nbformat_minor": 0
}
