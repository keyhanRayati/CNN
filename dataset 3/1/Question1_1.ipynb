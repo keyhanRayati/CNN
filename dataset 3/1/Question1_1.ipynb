{
  "cells": [
    {
      "attachments": {},
      "cell_type": "markdown",
      "metadata": {},
      "source": [
        "# Prepare Data"
      ]
    },
    {
      "cell_type": "code",
      "execution_count": 22,
      "metadata": {
        "id": "oLe-QW3iU50o"
      },
      "outputs": [],
      "source": [
        "import numpy as np\n",
        "from tensorflow import keras\n",
        "from tensorflow.keras import layers\n",
        "from tensorflow.keras.models import Sequential\n",
        "from tensorflow.keras.layers import Flatten, Conv2D, MaxPool2D, Dense, Dropout , Input\n",
        "from tensorflow.keras.utils import to_categorical\n",
        "from tensorflow.keras.preprocessing.image import ImageDataGenerator\n",
        "from tensorflow.keras.models import load_model\n",
        "from tensorflow.keras.layers import GlobalMaxPooling2D, MaxPooling2D\n",
        "from tensorflow.keras.layers import BatchNormalization\n",
        "from tensorflow.keras.models import Model\n",
        "from tensorflow.keras import regularizers, optimizers\n",
        "from sklearn.metrics import accuracy_score\n",
        "import matplotlib.pyplot as plt\n",
        "import pandas as pd\n",
        "from PIL import Image\n",
        "import glob\n",
        "import cv2\n",
        "import keras\n",
        "import tensorflow as tf\n",
        "\n",
        "\n",
        "\n",
        "\n",
        "import warnings\n",
        "warnings.filterwarnings('ignore')"
      ]
    },
    {
      "cell_type": "code",
      "execution_count": 23,
      "metadata": {
        "id": "urQxqh7siz8p"
      },
      "outputs": [],
      "source": [
        "X_train = []\n",
        "y_train = []\n",
        "for img in glob.glob(\"/content/drive/MyDrive/datasets3/dataset2-master/dataset2-master/images/TRAIN/EOSINOPHIL/*.jpeg\"):\n",
        "    n = cv2.imread(img)\n",
        "    n = cv2.resize(n, (64,64), interpolation = cv2.INTER_AREA)\n",
        "    X_train.append(n)\n",
        "    y_train.append(0)\n",
        "\n",
        "for img in glob.glob(\"/content/drive/MyDrive/datasets3/dataset2-master/dataset2-master/images/TRAIN/LYMPHOCYTE/*.jpeg\"):\n",
        "    n = cv2.imread(img)\n",
        "    n = cv2.resize(n, (64,64), interpolation = cv2.INTER_AREA)\n",
        "    X_train.append(n)\n",
        "    y_train.append(1)\n",
        "\n",
        "\n",
        "for img in glob.glob(\"/content/drive/MyDrive/datasets3/dataset2-master/dataset2-master/images/TRAIN/MONOCYTE/*.jpeg\"):\n",
        "    n = cv2.imread(img)\n",
        "    n = cv2.resize(n, (64,64), interpolation = cv2.INTER_AREA)\n",
        "    X_train.append(n)\n",
        "    y_train.append(2)\n",
        "\n",
        "for img in glob.glob(\"/content/drive/MyDrive/datasets3/dataset2-master/dataset2-master/images/TRAIN/NEUTROPHIL/*.jpeg\"):\n",
        "    n = cv2.imread(img)\n",
        "    n = cv2.resize(n, (64,64), interpolation = cv2.INTER_AREA)\n",
        "    X_train.append(n)\n",
        "    y_train.append(3)"
      ]
    },
    {
      "cell_type": "code",
      "execution_count": 24,
      "metadata": {
        "id": "xFj590IYlDIe"
      },
      "outputs": [],
      "source": [
        "X_test = []\n",
        "y_test = []\n",
        "for img in glob.glob(\"/content/drive/MyDrive/datasets3/dataset2-master/dataset2-master/images/TEST_SIMPLE/EOSINOPHIL/*.jpeg\"):\n",
        "    n = cv2.imread(img)\n",
        "    n = cv2.resize(n, (64,64), interpolation = cv2.INTER_AREA)\n",
        "    X_test.append(n)\n",
        "    y_test.append(0)\n",
        "\n",
        "for img in glob.glob(\"/content/drive/MyDrive/datasets3/dataset2-master/dataset2-master/images/TEST_SIMPLE/LYMPHOCYTE/*.jpeg\"):\n",
        "    n = cv2.imread(img)\n",
        "    n = cv2.resize(n, (64,64), interpolation = cv2.INTER_AREA)\n",
        "    X_test.append(n)\n",
        "    y_test.append(1)\n",
        "\n",
        "\n",
        "for img in glob.glob(\"/content/drive/MyDrive/datasets3/dataset2-master/dataset2-master/images/TEST_SIMPLE/MONOCYTE/*.jpeg\"):\n",
        "    n = cv2.imread(img)\n",
        "    n = cv2.resize(n, (64,64), interpolation = cv2.INTER_AREA)\n",
        "    X_test.append(n)\n",
        "    y_test.append(2)\n",
        "\n",
        "for img in glob.glob(\"/content/drive/MyDrive/datasets3/dataset2-master/dataset2-master/images/TEST_SIMPLE/NEUTROPHIL/*.jpeg\"):\n",
        "    n = cv2.imread(img)\n",
        "    n = cv2.resize(n, (64,64), interpolation = cv2.INTER_AREA)\n",
        "    X_test.append(n)\n",
        "    y_test.append(3)\n"
      ]
    },
    {
      "cell_type": "code",
      "execution_count": 25,
      "metadata": {
        "id": "QxeuAP8DmmJb"
      },
      "outputs": [],
      "source": [
        "X_train = np.array(X_train)/255\n",
        "X_test = np.array(X_test)/255\n",
        "y_train = np.array(y_train)\n",
        "y_test = np.array(y_test)"
      ]
    },
    {
      "cell_type": "code",
      "execution_count": 26,
      "metadata": {
        "id": "MiutseSVm-dH"
      },
      "outputs": [],
      "source": [
        "from tensorflow.keras.layers import GlobalMaxPooling2D, MaxPooling2D\n"
      ]
    },
    {
      "attachments": {},
      "cell_type": "markdown",
      "metadata": {},
      "source": [
        "# bulding model"
      ]
    },
    {
      "cell_type": "code",
      "execution_count": 76,
      "metadata": {
        "id": "CaCKsxXmWFXv"
      },
      "outputs": [],
      "source": [
        "model = Sequential()\n",
        "model.add(Conv2D(32, 3, input_shape=(64,64,3) , activation='relu'))\n",
        "model.add(MaxPooling2D(pool_size=2))\n",
        "model.add(Conv2D(64, 3,activation='relu'))\n",
        "model.add(MaxPooling2D(pool_size=2))\n",
        "model.add(Conv2D(128, 3, activation='relu'))\n",
        "model.add(MaxPooling2D(pool_size=2))\n",
        "model.add(Conv2D(256, 3, activation='relu'))\n",
        "model.add(MaxPooling2D(pool_size=2))\n",
        "model.add(Dropout(0.5))\n",
        "model.add(Flatten())\n",
        "model.add(Dense(512, activation='relu'))\n",
        "model.add(Dense(256, activation='relu'))\n",
        "model.add(Dense(4, activation='softmax'))\n",
        "# optimizer = tf.keras.optimizers.Adam(0.00001)\n",
        "\n",
        "model.compile(loss='sparse_categorical_crossentropy',optimizer='SGD',metrics=['accuracy'])"
      ]
    },
    {
      "cell_type": "code",
      "execution_count": 77,
      "metadata": {
        "colab": {
          "base_uri": "https://localhost:8080/"
        },
        "id": "aPgTBODZWK1E",
        "outputId": "f9916680-da6e-4ebb-cc4f-fe8a2b0fd838"
      },
      "outputs": [
        {
          "name": "stdout",
          "output_type": "stream",
          "text": [
            "Model: \"sequential_13\"\n",
            "_________________________________________________________________\n",
            " Layer (type)                Output Shape              Param #   \n",
            "=================================================================\n",
            " conv2d_45 (Conv2D)          (None, 62, 62, 32)        896       \n",
            "                                                                 \n",
            " max_pooling2d_45 (MaxPoolin  (None, 31, 31, 32)       0         \n",
            " g2D)                                                            \n",
            "                                                                 \n",
            " conv2d_46 (Conv2D)          (None, 29, 29, 64)        18496     \n",
            "                                                                 \n",
            " max_pooling2d_46 (MaxPoolin  (None, 14, 14, 64)       0         \n",
            " g2D)                                                            \n",
            "                                                                 \n",
            " conv2d_47 (Conv2D)          (None, 12, 12, 128)       73856     \n",
            "                                                                 \n",
            " max_pooling2d_47 (MaxPoolin  (None, 6, 6, 128)        0         \n",
            " g2D)                                                            \n",
            "                                                                 \n",
            " conv2d_48 (Conv2D)          (None, 4, 4, 256)         295168    \n",
            "                                                                 \n",
            " max_pooling2d_48 (MaxPoolin  (None, 2, 2, 256)        0         \n",
            " g2D)                                                            \n",
            "                                                                 \n",
            " dropout_21 (Dropout)        (None, 2, 2, 256)         0         \n",
            "                                                                 \n",
            " flatten_13 (Flatten)        (None, 1024)              0         \n",
            "                                                                 \n",
            " dense_39 (Dense)            (None, 512)               524800    \n",
            "                                                                 \n",
            " dense_40 (Dense)            (None, 256)               131328    \n",
            "                                                                 \n",
            " dense_41 (Dense)            (None, 4)                 1028      \n",
            "                                                                 \n",
            "=================================================================\n",
            "Total params: 1,045,572\n",
            "Trainable params: 1,045,572\n",
            "Non-trainable params: 0\n",
            "_________________________________________________________________\n"
          ]
        }
      ],
      "source": [
        "model.summary() "
      ]
    },
    {
      "attachments": {},
      "cell_type": "markdown",
      "metadata": {},
      "source": [
        "# Split data into Train and Validation"
      ]
    },
    {
      "cell_type": "code",
      "execution_count": 64,
      "metadata": {
        "id": "hIECdT14RClP"
      },
      "outputs": [],
      "source": [
        "from sklearn.model_selection import train_test_split\n",
        "X_train, X_valid, y_train, y_valid = train_test_split(X_train, y_train, test_size=0.15, random_state=42)"
      ]
    },
    {
      "attachments": {},
      "cell_type": "markdown",
      "metadata": {},
      "source": [
        "# train the model"
      ]
    },
    {
      "cell_type": "code",
      "execution_count": 78,
      "metadata": {
        "colab": {
          "base_uri": "https://localhost:8080/"
        },
        "id": "yDI0_pXFWNCR",
        "outputId": "d9061569-272d-44ac-8bc3-a10ac7ef411a"
      },
      "outputs": [
        {
          "name": "stdout",
          "output_type": "stream",
          "text": [
            "Epoch 1/100\n",
            "265/265 [==============================] - 3s 9ms/step - loss: 1.3869 - accuracy: 0.2431 - val_loss: 1.3873 - val_accuracy: 0.2363\n",
            "Epoch 2/100\n",
            "265/265 [==============================] - 2s 7ms/step - loss: 1.3868 - accuracy: 0.2498 - val_loss: 1.3859 - val_accuracy: 0.2584\n",
            "Epoch 3/100\n",
            "265/265 [==============================] - 2s 7ms/step - loss: 1.3862 - accuracy: 0.2555 - val_loss: 1.3867 - val_accuracy: 0.2363\n",
            "Epoch 4/100\n",
            "265/265 [==============================] - 2s 7ms/step - loss: 1.3861 - accuracy: 0.2504 - val_loss: 1.3856 - val_accuracy: 0.2818\n",
            "Epoch 5/100\n",
            "265/265 [==============================] - 2s 8ms/step - loss: 1.3854 - accuracy: 0.2624 - val_loss: 1.3851 - val_accuracy: 0.2550\n",
            "Epoch 6/100\n",
            "265/265 [==============================] - 2s 7ms/step - loss: 1.3857 - accuracy: 0.2577 - val_loss: 1.3847 - val_accuracy: 0.2657\n",
            "Epoch 7/100\n",
            "265/265 [==============================] - 2s 8ms/step - loss: 1.3853 - accuracy: 0.2655 - val_loss: 1.3861 - val_accuracy: 0.2363\n",
            "Epoch 8/100\n",
            "265/265 [==============================] - 2s 8ms/step - loss: 1.3849 - accuracy: 0.2725 - val_loss: 1.3849 - val_accuracy: 0.2369\n",
            "Epoch 9/100\n",
            "265/265 [==============================] - 2s 8ms/step - loss: 1.3847 - accuracy: 0.2669 - val_loss: 1.3832 - val_accuracy: 0.3193\n",
            "Epoch 10/100\n",
            "265/265 [==============================] - 2s 8ms/step - loss: 1.3842 - accuracy: 0.2756 - val_loss: 1.3827 - val_accuracy: 0.2550\n",
            "Epoch 11/100\n",
            "265/265 [==============================] - 2s 7ms/step - loss: 1.3832 - accuracy: 0.2815 - val_loss: 1.3845 - val_accuracy: 0.2363\n",
            "Epoch 12/100\n",
            "265/265 [==============================] - 2s 7ms/step - loss: 1.3824 - accuracy: 0.2850 - val_loss: 1.3807 - val_accuracy: 0.2550\n",
            "Epoch 13/100\n",
            "265/265 [==============================] - 2s 8ms/step - loss: 1.3811 - accuracy: 0.2982 - val_loss: 1.3798 - val_accuracy: 0.3173\n",
            "Epoch 14/100\n",
            "265/265 [==============================] - 2s 8ms/step - loss: 1.3787 - accuracy: 0.3033 - val_loss: 1.3764 - val_accuracy: 0.3447\n",
            "Epoch 15/100\n",
            "265/265 [==============================] - 2s 7ms/step - loss: 1.3758 - accuracy: 0.3225 - val_loss: 1.3713 - val_accuracy: 0.3782\n",
            "Epoch 16/100\n",
            "265/265 [==============================] - 2s 7ms/step - loss: 1.3707 - accuracy: 0.3407 - val_loss: 1.3617 - val_accuracy: 0.3983\n",
            "Epoch 17/100\n",
            "265/265 [==============================] - 2s 8ms/step - loss: 1.3597 - accuracy: 0.3599 - val_loss: 1.3547 - val_accuracy: 0.3594\n",
            "Epoch 18/100\n",
            "265/265 [==============================] - 2s 8ms/step - loss: 1.3434 - accuracy: 0.3754 - val_loss: 1.3313 - val_accuracy: 0.3594\n",
            "Epoch 19/100\n",
            "265/265 [==============================] - 2s 9ms/step - loss: 1.3142 - accuracy: 0.3884 - val_loss: 1.2713 - val_accuracy: 0.4471\n",
            "Epoch 20/100\n",
            "265/265 [==============================] - 2s 9ms/step - loss: 1.2702 - accuracy: 0.4106 - val_loss: 1.3869 - val_accuracy: 0.2952\n",
            "Epoch 21/100\n",
            "265/265 [==============================] - 2s 9ms/step - loss: 1.2122 - accuracy: 0.4351 - val_loss: 1.1286 - val_accuracy: 0.4612\n",
            "Epoch 22/100\n",
            "265/265 [==============================] - 3s 12ms/step - loss: 1.1211 - accuracy: 0.4914 - val_loss: 1.1022 - val_accuracy: 0.5448\n",
            "Epoch 23/100\n",
            "265/265 [==============================] - 4s 13ms/step - loss: 1.0566 - accuracy: 0.5233 - val_loss: 1.0204 - val_accuracy: 0.5094\n",
            "Epoch 24/100\n",
            "265/265 [==============================] - 3s 10ms/step - loss: 1.0593 - accuracy: 0.5278 - val_loss: 0.9616 - val_accuracy: 0.5676\n",
            "Epoch 25/100\n",
            "265/265 [==============================] - 2s 9ms/step - loss: 0.9750 - accuracy: 0.5702 - val_loss: 0.9903 - val_accuracy: 0.4866\n",
            "Epoch 26/100\n",
            "265/265 [==============================] - 2s 9ms/step - loss: 1.0320 - accuracy: 0.5219 - val_loss: 1.1603 - val_accuracy: 0.4558\n",
            "Epoch 27/100\n",
            "265/265 [==============================] - 2s 8ms/step - loss: 0.9104 - accuracy: 0.6005 - val_loss: 0.8999 - val_accuracy: 0.5669\n",
            "Epoch 28/100\n",
            "265/265 [==============================] - 2s 8ms/step - loss: 0.9605 - accuracy: 0.5715 - val_loss: 1.2083 - val_accuracy: 0.4719\n",
            "Epoch 29/100\n",
            "265/265 [==============================] - 2s 9ms/step - loss: 0.8192 - accuracy: 0.6454 - val_loss: 0.7958 - val_accuracy: 0.6084\n",
            "Epoch 30/100\n",
            "265/265 [==============================] - 2s 9ms/step - loss: 1.1785 - accuracy: 0.4531 - val_loss: 1.3464 - val_accuracy: 0.3614\n",
            "Epoch 31/100\n",
            "265/265 [==============================] - 2s 8ms/step - loss: 1.3171 - accuracy: 0.3483 - val_loss: 1.2534 - val_accuracy: 0.3688\n",
            "Epoch 32/100\n",
            "265/265 [==============================] - 2s 9ms/step - loss: 1.1337 - accuracy: 0.4718 - val_loss: 1.1556 - val_accuracy: 0.4511\n",
            "Epoch 33/100\n",
            "265/265 [==============================] - 2s 8ms/step - loss: 1.0452 - accuracy: 0.5179 - val_loss: 1.0442 - val_accuracy: 0.5582\n",
            "Epoch 34/100\n",
            "265/265 [==============================] - 2s 8ms/step - loss: 0.9718 - accuracy: 0.5650 - val_loss: 0.9360 - val_accuracy: 0.5897\n",
            "Epoch 35/100\n",
            "265/265 [==============================] - 2s 9ms/step - loss: 0.9074 - accuracy: 0.5967 - val_loss: 0.8133 - val_accuracy: 0.6452\n",
            "Epoch 36/100\n",
            "265/265 [==============================] - 2s 9ms/step - loss: 0.8349 - accuracy: 0.6294 - val_loss: 1.0579 - val_accuracy: 0.5428\n",
            "Epoch 37/100\n",
            "265/265 [==============================] - 2s 8ms/step - loss: 0.7941 - accuracy: 0.6462 - val_loss: 0.7575 - val_accuracy: 0.6533\n",
            "Epoch 38/100\n",
            "265/265 [==============================] - 2s 9ms/step - loss: 0.7568 - accuracy: 0.6590 - val_loss: 0.7926 - val_accuracy: 0.6258\n",
            "Epoch 39/100\n",
            "265/265 [==============================] - 2s 9ms/step - loss: 0.7212 - accuracy: 0.6806 - val_loss: 0.6510 - val_accuracy: 0.6908\n",
            "Epoch 40/100\n",
            "265/265 [==============================] - 2s 9ms/step - loss: 0.6911 - accuracy: 0.6825 - val_loss: 0.6723 - val_accuracy: 0.6673\n",
            "Epoch 41/100\n",
            "265/265 [==============================] - 3s 9ms/step - loss: 0.6703 - accuracy: 0.6951 - val_loss: 0.7553 - val_accuracy: 0.6278\n",
            "Epoch 42/100\n",
            "265/265 [==============================] - 2s 9ms/step - loss: 0.6433 - accuracy: 0.7060 - val_loss: 0.5884 - val_accuracy: 0.7209\n",
            "Epoch 43/100\n",
            "265/265 [==============================] - 2s 9ms/step - loss: 0.6195 - accuracy: 0.7130 - val_loss: 0.5756 - val_accuracy: 0.7316\n",
            "Epoch 44/100\n",
            "265/265 [==============================] - 3s 11ms/step - loss: 0.6015 - accuracy: 0.7237 - val_loss: 0.5515 - val_accuracy: 0.7075\n",
            "Epoch 45/100\n",
            "265/265 [==============================] - 4s 14ms/step - loss: 0.5783 - accuracy: 0.7315 - val_loss: 0.7869 - val_accuracy: 0.6171\n",
            "Epoch 46/100\n",
            "265/265 [==============================] - 3s 11ms/step - loss: 0.5752 - accuracy: 0.7339 - val_loss: 0.5302 - val_accuracy: 0.7724\n",
            "Epoch 47/100\n",
            "265/265 [==============================] - 2s 8ms/step - loss: 0.5501 - accuracy: 0.7476 - val_loss: 0.4905 - val_accuracy: 0.7718\n",
            "Epoch 48/100\n",
            "265/265 [==============================] - 2s 8ms/step - loss: 0.5415 - accuracy: 0.7520 - val_loss: 0.4856 - val_accuracy: 0.7557\n",
            "Epoch 49/100\n",
            "265/265 [==============================] - 2s 9ms/step - loss: 0.5097 - accuracy: 0.7678 - val_loss: 0.4657 - val_accuracy: 0.7704\n",
            "Epoch 50/100\n",
            "265/265 [==============================] - 2s 9ms/step - loss: 0.4973 - accuracy: 0.7747 - val_loss: 0.4448 - val_accuracy: 0.7992\n",
            "Epoch 51/100\n",
            "265/265 [==============================] - 2s 8ms/step - loss: 0.4778 - accuracy: 0.7866 - val_loss: 0.4498 - val_accuracy: 0.8153\n",
            "Epoch 52/100\n",
            "265/265 [==============================] - 2s 7ms/step - loss: 0.4706 - accuracy: 0.7914 - val_loss: 0.4407 - val_accuracy: 0.8059\n",
            "Epoch 53/100\n",
            "265/265 [==============================] - 2s 7ms/step - loss: 0.4493 - accuracy: 0.7989 - val_loss: 0.5356 - val_accuracy: 0.6968\n",
            "Epoch 54/100\n",
            "265/265 [==============================] - 2s 8ms/step - loss: 0.4297 - accuracy: 0.8081 - val_loss: 0.3803 - val_accuracy: 0.8474\n",
            "Epoch 55/100\n",
            "265/265 [==============================] - 2s 8ms/step - loss: 0.4251 - accuracy: 0.8105 - val_loss: 0.4255 - val_accuracy: 0.7965\n",
            "Epoch 56/100\n",
            "265/265 [==============================] - 2s 8ms/step - loss: 0.4951 - accuracy: 0.7933 - val_loss: 0.3938 - val_accuracy: 0.8487\n",
            "Epoch 57/100\n",
            "265/265 [==============================] - 2s 8ms/step - loss: 0.4114 - accuracy: 0.8172 - val_loss: 0.4144 - val_accuracy: 0.8313\n",
            "Epoch 58/100\n",
            "265/265 [==============================] - 2s 8ms/step - loss: 0.3915 - accuracy: 0.8308 - val_loss: 0.3443 - val_accuracy: 0.8454\n",
            "Epoch 59/100\n",
            "265/265 [==============================] - 2s 9ms/step - loss: 0.3645 - accuracy: 0.8386 - val_loss: 0.3586 - val_accuracy: 0.8387\n",
            "Epoch 60/100\n",
            "265/265 [==============================] - 2s 9ms/step - loss: 0.3861 - accuracy: 0.8311 - val_loss: 0.3711 - val_accuracy: 0.8447\n",
            "Epoch 61/100\n",
            "265/265 [==============================] - 2s 8ms/step - loss: 0.3553 - accuracy: 0.8391 - val_loss: 0.9290 - val_accuracy: 0.6660\n",
            "Epoch 62/100\n",
            "265/265 [==============================] - 2s 9ms/step - loss: 0.3436 - accuracy: 0.8518 - val_loss: 0.3153 - val_accuracy: 0.8742\n",
            "Epoch 63/100\n",
            "265/265 [==============================] - 2s 8ms/step - loss: 0.4818 - accuracy: 0.8082 - val_loss: 0.3941 - val_accuracy: 0.8066\n",
            "Epoch 64/100\n",
            "265/265 [==============================] - 2s 8ms/step - loss: 0.3393 - accuracy: 0.8541 - val_loss: 0.3528 - val_accuracy: 0.8440\n",
            "Epoch 65/100\n",
            "265/265 [==============================] - 2s 8ms/step - loss: 0.3087 - accuracy: 0.8693 - val_loss: 0.2933 - val_accuracy: 0.8661\n",
            "Epoch 66/100\n",
            "265/265 [==============================] - 2s 8ms/step - loss: 0.2930 - accuracy: 0.8743 - val_loss: 0.3351 - val_accuracy: 0.8548\n",
            "Epoch 67/100\n",
            "265/265 [==============================] - 2s 8ms/step - loss: 0.2924 - accuracy: 0.8742 - val_loss: 0.2906 - val_accuracy: 0.8722\n",
            "Epoch 68/100\n",
            "265/265 [==============================] - 2s 8ms/step - loss: 0.2758 - accuracy: 0.8809 - val_loss: 0.3840 - val_accuracy: 0.8307\n",
            "Epoch 69/100\n",
            "265/265 [==============================] - 2s 8ms/step - loss: 0.2746 - accuracy: 0.8885 - val_loss: 0.3342 - val_accuracy: 0.8601\n",
            "Epoch 70/100\n",
            "265/265 [==============================] - 2s 7ms/step - loss: 0.2470 - accuracy: 0.8939 - val_loss: 0.2412 - val_accuracy: 0.8929\n",
            "Epoch 71/100\n",
            "265/265 [==============================] - 2s 8ms/step - loss: 0.3371 - accuracy: 0.8653 - val_loss: 0.2707 - val_accuracy: 0.8795\n",
            "Epoch 72/100\n",
            "265/265 [==============================] - 2s 8ms/step - loss: 0.2399 - accuracy: 0.8981 - val_loss: 0.2408 - val_accuracy: 0.8996\n",
            "Epoch 73/100\n",
            "265/265 [==============================] - 2s 8ms/step - loss: 0.2272 - accuracy: 0.9038 - val_loss: 0.2447 - val_accuracy: 0.8996\n",
            "Epoch 74/100\n",
            "265/265 [==============================] - 2s 8ms/step - loss: 0.3437 - accuracy: 0.8613 - val_loss: 0.2818 - val_accuracy: 0.8768\n",
            "Epoch 75/100\n",
            "265/265 [==============================] - 2s 7ms/step - loss: 0.2278 - accuracy: 0.9063 - val_loss: 0.2209 - val_accuracy: 0.9070\n",
            "Epoch 76/100\n",
            "265/265 [==============================] - 2s 7ms/step - loss: 0.2043 - accuracy: 0.9186 - val_loss: 0.2623 - val_accuracy: 0.8822\n",
            "Epoch 77/100\n",
            "265/265 [==============================] - 2s 7ms/step - loss: 0.2207 - accuracy: 0.9150 - val_loss: 0.2366 - val_accuracy: 0.8976\n",
            "Epoch 78/100\n",
            "265/265 [==============================] - 2s 7ms/step - loss: 0.1895 - accuracy: 0.9247 - val_loss: 0.3579 - val_accuracy: 0.8554\n",
            "Epoch 79/100\n",
            "265/265 [==============================] - 2s 8ms/step - loss: 0.1828 - accuracy: 0.9279 - val_loss: 0.1832 - val_accuracy: 0.9284\n",
            "Epoch 80/100\n",
            "265/265 [==============================] - 2s 7ms/step - loss: 0.1758 - accuracy: 0.9304 - val_loss: 0.7155 - val_accuracy: 0.7617\n",
            "Epoch 81/100\n",
            "265/265 [==============================] - 2s 7ms/step - loss: 0.1636 - accuracy: 0.9362 - val_loss: 0.1832 - val_accuracy: 0.9244\n",
            "Epoch 82/100\n",
            "265/265 [==============================] - 2s 8ms/step - loss: 0.1573 - accuracy: 0.9373 - val_loss: 0.2764 - val_accuracy: 0.8936\n",
            "Epoch 83/100\n",
            "265/265 [==============================] - 2s 8ms/step - loss: 0.1566 - accuracy: 0.9402 - val_loss: 0.1698 - val_accuracy: 0.9351\n",
            "Epoch 84/100\n",
            "265/265 [==============================] - 2s 8ms/step - loss: 0.1517 - accuracy: 0.9415 - val_loss: 0.1752 - val_accuracy: 0.9317\n",
            "Epoch 85/100\n",
            "265/265 [==============================] - 2s 8ms/step - loss: 0.1435 - accuracy: 0.9434 - val_loss: 0.7183 - val_accuracy: 0.7697\n",
            "Epoch 86/100\n",
            "265/265 [==============================] - 2s 8ms/step - loss: 0.1422 - accuracy: 0.9436 - val_loss: 0.1621 - val_accuracy: 0.9411\n",
            "Epoch 87/100\n",
            "265/265 [==============================] - 2s 8ms/step - loss: 0.1168 - accuracy: 0.9530 - val_loss: 0.2477 - val_accuracy: 0.9003\n",
            "Epoch 88/100\n",
            "265/265 [==============================] - 2s 8ms/step - loss: 0.1173 - accuracy: 0.9549 - val_loss: 0.2029 - val_accuracy: 0.9210\n",
            "Epoch 89/100\n",
            "265/265 [==============================] - 2s 8ms/step - loss: 0.1082 - accuracy: 0.9616 - val_loss: 0.1711 - val_accuracy: 0.9344\n",
            "Epoch 90/100\n",
            "265/265 [==============================] - 2s 8ms/step - loss: 0.1092 - accuracy: 0.9597 - val_loss: 0.1598 - val_accuracy: 0.9351\n",
            "Epoch 91/100\n",
            "265/265 [==============================] - 2s 8ms/step - loss: 0.1156 - accuracy: 0.9583 - val_loss: 0.1548 - val_accuracy: 0.9404\n",
            "Epoch 92/100\n",
            "265/265 [==============================] - 2s 8ms/step - loss: 0.2481 - accuracy: 0.9128 - val_loss: 0.1566 - val_accuracy: 0.9384\n",
            "Epoch 93/100\n",
            "265/265 [==============================] - 2s 7ms/step - loss: 0.0974 - accuracy: 0.9631 - val_loss: 0.1754 - val_accuracy: 0.9351\n",
            "Epoch 94/100\n",
            "265/265 [==============================] - 2s 7ms/step - loss: 0.0923 - accuracy: 0.9668 - val_loss: 0.1682 - val_accuracy: 0.9411\n",
            "Epoch 95/100\n",
            "265/265 [==============================] - 2s 8ms/step - loss: 0.0990 - accuracy: 0.9643 - val_loss: 0.1439 - val_accuracy: 0.9471\n",
            "Epoch 96/100\n",
            "265/265 [==============================] - 2s 8ms/step - loss: 0.0872 - accuracy: 0.9695 - val_loss: 0.1468 - val_accuracy: 0.9431\n",
            "Epoch 97/100\n",
            "265/265 [==============================] - 2s 8ms/step - loss: 0.0881 - accuracy: 0.9686 - val_loss: 0.2089 - val_accuracy: 0.9197\n",
            "Epoch 98/100\n",
            "265/265 [==============================] - 2s 8ms/step - loss: 0.0879 - accuracy: 0.9695 - val_loss: 0.1378 - val_accuracy: 0.9451\n",
            "Epoch 99/100\n",
            "265/265 [==============================] - 2s 8ms/step - loss: 0.0889 - accuracy: 0.9695 - val_loss: 0.1505 - val_accuracy: 0.9444\n",
            "Epoch 100/100\n",
            "265/265 [==============================] - 2s 8ms/step - loss: 0.0790 - accuracy: 0.9703 - val_loss: 0.1464 - val_accuracy: 0.9478\n"
          ]
        }
      ],
      "source": [
        "history = model.fit( X_train, y_train, epochs = 100, verbose=1 ,  validation_data=(X_valid, y_valid)  )"
      ]
    },
    {
      "attachments": {},
      "cell_type": "markdown",
      "metadata": {},
      "source": [
        "# Results"
      ]
    },
    {
      "cell_type": "code",
      "execution_count": 79,
      "metadata": {
        "colab": {
          "base_uri": "https://localhost:8080/",
          "height": 590
        },
        "id": "zWwWqIMeWVuJ",
        "outputId": "aecab97e-26e9-40b4-8939-f9e26a8b5dce"
      },
      "outputs": [
        {
          "data": {
            "image/png": "[encoded data removed]",
            "text/plain": [
              "<Figure size 432x288 with 1 Axes>"
            ]
          },
          "metadata": {
            "needs_background": "light"
          },
          "output_type": "display_data"
        },
        {
          "data": {
            "text/plain": [
              "<matplotlib.legend.Legend at 0x7fc0cc05cc40>"
            ]
          },
          "execution_count": 79,
          "metadata": {},
          "output_type": "execute_result"
        },
        {
          "data": {
            "image/png": "[encoded data removed]",
            "text/plain": [
              "<Figure size 432x288 with 1 Axes>"
            ]
          },
          "metadata": {
            "needs_background": "light"
          },
          "output_type": "display_data"
        }
      ],
      "source": [
        "import matplotlib.pyplot as plt\n",
        "loss = history.history['loss']\n",
        "val_loss = history.history['val_loss']\n",
        "acc = history.history['accuracy']\n",
        "val_acc = history.history['val_accuracy']\n",
        "epochs = range(1, len(loss) + 1)\n",
        "plt.plot(epochs, loss, color='green', label='Training loss')\n",
        "plt.plot(epochs, val_loss, color='blue', linestyle='dashed', label='Validation loss')\n",
        "plt.xlabel('Epochs')\n",
        "plt.ylabel('Loss')\n",
        "plt.title('Training and validation loss')\n",
        "plt.legend()\n",
        "plt.show()\n",
        "plt.figure()\n",
        "plt.plot(epochs, acc, color='green', label='Training acc')\n",
        "plt.plot(epochs, val_acc, color='blue', linestyle='dashed', label='Validation acc')\n",
        "plt.xlabel('Epochs')\n",
        "plt.ylabel('accuracy')\n",
        "plt.title('Training and validation accuracy')\n",
        "plt.legend()\n"
      ]
    },
    {
      "cell_type": "code",
      "execution_count": 80,
      "metadata": {
        "colab": {
          "base_uri": "https://localhost:8080/"
        },
        "id": "EkYh86BhWcnU",
        "outputId": "ba019ca5-fd22-4c70-9020-58343b2982ed"
      },
      "outputs": [
        {
          "name": "stdout",
          "output_type": "stream",
          "text": [
            "Train loss: 0.026895882561802864\n",
            "Train accuracy:  99.55098628997803 %\n"
          ]
        }
      ],
      "source": [
        "score = model.evaluate(X_train , y_train, verbose=0)\n",
        "\n",
        "print('Train loss:', score[0])\n",
        "print('Train accuracy: ', score[1]*100.0 ,'%')"
      ]
    },
    {
      "cell_type": "code",
      "execution_count": 81,
      "metadata": {
        "colab": {
          "base_uri": "https://localhost:8080/"
        },
        "id": "neYfPGSSWeM8",
        "outputId": "6826697a-0a32-4875-a437-a0e798fd93e1"
      },
      "outputs": [
        {
          "name": "stdout",
          "output_type": "stream",
          "text": [
            "Test loss: 0.4302406907081604\n",
            "Test accuracy:  88.73239159584045 %\n"
          ]
        }
      ],
      "source": [
        "score = model.evaluate(X_test , y_test, verbose=0)\n",
        "print('Test loss:', score[0])\n",
        "print('Test accuracy: ', score[1]*100.0 ,'%')"
      ]
    }
  ],
  "metadata": {
    "accelerator": "GPU",
    "colab": {
      "provenance": []
    },
    "gpuClass": "standard",
    "kernelspec": {
      "display_name": "Python 3",
      "language": "python",
      "name": "python3"
    },
    "language_info": {
      "codemirror_mode": {
        "name": "ipython",
        "version": 3
      },
      "file_extension": ".py",
      "mimetype": "text/x-python",
      "name": "python",
      "nbconvert_exporter": "python",
      "pygments_lexer": "ipython3",
      "version": "3.10.5"
    },
    "vscode": {
      "interpreter": {
        "hash": "98a70705198618b40757f4d0e0cd81e920cd534dd864d2ad541ce8c6b4f10eed"
      }
    }
  },
  "nbformat": 4,
  "nbformat_minor": 0
}
