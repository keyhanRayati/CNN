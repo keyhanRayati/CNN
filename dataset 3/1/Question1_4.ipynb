{
  "cells": [
    {
      "attachments": {},
      "cell_type": "markdown",
      "metadata": {},
      "source": [
        "# Prepare Data"
      ]
    },
    {
      "cell_type": "code",
      "execution_count": 6,
      "metadata": {
        "id": "oLe-QW3iU50o"
      },
      "outputs": [],
      "source": [
        "import numpy as np\n",
        "from tensorflow import keras\n",
        "from tensorflow.keras import layers\n",
        "from tensorflow.keras.models import Sequential\n",
        "from tensorflow.keras.layers import Flatten, Conv2D, MaxPool2D, Dense, Dropout , Input\n",
        "from tensorflow.keras.utils import to_categorical\n",
        "from tensorflow.keras.preprocessing.image import ImageDataGenerator\n",
        "from tensorflow.keras.models import load_model\n",
        "from tensorflow.keras.layers import GlobalMaxPooling2D, MaxPooling2D\n",
        "from tensorflow.keras.layers import BatchNormalization\n",
        "from tensorflow.keras.models import Model\n",
        "from tensorflow.keras import regularizers, optimizers\n",
        "from sklearn.metrics import accuracy_score\n",
        "import matplotlib.pyplot as plt\n",
        "import pandas as pd\n",
        "from PIL import Image\n",
        "import glob\n",
        "import cv2\n",
        "import keras\n",
        "import tensorflow as tf\n",
        "\n",
        "\n",
        "\n",
        "\n",
        "import warnings\n",
        "warnings.filterwarnings('ignore')"
      ]
    },
    {
      "cell_type": "code",
      "execution_count": 7,
      "metadata": {
        "id": "urQxqh7siz8p"
      },
      "outputs": [],
      "source": [
        "X_train = []\n",
        "y_train = []\n",
        "for img in glob.glob(\"/content/drive/MyDrive/datasets3/dataset2-master/dataset2-master/images/TRAIN/EOSINOPHIL/*.jpeg\"):\n",
        "    n = cv2.imread(img)\n",
        "    n = cv2.resize(n, (64,64), interpolation = cv2.INTER_AREA)\n",
        "    X_train.append(n)\n",
        "    y_train.append(0)\n",
        "\n",
        "for img in glob.glob(\"/content/drive/MyDrive/datasets3/dataset2-master/dataset2-master/images/TRAIN/LYMPHOCYTE/*.jpeg\"):\n",
        "    n = cv2.imread(img)\n",
        "    n = cv2.resize(n, (64,64), interpolation = cv2.INTER_AREA)\n",
        "    X_train.append(n)\n",
        "    y_train.append(1)\n",
        "\n",
        "\n",
        "for img in glob.glob(\"/content/drive/MyDrive/datasets3/dataset2-master/dataset2-master/images/TRAIN/MONOCYTE/*.jpeg\"):\n",
        "    n = cv2.imread(img)\n",
        "    n = cv2.resize(n, (64,64), interpolation = cv2.INTER_AREA)\n",
        "    X_train.append(n)\n",
        "    y_train.append(2)\n",
        "\n",
        "for img in glob.glob(\"/content/drive/MyDrive/datasets3/dataset2-master/dataset2-master/images/TRAIN/NEUTROPHIL/*.jpeg\"):\n",
        "    n = cv2.imread(img)\n",
        "    n = cv2.resize(n, (64,64), interpolation = cv2.INTER_AREA)\n",
        "    X_train.append(n)\n",
        "    y_train.append(3)"
      ]
    },
    {
      "cell_type": "code",
      "execution_count": 8,
      "metadata": {
        "id": "xFj590IYlDIe"
      },
      "outputs": [],
      "source": [
        "X_test = []\n",
        "y_test = []\n",
        "for img in glob.glob(\"/content/drive/MyDrive/datasets3/dataset2-master/dataset2-master/images/TEST_SIMPLE/EOSINOPHIL/*.jpeg\"):\n",
        "    n = cv2.imread(img)\n",
        "    n = cv2.resize(n, (64,64), interpolation = cv2.INTER_AREA)\n",
        "    X_test.append(n)\n",
        "    y_test.append(0)\n",
        "\n",
        "for img in glob.glob(\"/content/drive/MyDrive/datasets3/dataset2-master/dataset2-master/images/TEST_SIMPLE/LYMPHOCYTE/*.jpeg\"):\n",
        "    n = cv2.imread(img)\n",
        "    n = cv2.resize(n, (64,64), interpolation = cv2.INTER_AREA)\n",
        "    X_test.append(n)\n",
        "    y_test.append(1)\n",
        "\n",
        "\n",
        "for img in glob.glob(\"/content/drive/MyDrive/datasets3/dataset2-master/dataset2-master/images/TEST_SIMPLE/MONOCYTE/*.jpeg\"):\n",
        "    n = cv2.imread(img)\n",
        "    n = cv2.resize(n, (64,64), interpolation = cv2.INTER_AREA)\n",
        "    X_test.append(n)\n",
        "    y_test.append(2)\n",
        "\n",
        "for img in glob.glob(\"/content/drive/MyDrive/datasets3/dataset2-master/dataset2-master/images/TEST_SIMPLE/NEUTROPHIL/*.jpeg\"):\n",
        "    n = cv2.imread(img)\n",
        "    n = cv2.resize(n, (64,64), interpolation = cv2.INTER_AREA)\n",
        "    X_test.append(n)\n",
        "    y_test.append(3)\n"
      ]
    },
    {
      "cell_type": "code",
      "execution_count": 9,
      "metadata": {
        "colab": {
          "base_uri": "https://localhost:8080/"
        },
        "id": "pnKl_gFmNaU2",
        "outputId": "f95cf7f2-ac82-410d-c7f7-29839b8e76b0"
      },
      "outputs": [
        {
          "name": "stdout",
          "output_type": "stream",
          "text": [
            "2499\n"
          ]
        }
      ],
      "source": [
        "# 0 : 2497\n",
        "# 1 : 2483\n",
        "# 2 : 2478\n",
        "# 3 : 2499\n",
        "\n",
        "sum=0\n",
        "for i in y_train:\n",
        "  if i == 3:\n",
        "    sum+=1\n",
        "print(sum )"
      ]
    },
    {
      "cell_type": "code",
      "execution_count": 10,
      "metadata": {
        "id": "QxeuAP8DmmJb"
      },
      "outputs": [],
      "source": [
        "X_train = np.array(X_train)/255\n",
        "X_test = np.array(X_test)/255\n",
        "y_train = np.array(y_train)\n",
        "y_test = np.array(y_test)"
      ]
    },
    {
      "cell_type": "code",
      "execution_count": 11,
      "metadata": {
        "id": "MiutseSVm-dH"
      },
      "outputs": [],
      "source": [
        "from tensorflow.keras.layers import GlobalMaxPooling2D, MaxPooling2D\n"
      ]
    },
    {
      "attachments": {},
      "cell_type": "markdown",
      "metadata": {},
      "source": [
        "# bulding model"
      ]
    },
    {
      "cell_type": "code",
      "execution_count": 43,
      "metadata": {
        "id": "CaCKsxXmWFXv"
      },
      "outputs": [],
      "source": [
        "model = Sequential()\n",
        "model.add(Conv2D(64, 3, input_shape=(64,64,3) , activation='relu'))\n",
        "model.add(MaxPooling2D(pool_size=2))\n",
        "model.add(Conv2D(128, 3,activation='relu'))\n",
        "model.add(MaxPooling2D(pool_size=2))\n",
        "model.add(Conv2D(256, 3, activation='relu'))\n",
        "model.add(MaxPooling2D(pool_size=2))\n",
        "model.add(Conv2D(512, 3, activation='relu'))\n",
        "model.add(MaxPooling2D(pool_size=2))\n",
        "\n",
        "\n",
        "model.add(Flatten())\n",
        "model.add(Dropout(0.5))\n",
        "model.add(Dense(512, activation='relu'))\n",
        "model.add(Dropout(0.5))\n",
        "model.add(Dense(256, activation='relu'))\n",
        "model.add(Dropout(0.5))\n",
        "\n",
        "model.add(Dense(4, activation='softmax'))\n",
        "# optimizer = tf.keras.optimizers.Adam(0.00001)\n",
        "\n",
        "model.compile(loss='sparse_categorical_crossentropy',optimizer='SGD',metrics=['accuracy'])"
      ]
    },
    {
      "cell_type": "code",
      "execution_count": 44,
      "metadata": {
        "colab": {
          "base_uri": "https://localhost:8080/"
        },
        "id": "aPgTBODZWK1E",
        "outputId": "db42ea63-073f-464b-ee4e-00d37eb4e9f4"
      },
      "outputs": [
        {
          "name": "stdout",
          "output_type": "stream",
          "text": [
            "Model: \"sequential_8\"\n",
            "_________________________________________________________________\n",
            " Layer (type)                Output Shape              Param #   \n",
            "=================================================================\n",
            " conv2d_33 (Conv2D)          (None, 62, 62, 64)        1792      \n",
            "                                                                 \n",
            " max_pooling2d_31 (MaxPoolin  (None, 31, 31, 64)       0         \n",
            " g2D)                                                            \n",
            "                                                                 \n",
            " conv2d_34 (Conv2D)          (None, 29, 29, 128)       73856     \n",
            "                                                                 \n",
            " max_pooling2d_32 (MaxPoolin  (None, 14, 14, 128)      0         \n",
            " g2D)                                                            \n",
            "                                                                 \n",
            " conv2d_35 (Conv2D)          (None, 12, 12, 256)       295168    \n",
            "                                                                 \n",
            " max_pooling2d_33 (MaxPoolin  (None, 6, 6, 256)        0         \n",
            " g2D)                                                            \n",
            "                                                                 \n",
            " conv2d_36 (Conv2D)          (None, 4, 4, 512)         1180160   \n",
            "                                                                 \n",
            " max_pooling2d_34 (MaxPoolin  (None, 2, 2, 512)        0         \n",
            " g2D)                                                            \n",
            "                                                                 \n",
            " flatten_6 (Flatten)         (None, 2048)              0         \n",
            "                                                                 \n",
            " dropout_18 (Dropout)        (None, 2048)              0         \n",
            "                                                                 \n",
            " dense_20 (Dense)            (None, 512)               1049088   \n",
            "                                                                 \n",
            " dropout_19 (Dropout)        (None, 512)               0         \n",
            "                                                                 \n",
            " dense_21 (Dense)            (None, 256)               131328    \n",
            "                                                                 \n",
            " dropout_20 (Dropout)        (None, 256)               0         \n",
            "                                                                 \n",
            " dense_22 (Dense)            (None, 4)                 1028      \n",
            "                                                                 \n",
            "=================================================================\n",
            "Total params: 2,732,420\n",
            "Trainable params: 2,732,420\n",
            "Non-trainable params: 0\n",
            "_________________________________________________________________\n"
          ]
        }
      ],
      "source": [
        "model.summary() "
      ]
    },
    {
      "attachments": {},
      "cell_type": "markdown",
      "metadata": {},
      "source": [
        "# Split data into Train and Validation"
      ]
    },
    {
      "cell_type": "code",
      "execution_count": 14,
      "metadata": {
        "id": "hIECdT14RClP"
      },
      "outputs": [],
      "source": [
        "from sklearn.model_selection import train_test_split\n",
        "X_train, X_valid, y_train, y_valid = train_test_split(X_train, y_train, test_size=0.15, random_state=42)"
      ]
    },
    {
      "attachments": {},
      "cell_type": "markdown",
      "metadata": {},
      "source": [
        "# Train the model"
      ]
    },
    {
      "cell_type": "code",
      "execution_count": 45,
      "metadata": {
        "colab": {
          "base_uri": "https://localhost:8080/"
        },
        "id": "yDI0_pXFWNCR",
        "outputId": "1835a9f7-e7ed-440b-9411-cfa34677bb97"
      },
      "outputs": [
        {
          "name": "stdout",
          "output_type": "stream",
          "text": [
            "Epoch 1/100\n",
            "265/265 [==============================] - 4s 14ms/step - loss: 1.3880 - accuracy: 0.2507 - val_loss: 1.3864 - val_accuracy: 0.2550\n",
            "Epoch 2/100\n",
            "265/265 [==============================] - 3s 13ms/step - loss: 1.3869 - accuracy: 0.2507 - val_loss: 1.3859 - val_accuracy: 0.2570\n",
            "Epoch 3/100\n",
            "265/265 [==============================] - 3s 13ms/step - loss: 1.3871 - accuracy: 0.2480 - val_loss: 1.3860 - val_accuracy: 0.2550\n",
            "Epoch 4/100\n",
            "265/265 [==============================] - 3s 13ms/step - loss: 1.3862 - accuracy: 0.2581 - val_loss: 1.3860 - val_accuracy: 0.3206\n",
            "Epoch 5/100\n",
            "265/265 [==============================] - 3s 13ms/step - loss: 1.3861 - accuracy: 0.2576 - val_loss: 1.3858 - val_accuracy: 0.3186\n",
            "Epoch 6/100\n",
            "265/265 [==============================] - 3s 13ms/step - loss: 1.3863 - accuracy: 0.2507 - val_loss: 1.3857 - val_accuracy: 0.2811\n",
            "Epoch 7/100\n",
            "265/265 [==============================] - 3s 13ms/step - loss: 1.3857 - accuracy: 0.2636 - val_loss: 1.3856 - val_accuracy: 0.2363\n",
            "Epoch 8/100\n",
            "265/265 [==============================] - 3s 13ms/step - loss: 1.3851 - accuracy: 0.2656 - val_loss: 1.3851 - val_accuracy: 0.2463\n",
            "Epoch 9/100\n",
            "265/265 [==============================] - 3s 13ms/step - loss: 1.3854 - accuracy: 0.2642 - val_loss: 1.3834 - val_accuracy: 0.3474\n",
            "Epoch 10/100\n",
            "265/265 [==============================] - 3s 13ms/step - loss: 1.3845 - accuracy: 0.2715 - val_loss: 1.3820 - val_accuracy: 0.3414\n",
            "Epoch 11/100\n",
            "265/265 [==============================] - 3s 13ms/step - loss: 1.3825 - accuracy: 0.2873 - val_loss: 1.3798 - val_accuracy: 0.3099\n",
            "Epoch 12/100\n",
            "265/265 [==============================] - 3s 13ms/step - loss: 1.3805 - accuracy: 0.2874 - val_loss: 1.3748 - val_accuracy: 0.3266\n",
            "Epoch 13/100\n",
            "265/265 [==============================] - 3s 13ms/step - loss: 1.3747 - accuracy: 0.3000 - val_loss: 1.3718 - val_accuracy: 0.3005\n",
            "Epoch 14/100\n",
            "265/265 [==============================] - 3s 13ms/step - loss: 1.3657 - accuracy: 0.3182 - val_loss: 1.3742 - val_accuracy: 0.2744\n",
            "Epoch 15/100\n",
            "265/265 [==============================] - 3s 13ms/step - loss: 1.3551 - accuracy: 0.3280 - val_loss: 1.3464 - val_accuracy: 0.3300\n",
            "Epoch 16/100\n",
            "265/265 [==============================] - 3s 13ms/step - loss: 1.3360 - accuracy: 0.3415 - val_loss: 1.3071 - val_accuracy: 0.3788\n",
            "Epoch 17/100\n",
            "265/265 [==============================] - 3s 13ms/step - loss: 1.3175 - accuracy: 0.3578 - val_loss: 1.3024 - val_accuracy: 0.3748\n",
            "Epoch 18/100\n",
            "265/265 [==============================] - 3s 13ms/step - loss: 1.3166 - accuracy: 0.3525 - val_loss: 1.3803 - val_accuracy: 0.3173\n",
            "Epoch 19/100\n",
            "265/265 [==============================] - 3s 13ms/step - loss: 1.3059 - accuracy: 0.3552 - val_loss: 1.2110 - val_accuracy: 0.4244\n",
            "Epoch 20/100\n",
            "265/265 [==============================] - 3s 13ms/step - loss: 1.2320 - accuracy: 0.4260 - val_loss: 1.2159 - val_accuracy: 0.4070\n",
            "Epoch 21/100\n",
            "265/265 [==============================] - 3s 13ms/step - loss: 1.3347 - accuracy: 0.3293 - val_loss: 1.3208 - val_accuracy: 0.3353\n",
            "Epoch 22/100\n",
            "265/265 [==============================] - 3s 13ms/step - loss: 1.3030 - accuracy: 0.3596 - val_loss: 1.2417 - val_accuracy: 0.3775\n",
            "Epoch 23/100\n",
            "265/265 [==============================] - 3s 12ms/step - loss: 1.1783 - accuracy: 0.4489 - val_loss: 1.1419 - val_accuracy: 0.4505\n",
            "Epoch 24/100\n",
            "265/265 [==============================] - 3s 12ms/step - loss: 1.1025 - accuracy: 0.4955 - val_loss: 1.1611 - val_accuracy: 0.4799\n",
            "Epoch 25/100\n",
            "265/265 [==============================] - 3s 13ms/step - loss: 1.0573 - accuracy: 0.5197 - val_loss: 1.0097 - val_accuracy: 0.5234\n",
            "Epoch 26/100\n",
            "265/265 [==============================] - 3s 13ms/step - loss: 1.0226 - accuracy: 0.5328 - val_loss: 0.9990 - val_accuracy: 0.5884\n",
            "Epoch 27/100\n",
            "265/265 [==============================] - 3s 13ms/step - loss: 0.9870 - accuracy: 0.5538 - val_loss: 1.3734 - val_accuracy: 0.4157\n",
            "Epoch 28/100\n",
            "265/265 [==============================] - 3s 13ms/step - loss: 0.9592 - accuracy: 0.5627 - val_loss: 0.9292 - val_accuracy: 0.6098\n",
            "Epoch 29/100\n",
            "265/265 [==============================] - 3s 13ms/step - loss: 0.9331 - accuracy: 0.5803 - val_loss: 0.8538 - val_accuracy: 0.6225\n",
            "Epoch 30/100\n",
            "265/265 [==============================] - 3s 12ms/step - loss: 0.9165 - accuracy: 0.5883 - val_loss: 0.8361 - val_accuracy: 0.6191\n",
            "Epoch 31/100\n",
            "265/265 [==============================] - 3s 13ms/step - loss: 0.9099 - accuracy: 0.5877 - val_loss: 0.8398 - val_accuracy: 0.6205\n",
            "Epoch 32/100\n",
            "265/265 [==============================] - 3s 13ms/step - loss: 1.1275 - accuracy: 0.4754 - val_loss: 1.0476 - val_accuracy: 0.5301\n",
            "Epoch 33/100\n",
            "265/265 [==============================] - 3s 12ms/step - loss: 0.8698 - accuracy: 0.6049 - val_loss: 0.8089 - val_accuracy: 0.6506\n",
            "Epoch 34/100\n",
            "265/265 [==============================] - 3s 12ms/step - loss: 0.8492 - accuracy: 0.6192 - val_loss: 0.7903 - val_accuracy: 0.6312\n",
            "Epoch 35/100\n",
            "265/265 [==============================] - 3s 13ms/step - loss: 0.7849 - accuracy: 0.6404 - val_loss: 0.7352 - val_accuracy: 0.6586\n",
            "Epoch 36/100\n",
            "265/265 [==============================] - 3s 13ms/step - loss: 0.7691 - accuracy: 0.6467 - val_loss: 0.9558 - val_accuracy: 0.5535\n",
            "Epoch 37/100\n",
            "265/265 [==============================] - 3s 12ms/step - loss: 0.7553 - accuracy: 0.6440 - val_loss: 0.6427 - val_accuracy: 0.6934\n",
            "Epoch 38/100\n",
            "265/265 [==============================] - 3s 13ms/step - loss: 0.7063 - accuracy: 0.6623 - val_loss: 0.9338 - val_accuracy: 0.5937\n",
            "Epoch 39/100\n",
            "265/265 [==============================] - 3s 13ms/step - loss: 0.7188 - accuracy: 0.6585 - val_loss: 0.6288 - val_accuracy: 0.6941\n",
            "Epoch 40/100\n",
            "265/265 [==============================] - 3s 13ms/step - loss: 0.6769 - accuracy: 0.6735 - val_loss: 1.0214 - val_accuracy: 0.5355\n",
            "Epoch 41/100\n",
            "265/265 [==============================] - 3s 13ms/step - loss: 0.6705 - accuracy: 0.6788 - val_loss: 0.6312 - val_accuracy: 0.6747\n",
            "Epoch 42/100\n",
            "265/265 [==============================] - 3s 13ms/step - loss: 0.6513 - accuracy: 0.6865 - val_loss: 0.5789 - val_accuracy: 0.6975\n",
            "Epoch 43/100\n",
            "265/265 [==============================] - 3s 12ms/step - loss: 0.6070 - accuracy: 0.7027 - val_loss: 0.6740 - val_accuracy: 0.6647\n",
            "Epoch 44/100\n",
            "265/265 [==============================] - 3s 13ms/step - loss: 0.5942 - accuracy: 0.7122 - val_loss: 0.6936 - val_accuracy: 0.6941\n",
            "Epoch 45/100\n",
            "265/265 [==============================] - 3s 13ms/step - loss: 0.5853 - accuracy: 0.7052 - val_loss: 0.5152 - val_accuracy: 0.7276\n",
            "Epoch 46/100\n",
            "265/265 [==============================] - 3s 13ms/step - loss: 0.5436 - accuracy: 0.7263 - val_loss: 0.5203 - val_accuracy: 0.7450\n",
            "Epoch 47/100\n",
            "265/265 [==============================] - 3s 13ms/step - loss: 0.7297 - accuracy: 0.6644 - val_loss: 0.7160 - val_accuracy: 0.6432\n",
            "Epoch 48/100\n",
            "265/265 [==============================] - 4s 14ms/step - loss: 0.6403 - accuracy: 0.6950 - val_loss: 0.6058 - val_accuracy: 0.7095\n",
            "Epoch 49/100\n",
            "265/265 [==============================] - 4s 16ms/step - loss: 0.5602 - accuracy: 0.7304 - val_loss: 0.4728 - val_accuracy: 0.7704\n",
            "Epoch 50/100\n",
            "265/265 [==============================] - 3s 13ms/step - loss: 0.5467 - accuracy: 0.7387 - val_loss: 0.4946 - val_accuracy: 0.7570\n",
            "Epoch 51/100\n",
            "265/265 [==============================] - 3s 13ms/step - loss: 0.5298 - accuracy: 0.7442 - val_loss: 0.4518 - val_accuracy: 0.7724\n",
            "Epoch 52/100\n",
            "265/265 [==============================] - 3s 13ms/step - loss: 0.4911 - accuracy: 0.7574 - val_loss: 0.4441 - val_accuracy: 0.8086\n",
            "Epoch 53/100\n",
            "265/265 [==============================] - 3s 12ms/step - loss: 0.4757 - accuracy: 0.7736 - val_loss: 0.4956 - val_accuracy: 0.7383\n",
            "Epoch 54/100\n",
            "265/265 [==============================] - 3s 13ms/step - loss: 0.4644 - accuracy: 0.7893 - val_loss: 0.3883 - val_accuracy: 0.8133\n",
            "Epoch 55/100\n",
            "265/265 [==============================] - 3s 12ms/step - loss: 0.4593 - accuracy: 0.7931 - val_loss: 0.4080 - val_accuracy: 0.7818\n",
            "Epoch 56/100\n",
            "265/265 [==============================] - 3s 13ms/step - loss: 0.4309 - accuracy: 0.7995 - val_loss: 0.4818 - val_accuracy: 0.7684\n",
            "Epoch 57/100\n",
            "265/265 [==============================] - 3s 13ms/step - loss: 0.4171 - accuracy: 0.8093 - val_loss: 0.3651 - val_accuracy: 0.8360\n",
            "Epoch 58/100\n",
            "265/265 [==============================] - 3s 12ms/step - loss: 0.4232 - accuracy: 0.8072 - val_loss: 0.3696 - val_accuracy: 0.8394\n",
            "Epoch 59/100\n",
            "265/265 [==============================] - 3s 12ms/step - loss: 0.4008 - accuracy: 0.8181 - val_loss: 0.4288 - val_accuracy: 0.7965\n",
            "Epoch 60/100\n",
            "265/265 [==============================] - 3s 13ms/step - loss: 0.4047 - accuracy: 0.8244 - val_loss: 0.3605 - val_accuracy: 0.8186\n",
            "Epoch 61/100\n",
            "265/265 [==============================] - 3s 13ms/step - loss: 0.3951 - accuracy: 0.8255 - val_loss: 0.3360 - val_accuracy: 0.8614\n",
            "Epoch 62/100\n",
            "265/265 [==============================] - 3s 13ms/step - loss: 0.3367 - accuracy: 0.8510 - val_loss: 0.3483 - val_accuracy: 0.8387\n",
            "Epoch 63/100\n",
            "265/265 [==============================] - 3s 13ms/step - loss: 0.3179 - accuracy: 0.8545 - val_loss: 0.2950 - val_accuracy: 0.8715\n",
            "Epoch 64/100\n",
            "265/265 [==============================] - 3s 12ms/step - loss: 0.3242 - accuracy: 0.8551 - val_loss: 0.3071 - val_accuracy: 0.8534\n",
            "Epoch 65/100\n",
            "265/265 [==============================] - 3s 13ms/step - loss: 0.3200 - accuracy: 0.8632 - val_loss: 0.3353 - val_accuracy: 0.8507\n",
            "Epoch 66/100\n",
            "265/265 [==============================] - 3s 13ms/step - loss: 0.3968 - accuracy: 0.8336 - val_loss: 0.3536 - val_accuracy: 0.8273\n",
            "Epoch 67/100\n",
            "265/265 [==============================] - 3s 12ms/step - loss: 0.2887 - accuracy: 0.8727 - val_loss: 0.2400 - val_accuracy: 0.8983\n",
            "Epoch 68/100\n",
            "265/265 [==============================] - 3s 13ms/step - loss: 0.2915 - accuracy: 0.8719 - val_loss: 0.2499 - val_accuracy: 0.8849\n",
            "Epoch 69/100\n",
            "265/265 [==============================] - 3s 13ms/step - loss: 0.2869 - accuracy: 0.8779 - val_loss: 0.3713 - val_accuracy: 0.8253\n",
            "Epoch 70/100\n",
            "265/265 [==============================] - 3s 13ms/step - loss: 0.2482 - accuracy: 0.8948 - val_loss: 0.2808 - val_accuracy: 0.8628\n",
            "Epoch 71/100\n",
            "265/265 [==============================] - 3s 13ms/step - loss: 0.2386 - accuracy: 0.8984 - val_loss: 0.2156 - val_accuracy: 0.9009\n",
            "Epoch 72/100\n",
            "265/265 [==============================] - 3s 13ms/step - loss: 0.2264 - accuracy: 0.9069 - val_loss: 0.2220 - val_accuracy: 0.9070\n",
            "Epoch 73/100\n",
            "265/265 [==============================] - 3s 13ms/step - loss: 0.2206 - accuracy: 0.9101 - val_loss: 0.2337 - val_accuracy: 0.9103\n",
            "Epoch 74/100\n",
            "265/265 [==============================] - 3s 13ms/step - loss: 0.2134 - accuracy: 0.9139 - val_loss: 0.4150 - val_accuracy: 0.8367\n",
            "Epoch 75/100\n",
            "265/265 [==============================] - 3s 13ms/step - loss: 0.1990 - accuracy: 0.9189 - val_loss: 0.1766 - val_accuracy: 0.9217\n",
            "Epoch 76/100\n",
            "265/265 [==============================] - 3s 13ms/step - loss: 0.1835 - accuracy: 0.9251 - val_loss: 0.1759 - val_accuracy: 0.9357\n",
            "Epoch 77/100\n",
            "265/265 [==============================] - 3s 13ms/step - loss: 0.1861 - accuracy: 0.9264 - val_loss: 0.1703 - val_accuracy: 0.9337\n",
            "Epoch 78/100\n",
            "265/265 [==============================] - 3s 13ms/step - loss: 0.2246 - accuracy: 0.9142 - val_loss: 0.1962 - val_accuracy: 0.9076\n",
            "Epoch 79/100\n",
            "265/265 [==============================] - 3s 13ms/step - loss: 0.1684 - accuracy: 0.9345 - val_loss: 0.1660 - val_accuracy: 0.9378\n",
            "Epoch 80/100\n",
            "265/265 [==============================] - 3s 13ms/step - loss: 0.1440 - accuracy: 0.9458 - val_loss: 0.1843 - val_accuracy: 0.9270\n",
            "Epoch 81/100\n",
            "265/265 [==============================] - 3s 13ms/step - loss: 0.1507 - accuracy: 0.9427 - val_loss: 0.1377 - val_accuracy: 0.9471\n",
            "Epoch 82/100\n",
            "265/265 [==============================] - 3s 13ms/step - loss: 0.2304 - accuracy: 0.9194 - val_loss: 0.1576 - val_accuracy: 0.9418\n",
            "Epoch 83/100\n",
            "265/265 [==============================] - 3s 13ms/step - loss: 0.1326 - accuracy: 0.9517 - val_loss: 0.1349 - val_accuracy: 0.9511\n",
            "Epoch 84/100\n",
            "265/265 [==============================] - 3s 13ms/step - loss: 0.1317 - accuracy: 0.9503 - val_loss: 0.1216 - val_accuracy: 0.9598\n",
            "Epoch 85/100\n",
            "265/265 [==============================] - 3s 13ms/step - loss: 0.1653 - accuracy: 0.9370 - val_loss: 0.1346 - val_accuracy: 0.9478\n",
            "Epoch 86/100\n",
            "265/265 [==============================] - 3s 13ms/step - loss: 0.1289 - accuracy: 0.9505 - val_loss: 0.1598 - val_accuracy: 0.9357\n",
            "Epoch 87/100\n",
            "265/265 [==============================] - 3s 13ms/step - loss: 0.1081 - accuracy: 0.9608 - val_loss: 0.5713 - val_accuracy: 0.7751\n",
            "Epoch 88/100\n",
            "265/265 [==============================] - 3s 13ms/step - loss: 0.1078 - accuracy: 0.9603 - val_loss: 0.1328 - val_accuracy: 0.9491\n",
            "Epoch 89/100\n",
            "265/265 [==============================] - 3s 13ms/step - loss: 0.0967 - accuracy: 0.9661 - val_loss: 0.1163 - val_accuracy: 0.9572\n",
            "Epoch 90/100\n",
            "265/265 [==============================] - 3s 13ms/step - loss: 0.1015 - accuracy: 0.9618 - val_loss: 0.1077 - val_accuracy: 0.9625\n",
            "Epoch 91/100\n",
            "265/265 [==============================] - 3s 13ms/step - loss: 0.0752 - accuracy: 0.9748 - val_loss: 0.2799 - val_accuracy: 0.8896\n",
            "Epoch 92/100\n",
            "265/265 [==============================] - 3s 13ms/step - loss: 0.0883 - accuracy: 0.9694 - val_loss: 0.1095 - val_accuracy: 0.9632\n",
            "Epoch 93/100\n",
            "265/265 [==============================] - 3s 13ms/step - loss: 0.0665 - accuracy: 0.9773 - val_loss: 0.1087 - val_accuracy: 0.9612\n",
            "Epoch 94/100\n",
            "265/265 [==============================] - 3s 13ms/step - loss: 0.0751 - accuracy: 0.9742 - val_loss: 0.1069 - val_accuracy: 0.9625\n",
            "Epoch 95/100\n",
            "265/265 [==============================] - 3s 13ms/step - loss: 0.0995 - accuracy: 0.9699 - val_loss: 0.1779 - val_accuracy: 0.9230\n",
            "Epoch 96/100\n",
            "265/265 [==============================] - 3s 13ms/step - loss: 0.0702 - accuracy: 0.9777 - val_loss: 0.1305 - val_accuracy: 0.9538\n",
            "Epoch 97/100\n",
            "265/265 [==============================] - 3s 13ms/step - loss: 0.0554 - accuracy: 0.9820 - val_loss: 0.1049 - val_accuracy: 0.9652\n",
            "Epoch 98/100\n",
            "265/265 [==============================] - 3s 13ms/step - loss: 0.0842 - accuracy: 0.9745 - val_loss: 0.1135 - val_accuracy: 0.9572\n",
            "Epoch 99/100\n",
            "265/265 [==============================] - 3s 13ms/step - loss: 0.0548 - accuracy: 0.9831 - val_loss: 0.1113 - val_accuracy: 0.9538\n",
            "Epoch 100/100\n",
            "265/265 [==============================] - 3s 13ms/step - loss: 0.1157 - accuracy: 0.9612 - val_loss: 0.1139 - val_accuracy: 0.9578\n"
          ]
        }
      ],
      "source": [
        "history = model.fit( X_train, y_train, epochs = 100, verbose=1 ,  validation_data=(X_valid, y_valid)  )"
      ]
    },
    {
      "attachments": {},
      "cell_type": "markdown",
      "metadata": {},
      "source": [
        "# Results"
      ]
    },
    {
      "cell_type": "code",
      "execution_count": null,
      "metadata": {
        "id": "zWwWqIMeWVuJ"
      },
      "outputs": [],
      "source": [
        "import matplotlib.pyplot as plt\n",
        "loss = history.history['loss']\n",
        "val_loss = history.history['val_loss']\n",
        "acc = history.history['accuracy']\n",
        "val_acc = history.history['val_accuracy']\n",
        "epochs = range(1, len(loss) + 1)\n",
        "plt.plot(epochs, loss, color='green', label='Training loss')\n",
        "plt.plot(epochs, val_loss, color='blue', linestyle='dashed', label='Validation loss')\n",
        "plt.xlabel('Epochs')\n",
        "plt.ylabel('Loss')\n",
        "plt.title('Training and validation loss')\n",
        "plt.legend()\n",
        "plt.show()\n",
        "plt.figure()\n",
        "plt.plot(epochs, acc, color='green', label='Training acc')\n",
        "plt.plot(epochs, val_acc, color='blue', linestyle='dashed', label='Validation acc')\n",
        "plt.xlabel('Epochs')\n",
        "plt.ylabel('accuracy')\n",
        "plt.title('Training and validation accuracy')\n",
        "plt.legend()\n"
      ]
    },
    {
      "cell_type": "code",
      "execution_count": 47,
      "metadata": {
        "colab": {
          "base_uri": "https://localhost:8080/"
        },
        "id": "EkYh86BhWcnU",
        "outputId": "602205b3-b167-4372-b5df-62a301749b63"
      },
      "outputs": [
        {
          "name": "stdout",
          "output_type": "stream",
          "text": [
            "Train loss: 0.015130317769944668\n",
            "Train accuracy:  99.88183975219727 %\n"
          ]
        }
      ],
      "source": [
        "score = model.evaluate(X_train , y_train, verbose=0)\n",
        "\n",
        "print('Train loss:', score[0])\n",
        "print('Train accuracy: ', score[1]*100.0 ,'%')"
      ]
    },
    {
      "cell_type": "code",
      "execution_count": 48,
      "metadata": {
        "colab": {
          "base_uri": "https://localhost:8080/"
        },
        "id": "neYfPGSSWeM8",
        "outputId": "21745a20-cd5d-496e-e6ef-97424cb26ffb"
      },
      "outputs": [
        {
          "name": "stdout",
          "output_type": "stream",
          "text": [
            "Test loss: 0.39374929666519165\n",
            "Test accuracy:  83.09859037399292 %\n"
          ]
        }
      ],
      "source": [
        "score = model.evaluate(X_test , y_test, verbose=0)\n",
        "print('Test loss:', score[0])\n",
        "print('Test accuracy: ', score[1]*100.0 ,'%')"
      ]
    }
  ],
  "metadata": {
    "accelerator": "GPU",
    "colab": {
      "provenance": []
    },
    "gpuClass": "standard",
    "kernelspec": {
      "display_name": "Python 3",
      "language": "python",
      "name": "python3"
    },
    "language_info": {
      "name": "python",
      "version": "3.10.5 (tags/v3.10.5:f377153, Jun  6 2022, 16:14:13) [MSC v.1929 64 bit (AMD64)]"
    },
    "vscode": {
      "interpreter": {
        "hash": "98a70705198618b40757f4d0e0cd81e920cd534dd864d2ad541ce8c6b4f10eed"
      }
    }
  },
  "nbformat": 4,
  "nbformat_minor": 0
}
