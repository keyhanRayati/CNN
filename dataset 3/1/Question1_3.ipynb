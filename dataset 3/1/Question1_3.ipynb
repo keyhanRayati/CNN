{
  "cells": [
    {
      "attachments": {},
      "cell_type": "markdown",
      "metadata": {},
      "source": [
        "# Prepare Data"
      ]
    },
    {
      "cell_type": "code",
      "execution_count": 6,
      "metadata": {
        "id": "oLe-QW3iU50o"
      },
      "outputs": [],
      "source": [
        "import numpy as np\n",
        "from tensorflow import keras\n",
        "from tensorflow.keras import layers\n",
        "from tensorflow.keras.models import Sequential\n",
        "from tensorflow.keras.layers import Flatten, Conv2D, MaxPool2D, Dense, Dropout , Input\n",
        "from tensorflow.keras.utils import to_categorical\n",
        "from tensorflow.keras.preprocessing.image import ImageDataGenerator\n",
        "from tensorflow.keras.models import load_model\n",
        "from tensorflow.keras.layers import GlobalMaxPooling2D, MaxPooling2D\n",
        "from tensorflow.keras.layers import BatchNormalization\n",
        "from tensorflow.keras.models import Model\n",
        "from tensorflow.keras import regularizers, optimizers\n",
        "from sklearn.metrics import accuracy_score\n",
        "import matplotlib.pyplot as plt\n",
        "import pandas as pd\n",
        "from PIL import Image\n",
        "import glob\n",
        "import cv2\n",
        "import keras\n",
        "import tensorflow as tf\n",
        "\n",
        "\n",
        "\n",
        "\n",
        "import warnings\n",
        "warnings.filterwarnings('ignore')"
      ]
    },
    {
      "cell_type": "code",
      "execution_count": 7,
      "metadata": {
        "id": "urQxqh7siz8p"
      },
      "outputs": [],
      "source": [
        "X_train = []\n",
        "y_train = []\n",
        "for img in glob.glob(\"/content/drive/MyDrive/datasets3/dataset2-master/dataset2-master/images/TRAIN/EOSINOPHIL/*.jpeg\"):\n",
        "    n = cv2.imread(img)\n",
        "    n = cv2.resize(n, (64,64), interpolation = cv2.INTER_AREA)\n",
        "    X_train.append(n)\n",
        "    y_train.append(0)\n",
        "\n",
        "for img in glob.glob(\"/content/drive/MyDrive/datasets3/dataset2-master/dataset2-master/images/TRAIN/LYMPHOCYTE/*.jpeg\"):\n",
        "    n = cv2.imread(img)\n",
        "    n = cv2.resize(n, (64,64), interpolation = cv2.INTER_AREA)\n",
        "    X_train.append(n)\n",
        "    y_train.append(1)\n",
        "\n",
        "\n",
        "for img in glob.glob(\"/content/drive/MyDrive/datasets3/dataset2-master/dataset2-master/images/TRAIN/MONOCYTE/*.jpeg\"):\n",
        "    n = cv2.imread(img)\n",
        "    n = cv2.resize(n, (64,64), interpolation = cv2.INTER_AREA)\n",
        "    X_train.append(n)\n",
        "    y_train.append(2)\n",
        "\n",
        "for img in glob.glob(\"/content/drive/MyDrive/datasets3/dataset2-master/dataset2-master/images/TRAIN/NEUTROPHIL/*.jpeg\"):\n",
        "    n = cv2.imread(img)\n",
        "    n = cv2.resize(n, (64,64), interpolation = cv2.INTER_AREA)\n",
        "    X_train.append(n)\n",
        "    y_train.append(3)"
      ]
    },
    {
      "cell_type": "code",
      "execution_count": 8,
      "metadata": {
        "id": "xFj590IYlDIe"
      },
      "outputs": [],
      "source": [
        "X_test = []\n",
        "y_test = []\n",
        "for img in glob.glob(\"/content/drive/MyDrive/datasets3/dataset2-master/dataset2-master/images/TEST_SIMPLE/EOSINOPHIL/*.jpeg\"):\n",
        "    n = cv2.imread(img)\n",
        "    n = cv2.resize(n, (64,64), interpolation = cv2.INTER_AREA)\n",
        "    X_test.append(n)\n",
        "    y_test.append(0)\n",
        "\n",
        "for img in glob.glob(\"/content/drive/MyDrive/datasets3/dataset2-master/dataset2-master/images/TEST_SIMPLE/LYMPHOCYTE/*.jpeg\"):\n",
        "    n = cv2.imread(img)\n",
        "    n = cv2.resize(n, (64,64), interpolation = cv2.INTER_AREA)\n",
        "    X_test.append(n)\n",
        "    y_test.append(1)\n",
        "\n",
        "\n",
        "for img in glob.glob(\"/content/drive/MyDrive/datasets3/dataset2-master/dataset2-master/images/TEST_SIMPLE/MONOCYTE/*.jpeg\"):\n",
        "    n = cv2.imread(img)\n",
        "    n = cv2.resize(n, (64,64), interpolation = cv2.INTER_AREA)\n",
        "    X_test.append(n)\n",
        "    y_test.append(2)\n",
        "\n",
        "for img in glob.glob(\"/content/drive/MyDrive/datasets3/dataset2-master/dataset2-master/images/TEST_SIMPLE/NEUTROPHIL/*.jpeg\"):\n",
        "    n = cv2.imread(img)\n",
        "    n = cv2.resize(n, (64,64), interpolation = cv2.INTER_AREA)\n",
        "    X_test.append(n)\n",
        "    y_test.append(3)\n"
      ]
    },
    {
      "cell_type": "code",
      "execution_count": 10,
      "metadata": {
        "id": "QxeuAP8DmmJb"
      },
      "outputs": [],
      "source": [
        "X_train = np.array(X_train)/255\n",
        "X_test = np.array(X_test)/255\n",
        "y_train = np.array(y_train)\n",
        "y_test = np.array(y_test)"
      ]
    },
    {
      "cell_type": "code",
      "execution_count": 11,
      "metadata": {
        "id": "MiutseSVm-dH"
      },
      "outputs": [],
      "source": [
        "from tensorflow.keras.layers import GlobalMaxPooling2D, MaxPooling2D\n"
      ]
    },
    {
      "attachments": {},
      "cell_type": "markdown",
      "metadata": {},
      "source": [
        "# bulding model"
      ]
    },
    {
      "cell_type": "code",
      "execution_count": 22,
      "metadata": {
        "id": "CaCKsxXmWFXv"
      },
      "outputs": [],
      "source": [
        "model = Sequential()\n",
        "model.add(Conv2D(32, 3, input_shape=(64,64,3) , activation='relu'))\n",
        "model.add(MaxPooling2D(pool_size=2))\n",
        "model.add(Conv2D(64, 3,activation='relu'))\n",
        "model.add(MaxPooling2D(pool_size=2))\n",
        "model.add(Conv2D(128, 3, activation='relu'))\n",
        "model.add(MaxPooling2D(pool_size=2))\n",
        "model.add(Conv2D(256, 3, activation='relu'))\n",
        "model.add(MaxPooling2D(pool_size=2))\n",
        "model.add(Flatten())\n",
        "model.add(Dropout(0.5))\n",
        "model.add(Dense(512, activation='relu'))\n",
        "model.add(Dropout(0.5))\n",
        "model.add(Dense(256, activation='relu'))\n",
        "model.add(Dropout(0.5))\n",
        "model.add(Dense(4, activation='softmax'))\n",
        "# optimizer = tf.keras.optimizers.Adam(0.00001)\n",
        "\n",
        "model.compile(loss='sparse_categorical_crossentropy',optimizer='SGD',metrics=['accuracy'])"
      ]
    },
    {
      "cell_type": "code",
      "execution_count": 23,
      "metadata": {
        "colab": {
          "base_uri": "https://localhost:8080/"
        },
        "id": "aPgTBODZWK1E",
        "outputId": "f0877841-90e1-4d13-9456-2d40b7b79c0d"
      },
      "outputs": [
        {
          "name": "stdout",
          "output_type": "stream",
          "text": [
            "Model: \"sequential_1\"\n",
            "_________________________________________________________________\n",
            " Layer (type)                Output Shape              Param #   \n",
            "=================================================================\n",
            " conv2d_4 (Conv2D)           (None, 62, 62, 32)        896       \n",
            "                                                                 \n",
            " max_pooling2d_4 (MaxPooling  (None, 31, 31, 32)       0         \n",
            " 2D)                                                             \n",
            "                                                                 \n",
            " conv2d_5 (Conv2D)           (None, 29, 29, 64)        18496     \n",
            "                                                                 \n",
            " max_pooling2d_5 (MaxPooling  (None, 14, 14, 64)       0         \n",
            " 2D)                                                             \n",
            "                                                                 \n",
            " conv2d_6 (Conv2D)           (None, 12, 12, 128)       73856     \n",
            "                                                                 \n",
            " max_pooling2d_6 (MaxPooling  (None, 6, 6, 128)        0         \n",
            " 2D)                                                             \n",
            "                                                                 \n",
            " conv2d_7 (Conv2D)           (None, 4, 4, 256)         295168    \n",
            "                                                                 \n",
            " max_pooling2d_7 (MaxPooling  (None, 2, 2, 256)        0         \n",
            " 2D)                                                             \n",
            "                                                                 \n",
            " flatten_1 (Flatten)         (None, 1024)              0         \n",
            "                                                                 \n",
            " dropout_1 (Dropout)         (None, 1024)              0         \n",
            "                                                                 \n",
            " dense_3 (Dense)             (None, 512)               524800    \n",
            "                                                                 \n",
            " dropout_2 (Dropout)         (None, 512)               0         \n",
            "                                                                 \n",
            " dense_4 (Dense)             (None, 256)               131328    \n",
            "                                                                 \n",
            " dropout_3 (Dropout)         (None, 256)               0         \n",
            "                                                                 \n",
            " dense_5 (Dense)             (None, 4)                 1028      \n",
            "                                                                 \n",
            "=================================================================\n",
            "Total params: 1,045,572\n",
            "Trainable params: 1,045,572\n",
            "Non-trainable params: 0\n",
            "_________________________________________________________________\n"
          ]
        }
      ],
      "source": [
        "model.summary() "
      ]
    },
    {
      "attachments": {},
      "cell_type": "markdown",
      "metadata": {},
      "source": [
        "# Split data into Train and Validation"
      ]
    },
    {
      "cell_type": "code",
      "execution_count": 14,
      "metadata": {
        "id": "hIECdT14RClP"
      },
      "outputs": [],
      "source": [
        "from sklearn.model_selection import train_test_split\n",
        "X_train, X_valid, y_train, y_valid = train_test_split(X_train, y_train, test_size=0.15, random_state=42)"
      ]
    },
    {
      "attachments": {},
      "cell_type": "markdown",
      "metadata": {},
      "source": [
        "# train the Model"
      ]
    },
    {
      "cell_type": "code",
      "execution_count": 24,
      "metadata": {
        "colab": {
          "base_uri": "https://localhost:8080/"
        },
        "id": "yDI0_pXFWNCR",
        "outputId": "f9ce1aed-78ad-411e-e08a-6784cd7d53d2"
      },
      "outputs": [
        {
          "name": "stdout",
          "output_type": "stream",
          "text": [
            "Epoch 1/100\n",
            "265/265 [==============================] - 3s 8ms/step - loss: 1.3884 - accuracy: 0.2494 - val_loss: 1.3861 - val_accuracy: 0.2550\n",
            "Epoch 2/100\n",
            "265/265 [==============================] - 3s 10ms/step - loss: 1.3876 - accuracy: 0.2484 - val_loss: 1.3862 - val_accuracy: 0.2477\n",
            "Epoch 3/100\n",
            "265/265 [==============================] - 3s 11ms/step - loss: 1.3867 - accuracy: 0.2592 - val_loss: 1.3857 - val_accuracy: 0.2483\n",
            "Epoch 4/100\n",
            "265/265 [==============================] - 3s 11ms/step - loss: 1.3859 - accuracy: 0.2557 - val_loss: 1.3859 - val_accuracy: 0.2537\n",
            "Epoch 5/100\n",
            "265/265 [==============================] - 2s 8ms/step - loss: 1.3864 - accuracy: 0.2550 - val_loss: 1.3852 - val_accuracy: 0.2510\n",
            "Epoch 6/100\n",
            "265/265 [==============================] - 2s 8ms/step - loss: 1.3850 - accuracy: 0.2633 - val_loss: 1.3841 - val_accuracy: 0.3146\n",
            "Epoch 7/100\n",
            "265/265 [==============================] - 2s 8ms/step - loss: 1.3843 - accuracy: 0.2637 - val_loss: 1.3824 - val_accuracy: 0.3233\n",
            "Epoch 8/100\n",
            "265/265 [==============================] - 2s 8ms/step - loss: 1.3832 - accuracy: 0.2731 - val_loss: 1.3808 - val_accuracy: 0.3373\n",
            "Epoch 9/100\n",
            "265/265 [==============================] - 2s 8ms/step - loss: 1.3804 - accuracy: 0.2945 - val_loss: 1.3785 - val_accuracy: 0.2617\n",
            "Epoch 10/100\n",
            "265/265 [==============================] - 2s 7ms/step - loss: 1.3754 - accuracy: 0.3021 - val_loss: 1.3686 - val_accuracy: 0.3173\n",
            "Epoch 11/100\n",
            "265/265 [==============================] - 2s 7ms/step - loss: 1.3679 - accuracy: 0.3221 - val_loss: 1.3576 - val_accuracy: 0.3574\n",
            "Epoch 12/100\n",
            "265/265 [==============================] - 2s 7ms/step - loss: 1.3510 - accuracy: 0.3414 - val_loss: 1.3825 - val_accuracy: 0.2617\n",
            "Epoch 13/100\n",
            "265/265 [==============================] - 2s 8ms/step - loss: 1.3463 - accuracy: 0.3296 - val_loss: 1.3850 - val_accuracy: 0.2604\n",
            "Epoch 14/100\n",
            "265/265 [==============================] - 2s 7ms/step - loss: 1.3129 - accuracy: 0.3726 - val_loss: 1.2852 - val_accuracy: 0.3735\n",
            "Epoch 15/100\n",
            "265/265 [==============================] - 2s 7ms/step - loss: 1.2931 - accuracy: 0.3883 - val_loss: 1.3338 - val_accuracy: 0.3199\n",
            "Epoch 16/100\n",
            "265/265 [==============================] - 2s 8ms/step - loss: 1.2573 - accuracy: 0.4062 - val_loss: 1.2200 - val_accuracy: 0.4471\n",
            "Epoch 17/100\n",
            "265/265 [==============================] - 2s 7ms/step - loss: 1.2392 - accuracy: 0.4170 - val_loss: 1.1945 - val_accuracy: 0.4411\n",
            "Epoch 18/100\n",
            "265/265 [==============================] - 2s 9ms/step - loss: 1.2488 - accuracy: 0.3988 - val_loss: 1.1879 - val_accuracy: 0.4786\n",
            "Epoch 19/100\n",
            "265/265 [==============================] - 2s 8ms/step - loss: 1.2079 - accuracy: 0.4394 - val_loss: 1.1554 - val_accuracy: 0.4967\n",
            "Epoch 20/100\n",
            "265/265 [==============================] - 2s 7ms/step - loss: 1.2633 - accuracy: 0.3825 - val_loss: 1.4348 - val_accuracy: 0.2550\n",
            "Epoch 21/100\n",
            "265/265 [==============================] - 2s 7ms/step - loss: 1.4000 - accuracy: 0.2579 - val_loss: 1.3813 - val_accuracy: 0.2550\n",
            "Epoch 22/100\n",
            "265/265 [==============================] - 2s 7ms/step - loss: 1.3815 - accuracy: 0.2869 - val_loss: 1.3892 - val_accuracy: 0.2550\n",
            "Epoch 23/100\n",
            "265/265 [==============================] - 2s 8ms/step - loss: 1.3407 - accuracy: 0.3355 - val_loss: 1.2956 - val_accuracy: 0.3983\n",
            "Epoch 24/100\n",
            "265/265 [==============================] - 2s 8ms/step - loss: 1.2735 - accuracy: 0.4032 - val_loss: 1.2387 - val_accuracy: 0.4063\n",
            "Epoch 25/100\n",
            "265/265 [==============================] - 2s 7ms/step - loss: 1.2071 - accuracy: 0.4385 - val_loss: 1.1476 - val_accuracy: 0.4705\n",
            "Epoch 26/100\n",
            "265/265 [==============================] - 2s 8ms/step - loss: 1.1518 - accuracy: 0.4702 - val_loss: 1.1260 - val_accuracy: 0.5475\n",
            "Epoch 27/100\n",
            "265/265 [==============================] - 2s 8ms/step - loss: 1.0884 - accuracy: 0.4912 - val_loss: 1.0560 - val_accuracy: 0.5201\n",
            "Epoch 28/100\n",
            "265/265 [==============================] - 2s 7ms/step - loss: 1.0486 - accuracy: 0.5149 - val_loss: 0.9854 - val_accuracy: 0.5509\n",
            "Epoch 29/100\n",
            "265/265 [==============================] - 2s 7ms/step - loss: 1.0143 - accuracy: 0.5353 - val_loss: 1.1980 - val_accuracy: 0.4344\n",
            "Epoch 30/100\n",
            "265/265 [==============================] - 2s 7ms/step - loss: 0.9728 - accuracy: 0.5562 - val_loss: 0.9470 - val_accuracy: 0.6158\n",
            "Epoch 31/100\n",
            "265/265 [==============================] - 2s 8ms/step - loss: 0.9434 - accuracy: 0.5750 - val_loss: 0.9371 - val_accuracy: 0.5843\n",
            "Epoch 32/100\n",
            "265/265 [==============================] - 2s 8ms/step - loss: 0.9020 - accuracy: 0.5955 - val_loss: 0.8673 - val_accuracy: 0.6118\n",
            "Epoch 33/100\n",
            "265/265 [==============================] - 2s 7ms/step - loss: 0.8879 - accuracy: 0.5851 - val_loss: 0.8766 - val_accuracy: 0.6098\n",
            "Epoch 34/100\n",
            "265/265 [==============================] - 2s 8ms/step - loss: 0.8605 - accuracy: 0.6094 - val_loss: 0.8006 - val_accuracy: 0.6312\n",
            "Epoch 35/100\n",
            "265/265 [==============================] - 2s 7ms/step - loss: 0.8343 - accuracy: 0.6260 - val_loss: 0.7940 - val_accuracy: 0.6238\n",
            "Epoch 36/100\n",
            "265/265 [==============================] - 2s 7ms/step - loss: 0.8071 - accuracy: 0.6317 - val_loss: 0.7738 - val_accuracy: 0.6399\n",
            "Epoch 37/100\n",
            "265/265 [==============================] - 2s 8ms/step - loss: 0.7924 - accuracy: 0.6348 - val_loss: 0.7546 - val_accuracy: 0.6506\n",
            "Epoch 38/100\n",
            "265/265 [==============================] - 2s 7ms/step - loss: 0.7726 - accuracy: 0.6428 - val_loss: 0.7407 - val_accuracy: 0.6386\n",
            "Epoch 39/100\n",
            "265/265 [==============================] - 2s 7ms/step - loss: 0.7581 - accuracy: 0.6544 - val_loss: 0.8477 - val_accuracy: 0.6560\n",
            "Epoch 40/100\n",
            "265/265 [==============================] - 2s 7ms/step - loss: 0.7398 - accuracy: 0.6528 - val_loss: 0.7117 - val_accuracy: 0.6513\n",
            "Epoch 41/100\n",
            "265/265 [==============================] - 2s 7ms/step - loss: 0.7221 - accuracy: 0.6678 - val_loss: 0.6968 - val_accuracy: 0.6593\n",
            "Epoch 42/100\n",
            "265/265 [==============================] - 2s 8ms/step - loss: 0.7061 - accuracy: 0.6764 - val_loss: 0.6531 - val_accuracy: 0.6807\n",
            "Epoch 43/100\n",
            "265/265 [==============================] - 2s 7ms/step - loss: 0.6962 - accuracy: 0.6736 - val_loss: 0.6531 - val_accuracy: 0.6740\n",
            "Epoch 44/100\n",
            "265/265 [==============================] - 2s 7ms/step - loss: 0.6817 - accuracy: 0.6868 - val_loss: 0.6871 - val_accuracy: 0.6787\n",
            "Epoch 45/100\n",
            "265/265 [==============================] - 2s 7ms/step - loss: 0.6599 - accuracy: 0.6892 - val_loss: 0.6986 - val_accuracy: 0.7075\n",
            "Epoch 46/100\n",
            "265/265 [==============================] - 2s 7ms/step - loss: 0.6576 - accuracy: 0.6982 - val_loss: 0.6078 - val_accuracy: 0.7001\n",
            "Epoch 47/100\n",
            "265/265 [==============================] - 2s 7ms/step - loss: 0.6325 - accuracy: 0.7099 - val_loss: 0.6135 - val_accuracy: 0.6981\n",
            "Epoch 48/100\n",
            "265/265 [==============================] - 2s 7ms/step - loss: 0.6273 - accuracy: 0.7076 - val_loss: 0.6019 - val_accuracy: 0.6827\n",
            "Epoch 49/100\n",
            "265/265 [==============================] - 2s 8ms/step - loss: 0.6109 - accuracy: 0.7143 - val_loss: 0.5872 - val_accuracy: 0.6861\n",
            "Epoch 50/100\n",
            "265/265 [==============================] - 2s 7ms/step - loss: 0.6085 - accuracy: 0.7159 - val_loss: 0.5601 - val_accuracy: 0.7229\n",
            "Epoch 51/100\n",
            "265/265 [==============================] - 2s 7ms/step - loss: 0.5921 - accuracy: 0.7275 - val_loss: 0.5441 - val_accuracy: 0.7175\n",
            "Epoch 52/100\n",
            "265/265 [==============================] - 2s 8ms/step - loss: 0.5813 - accuracy: 0.7378 - val_loss: 0.5262 - val_accuracy: 0.7323\n",
            "Epoch 53/100\n",
            "265/265 [==============================] - 2s 7ms/step - loss: 0.5637 - accuracy: 0.7392 - val_loss: 0.5206 - val_accuracy: 0.7329\n",
            "Epoch 54/100\n",
            "265/265 [==============================] - 2s 7ms/step - loss: 0.5503 - accuracy: 0.7415 - val_loss: 0.5080 - val_accuracy: 0.7309\n",
            "Epoch 55/100\n",
            "265/265 [==============================] - 2s 7ms/step - loss: 0.5462 - accuracy: 0.7449 - val_loss: 0.4935 - val_accuracy: 0.7624\n",
            "Epoch 56/100\n",
            "265/265 [==============================] - 2s 7ms/step - loss: 0.7597 - accuracy: 0.7306 - val_loss: 2.1065 - val_accuracy: 0.2932\n",
            "Epoch 57/100\n",
            "265/265 [==============================] - 2s 7ms/step - loss: 0.8208 - accuracy: 0.6188 - val_loss: 0.6063 - val_accuracy: 0.7115\n",
            "Epoch 58/100\n",
            "265/265 [==============================] - 2s 7ms/step - loss: 0.5919 - accuracy: 0.7259 - val_loss: 0.5319 - val_accuracy: 0.7316\n",
            "Epoch 59/100\n",
            "265/265 [==============================] - 2s 8ms/step - loss: 0.5552 - accuracy: 0.7409 - val_loss: 0.5639 - val_accuracy: 0.7135\n",
            "Epoch 60/100\n",
            "265/265 [==============================] - 2s 8ms/step - loss: 0.5372 - accuracy: 0.7535 - val_loss: 0.4832 - val_accuracy: 0.7718\n",
            "Epoch 61/100\n",
            "265/265 [==============================] - 2s 7ms/step - loss: 0.5166 - accuracy: 0.7618 - val_loss: 0.4644 - val_accuracy: 0.7992\n",
            "Epoch 62/100\n",
            "265/265 [==============================] - 2s 7ms/step - loss: 0.5080 - accuracy: 0.7688 - val_loss: 0.4763 - val_accuracy: 0.7497\n",
            "Epoch 63/100\n",
            "265/265 [==============================] - 2s 7ms/step - loss: 0.4913 - accuracy: 0.7769 - val_loss: 0.4912 - val_accuracy: 0.7477\n",
            "Epoch 64/100\n",
            "265/265 [==============================] - 2s 8ms/step - loss: 0.4786 - accuracy: 0.7799 - val_loss: 0.4201 - val_accuracy: 0.7965\n",
            "Epoch 65/100\n",
            "265/265 [==============================] - 2s 7ms/step - loss: 0.4956 - accuracy: 0.7874 - val_loss: 0.5929 - val_accuracy: 0.6881\n",
            "Epoch 66/100\n",
            "265/265 [==============================] - 2s 8ms/step - loss: 0.4638 - accuracy: 0.7922 - val_loss: 0.4197 - val_accuracy: 0.7818\n",
            "Epoch 67/100\n",
            "265/265 [==============================] - 2s 7ms/step - loss: 0.4524 - accuracy: 0.7996 - val_loss: 0.4660 - val_accuracy: 0.7517\n",
            "Epoch 68/100\n",
            "265/265 [==============================] - 2s 8ms/step - loss: 0.4325 - accuracy: 0.8081 - val_loss: 0.3971 - val_accuracy: 0.8199\n",
            "Epoch 69/100\n",
            "265/265 [==============================] - 2s 8ms/step - loss: 0.4264 - accuracy: 0.8111 - val_loss: 0.4034 - val_accuracy: 0.7825\n",
            "Epoch 70/100\n",
            "265/265 [==============================] - 2s 8ms/step - loss: 0.4223 - accuracy: 0.8065 - val_loss: 0.4191 - val_accuracy: 0.7724\n",
            "Epoch 71/100\n",
            "265/265 [==============================] - 2s 8ms/step - loss: 0.4053 - accuracy: 0.8210 - val_loss: 0.3911 - val_accuracy: 0.7851\n",
            "Epoch 72/100\n",
            "265/265 [==============================] - 2s 8ms/step - loss: 0.3844 - accuracy: 0.8287 - val_loss: 0.3709 - val_accuracy: 0.8112\n",
            "Epoch 73/100\n",
            "265/265 [==============================] - 2s 8ms/step - loss: 0.3776 - accuracy: 0.8374 - val_loss: 0.3804 - val_accuracy: 0.8146\n",
            "Epoch 74/100\n",
            "265/265 [==============================] - 2s 8ms/step - loss: 0.3753 - accuracy: 0.8392 - val_loss: 0.3470 - val_accuracy: 0.8293\n",
            "Epoch 75/100\n",
            "265/265 [==============================] - 2s 7ms/step - loss: 0.4307 - accuracy: 0.8215 - val_loss: 0.3538 - val_accuracy: 0.8266\n",
            "Epoch 76/100\n",
            "265/265 [==============================] - 2s 7ms/step - loss: 0.3558 - accuracy: 0.8454 - val_loss: 0.3346 - val_accuracy: 0.8561\n",
            "Epoch 77/100\n",
            "265/265 [==============================] - 2s 7ms/step - loss: 0.3420 - accuracy: 0.8521 - val_loss: 0.4197 - val_accuracy: 0.7831\n",
            "Epoch 78/100\n",
            "265/265 [==============================] - 2s 7ms/step - loss: 0.3432 - accuracy: 0.8522 - val_loss: 0.3353 - val_accuracy: 0.8414\n",
            "Epoch 79/100\n",
            "265/265 [==============================] - 2s 7ms/step - loss: 0.3282 - accuracy: 0.8629 - val_loss: 0.3927 - val_accuracy: 0.7965\n",
            "Epoch 80/100\n",
            "265/265 [==============================] - 2s 8ms/step - loss: 0.3152 - accuracy: 0.8666 - val_loss: 0.2829 - val_accuracy: 0.8708\n",
            "Epoch 81/100\n",
            "265/265 [==============================] - 2s 8ms/step - loss: 0.3434 - accuracy: 0.8570 - val_loss: 0.2811 - val_accuracy: 0.8788\n",
            "Epoch 82/100\n",
            "265/265 [==============================] - 2s 8ms/step - loss: 0.3391 - accuracy: 0.8569 - val_loss: 0.3452 - val_accuracy: 0.8507\n",
            "Epoch 83/100\n",
            "265/265 [==============================] - 2s 8ms/step - loss: 0.3011 - accuracy: 0.8733 - val_loss: 0.2975 - val_accuracy: 0.8735\n",
            "Epoch 84/100\n",
            "265/265 [==============================] - 2s 7ms/step - loss: 0.3127 - accuracy: 0.8703 - val_loss: 0.3833 - val_accuracy: 0.7992\n",
            "Epoch 85/100\n",
            "265/265 [==============================] - 2s 7ms/step - loss: 0.2800 - accuracy: 0.8831 - val_loss: 0.3385 - val_accuracy: 0.8220\n",
            "Epoch 86/100\n",
            "265/265 [==============================] - 2s 8ms/step - loss: 0.2804 - accuracy: 0.8859 - val_loss: 0.4399 - val_accuracy: 0.7738\n",
            "Epoch 87/100\n",
            "265/265 [==============================] - 2s 7ms/step - loss: 0.2531 - accuracy: 0.8992 - val_loss: 0.2838 - val_accuracy: 0.8715\n",
            "Epoch 88/100\n",
            "265/265 [==============================] - 2s 7ms/step - loss: 0.2544 - accuracy: 0.8977 - val_loss: 0.2614 - val_accuracy: 0.8842\n",
            "Epoch 89/100\n",
            "265/265 [==============================] - 2s 8ms/step - loss: 0.2688 - accuracy: 0.8946 - val_loss: 0.3116 - val_accuracy: 0.8668\n",
            "Epoch 90/100\n",
            "265/265 [==============================] - 2s 7ms/step - loss: 0.2502 - accuracy: 0.9005 - val_loss: 0.2195 - val_accuracy: 0.9123\n",
            "Epoch 91/100\n",
            "265/265 [==============================] - 2s 8ms/step - loss: 0.2275 - accuracy: 0.9091 - val_loss: 0.2860 - val_accuracy: 0.8675\n",
            "Epoch 92/100\n",
            "265/265 [==============================] - 2s 8ms/step - loss: 0.2617 - accuracy: 0.8996 - val_loss: 0.2239 - val_accuracy: 0.9076\n",
            "Epoch 93/100\n",
            "265/265 [==============================] - 2s 8ms/step - loss: 0.2174 - accuracy: 0.9135 - val_loss: 0.3496 - val_accuracy: 0.8313\n",
            "Epoch 94/100\n",
            "265/265 [==============================] - 2s 7ms/step - loss: 0.2152 - accuracy: 0.9150 - val_loss: 0.2373 - val_accuracy: 0.8996\n",
            "Epoch 95/100\n",
            "265/265 [==============================] - 2s 8ms/step - loss: 0.2038 - accuracy: 0.9194 - val_loss: 0.2093 - val_accuracy: 0.9110\n",
            "Epoch 96/100\n",
            "265/265 [==============================] - 2s 8ms/step - loss: 0.2092 - accuracy: 0.9172 - val_loss: 0.2192 - val_accuracy: 0.8976\n",
            "Epoch 97/100\n",
            "265/265 [==============================] - 2s 8ms/step - loss: 0.1854 - accuracy: 0.9287 - val_loss: 0.1900 - val_accuracy: 0.9284\n",
            "Epoch 98/100\n",
            "265/265 [==============================] - 2s 8ms/step - loss: 0.1984 - accuracy: 0.9251 - val_loss: 0.1993 - val_accuracy: 0.9163\n",
            "Epoch 99/100\n",
            "265/265 [==============================] - 2s 8ms/step - loss: 0.4583 - accuracy: 0.8781 - val_loss: 0.5306 - val_accuracy: 0.7503\n",
            "Epoch 100/100\n",
            "265/265 [==============================] - 2s 8ms/step - loss: 0.3310 - accuracy: 0.8667 - val_loss: 0.2370 - val_accuracy: 0.9150\n"
          ]
        }
      ],
      "source": [
        "history = model.fit( X_train, y_train, epochs = 100, verbose=1 ,  validation_data=(X_valid, y_valid)  )"
      ]
    },
    {
      "attachments": {},
      "cell_type": "markdown",
      "metadata": {},
      "source": [
        "# Results"
      ]
    },
    {
      "cell_type": "code",
      "execution_count": 25,
      "metadata": {
        "colab": {
          "base_uri": "https://localhost:8080/",
          "height": 590
        },
        "id": "zWwWqIMeWVuJ",
        "outputId": "0fe3999d-9e42-4706-e580-f41c7c7e57d5"
      },
      "outputs": [
        {
          "data": {
            "image/png": "[encoded data removed]",
            "text/plain": [
              "<Figure size 432x288 with 1 Axes>"
            ]
          },
          "metadata": {
            "needs_background": "light"
          },
          "output_type": "display_data"
        },
        {
          "data": {
            "text/plain": [
              "<matplotlib.legend.Legend at 0x7f272cbc65e0>"
            ]
          },
          "execution_count": 25,
          "metadata": {},
          "output_type": "execute_result"
        },
        {
          "data": {
            "image/png": "[encoded data removed]",
            "text/plain": [
              "<Figure size 432x288 with 1 Axes>"
            ]
          },
          "metadata": {
            "needs_background": "light"
          },
          "output_type": "display_data"
        }
      ],
      "source": [
        "import matplotlib.pyplot as plt\n",
        "loss = history.history['loss']\n",
        "val_loss = history.history['val_loss']\n",
        "acc = history.history['accuracy']\n",
        "val_acc = history.history['val_accuracy']\n",
        "epochs = range(1, len(loss) + 1)\n",
        "plt.plot(epochs, loss, color='green', label='Training loss')\n",
        "plt.plot(epochs, val_loss, color='blue', linestyle='dashed', label='Validation loss')\n",
        "plt.xlabel('Epochs')\n",
        "plt.ylabel('Loss')\n",
        "plt.title('Training and validation loss')\n",
        "plt.legend()\n",
        "plt.show()\n",
        "plt.figure()\n",
        "plt.plot(epochs, acc, color='green', label='Training acc')\n",
        "plt.plot(epochs, val_acc, color='blue', linestyle='dashed', label='Validation acc')\n",
        "plt.xlabel('Epochs')\n",
        "plt.ylabel('accuracy')\n",
        "plt.title('Training and validation accuracy')\n",
        "plt.legend()\n"
      ]
    },
    {
      "cell_type": "code",
      "execution_count": 26,
      "metadata": {
        "colab": {
          "base_uri": "https://localhost:8080/"
        },
        "id": "EkYh86BhWcnU",
        "outputId": "39f2d3dd-e3c6-4b60-d026-8b7e67bd5235"
      },
      "outputs": [
        {
          "name": "stdout",
          "output_type": "stream",
          "text": [
            "Train loss: 0.1597006469964981\n",
            "Train accuracy:  95.02540230751038 %\n"
          ]
        }
      ],
      "source": [
        "score = model.evaluate(X_train , y_train, verbose=0)\n",
        "\n",
        "print('Train loss:', score[0])\n",
        "print('Train accuracy: ', score[1]*100.0 ,'%')"
      ]
    },
    {
      "cell_type": "code",
      "execution_count": 27,
      "metadata": {
        "colab": {
          "base_uri": "https://localhost:8080/"
        },
        "id": "neYfPGSSWeM8",
        "outputId": "bc9bdcc8-de5d-4db8-a0fc-1fd934b31c08"
      },
      "outputs": [
        {
          "name": "stdout",
          "output_type": "stream",
          "text": [
            "Test loss: 0.4150298237800598\n",
            "Test accuracy:  88.73239159584045 %\n"
          ]
        }
      ],
      "source": [
        "score = model.evaluate(X_test , y_test, verbose=0)\n",
        "print('Test loss:', score[0])\n",
        "print('Test accuracy: ', score[1]*100.0 ,'%')"
      ]
    }
  ],
  "metadata": {
    "accelerator": "GPU",
    "colab": {
      "provenance": []
    },
    "gpuClass": "standard",
    "kernelspec": {
      "display_name": "Python 3",
      "language": "python",
      "name": "python3"
    },
    "language_info": {
      "name": "python",
      "version": "3.10.5 (tags/v3.10.5:f377153, Jun  6 2022, 16:14:13) [MSC v.1929 64 bit (AMD64)]"
    },
    "vscode": {
      "interpreter": {
        "hash": "98a70705198618b40757f4d0e0cd81e920cd534dd864d2ad541ce8c6b4f10eed"
      }
    }
  },
  "nbformat": 4,
  "nbformat_minor": 0
}
