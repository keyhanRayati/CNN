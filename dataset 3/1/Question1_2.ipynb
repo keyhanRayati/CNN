{
  "cells": [
    {
      "attachments": {},
      "cell_type": "markdown",
      "metadata": {},
      "source": [
        "# Prepare Data"
      ]
    },
    {
      "cell_type": "code",
      "execution_count": 6,
      "metadata": {
        "id": "oLe-QW3iU50o"
      },
      "outputs": [],
      "source": [
        "import numpy as np\n",
        "from tensorflow import keras\n",
        "from tensorflow.keras import layers\n",
        "from tensorflow.keras.models import Sequential\n",
        "from tensorflow.keras.layers import Flatten, Conv2D, MaxPool2D, Dense, Dropout , Input\n",
        "from tensorflow.keras.utils import to_categorical\n",
        "from tensorflow.keras.preprocessing.image import ImageDataGenerator\n",
        "from tensorflow.keras.models import load_model\n",
        "from tensorflow.keras.layers import GlobalMaxPooling2D, MaxPooling2D\n",
        "from tensorflow.keras.layers import BatchNormalization\n",
        "from tensorflow.keras.models import Model\n",
        "from tensorflow.keras import regularizers, optimizers\n",
        "from sklearn.metrics import accuracy_score\n",
        "import matplotlib.pyplot as plt\n",
        "import pandas as pd\n",
        "from PIL import Image\n",
        "import glob\n",
        "import cv2\n",
        "import keras\n",
        "import tensorflow as tf\n",
        "\n",
        "\n",
        "\n",
        "\n",
        "import warnings\n",
        "warnings.filterwarnings('ignore')"
      ]
    },
    {
      "cell_type": "code",
      "execution_count": 7,
      "metadata": {
        "id": "urQxqh7siz8p"
      },
      "outputs": [],
      "source": [
        "X_train = []\n",
        "y_train = []\n",
        "for img in glob.glob(\"/content/drive/MyDrive/datasets3/dataset2-master/dataset2-master/images/TRAIN/EOSINOPHIL/*.jpeg\"):\n",
        "    n = cv2.imread(img)\n",
        "    n = cv2.resize(n, (64,64), interpolation = cv2.INTER_AREA)\n",
        "    X_train.append(n)\n",
        "    y_train.append(0)\n",
        "\n",
        "for img in glob.glob(\"/content/drive/MyDrive/datasets3/dataset2-master/dataset2-master/images/TRAIN/LYMPHOCYTE/*.jpeg\"):\n",
        "    n = cv2.imread(img)\n",
        "    n = cv2.resize(n, (64,64), interpolation = cv2.INTER_AREA)\n",
        "    X_train.append(n)\n",
        "    y_train.append(1)\n",
        "\n",
        "\n",
        "for img in glob.glob(\"/content/drive/MyDrive/datasets3/dataset2-master/dataset2-master/images/TRAIN/MONOCYTE/*.jpeg\"):\n",
        "    n = cv2.imread(img)\n",
        "    n = cv2.resize(n, (64,64), interpolation = cv2.INTER_AREA)\n",
        "    X_train.append(n)\n",
        "    y_train.append(2)\n",
        "\n",
        "for img in glob.glob(\"/content/drive/MyDrive/datasets3/dataset2-master/dataset2-master/images/TRAIN/NEUTROPHIL/*.jpeg\"):\n",
        "    n = cv2.imread(img)\n",
        "    n = cv2.resize(n, (64,64), interpolation = cv2.INTER_AREA)\n",
        "    X_train.append(n)\n",
        "    y_train.append(3)"
      ]
    },
    {
      "cell_type": "code",
      "execution_count": 8,
      "metadata": {
        "id": "xFj590IYlDIe"
      },
      "outputs": [],
      "source": [
        "X_test = []\n",
        "y_test = []\n",
        "for img in glob.glob(\"/content/drive/MyDrive/datasets3/dataset2-master/dataset2-master/images/TEST_SIMPLE/EOSINOPHIL/*.jpeg\"):\n",
        "    n = cv2.imread(img)\n",
        "    n = cv2.resize(n, (64,64), interpolation = cv2.INTER_AREA)\n",
        "    X_test.append(n)\n",
        "    y_test.append(0)\n",
        "\n",
        "for img in glob.glob(\"/content/drive/MyDrive/datasets3/dataset2-master/dataset2-master/images/TEST_SIMPLE/LYMPHOCYTE/*.jpeg\"):\n",
        "    n = cv2.imread(img)\n",
        "    n = cv2.resize(n, (64,64), interpolation = cv2.INTER_AREA)\n",
        "    X_test.append(n)\n",
        "    y_test.append(1)\n",
        "\n",
        "\n",
        "for img in glob.glob(\"/content/drive/MyDrive/datasets3/dataset2-master/dataset2-master/images/TEST_SIMPLE/MONOCYTE/*.jpeg\"):\n",
        "    n = cv2.imread(img)\n",
        "    n = cv2.resize(n, (64,64), interpolation = cv2.INTER_AREA)\n",
        "    X_test.append(n)\n",
        "    y_test.append(2)\n",
        "\n",
        "for img in glob.glob(\"/content/drive/MyDrive/datasets3/dataset2-master/dataset2-master/images/TEST_SIMPLE/NEUTROPHIL/*.jpeg\"):\n",
        "    n = cv2.imread(img)\n",
        "    n = cv2.resize(n, (64,64), interpolation = cv2.INTER_AREA)\n",
        "    X_test.append(n)\n",
        "    y_test.append(3)\n"
      ]
    },
    {
      "cell_type": "code",
      "execution_count": 9,
      "metadata": {
        "colab": {
          "base_uri": "https://localhost:8080/"
        },
        "id": "pnKl_gFmNaU2",
        "outputId": "f95cf7f2-ac82-410d-c7f7-29839b8e76b0"
      },
      "outputs": [
        {
          "name": "stdout",
          "output_type": "stream",
          "text": [
            "2499\n"
          ]
        }
      ],
      "source": [
        "# 0 : 2497\n",
        "# 1 : 2483\n",
        "# 2 : 2478\n",
        "# 3 : 2499\n",
        "\n",
        "sum=0\n",
        "for i in y_train:\n",
        "  if i == 3:\n",
        "    sum+=1\n",
        "print(sum )"
      ]
    },
    {
      "cell_type": "code",
      "execution_count": 10,
      "metadata": {
        "id": "QxeuAP8DmmJb"
      },
      "outputs": [],
      "source": [
        "X_train = np.array(X_train)/255\n",
        "X_test = np.array(X_test)/255\n",
        "y_train = np.array(y_train)\n",
        "y_test = np.array(y_test)"
      ]
    },
    {
      "cell_type": "code",
      "execution_count": 11,
      "metadata": {
        "id": "MiutseSVm-dH"
      },
      "outputs": [],
      "source": [
        "from tensorflow.keras.layers import GlobalMaxPooling2D, MaxPooling2D\n"
      ]
    },
    {
      "attachments": {},
      "cell_type": "markdown",
      "metadata": {},
      "source": [
        "# bulding model"
      ]
    },
    {
      "cell_type": "code",
      "execution_count": 12,
      "metadata": {
        "id": "CaCKsxXmWFXv"
      },
      "outputs": [],
      "source": [
        "model = Sequential()\n",
        "model.add(Conv2D(32, 3, input_shape=(64,64,3) , activation='relu'))\n",
        "model.add(MaxPooling2D(pool_size=2))\n",
        "model.add(Conv2D(64, 3,activation='relu'))\n",
        "model.add(MaxPooling2D(pool_size=2))\n",
        "model.add(Conv2D(128, 3, activation='relu'))\n",
        "model.add(MaxPooling2D(pool_size=2))\n",
        "model.add(Conv2D(256, 3, activation='relu'))\n",
        "model.add(MaxPooling2D(pool_size=2))\n",
        "model.add(Flatten())\n",
        "model.add(Dropout(0.5))\n",
        "model.add(Dense(512, activation='relu'))\n",
        "model.add(Dense(256, activation='relu'))\n",
        "model.add(Dense(4, activation='softmax'))\n",
        "# optimizer = tf.keras.optimizers.Adam(0.00001)\n",
        "\n",
        "model.compile(loss='sparse_categorical_crossentropy',optimizer='SGD',metrics=['accuracy'])"
      ]
    },
    {
      "cell_type": "code",
      "execution_count": 13,
      "metadata": {
        "colab": {
          "base_uri": "https://localhost:8080/"
        },
        "id": "aPgTBODZWK1E",
        "outputId": "4e678d80-7b3c-4ea6-d98e-d3ddaae5483c"
      },
      "outputs": [
        {
          "name": "stdout",
          "output_type": "stream",
          "text": [
            "Model: \"sequential\"\n",
            "_________________________________________________________________\n",
            " Layer (type)                Output Shape              Param #   \n",
            "=================================================================\n",
            " conv2d (Conv2D)             (None, 62, 62, 32)        896       \n",
            "                                                                 \n",
            " max_pooling2d (MaxPooling2D  (None, 31, 31, 32)       0         \n",
            " )                                                               \n",
            "                                                                 \n",
            " conv2d_1 (Conv2D)           (None, 29, 29, 64)        18496     \n",
            "                                                                 \n",
            " max_pooling2d_1 (MaxPooling  (None, 14, 14, 64)       0         \n",
            " 2D)                                                             \n",
            "                                                                 \n",
            " conv2d_2 (Conv2D)           (None, 12, 12, 128)       73856     \n",
            "                                                                 \n",
            " max_pooling2d_2 (MaxPooling  (None, 6, 6, 128)        0         \n",
            " 2D)                                                             \n",
            "                                                                 \n",
            " conv2d_3 (Conv2D)           (None, 4, 4, 256)         295168    \n",
            "                                                                 \n",
            " max_pooling2d_3 (MaxPooling  (None, 2, 2, 256)        0         \n",
            " 2D)                                                             \n",
            "                                                                 \n",
            " flatten (Flatten)           (None, 1024)              0         \n",
            "                                                                 \n",
            " dropout (Dropout)           (None, 1024)              0         \n",
            "                                                                 \n",
            " dense (Dense)               (None, 512)               524800    \n",
            "                                                                 \n",
            " dense_1 (Dense)             (None, 256)               131328    \n",
            "                                                                 \n",
            " dense_2 (Dense)             (None, 4)                 1028      \n",
            "                                                                 \n",
            "=================================================================\n",
            "Total params: 1,045,572\n",
            "Trainable params: 1,045,572\n",
            "Non-trainable params: 0\n",
            "_________________________________________________________________\n"
          ]
        }
      ],
      "source": [
        "model.summary() "
      ]
    },
    {
      "attachments": {},
      "cell_type": "markdown",
      "metadata": {},
      "source": [
        "# Split data into Train and Validation"
      ]
    },
    {
      "cell_type": "code",
      "execution_count": 14,
      "metadata": {
        "id": "hIECdT14RClP"
      },
      "outputs": [],
      "source": [
        "from sklearn.model_selection import train_test_split\n",
        "X_train, X_valid, y_train, y_valid = train_test_split(X_train, y_train, test_size=0.15, random_state=42)"
      ]
    },
    {
      "attachments": {},
      "cell_type": "markdown",
      "metadata": {},
      "source": [
        "# train the Model"
      ]
    },
    {
      "cell_type": "code",
      "execution_count": 15,
      "metadata": {
        "colab": {
          "base_uri": "https://localhost:8080/"
        },
        "id": "yDI0_pXFWNCR",
        "outputId": "6ee6699b-556d-4ad9-beee-56e51ad4d3e7"
      },
      "outputs": [
        {
          "name": "stdout",
          "output_type": "stream",
          "text": [
            "Epoch 1/100\n",
            "265/265 [==============================] - 12s 11ms/step - loss: 1.3871 - accuracy: 0.2475 - val_loss: 1.3871 - val_accuracy: 0.2363\n",
            "Epoch 2/100\n",
            "265/265 [==============================] - 3s 10ms/step - loss: 1.3866 - accuracy: 0.2488 - val_loss: 1.3860 - val_accuracy: 0.3066\n",
            "Epoch 3/100\n",
            "265/265 [==============================] - 2s 8ms/step - loss: 1.3862 - accuracy: 0.2477 - val_loss: 1.3857 - val_accuracy: 0.2738\n",
            "Epoch 4/100\n",
            "265/265 [==============================] - 2s 8ms/step - loss: 1.3864 - accuracy: 0.2472 - val_loss: 1.3854 - val_accuracy: 0.2550\n",
            "Epoch 5/100\n",
            "265/265 [==============================] - 2s 7ms/step - loss: 1.3861 - accuracy: 0.2561 - val_loss: 1.3857 - val_accuracy: 0.2550\n",
            "Epoch 6/100\n",
            "265/265 [==============================] - 2s 7ms/step - loss: 1.3855 - accuracy: 0.2617 - val_loss: 1.3861 - val_accuracy: 0.2363\n",
            "Epoch 7/100\n",
            "265/265 [==============================] - 2s 7ms/step - loss: 1.3854 - accuracy: 0.2636 - val_loss: 1.3853 - val_accuracy: 0.2363\n",
            "Epoch 8/100\n",
            "265/265 [==============================] - 2s 7ms/step - loss: 1.3848 - accuracy: 0.2644 - val_loss: 1.3850 - val_accuracy: 0.2363\n",
            "Epoch 9/100\n",
            "265/265 [==============================] - 2s 7ms/step - loss: 1.3850 - accuracy: 0.2657 - val_loss: 1.3842 - val_accuracy: 0.2423\n",
            "Epoch 10/100\n",
            "265/265 [==============================] - 2s 7ms/step - loss: 1.3846 - accuracy: 0.2654 - val_loss: 1.3833 - val_accuracy: 0.2999\n",
            "Epoch 11/100\n",
            "265/265 [==============================] - 2s 8ms/step - loss: 1.3837 - accuracy: 0.2704 - val_loss: 1.3823 - val_accuracy: 0.3280\n",
            "Epoch 12/100\n",
            "265/265 [==============================] - 2s 7ms/step - loss: 1.3825 - accuracy: 0.2845 - val_loss: 1.3834 - val_accuracy: 0.2363\n",
            "Epoch 13/100\n",
            "265/265 [==============================] - 2s 8ms/step - loss: 1.3813 - accuracy: 0.2959 - val_loss: 1.3789 - val_accuracy: 0.2617\n",
            "Epoch 14/100\n",
            "265/265 [==============================] - 2s 8ms/step - loss: 1.3798 - accuracy: 0.2917 - val_loss: 1.3931 - val_accuracy: 0.2363\n",
            "Epoch 15/100\n",
            "265/265 [==============================] - 2s 7ms/step - loss: 1.3766 - accuracy: 0.3020 - val_loss: 1.3732 - val_accuracy: 0.2959\n",
            "Epoch 16/100\n",
            "265/265 [==============================] - 2s 8ms/step - loss: 1.3706 - accuracy: 0.3215 - val_loss: 1.3669 - val_accuracy: 0.2898\n",
            "Epoch 17/100\n",
            "265/265 [==============================] - 2s 7ms/step - loss: 1.3587 - accuracy: 0.3330 - val_loss: 1.3518 - val_accuracy: 0.3394\n",
            "Epoch 18/100\n",
            "265/265 [==============================] - 2s 7ms/step - loss: 1.3418 - accuracy: 0.3462 - val_loss: 1.3664 - val_accuracy: 0.3005\n",
            "Epoch 19/100\n",
            "265/265 [==============================] - 2s 7ms/step - loss: 1.3156 - accuracy: 0.3678 - val_loss: 1.4197 - val_accuracy: 0.2550\n",
            "Epoch 20/100\n",
            "265/265 [==============================] - 2s 7ms/step - loss: 1.2868 - accuracy: 0.3837 - val_loss: 1.3076 - val_accuracy: 0.3849\n",
            "Epoch 21/100\n",
            "265/265 [==============================] - 2s 8ms/step - loss: 1.2590 - accuracy: 0.4033 - val_loss: 1.3645 - val_accuracy: 0.3373\n",
            "Epoch 22/100\n",
            "265/265 [==============================] - 2s 7ms/step - loss: 1.2039 - accuracy: 0.4446 - val_loss: 1.3153 - val_accuracy: 0.3668\n",
            "Epoch 23/100\n",
            "265/265 [==============================] - 2s 7ms/step - loss: 1.1483 - accuracy: 0.4658 - val_loss: 1.0596 - val_accuracy: 0.5515\n",
            "Epoch 24/100\n",
            "265/265 [==============================] - 2s 7ms/step - loss: 1.0884 - accuracy: 0.4982 - val_loss: 1.0182 - val_accuracy: 0.5549\n",
            "Epoch 25/100\n",
            "265/265 [==============================] - 2s 8ms/step - loss: 1.0433 - accuracy: 0.5217 - val_loss: 1.1155 - val_accuracy: 0.4685\n",
            "Epoch 26/100\n",
            "265/265 [==============================] - 2s 8ms/step - loss: 1.0090 - accuracy: 0.5401 - val_loss: 0.9045 - val_accuracy: 0.6305\n",
            "Epoch 27/100\n",
            "265/265 [==============================] - 2s 8ms/step - loss: 0.9591 - accuracy: 0.5590 - val_loss: 1.0047 - val_accuracy: 0.5120\n",
            "Epoch 28/100\n",
            "265/265 [==============================] - 2s 7ms/step - loss: 0.9241 - accuracy: 0.5775 - val_loss: 1.0806 - val_accuracy: 0.5268\n",
            "Epoch 29/100\n",
            "265/265 [==============================] - 2s 8ms/step - loss: 0.8961 - accuracy: 0.6053 - val_loss: 1.1064 - val_accuracy: 0.4826\n",
            "Epoch 30/100\n",
            "265/265 [==============================] - 2s 8ms/step - loss: 0.8772 - accuracy: 0.6065 - val_loss: 0.8383 - val_accuracy: 0.6399\n",
            "Epoch 31/100\n",
            "265/265 [==============================] - 2s 8ms/step - loss: 0.8129 - accuracy: 0.6300 - val_loss: 0.9421 - val_accuracy: 0.5509\n",
            "Epoch 32/100\n",
            "265/265 [==============================] - 2s 7ms/step - loss: 0.7811 - accuracy: 0.6518 - val_loss: 0.6924 - val_accuracy: 0.7108\n",
            "Epoch 33/100\n",
            "265/265 [==============================] - 2s 7ms/step - loss: 0.7718 - accuracy: 0.6547 - val_loss: 0.6415 - val_accuracy: 0.7296\n",
            "Epoch 34/100\n",
            "265/265 [==============================] - 2s 7ms/step - loss: 0.7347 - accuracy: 0.6721 - val_loss: 0.6296 - val_accuracy: 0.7075\n",
            "Epoch 35/100\n",
            "265/265 [==============================] - 2s 8ms/step - loss: 0.6884 - accuracy: 0.6969 - val_loss: 0.6393 - val_accuracy: 0.7242\n",
            "Epoch 36/100\n",
            "265/265 [==============================] - 2s 8ms/step - loss: 0.8722 - accuracy: 0.5916 - val_loss: 1.1229 - val_accuracy: 0.5027\n",
            "Epoch 37/100\n",
            "265/265 [==============================] - 2s 8ms/step - loss: 0.7626 - accuracy: 0.6656 - val_loss: 0.6372 - val_accuracy: 0.6934\n",
            "Epoch 38/100\n",
            "265/265 [==============================] - 2s 8ms/step - loss: 0.6579 - accuracy: 0.7195 - val_loss: 1.2611 - val_accuracy: 0.4766\n",
            "Epoch 39/100\n",
            "265/265 [==============================] - 2s 8ms/step - loss: 0.6817 - accuracy: 0.7074 - val_loss: 0.8459 - val_accuracy: 0.5964\n",
            "Epoch 40/100\n",
            "265/265 [==============================] - 2s 7ms/step - loss: 0.5970 - accuracy: 0.7423 - val_loss: 0.5170 - val_accuracy: 0.7711\n",
            "Epoch 41/100\n",
            "265/265 [==============================] - 2s 8ms/step - loss: 0.5547 - accuracy: 0.7607 - val_loss: 0.4554 - val_accuracy: 0.8153\n",
            "Epoch 42/100\n",
            "265/265 [==============================] - 2s 8ms/step - loss: 0.5539 - accuracy: 0.7581 - val_loss: 0.9336 - val_accuracy: 0.5803\n",
            "Epoch 43/100\n",
            "265/265 [==============================] - 2s 7ms/step - loss: 0.4937 - accuracy: 0.7917 - val_loss: 0.4502 - val_accuracy: 0.7878\n",
            "Epoch 44/100\n",
            "265/265 [==============================] - 2s 7ms/step - loss: 0.4826 - accuracy: 0.7978 - val_loss: 0.5188 - val_accuracy: 0.7758\n",
            "Epoch 45/100\n",
            "265/265 [==============================] - 2s 7ms/step - loss: 0.5088 - accuracy: 0.7913 - val_loss: 1.5304 - val_accuracy: 0.4378\n",
            "Epoch 46/100\n",
            "265/265 [==============================] - 2s 8ms/step - loss: 0.4505 - accuracy: 0.8094 - val_loss: 0.5115 - val_accuracy: 0.7463\n",
            "Epoch 47/100\n",
            "265/265 [==============================] - 2s 8ms/step - loss: 0.6261 - accuracy: 0.7320 - val_loss: 0.4692 - val_accuracy: 0.7885\n",
            "Epoch 48/100\n",
            "265/265 [==============================] - 2s 8ms/step - loss: 0.5384 - accuracy: 0.7686 - val_loss: 0.4265 - val_accuracy: 0.8086\n",
            "Epoch 49/100\n",
            "265/265 [==============================] - 2s 7ms/step - loss: 0.4977 - accuracy: 0.7894 - val_loss: 0.4943 - val_accuracy: 0.8052\n",
            "Epoch 50/100\n",
            "265/265 [==============================] - 2s 8ms/step - loss: 0.5131 - accuracy: 0.7818 - val_loss: 0.3377 - val_accuracy: 0.8481\n",
            "Epoch 51/100\n",
            "265/265 [==============================] - 2s 8ms/step - loss: 0.4080 - accuracy: 0.8246 - val_loss: 0.3756 - val_accuracy: 0.8139\n",
            "Epoch 52/100\n",
            "265/265 [==============================] - 2s 8ms/step - loss: 0.4044 - accuracy: 0.8294 - val_loss: 0.3401 - val_accuracy: 0.8548\n",
            "Epoch 53/100\n",
            "265/265 [==============================] - 2s 7ms/step - loss: 0.3525 - accuracy: 0.8488 - val_loss: 0.4195 - val_accuracy: 0.8012\n",
            "Epoch 54/100\n",
            "265/265 [==============================] - 2s 7ms/step - loss: 0.3732 - accuracy: 0.8443 - val_loss: 0.5491 - val_accuracy: 0.7751\n",
            "Epoch 55/100\n",
            "265/265 [==============================] - 2s 7ms/step - loss: 0.3274 - accuracy: 0.8633 - val_loss: 0.3736 - val_accuracy: 0.8360\n",
            "Epoch 56/100\n",
            "265/265 [==============================] - 2s 8ms/step - loss: 0.3539 - accuracy: 0.8493 - val_loss: 0.4303 - val_accuracy: 0.8347\n",
            "Epoch 57/100\n",
            "265/265 [==============================] - 2s 8ms/step - loss: 0.4039 - accuracy: 0.8316 - val_loss: 0.2830 - val_accuracy: 0.8795\n",
            "Epoch 58/100\n",
            "265/265 [==============================] - 2s 8ms/step - loss: 0.2836 - accuracy: 0.8814 - val_loss: 0.2566 - val_accuracy: 0.8949\n",
            "Epoch 59/100\n",
            "265/265 [==============================] - 2s 8ms/step - loss: 0.5011 - accuracy: 0.7925 - val_loss: 0.4238 - val_accuracy: 0.8260\n",
            "Epoch 60/100\n",
            "265/265 [==============================] - 2s 7ms/step - loss: 0.2801 - accuracy: 0.8797 - val_loss: 0.2666 - val_accuracy: 0.8768\n",
            "Epoch 61/100\n",
            "265/265 [==============================] - 2s 8ms/step - loss: 0.2719 - accuracy: 0.8853 - val_loss: 0.2405 - val_accuracy: 0.9003\n",
            "Epoch 62/100\n",
            "265/265 [==============================] - 2s 7ms/step - loss: 0.2541 - accuracy: 0.8963 - val_loss: 0.2621 - val_accuracy: 0.8909\n",
            "Epoch 63/100\n",
            "265/265 [==============================] - 2s 7ms/step - loss: 0.2905 - accuracy: 0.8866 - val_loss: 0.8393 - val_accuracy: 0.5977\n",
            "Epoch 64/100\n",
            "265/265 [==============================] - 2s 7ms/step - loss: 0.3171 - accuracy: 0.8714 - val_loss: 0.2157 - val_accuracy: 0.9157\n",
            "Epoch 65/100\n",
            "265/265 [==============================] - 2s 7ms/step - loss: 0.2203 - accuracy: 0.9107 - val_loss: 0.1999 - val_accuracy: 0.9250\n",
            "Epoch 66/100\n",
            "265/265 [==============================] - 2s 8ms/step - loss: 0.1873 - accuracy: 0.9245 - val_loss: 0.2143 - val_accuracy: 0.9116\n",
            "Epoch 67/100\n",
            "265/265 [==============================] - 2s 8ms/step - loss: 0.1804 - accuracy: 0.9295 - val_loss: 0.2079 - val_accuracy: 0.9096\n",
            "Epoch 68/100\n",
            "265/265 [==============================] - 2s 7ms/step - loss: 0.1838 - accuracy: 0.9297 - val_loss: 0.1638 - val_accuracy: 0.9317\n",
            "Epoch 69/100\n",
            "265/265 [==============================] - 2s 7ms/step - loss: 0.1652 - accuracy: 0.9363 - val_loss: 0.1818 - val_accuracy: 0.9250\n",
            "Epoch 70/100\n",
            "265/265 [==============================] - 2s 8ms/step - loss: 0.1674 - accuracy: 0.9343 - val_loss: 1.3742 - val_accuracy: 0.7075\n",
            "Epoch 71/100\n",
            "265/265 [==============================] - 2s 8ms/step - loss: 0.1865 - accuracy: 0.9315 - val_loss: 0.1849 - val_accuracy: 0.9163\n",
            "Epoch 72/100\n",
            "265/265 [==============================] - 2s 8ms/step - loss: 0.1381 - accuracy: 0.9466 - val_loss: 0.1459 - val_accuracy: 0.9418\n",
            "Epoch 73/100\n",
            "265/265 [==============================] - 2s 7ms/step - loss: 0.1267 - accuracy: 0.9533 - val_loss: 0.1402 - val_accuracy: 0.9471\n",
            "Epoch 74/100\n",
            "265/265 [==============================] - 2s 7ms/step - loss: 0.1210 - accuracy: 0.9536 - val_loss: 0.1345 - val_accuracy: 0.9465\n",
            "Epoch 75/100\n",
            "265/265 [==============================] - 2s 7ms/step - loss: 0.1529 - accuracy: 0.9454 - val_loss: 0.1483 - val_accuracy: 0.9404\n",
            "Epoch 76/100\n",
            "265/265 [==============================] - 2s 7ms/step - loss: 0.1091 - accuracy: 0.9584 - val_loss: 0.1230 - val_accuracy: 0.9565\n",
            "Epoch 77/100\n",
            "265/265 [==============================] - 2s 7ms/step - loss: 0.4329 - accuracy: 0.8521 - val_loss: 0.3071 - val_accuracy: 0.8788\n",
            "Epoch 78/100\n",
            "265/265 [==============================] - 2s 7ms/step - loss: 0.2209 - accuracy: 0.9175 - val_loss: 0.2302 - val_accuracy: 0.9003\n",
            "Epoch 79/100\n",
            "265/265 [==============================] - 2s 7ms/step - loss: 0.1494 - accuracy: 0.9455 - val_loss: 0.1431 - val_accuracy: 0.9478\n",
            "Epoch 80/100\n",
            "265/265 [==============================] - 2s 7ms/step - loss: 0.1235 - accuracy: 0.9543 - val_loss: 0.2003 - val_accuracy: 0.9043\n",
            "Epoch 81/100\n",
            "265/265 [==============================] - 2s 8ms/step - loss: 0.1053 - accuracy: 0.9622 - val_loss: 0.1326 - val_accuracy: 0.9505\n",
            "Epoch 82/100\n",
            "265/265 [==============================] - 2s 8ms/step - loss: 0.0934 - accuracy: 0.9661 - val_loss: 0.1281 - val_accuracy: 0.9538\n",
            "Epoch 83/100\n",
            "265/265 [==============================] - 2s 8ms/step - loss: 0.0939 - accuracy: 0.9641 - val_loss: 0.3243 - val_accuracy: 0.8648\n",
            "Epoch 84/100\n",
            "265/265 [==============================] - 2s 8ms/step - loss: 0.0829 - accuracy: 0.9705 - val_loss: 0.1244 - val_accuracy: 0.9525\n",
            "Epoch 85/100\n",
            "265/265 [==============================] - 2s 8ms/step - loss: 0.0732 - accuracy: 0.9754 - val_loss: 0.1096 - val_accuracy: 0.9525\n",
            "Epoch 86/100\n",
            "265/265 [==============================] - 2s 7ms/step - loss: 0.0986 - accuracy: 0.9653 - val_loss: 0.1227 - val_accuracy: 0.9498\n",
            "Epoch 87/100\n",
            "265/265 [==============================] - 2s 8ms/step - loss: 0.0854 - accuracy: 0.9740 - val_loss: 0.8000 - val_accuracy: 0.6600\n",
            "Epoch 88/100\n",
            "265/265 [==============================] - 2s 7ms/step - loss: 0.0841 - accuracy: 0.9712 - val_loss: 0.1199 - val_accuracy: 0.9518\n",
            "Epoch 89/100\n",
            "265/265 [==============================] - 2s 8ms/step - loss: 0.2132 - accuracy: 0.9300 - val_loss: 0.3810 - val_accuracy: 0.8420\n",
            "Epoch 90/100\n",
            "265/265 [==============================] - 2s 8ms/step - loss: 0.0807 - accuracy: 0.9718 - val_loss: 0.1615 - val_accuracy: 0.9351\n",
            "Epoch 91/100\n",
            "265/265 [==============================] - 2s 8ms/step - loss: 0.0723 - accuracy: 0.9755 - val_loss: 0.1054 - val_accuracy: 0.9572\n",
            "Epoch 92/100\n",
            "265/265 [==============================] - 2s 8ms/step - loss: 0.0617 - accuracy: 0.9791 - val_loss: 0.1062 - val_accuracy: 0.9572\n",
            "Epoch 93/100\n",
            "265/265 [==============================] - 2s 8ms/step - loss: 0.0472 - accuracy: 0.9856 - val_loss: 0.0943 - val_accuracy: 0.9632\n",
            "Epoch 94/100\n",
            "265/265 [==============================] - 2s 7ms/step - loss: 0.0691 - accuracy: 0.9772 - val_loss: 0.1083 - val_accuracy: 0.9572\n",
            "Epoch 95/100\n",
            "265/265 [==============================] - 2s 7ms/step - loss: 0.0770 - accuracy: 0.9749 - val_loss: 0.1178 - val_accuracy: 0.9545\n",
            "Epoch 96/100\n",
            "265/265 [==============================] - 2s 8ms/step - loss: 0.0489 - accuracy: 0.9835 - val_loss: 0.1241 - val_accuracy: 0.9525\n",
            "Epoch 97/100\n",
            "265/265 [==============================] - 2s 7ms/step - loss: 0.0456 - accuracy: 0.9844 - val_loss: 0.1144 - val_accuracy: 0.9585\n",
            "Epoch 98/100\n",
            "265/265 [==============================] - 2s 7ms/step - loss: 0.0425 - accuracy: 0.9857 - val_loss: 0.1199 - val_accuracy: 0.9505\n",
            "Epoch 99/100\n",
            "265/265 [==============================] - 2s 8ms/step - loss: 0.0386 - accuracy: 0.9871 - val_loss: 0.1135 - val_accuracy: 0.9592\n",
            "Epoch 100/100\n",
            "265/265 [==============================] - 2s 8ms/step - loss: 0.0403 - accuracy: 0.9877 - val_loss: 0.1080 - val_accuracy: 0.9585\n"
          ]
        }
      ],
      "source": [
        "history = model.fit( X_train, y_train, epochs = 100, verbose=1 ,  validation_data=(X_valid, y_valid)  )"
      ]
    },
    {
      "attachments": {},
      "cell_type": "markdown",
      "metadata": {},
      "source": [
        "# Results"
      ]
    },
    {
      "cell_type": "code",
      "execution_count": 19,
      "metadata": {
        "colab": {
          "base_uri": "https://localhost:8080/",
          "height": 590
        },
        "id": "zWwWqIMeWVuJ",
        "outputId": "da9c70a4-c77e-49ee-ceee-ec216a5c3386"
      },
      "outputs": [
        {
          "data": {
            "image/png": "[encoded data removed]",
            "text/plain": [
              "<Figure size 432x288 with 1 Axes>"
            ]
          },
          "metadata": {
            "needs_background": "light"
          },
          "output_type": "display_data"
        },
        {
          "data": {
            "text/plain": [
              "<matplotlib.legend.Legend at 0x7f2742098220>"
            ]
          },
          "execution_count": 19,
          "metadata": {},
          "output_type": "execute_result"
        },
        {
          "data": {
            "image/png": "[encoded data removed]",
            "text/plain": [
              "<Figure size 432x288 with 1 Axes>"
            ]
          },
          "metadata": {
            "needs_background": "light"
          },
          "output_type": "display_data"
        }
      ],
      "source": [
        "import matplotlib.pyplot as plt\n",
        "loss = history.history['loss']\n",
        "val_loss = history.history['val_loss']\n",
        "acc = history.history['accuracy']\n",
        "val_acc = history.history['val_accuracy']\n",
        "epochs = range(1, len(loss) + 1)\n",
        "plt.plot(epochs, loss, color='green', label='Training loss')\n",
        "plt.plot(epochs, val_loss, color='blue', linestyle='dashed', label='Validation loss')\n",
        "plt.xlabel('Epochs')\n",
        "plt.ylabel('Loss')\n",
        "plt.title('Training and validation loss')\n",
        "plt.legend()\n",
        "plt.show()\n",
        "plt.figure()\n",
        "plt.plot(epochs, acc, color='green', label='Training acc')\n",
        "plt.plot(epochs, val_acc, color='blue', linestyle='dashed', label='Validation acc')\n",
        "plt.xlabel('Epochs')\n",
        "plt.ylabel('accuracy')\n",
        "plt.title('Training and validation accuracy')\n",
        "plt.legend()\n"
      ]
    },
    {
      "cell_type": "code",
      "execution_count": 20,
      "metadata": {
        "colab": {
          "base_uri": "https://localhost:8080/"
        },
        "id": "EkYh86BhWcnU",
        "outputId": "decd0365-e36a-44fb-94f8-5aeda6327e5e"
      },
      "outputs": [
        {
          "name": "stdout",
          "output_type": "stream",
          "text": [
            "Train loss: 0.00756687019020319\n",
            "Train accuracy:  99.96455311775208 %\n"
          ]
        }
      ],
      "source": [
        "score = model.evaluate(X_train , y_train, verbose=0)\n",
        "\n",
        "print('Train loss:', score[0])\n",
        "print('Train accuracy: ', score[1]*100.0 ,'%')"
      ]
    },
    {
      "cell_type": "code",
      "execution_count": 21,
      "metadata": {
        "colab": {
          "base_uri": "https://localhost:8080/"
        },
        "id": "neYfPGSSWeM8",
        "outputId": "4836fe47-23a7-48d8-f0e5-b656d95fc731"
      },
      "outputs": [
        {
          "name": "stdout",
          "output_type": "stream",
          "text": [
            "Test loss: 0.27433905005455017\n",
            "Test accuracy:  85.91549396514893 %\n"
          ]
        }
      ],
      "source": [
        "score = model.evaluate(X_test , y_test, verbose=0)\n",
        "print('Test loss:', score[0])\n",
        "print('Test accuracy: ', score[1]*100.0 ,'%')"
      ]
    }
  ],
  "metadata": {
    "accelerator": "GPU",
    "colab": {
      "provenance": []
    },
    "gpuClass": "standard",
    "kernelspec": {
      "display_name": "Python 3",
      "language": "python",
      "name": "python3"
    },
    "language_info": {
      "name": "python",
      "version": "3.10.5 (tags/v3.10.5:f377153, Jun  6 2022, 16:14:13) [MSC v.1929 64 bit (AMD64)]"
    },
    "vscode": {
      "interpreter": {
        "hash": "98a70705198618b40757f4d0e0cd81e920cd534dd864d2ad541ce8c6b4f10eed"
      }
    }
  },
  "nbformat": 4,
  "nbformat_minor": 0
}
