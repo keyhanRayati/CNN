{
  "cells": [
    {
      "cell_type": "code",
      "execution_count": 9,
      "metadata": {
        "id": "oLe-QW3iU50o"
      },
      "outputs": [],
      "source": [
        "import numpy as np\n",
        "from tensorflow import keras\n",
        "from tensorflow.keras import layers\n",
        "from tensorflow.keras.models import Sequential\n",
        "from tensorflow.keras.layers import Flatten, Conv2D, MaxPool2D, Dense, Dropout , Input\n",
        "from tensorflow.keras.utils import to_categorical\n",
        "from tensorflow.keras.preprocessing.image import ImageDataGenerator\n",
        "from tensorflow.keras.models import load_model\n",
        "from tensorflow.keras.layers import GlobalMaxPooling2D, MaxPooling2D\n",
        "from tensorflow.keras.layers import BatchNormalization\n",
        "from tensorflow.keras.models import Model\n",
        "from tensorflow.keras import regularizers, optimizers\n",
        "from sklearn.metrics import accuracy_score\n",
        "import matplotlib.pyplot as plt\n",
        "import pandas as pd\n",
        "from PIL import Image\n",
        "import glob\n",
        "import cv2\n",
        "import keras\n",
        "import tensorflow as tf\n",
        "\n",
        "\n",
        "\n",
        "\n",
        "import warnings\n",
        "warnings.filterwarnings('ignore')"
      ]
    },
    {
      "attachments": {},
      "cell_type": "markdown",
      "metadata": {},
      "source": [
        "# Prepare and load data Train"
      ]
    },
    {
      "cell_type": "code",
      "execution_count": 10,
      "metadata": {
        "id": "Z2SmjZATU___"
      },
      "outputs": [],
      "source": [
        "X_train = []\n",
        "y_train = []\n",
        "for img in glob.glob(\"/content/drive/MyDrive/datasets2/Covid19-dataset/train/Covid/*.jpeg\"):\n",
        "    n = cv2.imread(img)\n",
        "    n = cv2.resize(n, (64,64), interpolation = cv2.INTER_AREA)\n",
        "    X_train.append(n)\n",
        "    y_train.append( 0)\n",
        "\n",
        "for img in glob.glob(\"/content/drive/MyDrive/datasets2/Covid19-dataset/train/Normal/*.jpeg\"):\n",
        "    n = cv2.imread(img)\n",
        "    n = cv2.resize(n, (64,64), interpolation = cv2.INTER_AREA)\n",
        "    X_train.append(n)\n",
        "    y_train.append( 1)\n",
        "\n",
        "\n",
        "for img in glob.glob(r\"/content/drive/MyDrive/datasets2/Covid19-dataset/train/Viral Pneumonia/*.jpeg\"):\n",
        "    n = cv2.imread(img)\n",
        "    n = cv2.resize(n, (64,64), interpolation = cv2.INTER_AREA)\n",
        "    X_train.append(n)\n",
        "    y_train.append( 2)"
      ]
    },
    {
      "attachments": {},
      "cell_type": "markdown",
      "metadata": {},
      "source": [
        "# Prepare and load data Test"
      ]
    },
    {
      "cell_type": "code",
      "execution_count": 15,
      "metadata": {
        "id": "zfafq9_cVTlA"
      },
      "outputs": [],
      "source": [
        "X_test = []\n",
        "y_test = []\n",
        "for img in glob.glob(\"/content/drive/MyDrive/datasets2/Covid19-dataset/test/Covid/*.jpeg\"):\n",
        "    n = cv2.imread(img)\n",
        "    n = cv2.resize(n, (64,64), interpolation = cv2.INTER_AREA)\n",
        "    X_test.append(n)\n",
        "    y_test.append(0)\n",
        "\n",
        "for img in glob.glob(\"/content/drive/MyDrive/datasets2/Covid19-dataset/test/Normal/*.jpeg\"):\n",
        "    n = cv2.imread(img)\n",
        "    n = cv2.resize(n, (64,64), interpolation = cv2.INTER_AREA)\n",
        "    X_test.append(n)\n",
        "    y_test.append( 1)\n",
        "\n",
        "\n",
        "for img in glob.glob(\"/content/drive/MyDrive/datasets2/Covid19-dataset/test/Viral Pneumonia/*.jpeg\"):\n",
        "    n = cv2.imread(img)\n",
        "    n = cv2.resize(n, (64,64), interpolation = cv2.INTER_AREA)\n",
        "    X_test.append(n)\n",
        "    y_test.append( 2)"
      ]
    },
    {
      "cell_type": "code",
      "execution_count": 16,
      "metadata": {
        "id": "ewCfCmhIWAe2"
      },
      "outputs": [],
      "source": [
        "X_train = np.array(X_train)/255\n",
        "X_test = np.array(X_test)/255\n",
        "y_train = np.array(y_train)\n",
        "y_test = np.array(y_test)"
      ]
    },
    {
      "cell_type": "code",
      "execution_count": 17,
      "metadata": {
        "id": "PzaBLu5IWB-S"
      },
      "outputs": [],
      "source": [
        "from tensorflow.keras.layers import GlobalMaxPooling2D, MaxPooling2D\n",
        "\n"
      ]
    },
    {
      "attachments": {},
      "cell_type": "markdown",
      "metadata": {},
      "source": [
        "# build the network"
      ]
    },
    {
      "cell_type": "code",
      "execution_count": 48,
      "metadata": {
        "id": "CaCKsxXmWFXv"
      },
      "outputs": [],
      "source": [
        "model = Sequential()\n",
        "model.add(Conv2D(32, 3, input_shape=(64,64,3), activation='relu'))\n",
        "model.add(MaxPooling2D(pool_size=2))\n",
        "model.add(Conv2D(64, 3, activation='relu'))\n",
        "model.add(MaxPooling2D(pool_size=2))\n",
        "model.add(Conv2D(128, 3, activation='relu'))\n",
        "model.add(MaxPooling2D(pool_size=2))\n",
        "\n",
        "model.add(Dropout(0.5))\n",
        "model.add(Flatten())\n",
        "model.add(Dense(512, activation='relu'))\n",
        "model.add(Dense(128, activation='relu'))\n",
        "model.add(Dense(3, activation='softmax'))\n",
        "model.compile(loss='sparse_categorical_crossentropy',optimizer='Adam',metrics=['accuracy'])"
      ]
    },
    {
      "cell_type": "code",
      "execution_count": 49,
      "metadata": {
        "colab": {
          "base_uri": "https://localhost:8080/"
        },
        "id": "aPgTBODZWK1E",
        "outputId": "75445411-7abb-4c1e-d2cf-e89b903e5113"
      },
      "outputs": [
        {
          "name": "stdout",
          "output_type": "stream",
          "text": [
            "Model: \"sequential_5\"\n",
            "_________________________________________________________________\n",
            " Layer (type)                Output Shape              Param #   \n",
            "=================================================================\n",
            " conv2d_20 (Conv2D)          (None, 62, 62, 32)        896       \n",
            "                                                                 \n",
            " max_pooling2d_20 (MaxPoolin  (None, 31, 31, 32)       0         \n",
            " g2D)                                                            \n",
            "                                                                 \n",
            " conv2d_21 (Conv2D)          (None, 29, 29, 64)        18496     \n",
            "                                                                 \n",
            " max_pooling2d_21 (MaxPoolin  (None, 14, 14, 64)       0         \n",
            " g2D)                                                            \n",
            "                                                                 \n",
            " conv2d_22 (Conv2D)          (None, 12, 12, 128)       73856     \n",
            "                                                                 \n",
            " max_pooling2d_22 (MaxPoolin  (None, 6, 6, 128)        0         \n",
            " g2D)                                                            \n",
            "                                                                 \n",
            " dropout_13 (Dropout)        (None, 6, 6, 128)         0         \n",
            "                                                                 \n",
            " flatten_5 (Flatten)         (None, 4608)              0         \n",
            "                                                                 \n",
            " dense_15 (Dense)            (None, 512)               2359808   \n",
            "                                                                 \n",
            " dense_16 (Dense)            (None, 128)               65664     \n",
            "                                                                 \n",
            " dense_17 (Dense)            (None, 3)                 387       \n",
            "                                                                 \n",
            "=================================================================\n",
            "Total params: 2,519,107\n",
            "Trainable params: 2,519,107\n",
            "Non-trainable params: 0\n",
            "_________________________________________________________________\n"
          ]
        }
      ],
      "source": [
        "model.summary() "
      ]
    },
    {
      "attachments": {},
      "cell_type": "markdown",
      "metadata": {},
      "source": [
        "# train the model"
      ]
    },
    {
      "cell_type": "code",
      "execution_count": 50,
      "metadata": {
        "colab": {
          "base_uri": "https://localhost:8080/"
        },
        "id": "yDI0_pXFWNCR",
        "outputId": "0612f880-b9b7-4bac-8e85-a51d6138436e"
      },
      "outputs": [
        {
          "name": "stdout",
          "output_type": "stream",
          "text": [
            "Epoch 1/100\n",
            "5/5 [==============================] - 1s 66ms/step - loss: 1.0712 - accuracy: 0.3986 - val_loss: 1.2165 - val_accuracy: 0.0000e+00\n",
            "Epoch 2/100\n",
            "5/5 [==============================] - 0s 17ms/step - loss: 0.9793 - accuracy: 0.5068 - val_loss: 1.4675 - val_accuracy: 0.0000e+00\n",
            "Epoch 3/100\n",
            "5/5 [==============================] - 0s 16ms/step - loss: 0.8601 - accuracy: 0.6486 - val_loss: 0.9232 - val_accuracy: 0.4211\n",
            "Epoch 4/100\n",
            "5/5 [==============================] - 0s 16ms/step - loss: 0.6015 - accuracy: 0.7365 - val_loss: 0.9219 - val_accuracy: 0.5263\n",
            "Epoch 5/100\n",
            "5/5 [==============================] - 0s 15ms/step - loss: 0.4417 - accuracy: 0.8176 - val_loss: 0.3382 - val_accuracy: 0.8684\n",
            "Epoch 6/100\n",
            "5/5 [==============================] - 0s 16ms/step - loss: 0.4360 - accuracy: 0.8108 - val_loss: 0.6406 - val_accuracy: 0.6842\n",
            "Epoch 7/100\n",
            "5/5 [==============================] - 0s 16ms/step - loss: 0.3580 - accuracy: 0.8378 - val_loss: 0.2092 - val_accuracy: 0.9211\n",
            "Epoch 8/100\n",
            "5/5 [==============================] - 0s 16ms/step - loss: 0.2917 - accuracy: 0.8784 - val_loss: 0.4803 - val_accuracy: 0.8421\n",
            "Epoch 9/100\n",
            "5/5 [==============================] - 0s 16ms/step - loss: 0.2144 - accuracy: 0.9122 - val_loss: 0.1063 - val_accuracy: 0.9737\n",
            "Epoch 10/100\n",
            "5/5 [==============================] - 0s 17ms/step - loss: 0.2215 - accuracy: 0.9257 - val_loss: 0.6631 - val_accuracy: 0.6842\n",
            "Epoch 11/100\n",
            "5/5 [==============================] - 0s 19ms/step - loss: 0.2027 - accuracy: 0.8919 - val_loss: 0.1288 - val_accuracy: 0.9211\n",
            "Epoch 12/100\n",
            "5/5 [==============================] - 0s 16ms/step - loss: 0.1714 - accuracy: 0.9257 - val_loss: 0.2876 - val_accuracy: 0.8684\n",
            "Epoch 13/100\n",
            "5/5 [==============================] - 0s 17ms/step - loss: 0.1503 - accuracy: 0.9527 - val_loss: 0.1282 - val_accuracy: 0.9211\n",
            "Epoch 14/100\n",
            "5/5 [==============================] - 0s 16ms/step - loss: 0.1566 - accuracy: 0.9392 - val_loss: 0.8117 - val_accuracy: 0.7105\n",
            "Epoch 15/100\n",
            "5/5 [==============================] - 0s 16ms/step - loss: 0.1954 - accuracy: 0.9324 - val_loss: 0.2501 - val_accuracy: 0.8684\n",
            "Epoch 16/100\n",
            "5/5 [==============================] - 0s 17ms/step - loss: 0.1260 - accuracy: 0.9527 - val_loss: 0.2827 - val_accuracy: 0.8684\n",
            "Epoch 17/100\n",
            "5/5 [==============================] - 0s 17ms/step - loss: 0.0881 - accuracy: 0.9730 - val_loss: 0.1753 - val_accuracy: 0.8947\n",
            "Epoch 18/100\n",
            "5/5 [==============================] - 0s 16ms/step - loss: 0.0806 - accuracy: 0.9730 - val_loss: 0.1305 - val_accuracy: 0.9474\n",
            "Epoch 19/100\n",
            "5/5 [==============================] - 0s 16ms/step - loss: 0.0618 - accuracy: 0.9730 - val_loss: 0.4567 - val_accuracy: 0.8421\n",
            "Epoch 20/100\n",
            "5/5 [==============================] - 0s 16ms/step - loss: 0.0576 - accuracy: 0.9797 - val_loss: 0.1550 - val_accuracy: 0.9211\n",
            "Epoch 21/100\n",
            "5/5 [==============================] - 0s 17ms/step - loss: 0.0522 - accuracy: 0.9865 - val_loss: 0.2329 - val_accuracy: 0.8947\n",
            "Epoch 22/100\n",
            "5/5 [==============================] - 0s 16ms/step - loss: 0.0506 - accuracy: 0.9932 - val_loss: 0.2827 - val_accuracy: 0.8684\n",
            "Epoch 23/100\n",
            "5/5 [==============================] - 0s 16ms/step - loss: 0.0233 - accuracy: 1.0000 - val_loss: 0.1935 - val_accuracy: 0.8684\n",
            "Epoch 24/100\n",
            "5/5 [==============================] - 0s 16ms/step - loss: 0.0417 - accuracy: 0.9865 - val_loss: 0.0495 - val_accuracy: 0.9737\n",
            "Epoch 25/100\n",
            "5/5 [==============================] - 0s 17ms/step - loss: 0.0210 - accuracy: 1.0000 - val_loss: 0.4440 - val_accuracy: 0.8158\n",
            "Epoch 26/100\n",
            "5/5 [==============================] - 0s 17ms/step - loss: 0.0113 - accuracy: 0.9932 - val_loss: 0.3864 - val_accuracy: 0.8421\n",
            "Epoch 27/100\n",
            "5/5 [==============================] - 0s 18ms/step - loss: 0.0064 - accuracy: 1.0000 - val_loss: 0.3095 - val_accuracy: 0.8684\n",
            "Epoch 28/100\n",
            "5/5 [==============================] - 0s 19ms/step - loss: 0.0322 - accuracy: 0.9797 - val_loss: 0.0115 - val_accuracy: 1.0000\n",
            "Epoch 29/100\n",
            "5/5 [==============================] - 0s 16ms/step - loss: 0.0887 - accuracy: 0.9797 - val_loss: 2.0581 - val_accuracy: 0.5526\n",
            "Epoch 30/100\n",
            "5/5 [==============================] - 0s 15ms/step - loss: 0.1492 - accuracy: 0.9595 - val_loss: 0.0182 - val_accuracy: 1.0000\n",
            "Epoch 31/100\n",
            "5/5 [==============================] - 0s 16ms/step - loss: 0.1860 - accuracy: 0.9459 - val_loss: 0.0632 - val_accuracy: 1.0000\n",
            "Epoch 32/100\n",
            "5/5 [==============================] - 0s 17ms/step - loss: 0.1557 - accuracy: 0.9392 - val_loss: 0.2539 - val_accuracy: 0.8947\n",
            "Epoch 33/100\n",
            "5/5 [==============================] - 0s 17ms/step - loss: 0.2133 - accuracy: 0.9257 - val_loss: 0.4835 - val_accuracy: 0.8158\n",
            "Epoch 34/100\n",
            "5/5 [==============================] - 0s 19ms/step - loss: 0.0801 - accuracy: 0.9865 - val_loss: 0.1008 - val_accuracy: 1.0000\n",
            "Epoch 35/100\n",
            "5/5 [==============================] - 0s 16ms/step - loss: 0.0415 - accuracy: 1.0000 - val_loss: 0.4925 - val_accuracy: 0.8421\n",
            "Epoch 36/100\n",
            "5/5 [==============================] - 0s 16ms/step - loss: 0.0284 - accuracy: 1.0000 - val_loss: 0.3148 - val_accuracy: 0.8947\n",
            "Epoch 37/100\n",
            "5/5 [==============================] - 0s 20ms/step - loss: 0.0222 - accuracy: 0.9932 - val_loss: 0.1965 - val_accuracy: 0.8947\n",
            "Epoch 38/100\n",
            "5/5 [==============================] - 0s 16ms/step - loss: 0.0145 - accuracy: 0.9932 - val_loss: 0.4522 - val_accuracy: 0.8947\n",
            "Epoch 39/100\n",
            "5/5 [==============================] - 0s 15ms/step - loss: 0.0356 - accuracy: 0.9865 - val_loss: 0.2250 - val_accuracy: 0.8947\n",
            "Epoch 40/100\n",
            "5/5 [==============================] - 0s 13ms/step - loss: 0.0143 - accuracy: 0.9932 - val_loss: 0.1351 - val_accuracy: 0.9211\n",
            "Epoch 41/100\n",
            "5/5 [==============================] - 0s 13ms/step - loss: 0.0093 - accuracy: 1.0000 - val_loss: 0.2346 - val_accuracy: 0.9211\n",
            "Epoch 42/100\n",
            "5/5 [==============================] - 0s 14ms/step - loss: 0.0123 - accuracy: 1.0000 - val_loss: 0.2641 - val_accuracy: 0.8947\n",
            "Epoch 43/100\n",
            "5/5 [==============================] - 0s 16ms/step - loss: 0.0044 - accuracy: 1.0000 - val_loss: 0.2206 - val_accuracy: 0.9211\n",
            "Epoch 44/100\n",
            "5/5 [==============================] - 0s 13ms/step - loss: 0.0040 - accuracy: 1.0000 - val_loss: 0.2218 - val_accuracy: 0.9211\n",
            "Epoch 45/100\n",
            "5/5 [==============================] - 0s 13ms/step - loss: 0.0020 - accuracy: 1.0000 - val_loss: 0.3582 - val_accuracy: 0.8684\n",
            "Epoch 46/100\n",
            "5/5 [==============================] - 0s 14ms/step - loss: 0.0011 - accuracy: 1.0000 - val_loss: 0.4525 - val_accuracy: 0.8158\n",
            "Epoch 47/100\n",
            "5/5 [==============================] - 0s 15ms/step - loss: 0.0087 - accuracy: 0.9932 - val_loss: 0.1688 - val_accuracy: 0.9211\n",
            "Epoch 48/100\n",
            "5/5 [==============================] - 0s 14ms/step - loss: 0.0053 - accuracy: 1.0000 - val_loss: 0.1038 - val_accuracy: 0.9211\n",
            "Epoch 49/100\n",
            "5/5 [==============================] - 0s 13ms/step - loss: 0.0037 - accuracy: 1.0000 - val_loss: 0.3514 - val_accuracy: 0.8947\n",
            "Epoch 50/100\n",
            "5/5 [==============================] - 0s 13ms/step - loss: 0.0091 - accuracy: 0.9932 - val_loss: 0.3146 - val_accuracy: 0.8684\n",
            "Epoch 51/100\n",
            "5/5 [==============================] - 0s 13ms/step - loss: 0.0169 - accuracy: 0.9932 - val_loss: 0.2000 - val_accuracy: 0.8421\n",
            "Epoch 52/100\n",
            "5/5 [==============================] - 0s 13ms/step - loss: 0.0176 - accuracy: 0.9932 - val_loss: 0.1030 - val_accuracy: 0.9474\n",
            "Epoch 53/100\n",
            "5/5 [==============================] - 0s 14ms/step - loss: 0.0220 - accuracy: 0.9932 - val_loss: 0.2298 - val_accuracy: 0.8947\n",
            "Epoch 54/100\n",
            "5/5 [==============================] - 0s 13ms/step - loss: 0.0214 - accuracy: 0.9865 - val_loss: 0.3759 - val_accuracy: 0.8684\n",
            "Epoch 55/100\n",
            "5/5 [==============================] - 0s 16ms/step - loss: 0.0020 - accuracy: 1.0000 - val_loss: 0.0819 - val_accuracy: 0.9474\n",
            "Epoch 56/100\n",
            "5/5 [==============================] - 0s 13ms/step - loss: 0.0111 - accuracy: 1.0000 - val_loss: 0.8347 - val_accuracy: 0.7895\n",
            "Epoch 57/100\n",
            "5/5 [==============================] - 0s 13ms/step - loss: 0.0158 - accuracy: 0.9932 - val_loss: 0.3427 - val_accuracy: 0.8684\n",
            "Epoch 58/100\n",
            "5/5 [==============================] - 0s 12ms/step - loss: 0.0090 - accuracy: 0.9932 - val_loss: 0.0394 - val_accuracy: 0.9737\n",
            "Epoch 59/100\n",
            "5/5 [==============================] - 0s 16ms/step - loss: 0.0075 - accuracy: 0.9932 - val_loss: 0.4969 - val_accuracy: 0.8421\n",
            "Epoch 60/100\n",
            "5/5 [==============================] - 0s 13ms/step - loss: 0.0143 - accuracy: 0.9932 - val_loss: 1.3156 - val_accuracy: 0.7632\n",
            "Epoch 61/100\n",
            "5/5 [==============================] - 0s 13ms/step - loss: 0.0529 - accuracy: 0.9865 - val_loss: 0.0836 - val_accuracy: 0.9737\n",
            "Epoch 62/100\n",
            "5/5 [==============================] - 0s 15ms/step - loss: 0.0677 - accuracy: 0.9730 - val_loss: 0.2322 - val_accuracy: 0.8947\n",
            "Epoch 63/100\n",
            "5/5 [==============================] - 0s 13ms/step - loss: 0.0352 - accuracy: 0.9932 - val_loss: 0.3307 - val_accuracy: 0.8947\n",
            "Epoch 64/100\n",
            "5/5 [==============================] - 0s 16ms/step - loss: 0.0108 - accuracy: 1.0000 - val_loss: 0.1494 - val_accuracy: 0.8947\n",
            "Epoch 65/100\n",
            "5/5 [==============================] - 0s 13ms/step - loss: 0.0074 - accuracy: 1.0000 - val_loss: 0.1371 - val_accuracy: 0.9211\n",
            "Epoch 66/100\n",
            "5/5 [==============================] - 0s 17ms/step - loss: 0.0147 - accuracy: 1.0000 - val_loss: 0.4608 - val_accuracy: 0.8684\n",
            "Epoch 67/100\n",
            "5/5 [==============================] - 0s 13ms/step - loss: 0.0061 - accuracy: 1.0000 - val_loss: 0.8694 - val_accuracy: 0.8158\n",
            "Epoch 68/100\n",
            "5/5 [==============================] - 0s 13ms/step - loss: 0.0018 - accuracy: 1.0000 - val_loss: 0.4238 - val_accuracy: 0.8947\n",
            "Epoch 69/100\n",
            "5/5 [==============================] - 0s 12ms/step - loss: 0.0064 - accuracy: 1.0000 - val_loss: 0.1326 - val_accuracy: 0.9211\n",
            "Epoch 70/100\n",
            "5/5 [==============================] - 0s 15ms/step - loss: 0.0088 - accuracy: 0.9932 - val_loss: 0.2458 - val_accuracy: 0.8947\n",
            "Epoch 71/100\n",
            "5/5 [==============================] - 0s 13ms/step - loss: 8.3916e-04 - accuracy: 1.0000 - val_loss: 0.3869 - val_accuracy: 0.8684\n",
            "Epoch 72/100\n",
            "5/5 [==============================] - 0s 13ms/step - loss: 0.0262 - accuracy: 0.9865 - val_loss: 0.2412 - val_accuracy: 0.9211\n",
            "Epoch 73/100\n",
            "5/5 [==============================] - 0s 13ms/step - loss: 0.0035 - accuracy: 1.0000 - val_loss: 0.4200 - val_accuracy: 0.8421\n",
            "Epoch 74/100\n",
            "5/5 [==============================] - 0s 13ms/step - loss: 0.0011 - accuracy: 1.0000 - val_loss: 0.4200 - val_accuracy: 0.8684\n",
            "Epoch 75/100\n",
            "5/5 [==============================] - 0s 13ms/step - loss: 0.0215 - accuracy: 0.9865 - val_loss: 0.2831 - val_accuracy: 0.8947\n",
            "Epoch 76/100\n",
            "5/5 [==============================] - 0s 15ms/step - loss: 0.0019 - accuracy: 1.0000 - val_loss: 0.6690 - val_accuracy: 0.7895\n",
            "Epoch 77/100\n",
            "5/5 [==============================] - 0s 13ms/step - loss: 0.0170 - accuracy: 0.9932 - val_loss: 0.3189 - val_accuracy: 0.8684\n",
            "Epoch 78/100\n",
            "5/5 [==============================] - 0s 13ms/step - loss: 0.0025 - accuracy: 1.0000 - val_loss: 0.0627 - val_accuracy: 0.9737\n",
            "Epoch 79/100\n",
            "5/5 [==============================] - 0s 13ms/step - loss: 0.0087 - accuracy: 1.0000 - val_loss: 0.1743 - val_accuracy: 0.8947\n",
            "Epoch 80/100\n",
            "5/5 [==============================] - 0s 14ms/step - loss: 0.0015 - accuracy: 1.0000 - val_loss: 0.4896 - val_accuracy: 0.8684\n",
            "Epoch 81/100\n",
            "5/5 [==============================] - 0s 13ms/step - loss: 0.0092 - accuracy: 0.9932 - val_loss: 0.4249 - val_accuracy: 0.8684\n",
            "Epoch 82/100\n",
            "5/5 [==============================] - 0s 13ms/step - loss: 0.0018 - accuracy: 1.0000 - val_loss: 0.2011 - val_accuracy: 0.9211\n",
            "Epoch 83/100\n",
            "5/5 [==============================] - 0s 13ms/step - loss: 0.0025 - accuracy: 1.0000 - val_loss: 0.1384 - val_accuracy: 0.9474\n",
            "Epoch 84/100\n",
            "5/5 [==============================] - 0s 13ms/step - loss: 0.0018 - accuracy: 1.0000 - val_loss: 0.1277 - val_accuracy: 0.9474\n",
            "Epoch 85/100\n",
            "5/5 [==============================] - 0s 16ms/step - loss: 8.3612e-04 - accuracy: 1.0000 - val_loss: 0.1423 - val_accuracy: 0.9474\n",
            "Epoch 86/100\n",
            "5/5 [==============================] - 0s 13ms/step - loss: 5.5288e-04 - accuracy: 1.0000 - val_loss: 0.1644 - val_accuracy: 0.9474\n",
            "Epoch 87/100\n",
            "5/5 [==============================] - 0s 13ms/step - loss: 5.1527e-04 - accuracy: 1.0000 - val_loss: 0.2066 - val_accuracy: 0.9211\n",
            "Epoch 88/100\n",
            "5/5 [==============================] - 0s 13ms/step - loss: 3.7934e-04 - accuracy: 1.0000 - val_loss: 0.2507 - val_accuracy: 0.9211\n",
            "Epoch 89/100\n",
            "5/5 [==============================] - 0s 14ms/step - loss: 3.1475e-04 - accuracy: 1.0000 - val_loss: 0.2890 - val_accuracy: 0.9211\n",
            "Epoch 90/100\n",
            "5/5 [==============================] - 0s 13ms/step - loss: 3.5838e-04 - accuracy: 1.0000 - val_loss: 0.3277 - val_accuracy: 0.8947\n",
            "Epoch 91/100\n",
            "5/5 [==============================] - 0s 16ms/step - loss: 4.7105e-04 - accuracy: 1.0000 - val_loss: 0.3655 - val_accuracy: 0.8684\n",
            "Epoch 92/100\n",
            "5/5 [==============================] - 0s 13ms/step - loss: 0.0011 - accuracy: 1.0000 - val_loss: 0.3898 - val_accuracy: 0.8684\n",
            "Epoch 93/100\n",
            "5/5 [==============================] - 0s 13ms/step - loss: 0.0022 - accuracy: 1.0000 - val_loss: 0.2446 - val_accuracy: 0.9211\n",
            "Epoch 94/100\n",
            "5/5 [==============================] - 0s 13ms/step - loss: 9.3835e-04 - accuracy: 1.0000 - val_loss: 0.1544 - val_accuracy: 0.9211\n",
            "Epoch 95/100\n",
            "5/5 [==============================] - 0s 13ms/step - loss: 6.4609e-04 - accuracy: 1.0000 - val_loss: 0.1527 - val_accuracy: 0.9211\n",
            "Epoch 96/100\n",
            "5/5 [==============================] - 0s 13ms/step - loss: 1.4007e-04 - accuracy: 1.0000 - val_loss: 0.1672 - val_accuracy: 0.9211\n",
            "Epoch 97/100\n",
            "5/5 [==============================] - 0s 13ms/step - loss: 8.5465e-04 - accuracy: 1.0000 - val_loss: 0.2622 - val_accuracy: 0.9211\n",
            "Epoch 98/100\n",
            "5/5 [==============================] - 0s 13ms/step - loss: 1.2699e-04 - accuracy: 1.0000 - val_loss: 0.3558 - val_accuracy: 0.8947\n",
            "Epoch 99/100\n",
            "5/5 [==============================] - 0s 13ms/step - loss: 3.0355e-04 - accuracy: 1.0000 - val_loss: 0.4414 - val_accuracy: 0.8684\n",
            "Epoch 100/100\n",
            "5/5 [==============================] - 0s 13ms/step - loss: 5.2640e-04 - accuracy: 1.0000 - val_loss: 0.4177 - val_accuracy: 0.8684\n"
          ]
        }
      ],
      "source": [
        "history = model.fit( X_train, y_train, epochs = 100, verbose=1 ,  validation_split=0.2  )"
      ]
    },
    {
      "attachments": {},
      "cell_type": "markdown",
      "metadata": {},
      "source": [
        "# plot the loss and the accuracy per epochs lineplot"
      ]
    },
    {
      "cell_type": "code",
      "execution_count": 51,
      "metadata": {
        "colab": {
          "base_uri": "https://localhost:8080/",
          "height": 590
        },
        "id": "zWwWqIMeWVuJ",
        "outputId": "7e6d8f16-a4e5-4bba-f34d-0b90704ad09f"
      },
      "outputs": [
        {
          "data": {
            "image/png": "[encoded data removed]",
            "text/plain": [
              "<Figure size 432x288 with 1 Axes>"
            ]
          },
          "metadata": {
            "needs_background": "light"
          },
          "output_type": "display_data"
        },
        {
          "data": {
            "text/plain": [
              "<matplotlib.legend.Legend at 0x7faa5618bd30>"
            ]
          },
          "execution_count": 51,
          "metadata": {},
          "output_type": "execute_result"
        },
        {
          "data": {
            "image/png": "[encoded data removed]",
            "text/plain": [
              "<Figure size 432x288 with 1 Axes>"
            ]
          },
          "metadata": {
            "needs_background": "light"
          },
          "output_type": "display_data"
        }
      ],
      "source": [
        "import matplotlib.pyplot as plt\n",
        "loss = history.history['loss']\n",
        "val_loss = history.history['val_loss']\n",
        "acc = history.history['accuracy']\n",
        "val_acc = history.history['val_accuracy']\n",
        "epochs = range(1, len(loss) + 1)\n",
        "plt.plot(epochs, loss, color='green', label='Training loss')\n",
        "plt.plot(epochs, val_loss, color='blue', linestyle='dashed', label='Validation loss')\n",
        "plt.xlabel('Epochs')\n",
        "plt.ylabel('Loss')\n",
        "plt.title('Training and validation loss')\n",
        "plt.legend()\n",
        "plt.show()\n",
        "plt.figure()\n",
        "plt.plot(epochs, acc, color='green', label='Training acc')\n",
        "plt.plot(epochs, val_acc, color='blue', linestyle='dashed', label='Validation acc')\n",
        "plt.xlabel('Epochs')\n",
        "plt.ylabel('Loss')\n",
        "plt.title('Training and validation accuracy')\n",
        "plt.legend()\n"
      ]
    },
    {
      "attachments": {},
      "cell_type": "markdown",
      "metadata": {},
      "source": [
        "# train & test loss and accuracy"
      ]
    },
    {
      "cell_type": "code",
      "execution_count": 52,
      "metadata": {
        "colab": {
          "base_uri": "https://localhost:8080/"
        },
        "id": "EkYh86BhWcnU",
        "outputId": "2f15aab0-a2de-4202-d4ad-dd7d76939d9d"
      },
      "outputs": [
        {
          "name": "stdout",
          "output_type": "stream",
          "text": [
            "Train loss: 0.08534479886293411\n",
            "Train accuracy:  97.31183052062988 %\n"
          ]
        }
      ],
      "source": [
        "score = model.evaluate(X_train , y_train, verbose=0)\n",
        "\n",
        "print('Train loss:', score[0])\n",
        "print('Train accuracy: ', score[1]*100.0 ,'%')"
      ]
    },
    {
      "cell_type": "code",
      "execution_count": 53,
      "metadata": {
        "colab": {
          "base_uri": "https://localhost:8080/"
        },
        "id": "neYfPGSSWeM8",
        "outputId": "a7541092-d2cf-4c90-f1c8-f4a68e73409d"
      },
      "outputs": [
        {
          "name": "stdout",
          "output_type": "stream",
          "text": [
            "Test loss: 0.8550085425376892\n",
            "Test accuracy:  86.53846383094788 %\n"
          ]
        }
      ],
      "source": [
        "score = model.evaluate(X_test , y_test, verbose=0)\n",
        "print('Test loss:', score[0])\n",
        "print('Test accuracy: ', score[1]*100.0 ,'%')"
      ]
    }
  ],
  "metadata": {
    "accelerator": "GPU",
    "colab": {
      "provenance": []
    },
    "gpuClass": "standard",
    "kernelspec": {
      "display_name": "Python 3",
      "language": "python",
      "name": "python3"
    },
    "language_info": {
      "name": "python",
      "version": "3.10.5 (tags/v3.10.5:f377153, Jun  6 2022, 16:14:13) [MSC v.1929 64 bit (AMD64)]"
    },
    "vscode": {
      "interpreter": {
        "hash": "98a70705198618b40757f4d0e0cd81e920cd534dd864d2ad541ce8c6b4f10eed"
      }
    }
  },
  "nbformat": 4,
  "nbformat_minor": 0
}
