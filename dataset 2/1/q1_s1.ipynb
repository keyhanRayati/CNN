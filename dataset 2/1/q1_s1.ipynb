{
  "cells": [
    {
      "cell_type": "code",
      "execution_count": 9,
      "metadata": {
        "id": "oLe-QW3iU50o"
      },
      "outputs": [],
      "source": [
        "import numpy as np\n",
        "from tensorflow import keras\n",
        "from tensorflow.keras import layers\n",
        "from tensorflow.keras.models import Sequential\n",
        "from tensorflow.keras.layers import Flatten, Conv2D, MaxPool2D, Dense, Dropout , Input\n",
        "from tensorflow.keras.utils import to_categorical\n",
        "from tensorflow.keras.preprocessing.image import ImageDataGenerator\n",
        "from tensorflow.keras.models import load_model\n",
        "from tensorflow.keras.layers import GlobalMaxPooling2D, MaxPooling2D\n",
        "from tensorflow.keras.layers import BatchNormalization\n",
        "from tensorflow.keras.models import Model\n",
        "from tensorflow.keras import regularizers, optimizers\n",
        "from sklearn.metrics import accuracy_score\n",
        "import matplotlib.pyplot as plt\n",
        "import pandas as pd\n",
        "from PIL import Image\n",
        "import glob\n",
        "import cv2\n",
        "import keras\n",
        "import tensorflow as tf\n",
        "\n",
        "\n",
        "\n",
        "\n",
        "import warnings\n",
        "warnings.filterwarnings('ignore')"
      ]
    },
    {
      "attachments": {},
      "cell_type": "markdown",
      "metadata": {},
      "source": [
        "# Prepare and load data Train"
      ]
    },
    {
      "cell_type": "code",
      "execution_count": 10,
      "metadata": {
        "id": "Z2SmjZATU___"
      },
      "outputs": [],
      "source": [
        "X_train = []\n",
        "y_train = []\n",
        "for img in glob.glob(\"/content/drive/MyDrive/datasets2/Covid19-dataset/train/Covid/*.jpeg\"):\n",
        "    n = cv2.imread(img)\n",
        "    n = cv2.resize(n, (64,64), interpolation = cv2.INTER_AREA)\n",
        "    X_train.append(n)\n",
        "    y_train.append( 0)\n",
        "\n",
        "for img in glob.glob(\"/content/drive/MyDrive/datasets2/Covid19-dataset/train/Normal/*.jpeg\"):\n",
        "    n = cv2.imread(img)\n",
        "    n = cv2.resize(n, (64,64), interpolation = cv2.INTER_AREA)\n",
        "    X_train.append(n)\n",
        "    y_train.append( 1)\n",
        "\n",
        "\n",
        "for img in glob.glob(r\"/content/drive/MyDrive/datasets2/Covid19-dataset/train/Viral Pneumonia/*.jpeg\"):\n",
        "    n = cv2.imread(img)\n",
        "    n = cv2.resize(n, (64,64), interpolation = cv2.INTER_AREA)\n",
        "    X_train.append(n)\n",
        "    y_train.append( 2)"
      ]
    },
    {
      "attachments": {},
      "cell_type": "markdown",
      "metadata": {},
      "source": [
        "# Prepare and load data Test"
      ]
    },
    {
      "cell_type": "code",
      "execution_count": 15,
      "metadata": {
        "id": "zfafq9_cVTlA"
      },
      "outputs": [],
      "source": [
        "X_test = []\n",
        "y_test = []\n",
        "for img in glob.glob(\"/content/drive/MyDrive/datasets2/Covid19-dataset/test/Covid/*.jpeg\"):\n",
        "    n = cv2.imread(img)\n",
        "    n = cv2.resize(n, (64,64), interpolation = cv2.INTER_AREA)\n",
        "    X_test.append(n)\n",
        "    y_test.append(0)\n",
        "\n",
        "for img in glob.glob(\"/content/drive/MyDrive/datasets2/Covid19-dataset/test/Normal/*.jpeg\"):\n",
        "    n = cv2.imread(img)\n",
        "    n = cv2.resize(n, (64,64), interpolation = cv2.INTER_AREA)\n",
        "    X_test.append(n)\n",
        "    y_test.append( 1)\n",
        "\n",
        "\n",
        "for img in glob.glob(\"/content/drive/MyDrive/datasets2/Covid19-dataset/test/Viral Pneumonia/*.jpeg\"):\n",
        "    n = cv2.imread(img)\n",
        "    n = cv2.resize(n, (64,64), interpolation = cv2.INTER_AREA)\n",
        "    X_test.append(n)\n",
        "    y_test.append( 2)"
      ]
    },
    {
      "cell_type": "code",
      "execution_count": 16,
      "metadata": {
        "id": "ewCfCmhIWAe2"
      },
      "outputs": [],
      "source": [
        "X_train = np.array(X_train)/255\n",
        "X_test = np.array(X_test)/255\n",
        "y_train = np.array(y_train)\n",
        "y_test = np.array(y_test)"
      ]
    },
    {
      "cell_type": "code",
      "execution_count": 17,
      "metadata": {
        "id": "PzaBLu5IWB-S"
      },
      "outputs": [],
      "source": [
        "from tensorflow.keras.layers import GlobalMaxPooling2D, MaxPooling2D\n",
        "\n"
      ]
    },
    {
      "attachments": {},
      "cell_type": "markdown",
      "metadata": {},
      "source": [
        "# build the network"
      ]
    },
    {
      "cell_type": "code",
      "execution_count": 42,
      "metadata": {
        "id": "CaCKsxXmWFXv"
      },
      "outputs": [],
      "source": [
        "model = Sequential()\n",
        "model.add(Conv2D(32, 3, input_shape=(64,64,3) , activation='relu'))\n",
        "model.add(MaxPooling2D(pool_size=2))\n",
        "model.add(Conv2D(64, 3,activation='relu'))\n",
        "model.add(MaxPooling2D(pool_size=2))\n",
        "model.add(Conv2D(128, 3, activation='relu'))\n",
        "model.add(MaxPooling2D(pool_size=2))\n",
        "model.add(Conv2D(256, 3, activation='relu'))\n",
        "model.add(MaxPooling2D(pool_size=2))\n",
        "model.add(Dropout(0.5))\n",
        "model.add(Flatten())\n",
        "model.add(Dense(512, activation='relu'))\n",
        "model.add(Dropout(0.5))\n",
        "model.add(Dense(128, activation='relu'))\n",
        "model.add(Dense(3, activation='softmax'))\n",
        "model.compile(loss='sparse_categorical_crossentropy',optimizer='Adam',metrics=['accuracy'])"
      ]
    },
    {
      "cell_type": "code",
      "execution_count": 43,
      "metadata": {
        "colab": {
          "base_uri": "https://localhost:8080/"
        },
        "id": "aPgTBODZWK1E",
        "outputId": "b52a4f1e-5e08-4369-cd2e-926aefcb5853"
      },
      "outputs": [
        {
          "name": "stdout",
          "output_type": "stream",
          "text": [
            "Model: \"sequential_4\"\n",
            "_________________________________________________________________\n",
            " Layer (type)                Output Shape              Param #   \n",
            "=================================================================\n",
            " conv2d_16 (Conv2D)          (None, 62, 62, 32)        896       \n",
            "                                                                 \n",
            " max_pooling2d_16 (MaxPoolin  (None, 31, 31, 32)       0         \n",
            " g2D)                                                            \n",
            "                                                                 \n",
            " conv2d_17 (Conv2D)          (None, 29, 29, 64)        18496     \n",
            "                                                                 \n",
            " max_pooling2d_17 (MaxPoolin  (None, 14, 14, 64)       0         \n",
            " g2D)                                                            \n",
            "                                                                 \n",
            " conv2d_18 (Conv2D)          (None, 12, 12, 128)       73856     \n",
            "                                                                 \n",
            " max_pooling2d_18 (MaxPoolin  (None, 6, 6, 128)        0         \n",
            " g2D)                                                            \n",
            "                                                                 \n",
            " conv2d_19 (Conv2D)          (None, 4, 4, 256)         295168    \n",
            "                                                                 \n",
            " max_pooling2d_19 (MaxPoolin  (None, 2, 2, 256)        0         \n",
            " g2D)                                                            \n",
            "                                                                 \n",
            " dropout_11 (Dropout)        (None, 2, 2, 256)         0         \n",
            "                                                                 \n",
            " flatten_4 (Flatten)         (None, 1024)              0         \n",
            "                                                                 \n",
            " dense_12 (Dense)            (None, 512)               524800    \n",
            "                                                                 \n",
            " dropout_12 (Dropout)        (None, 512)               0         \n",
            "                                                                 \n",
            " dense_13 (Dense)            (None, 128)               65664     \n",
            "                                                                 \n",
            " dense_14 (Dense)            (None, 3)                 387       \n",
            "                                                                 \n",
            "=================================================================\n",
            "Total params: 979,267\n",
            "Trainable params: 979,267\n",
            "Non-trainable params: 0\n",
            "_________________________________________________________________\n"
          ]
        }
      ],
      "source": [
        "model.summary() "
      ]
    },
    {
      "attachments": {},
      "cell_type": "markdown",
      "metadata": {},
      "source": [
        "# train the model "
      ]
    },
    {
      "cell_type": "code",
      "execution_count": 44,
      "metadata": {
        "colab": {
          "base_uri": "https://localhost:8080/"
        },
        "id": "yDI0_pXFWNCR",
        "outputId": "c3615247-22a9-48c1-c7b8-af9a0ce58dd2"
      },
      "outputs": [
        {
          "name": "stdout",
          "output_type": "stream",
          "text": [
            "Epoch 1/100\n",
            "5/5 [==============================] - 1s 52ms/step - loss: 1.0915 - accuracy: 0.4392 - val_loss: 1.6068 - val_accuracy: 0.0000e+00\n",
            "Epoch 2/100\n",
            "5/5 [==============================] - 0s 14ms/step - loss: 1.0328 - accuracy: 0.4865 - val_loss: 1.4221 - val_accuracy: 0.0000e+00\n",
            "Epoch 3/100\n",
            "5/5 [==============================] - 0s 14ms/step - loss: 1.0303 - accuracy: 0.4730 - val_loss: 1.4985 - val_accuracy: 0.0000e+00\n",
            "Epoch 4/100\n",
            "5/5 [==============================] - 0s 14ms/step - loss: 1.0166 - accuracy: 0.4730 - val_loss: 1.4615 - val_accuracy: 0.0000e+00\n",
            "Epoch 5/100\n",
            "5/5 [==============================] - 0s 14ms/step - loss: 0.9918 - accuracy: 0.4730 - val_loss: 1.7875 - val_accuracy: 0.0000e+00\n",
            "Epoch 6/100\n",
            "5/5 [==============================] - 0s 13ms/step - loss: 1.0183 - accuracy: 0.4730 - val_loss: 1.3313 - val_accuracy: 0.0000e+00\n",
            "Epoch 7/100\n",
            "5/5 [==============================] - 0s 14ms/step - loss: 0.9647 - accuracy: 0.5270 - val_loss: 1.5645 - val_accuracy: 0.0000e+00\n",
            "Epoch 8/100\n",
            "5/5 [==============================] - 0s 13ms/step - loss: 0.9093 - accuracy: 0.5338 - val_loss: 1.4674 - val_accuracy: 0.0000e+00\n",
            "Epoch 9/100\n",
            "5/5 [==============================] - 0s 13ms/step - loss: 0.7992 - accuracy: 0.6824 - val_loss: 1.1339 - val_accuracy: 0.0000e+00\n",
            "Epoch 10/100\n",
            "5/5 [==============================] - 0s 13ms/step - loss: 0.6613 - accuracy: 0.7162 - val_loss: 0.9196 - val_accuracy: 0.2105\n",
            "Epoch 11/100\n",
            "5/5 [==============================] - 0s 13ms/step - loss: 0.5387 - accuracy: 0.7973 - val_loss: 0.6777 - val_accuracy: 0.6842\n",
            "Epoch 12/100\n",
            "5/5 [==============================] - 0s 13ms/step - loss: 0.4348 - accuracy: 0.7905 - val_loss: 0.5318 - val_accuracy: 0.8158\n",
            "Epoch 13/100\n",
            "5/5 [==============================] - 0s 14ms/step - loss: 0.4604 - accuracy: 0.8378 - val_loss: 1.2122 - val_accuracy: 0.3421\n",
            "Epoch 14/100\n",
            "5/5 [==============================] - 0s 14ms/step - loss: 0.4363 - accuracy: 0.8041 - val_loss: 0.3406 - val_accuracy: 0.9737\n",
            "Epoch 15/100\n",
            "5/5 [==============================] - 0s 17ms/step - loss: 0.3260 - accuracy: 0.9122 - val_loss: 0.7412 - val_accuracy: 0.6579\n",
            "Epoch 16/100\n",
            "5/5 [==============================] - 0s 22ms/step - loss: 0.2892 - accuracy: 0.8851 - val_loss: 0.2098 - val_accuracy: 0.9474\n",
            "Epoch 17/100\n",
            "5/5 [==============================] - 0s 20ms/step - loss: 0.2998 - accuracy: 0.8581 - val_loss: 0.2917 - val_accuracy: 0.9211\n",
            "Epoch 18/100\n",
            "5/5 [==============================] - 0s 17ms/step - loss: 0.2593 - accuracy: 0.8784 - val_loss: 0.4090 - val_accuracy: 0.7895\n",
            "Epoch 19/100\n",
            "5/5 [==============================] - 0s 17ms/step - loss: 0.3173 - accuracy: 0.8581 - val_loss: 0.0615 - val_accuracy: 1.0000\n",
            "Epoch 20/100\n",
            "5/5 [==============================] - 0s 17ms/step - loss: 0.3026 - accuracy: 0.8851 - val_loss: 1.2109 - val_accuracy: 0.4211\n",
            "Epoch 21/100\n",
            "5/5 [==============================] - 0s 15ms/step - loss: 0.2760 - accuracy: 0.8716 - val_loss: 0.1769 - val_accuracy: 0.9737\n",
            "Epoch 22/100\n",
            "5/5 [==============================] - 0s 16ms/step - loss: 0.2238 - accuracy: 0.9189 - val_loss: 0.6074 - val_accuracy: 0.7368\n",
            "Epoch 23/100\n",
            "5/5 [==============================] - 0s 18ms/step - loss: 0.2177 - accuracy: 0.9324 - val_loss: 0.4787 - val_accuracy: 0.8158\n",
            "Epoch 24/100\n",
            "5/5 [==============================] - 0s 16ms/step - loss: 0.2238 - accuracy: 0.8919 - val_loss: 0.1887 - val_accuracy: 0.9474\n",
            "Epoch 25/100\n",
            "5/5 [==============================] - 0s 16ms/step - loss: 0.1425 - accuracy: 0.9730 - val_loss: 0.4601 - val_accuracy: 0.8421\n",
            "Epoch 26/100\n",
            "5/5 [==============================] - 0s 20ms/step - loss: 0.1158 - accuracy: 0.9595 - val_loss: 0.1003 - val_accuracy: 0.9474\n",
            "Epoch 27/100\n",
            "5/5 [==============================] - 0s 20ms/step - loss: 0.1222 - accuracy: 0.9527 - val_loss: 0.3735 - val_accuracy: 0.8947\n",
            "Epoch 28/100\n",
            "5/5 [==============================] - 0s 16ms/step - loss: 0.1676 - accuracy: 0.9392 - val_loss: 0.2147 - val_accuracy: 0.8947\n",
            "Epoch 29/100\n",
            "5/5 [==============================] - 0s 16ms/step - loss: 0.0659 - accuracy: 0.9797 - val_loss: 0.1978 - val_accuracy: 0.8947\n",
            "Epoch 30/100\n",
            "5/5 [==============================] - 0s 17ms/step - loss: 0.0685 - accuracy: 0.9865 - val_loss: 0.3615 - val_accuracy: 0.8421\n",
            "Epoch 31/100\n",
            "5/5 [==============================] - 0s 15ms/step - loss: 0.1779 - accuracy: 0.9392 - val_loss: 0.3754 - val_accuracy: 0.8421\n",
            "Epoch 32/100\n",
            "5/5 [==============================] - 0s 15ms/step - loss: 0.1226 - accuracy: 0.9595 - val_loss: 0.3056 - val_accuracy: 0.8684\n",
            "Epoch 33/100\n",
            "5/5 [==============================] - 0s 15ms/step - loss: 0.1576 - accuracy: 0.9595 - val_loss: 0.2603 - val_accuracy: 0.8947\n",
            "Epoch 34/100\n",
            "5/5 [==============================] - 0s 17ms/step - loss: 0.1148 - accuracy: 0.9527 - val_loss: 0.2847 - val_accuracy: 0.8947\n",
            "Epoch 35/100\n",
            "5/5 [==============================] - 0s 17ms/step - loss: 0.2191 - accuracy: 0.9392 - val_loss: 0.2444 - val_accuracy: 0.9211\n",
            "Epoch 36/100\n",
            "5/5 [==============================] - 0s 16ms/step - loss: 0.2165 - accuracy: 0.9324 - val_loss: 0.2861 - val_accuracy: 0.9211\n",
            "Epoch 37/100\n",
            "5/5 [==============================] - 0s 16ms/step - loss: 0.1744 - accuracy: 0.9392 - val_loss: 0.3686 - val_accuracy: 0.8684\n",
            "Epoch 38/100\n",
            "5/5 [==============================] - 0s 16ms/step - loss: 0.0820 - accuracy: 0.9797 - val_loss: 0.2388 - val_accuracy: 0.8947\n",
            "Epoch 39/100\n",
            "5/5 [==============================] - 0s 16ms/step - loss: 0.0514 - accuracy: 0.9865 - val_loss: 0.3676 - val_accuracy: 0.8947\n",
            "Epoch 40/100\n",
            "5/5 [==============================] - 0s 15ms/step - loss: 0.0423 - accuracy: 0.9865 - val_loss: 0.5576 - val_accuracy: 0.8158\n",
            "Epoch 41/100\n",
            "5/5 [==============================] - 0s 17ms/step - loss: 0.0493 - accuracy: 0.9865 - val_loss: 0.2929 - val_accuracy: 0.9211\n",
            "Epoch 42/100\n",
            "5/5 [==============================] - 0s 16ms/step - loss: 0.0606 - accuracy: 0.9730 - val_loss: 0.4266 - val_accuracy: 0.8684\n",
            "Epoch 43/100\n",
            "5/5 [==============================] - 0s 16ms/step - loss: 0.0225 - accuracy: 0.9932 - val_loss: 0.3361 - val_accuracy: 0.8947\n",
            "Epoch 44/100\n",
            "5/5 [==============================] - 0s 16ms/step - loss: 0.0784 - accuracy: 0.9662 - val_loss: 1.4344 - val_accuracy: 0.6053\n",
            "Epoch 45/100\n",
            "5/5 [==============================] - 0s 16ms/step - loss: 0.0730 - accuracy: 0.9662 - val_loss: 0.1798 - val_accuracy: 0.9474\n",
            "Epoch 46/100\n",
            "5/5 [==============================] - 0s 16ms/step - loss: 0.0423 - accuracy: 0.9797 - val_loss: 0.1377 - val_accuracy: 0.9737\n",
            "Epoch 47/100\n",
            "5/5 [==============================] - 0s 16ms/step - loss: 0.0088 - accuracy: 1.0000 - val_loss: 0.4351 - val_accuracy: 0.8158\n",
            "Epoch 48/100\n",
            "5/5 [==============================] - 0s 16ms/step - loss: 0.0138 - accuracy: 0.9932 - val_loss: 0.2960 - val_accuracy: 0.8684\n",
            "Epoch 49/100\n",
            "5/5 [==============================] - 0s 16ms/step - loss: 0.0079 - accuracy: 1.0000 - val_loss: 0.1901 - val_accuracy: 0.8947\n",
            "Epoch 50/100\n",
            "5/5 [==============================] - 0s 16ms/step - loss: 0.0105 - accuracy: 1.0000 - val_loss: 0.4917 - val_accuracy: 0.8421\n",
            "Epoch 51/100\n",
            "5/5 [==============================] - 0s 16ms/step - loss: 0.0103 - accuracy: 1.0000 - val_loss: 0.2477 - val_accuracy: 0.9211\n",
            "Epoch 52/100\n",
            "5/5 [==============================] - 0s 18ms/step - loss: 0.0020 - accuracy: 1.0000 - val_loss: 0.2807 - val_accuracy: 0.9211\n",
            "Epoch 53/100\n",
            "5/5 [==============================] - 0s 16ms/step - loss: 0.0071 - accuracy: 0.9932 - val_loss: 0.1992 - val_accuracy: 0.9474\n",
            "Epoch 54/100\n",
            "5/5 [==============================] - 0s 16ms/step - loss: 0.0094 - accuracy: 0.9932 - val_loss: 0.3176 - val_accuracy: 0.8684\n",
            "Epoch 55/100\n",
            "5/5 [==============================] - 0s 18ms/step - loss: 0.0219 - accuracy: 0.9865 - val_loss: 1.0949 - val_accuracy: 0.7368\n",
            "Epoch 56/100\n",
            "5/5 [==============================] - 0s 18ms/step - loss: 0.0868 - accuracy: 0.9730 - val_loss: 0.0729 - val_accuracy: 0.9737\n",
            "Epoch 57/100\n",
            "5/5 [==============================] - 0s 17ms/step - loss: 0.0826 - accuracy: 0.9730 - val_loss: 1.0821 - val_accuracy: 0.7105\n",
            "Epoch 58/100\n",
            "5/5 [==============================] - 0s 20ms/step - loss: 0.0377 - accuracy: 0.9797 - val_loss: 0.0860 - val_accuracy: 0.9474\n",
            "Epoch 59/100\n",
            "5/5 [==============================] - 0s 16ms/step - loss: 0.0633 - accuracy: 0.9662 - val_loss: 1.5121 - val_accuracy: 0.6053\n",
            "Epoch 60/100\n",
            "5/5 [==============================] - 0s 14ms/step - loss: 0.0401 - accuracy: 0.9865 - val_loss: 0.2358 - val_accuracy: 0.9211\n",
            "Epoch 61/100\n",
            "5/5 [==============================] - 0s 13ms/step - loss: 0.0073 - accuracy: 1.0000 - val_loss: 0.1568 - val_accuracy: 0.9737\n",
            "Epoch 62/100\n",
            "5/5 [==============================] - 0s 13ms/step - loss: 0.0116 - accuracy: 1.0000 - val_loss: 0.1455 - val_accuracy: 0.9474\n",
            "Epoch 63/100\n",
            "5/5 [==============================] - 0s 14ms/step - loss: 0.0374 - accuracy: 0.9865 - val_loss: 0.3041 - val_accuracy: 0.9211\n",
            "Epoch 64/100\n",
            "5/5 [==============================] - 0s 13ms/step - loss: 0.0223 - accuracy: 0.9932 - val_loss: 0.2379 - val_accuracy: 0.9211\n",
            "Epoch 65/100\n",
            "5/5 [==============================] - 0s 13ms/step - loss: 0.0225 - accuracy: 0.9932 - val_loss: 0.1915 - val_accuracy: 0.9474\n",
            "Epoch 66/100\n",
            "5/5 [==============================] - 0s 13ms/step - loss: 0.0031 - accuracy: 1.0000 - val_loss: 0.1783 - val_accuracy: 0.9474\n",
            "Epoch 67/100\n",
            "5/5 [==============================] - 0s 13ms/step - loss: 0.0061 - accuracy: 1.0000 - val_loss: 0.1633 - val_accuracy: 0.9737\n",
            "Epoch 68/100\n",
            "5/5 [==============================] - 0s 13ms/step - loss: 0.0024 - accuracy: 1.0000 - val_loss: 0.1923 - val_accuracy: 0.9474\n",
            "Epoch 69/100\n",
            "5/5 [==============================] - 0s 13ms/step - loss: 0.0033 - accuracy: 1.0000 - val_loss: 0.2660 - val_accuracy: 0.8947\n",
            "Epoch 70/100\n",
            "5/5 [==============================] - 0s 13ms/step - loss: 0.0386 - accuracy: 0.9865 - val_loss: 0.1715 - val_accuracy: 0.9737\n",
            "Epoch 71/100\n",
            "5/5 [==============================] - 0s 25ms/step - loss: 0.0186 - accuracy: 0.9932 - val_loss: 0.1971 - val_accuracy: 0.9474\n",
            "Epoch 72/100\n",
            "5/5 [==============================] - 0s 42ms/step - loss: 0.0116 - accuracy: 0.9932 - val_loss: 0.3124 - val_accuracy: 0.8421\n",
            "Epoch 73/100\n",
            "5/5 [==============================] - 0s 34ms/step - loss: 0.0019 - accuracy: 1.0000 - val_loss: 0.3638 - val_accuracy: 0.8684\n",
            "Epoch 74/100\n",
            "5/5 [==============================] - 0s 17ms/step - loss: 0.0114 - accuracy: 0.9932 - val_loss: 0.1713 - val_accuracy: 0.9737\n",
            "Epoch 75/100\n",
            "5/5 [==============================] - 0s 13ms/step - loss: 0.0048 - accuracy: 1.0000 - val_loss: 0.2081 - val_accuracy: 0.9474\n",
            "Epoch 76/100\n",
            "5/5 [==============================] - 0s 13ms/step - loss: 0.0029 - accuracy: 1.0000 - val_loss: 0.2396 - val_accuracy: 0.9474\n",
            "Epoch 77/100\n",
            "5/5 [==============================] - 0s 13ms/step - loss: 0.0176 - accuracy: 0.9932 - val_loss: 0.2371 - val_accuracy: 0.9211\n",
            "Epoch 78/100\n",
            "5/5 [==============================] - 0s 14ms/step - loss: 0.0054 - accuracy: 1.0000 - val_loss: 0.2535 - val_accuracy: 0.9211\n",
            "Epoch 79/100\n",
            "5/5 [==============================] - 0s 13ms/step - loss: 0.0149 - accuracy: 0.9932 - val_loss: 0.2376 - val_accuracy: 0.9211\n",
            "Epoch 80/100\n",
            "5/5 [==============================] - 0s 17ms/step - loss: 0.0343 - accuracy: 0.9932 - val_loss: 0.2377 - val_accuracy: 0.9211\n",
            "Epoch 81/100\n",
            "5/5 [==============================] - 0s 29ms/step - loss: 0.0018 - accuracy: 1.0000 - val_loss: 0.2967 - val_accuracy: 0.9211\n",
            "Epoch 82/100\n",
            "5/5 [==============================] - 0s 50ms/step - loss: 0.0211 - accuracy: 0.9932 - val_loss: 0.2038 - val_accuracy: 0.9474\n",
            "Epoch 83/100\n",
            "5/5 [==============================] - 0s 48ms/step - loss: 0.0024 - accuracy: 1.0000 - val_loss: 0.3706 - val_accuracy: 0.9211\n",
            "Epoch 84/100\n",
            "5/5 [==============================] - 0s 43ms/step - loss: 0.0330 - accuracy: 0.9932 - val_loss: 0.8847 - val_accuracy: 0.7895\n",
            "Epoch 85/100\n",
            "5/5 [==============================] - 0s 19ms/step - loss: 0.0304 - accuracy: 0.9865 - val_loss: 0.0889 - val_accuracy: 0.9737\n",
            "Epoch 86/100\n",
            "5/5 [==============================] - 0s 16ms/step - loss: 0.0371 - accuracy: 0.9932 - val_loss: 0.1783 - val_accuracy: 0.9474\n",
            "Epoch 87/100\n",
            "5/5 [==============================] - 0s 16ms/step - loss: 0.0163 - accuracy: 0.9932 - val_loss: 0.6625 - val_accuracy: 0.7895\n",
            "Epoch 88/100\n",
            "5/5 [==============================] - 0s 17ms/step - loss: 0.0196 - accuracy: 0.9932 - val_loss: 0.0559 - val_accuracy: 0.9737\n",
            "Epoch 89/100\n",
            "5/5 [==============================] - 0s 16ms/step - loss: 0.0210 - accuracy: 0.9865 - val_loss: 0.6031 - val_accuracy: 0.8158\n",
            "Epoch 90/100\n",
            "5/5 [==============================] - 0s 17ms/step - loss: 0.0146 - accuracy: 0.9932 - val_loss: 0.1406 - val_accuracy: 0.9211\n",
            "Epoch 91/100\n",
            "5/5 [==============================] - 0s 66ms/step - loss: 0.0019 - accuracy: 1.0000 - val_loss: 0.0745 - val_accuracy: 0.9737\n",
            "Epoch 92/100\n",
            "5/5 [==============================] - 0s 59ms/step - loss: 0.0364 - accuracy: 0.9932 - val_loss: 0.5207 - val_accuracy: 0.8684\n",
            "Epoch 93/100\n",
            "5/5 [==============================] - 0s 57ms/step - loss: 0.0159 - accuracy: 1.0000 - val_loss: 0.9820 - val_accuracy: 0.6842\n",
            "Epoch 94/100\n",
            "5/5 [==============================] - 0s 26ms/step - loss: 0.0120 - accuracy: 1.0000 - val_loss: 0.1922 - val_accuracy: 0.9211\n",
            "Epoch 95/100\n",
            "5/5 [==============================] - 0s 17ms/step - loss: 0.0054 - accuracy: 1.0000 - val_loss: 0.3912 - val_accuracy: 0.8684\n",
            "Epoch 96/100\n",
            "5/5 [==============================] - 0s 16ms/step - loss: 0.0024 - accuracy: 1.0000 - val_loss: 0.6862 - val_accuracy: 0.8421\n",
            "Epoch 97/100\n",
            "5/5 [==============================] - 0s 17ms/step - loss: 0.0015 - accuracy: 1.0000 - val_loss: 0.7273 - val_accuracy: 0.8421\n",
            "Epoch 98/100\n",
            "5/5 [==============================] - 0s 19ms/step - loss: 0.0013 - accuracy: 1.0000 - val_loss: 0.5845 - val_accuracy: 0.8421\n",
            "Epoch 99/100\n",
            "5/5 [==============================] - 0s 16ms/step - loss: 0.0015 - accuracy: 1.0000 - val_loss: 0.4270 - val_accuracy: 0.8421\n",
            "Epoch 100/100\n",
            "5/5 [==============================] - 0s 16ms/step - loss: 0.0015 - accuracy: 1.0000 - val_loss: 0.4187 - val_accuracy: 0.8421\n"
          ]
        }
      ],
      "source": [
        "history = model.fit( X_train, y_train, epochs = 100, verbose=1 ,  validation_split=0.2  )"
      ]
    },
    {
      "attachments": {},
      "cell_type": "markdown",
      "metadata": {},
      "source": [
        "# plot the loss and the accuracy per epochs lineplot"
      ]
    },
    {
      "cell_type": "code",
      "execution_count": 45,
      "metadata": {
        "colab": {
          "base_uri": "https://localhost:8080/",
          "height": 590
        },
        "id": "zWwWqIMeWVuJ",
        "outputId": "2ab6afb4-bef9-4d8a-ff2d-bb2fd9b5cc89"
      },
      "outputs": [
        {
          "data": {
            "image/png": "[encoded data removed]",
            "text/plain": [
              "<Figure size 432x288 with 1 Axes>"
            ]
          },
          "metadata": {
            "needs_background": "light"
          },
          "output_type": "display_data"
        },
        {
          "data": {
            "text/plain": [
              "<matplotlib.legend.Legend at 0x7faa6c1de880>"
            ]
          },
          "execution_count": 45,
          "metadata": {},
          "output_type": "execute_result"
        },
        {
          "data": {
            "image/png": "[encoded data removed]",
            "text/plain": [
              "<Figure size 432x288 with 1 Axes>"
            ]
          },
          "metadata": {
            "needs_background": "light"
          },
          "output_type": "display_data"
        }
      ],
      "source": [
        "import matplotlib.pyplot as plt\n",
        "loss = history.history['loss']\n",
        "val_loss = history.history['val_loss']\n",
        "acc = history.history['accuracy']\n",
        "val_acc = history.history['val_accuracy']\n",
        "epochs = range(1, len(loss) + 1)\n",
        "plt.plot(epochs, loss, color='green', label='Training loss')\n",
        "plt.plot(epochs, val_loss, color='blue', linestyle='dashed', label='Validation loss')\n",
        "plt.xlabel('Epochs')\n",
        "plt.ylabel('Loss')\n",
        "plt.title('Training and validation loss')\n",
        "plt.legend()\n",
        "plt.show()\n",
        "plt.figure()\n",
        "plt.plot(epochs, acc, color='green', label='Training acc')\n",
        "plt.plot(epochs, val_acc, color='blue', linestyle='dashed', label='Validation acc')\n",
        "plt.xlabel('Epochs')\n",
        "plt.ylabel('Loss')\n",
        "plt.title('Training and validation accuracy')\n",
        "plt.legend()\n"
      ]
    },
    {
      "attachments": {},
      "cell_type": "markdown",
      "metadata": {},
      "source": [
        "# train & test loss and accuracy"
      ]
    },
    {
      "cell_type": "code",
      "execution_count": 46,
      "metadata": {
        "colab": {
          "base_uri": "https://localhost:8080/"
        },
        "id": "EkYh86BhWcnU",
        "outputId": "f330d7b3-1499-4930-ebd7-bfe9ab982d41"
      },
      "outputs": [
        {
          "name": "stdout",
          "output_type": "stream",
          "text": [
            "Train loss: 0.08558574318885803\n",
            "Train accuracy:  96.77419066429138 %\n"
          ]
        }
      ],
      "source": [
        "score = model.evaluate(X_train , y_train, verbose=0)\n",
        "#X_train, y_train=next(test_datagen)\n",
        "#score = model.evaluate(X_train, y_train, verbose=0)\n",
        "print('Train loss:', score[0])\n",
        "print('Train accuracy: ', score[1]*100.0 ,'%')"
      ]
    },
    {
      "cell_type": "code",
      "execution_count": 47,
      "metadata": {
        "colab": {
          "base_uri": "https://localhost:8080/"
        },
        "id": "neYfPGSSWeM8",
        "outputId": "cf2a5853-f4c2-48b1-ef70-325d938570f1"
      },
      "outputs": [
        {
          "name": "stdout",
          "output_type": "stream",
          "text": [
            "Test loss: 0.6437159180641174\n",
            "Test accuracy:  88.46153616905212 %\n"
          ]
        }
      ],
      "source": [
        "score = model.evaluate(X_test , y_test, verbose=0)\n",
        "#X_test, y_test=next(test_datagen)\n",
        "#score = model.evaluate(X_test, y_test, verbose=0)\n",
        "print('Test loss:', score[0])\n",
        "print('Test accuracy: ', score[1]*100.0 ,'%')"
      ]
    }
  ],
  "metadata": {
    "accelerator": "GPU",
    "colab": {
      "provenance": []
    },
    "gpuClass": "standard",
    "kernelspec": {
      "display_name": "Python 3",
      "language": "python",
      "name": "python3"
    },
    "language_info": {
      "name": "python",
      "version": "3.10.5 (tags/v3.10.5:f377153, Jun  6 2022, 16:14:13) [MSC v.1929 64 bit (AMD64)]"
    },
    "vscode": {
      "interpreter": {
        "hash": "98a70705198618b40757f4d0e0cd81e920cd534dd864d2ad541ce8c6b4f10eed"
      }
    }
  },
  "nbformat": 4,
  "nbformat_minor": 0
}
