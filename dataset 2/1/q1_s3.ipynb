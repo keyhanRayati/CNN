{
  "cells": [
    {
      "cell_type": "code",
      "execution_count": 9,
      "metadata": {
        "id": "oLe-QW3iU50o"
      },
      "outputs": [],
      "source": [
        "import numpy as np\n",
        "from tensorflow import keras\n",
        "from tensorflow.keras import layers\n",
        "from tensorflow.keras.models import Sequential\n",
        "from tensorflow.keras.layers import Flatten, Conv2D, MaxPool2D, Dense, Dropout , Input\n",
        "from tensorflow.keras.utils import to_categorical\n",
        "from tensorflow.keras.preprocessing.image import ImageDataGenerator\n",
        "from tensorflow.keras.models import load_model\n",
        "from tensorflow.keras.layers import GlobalMaxPooling2D, MaxPooling2D\n",
        "from tensorflow.keras.layers import BatchNormalization\n",
        "from tensorflow.keras.models import Model\n",
        "from tensorflow.keras import regularizers, optimizers\n",
        "from sklearn.metrics import accuracy_score\n",
        "import matplotlib.pyplot as plt\n",
        "import pandas as pd\n",
        "from PIL import Image\n",
        "import glob\n",
        "import cv2\n",
        "import keras\n",
        "import tensorflow as tf\n",
        "\n",
        "\n",
        "\n",
        "\n",
        "import warnings\n",
        "warnings.filterwarnings('ignore')"
      ]
    },
    {
      "attachments": {},
      "cell_type": "markdown",
      "metadata": {},
      "source": [
        "# prepare the data for the train"
      ]
    },
    {
      "cell_type": "code",
      "execution_count": 10,
      "metadata": {
        "id": "Z2SmjZATU___"
      },
      "outputs": [],
      "source": [
        "X_train = []\n",
        "y_train = []\n",
        "for img in glob.glob(\"/content/drive/MyDrive/datasets2/Covid19-dataset/train/Covid/*.jpeg\"):\n",
        "    n = cv2.imread(img)\n",
        "    n = cv2.resize(n, (64,64), interpolation = cv2.INTER_AREA)\n",
        "    X_train.append(n)\n",
        "    y_train.append( 0)\n",
        "\n",
        "for img in glob.glob(\"/content/drive/MyDrive/datasets2/Covid19-dataset/train/Normal/*.jpeg\"):\n",
        "    n = cv2.imread(img)\n",
        "    n = cv2.resize(n, (64,64), interpolation = cv2.INTER_AREA)\n",
        "    X_train.append(n)\n",
        "    y_train.append( 1)\n",
        "\n",
        "\n",
        "for img in glob.glob(r\"/content/drive/MyDrive/datasets2/Covid19-dataset/train/Viral Pneumonia/*.jpeg\"):\n",
        "    n = cv2.imread(img)\n",
        "    n = cv2.resize(n, (64,64), interpolation = cv2.INTER_AREA)\n",
        "    X_train.append(n)\n",
        "    y_train.append( 2)"
      ]
    },
    {
      "attachments": {},
      "cell_type": "markdown",
      "metadata": {},
      "source": [
        "# Prepare and load data Test"
      ]
    },
    {
      "cell_type": "code",
      "execution_count": 15,
      "metadata": {
        "id": "zfafq9_cVTlA"
      },
      "outputs": [],
      "source": [
        "X_test = []\n",
        "y_test = []\n",
        "for img in glob.glob(\"/content/drive/MyDrive/datasets2/Covid19-dataset/test/Covid/*.jpeg\"):\n",
        "    n = cv2.imread(img)\n",
        "    n = cv2.resize(n, (64,64), interpolation = cv2.INTER_AREA)\n",
        "    X_test.append(n)\n",
        "    y_test.append(0)\n",
        "\n",
        "for img in glob.glob(\"/content/drive/MyDrive/datasets2/Covid19-dataset/test/Normal/*.jpeg\"):\n",
        "    n = cv2.imread(img)\n",
        "    n = cv2.resize(n, (64,64), interpolation = cv2.INTER_AREA)\n",
        "    X_test.append(n)\n",
        "    y_test.append( 1)\n",
        "\n",
        "\n",
        "for img in glob.glob(\"/content/drive/MyDrive/datasets2/Covid19-dataset/test/Viral Pneumonia/*.jpeg\"):\n",
        "    n = cv2.imread(img)\n",
        "    n = cv2.resize(n, (64,64), interpolation = cv2.INTER_AREA)\n",
        "    X_test.append(n)\n",
        "    y_test.append( 2)"
      ]
    },
    {
      "cell_type": "code",
      "execution_count": 16,
      "metadata": {
        "id": "ewCfCmhIWAe2"
      },
      "outputs": [],
      "source": [
        "X_train = np.array(X_train)/255\n",
        "X_test = np.array(X_test)/255\n",
        "y_train = np.array(y_train)\n",
        "y_test = np.array(y_test)"
      ]
    },
    {
      "cell_type": "code",
      "execution_count": 17,
      "metadata": {
        "id": "PzaBLu5IWB-S"
      },
      "outputs": [],
      "source": [
        "from tensorflow.keras.layers import GlobalMaxPooling2D, MaxPooling2D\n",
        "\n"
      ]
    },
    {
      "attachments": {},
      "cell_type": "markdown",
      "metadata": {},
      "source": [
        "# Build the network"
      ]
    },
    {
      "cell_type": "code",
      "execution_count": 54,
      "metadata": {
        "id": "CaCKsxXmWFXv"
      },
      "outputs": [],
      "source": [
        "\n",
        "model = Sequential()\n",
        "model.add(Conv2D(16, 3, input_shape=(64,64,3), activation='relu'))\n",
        "model.add(MaxPooling2D(pool_size=2))\n",
        "model.add(Conv2D(32, 3, activation='relu'))\n",
        "model.add(MaxPooling2D(pool_size=2))\n",
        "model.add(Conv2D(64, 3, activation='relu'))\n",
        "model.add(MaxPooling2D(pool_size=2))\n",
        "\n",
        "model.add(Dropout(0.4))\n",
        "model.add(Flatten())\n",
        "model.add(Dense(128, activation='relu'))\n",
        "model.add(Dense(64, activation='relu'))\n",
        "model.add(Dense(3, activation='softmax'))\n",
        "model.compile(loss='sparse_categorical_crossentropy',optimizer='Adam',metrics=['accuracy'])"
      ]
    },
    {
      "cell_type": "code",
      "execution_count": 55,
      "metadata": {
        "colab": {
          "base_uri": "https://localhost:8080/"
        },
        "id": "aPgTBODZWK1E",
        "outputId": "6fa2468d-a192-4a9d-bacd-71aa7cf36d8a"
      },
      "outputs": [
        {
          "name": "stdout",
          "output_type": "stream",
          "text": [
            "Model: \"sequential_6\"\n",
            "_________________________________________________________________\n",
            " Layer (type)                Output Shape              Param #   \n",
            "=================================================================\n",
            " conv2d_23 (Conv2D)          (None, 62, 62, 16)        448       \n",
            "                                                                 \n",
            " max_pooling2d_23 (MaxPoolin  (None, 31, 31, 16)       0         \n",
            " g2D)                                                            \n",
            "                                                                 \n",
            " conv2d_24 (Conv2D)          (None, 29, 29, 32)        4640      \n",
            "                                                                 \n",
            " max_pooling2d_24 (MaxPoolin  (None, 14, 14, 32)       0         \n",
            " g2D)                                                            \n",
            "                                                                 \n",
            " conv2d_25 (Conv2D)          (None, 12, 12, 64)        18496     \n",
            "                                                                 \n",
            " max_pooling2d_25 (MaxPoolin  (None, 6, 6, 64)         0         \n",
            " g2D)                                                            \n",
            "                                                                 \n",
            " dropout_14 (Dropout)        (None, 6, 6, 64)          0         \n",
            "                                                                 \n",
            " flatten_6 (Flatten)         (None, 2304)              0         \n",
            "                                                                 \n",
            " dense_18 (Dense)            (None, 128)               295040    \n",
            "                                                                 \n",
            " dense_19 (Dense)            (None, 64)                8256      \n",
            "                                                                 \n",
            " dense_20 (Dense)            (None, 3)                 195       \n",
            "                                                                 \n",
            "=================================================================\n",
            "Total params: 327,075\n",
            "Trainable params: 327,075\n",
            "Non-trainable params: 0\n",
            "_________________________________________________________________\n"
          ]
        }
      ],
      "source": [
        "model.summary() "
      ]
    },
    {
      "attachments": {},
      "cell_type": "markdown",
      "metadata": {},
      "source": [
        "# train the model "
      ]
    },
    {
      "cell_type": "code",
      "execution_count": 56,
      "metadata": {
        "colab": {
          "base_uri": "https://localhost:8080/"
        },
        "id": "yDI0_pXFWNCR",
        "outputId": "2fd31ea1-8935-4c82-abf3-221dfcc96c3e"
      },
      "outputs": [
        {
          "name": "stdout",
          "output_type": "stream",
          "text": [
            "Epoch 1/100\n",
            "5/5 [==============================] - 1s 108ms/step - loss: 1.0646 - accuracy: 0.4054 - val_loss: 1.5164 - val_accuracy: 0.0000e+00\n",
            "Epoch 2/100\n",
            "5/5 [==============================] - 0s 24ms/step - loss: 0.9734 - accuracy: 0.4797 - val_loss: 1.3547 - val_accuracy: 0.0000e+00\n",
            "Epoch 3/100\n",
            "5/5 [==============================] - 0s 19ms/step - loss: 0.9287 - accuracy: 0.5878 - val_loss: 1.1671 - val_accuracy: 0.0000e+00\n",
            "Epoch 4/100\n",
            "5/5 [==============================] - 0s 15ms/step - loss: 0.7616 - accuracy: 0.7162 - val_loss: 1.8382 - val_accuracy: 0.0000e+00\n",
            "Epoch 5/100\n",
            "5/5 [==============================] - 0s 18ms/step - loss: 0.6776 - accuracy: 0.7162 - val_loss: 0.9822 - val_accuracy: 0.1579\n",
            "Epoch 6/100\n",
            "5/5 [==============================] - 0s 18ms/step - loss: 0.6402 - accuracy: 0.7095 - val_loss: 0.4943 - val_accuracy: 0.8947\n",
            "Epoch 7/100\n",
            "5/5 [==============================] - 0s 21ms/step - loss: 0.4792 - accuracy: 0.8176 - val_loss: 0.8154 - val_accuracy: 0.5000\n",
            "Epoch 8/100\n",
            "5/5 [==============================] - 0s 13ms/step - loss: 0.3645 - accuracy: 0.8919 - val_loss: 0.4479 - val_accuracy: 0.8421\n",
            "Epoch 9/100\n",
            "5/5 [==============================] - 0s 18ms/step - loss: 0.4386 - accuracy: 0.8446 - val_loss: 0.0719 - val_accuracy: 1.0000\n",
            "Epoch 10/100\n",
            "5/5 [==============================] - 0s 17ms/step - loss: 0.3580 - accuracy: 0.8311 - val_loss: 0.9252 - val_accuracy: 0.5000\n",
            "Epoch 11/100\n",
            "5/5 [==============================] - 0s 21ms/step - loss: 0.3348 - accuracy: 0.8716 - val_loss: 0.2448 - val_accuracy: 0.9211\n",
            "Epoch 12/100\n",
            "5/5 [==============================] - 0s 19ms/step - loss: 0.2628 - accuracy: 0.9324 - val_loss: 0.3722 - val_accuracy: 0.8684\n",
            "Epoch 13/100\n",
            "5/5 [==============================] - 0s 18ms/step - loss: 0.2248 - accuracy: 0.9054 - val_loss: 0.2674 - val_accuracy: 0.8947\n",
            "Epoch 14/100\n",
            "5/5 [==============================] - 0s 20ms/step - loss: 0.2080 - accuracy: 0.9122 - val_loss: 0.2437 - val_accuracy: 0.8947\n",
            "Epoch 15/100\n",
            "5/5 [==============================] - 0s 21ms/step - loss: 0.1947 - accuracy: 0.9324 - val_loss: 0.2591 - val_accuracy: 0.8947\n",
            "Epoch 16/100\n",
            "5/5 [==============================] - 0s 21ms/step - loss: 0.1676 - accuracy: 0.9257 - val_loss: 0.4271 - val_accuracy: 0.8684\n",
            "Epoch 17/100\n",
            "5/5 [==============================] - 0s 17ms/step - loss: 0.1894 - accuracy: 0.9054 - val_loss: 0.2468 - val_accuracy: 0.8947\n",
            "Epoch 18/100\n",
            "5/5 [==============================] - 0s 20ms/step - loss: 0.2052 - accuracy: 0.8986 - val_loss: 0.1927 - val_accuracy: 0.8947\n",
            "Epoch 19/100\n",
            "5/5 [==============================] - 0s 23ms/step - loss: 0.1600 - accuracy: 0.9459 - val_loss: 0.3858 - val_accuracy: 0.8684\n",
            "Epoch 20/100\n",
            "5/5 [==============================] - 0s 21ms/step - loss: 0.1346 - accuracy: 0.9527 - val_loss: 0.1277 - val_accuracy: 0.9211\n",
            "Epoch 21/100\n",
            "5/5 [==============================] - 0s 20ms/step - loss: 0.1620 - accuracy: 0.9459 - val_loss: 0.4787 - val_accuracy: 0.8421\n",
            "Epoch 22/100\n",
            "5/5 [==============================] - 0s 21ms/step - loss: 0.1127 - accuracy: 0.9595 - val_loss: 0.1293 - val_accuracy: 0.9211\n",
            "Epoch 23/100\n",
            "5/5 [==============================] - 0s 19ms/step - loss: 0.1456 - accuracy: 0.9392 - val_loss: 0.5080 - val_accuracy: 0.8158\n",
            "Epoch 24/100\n",
            "5/5 [==============================] - 0s 17ms/step - loss: 0.1858 - accuracy: 0.9257 - val_loss: 0.2525 - val_accuracy: 0.8684\n",
            "Epoch 25/100\n",
            "5/5 [==============================] - 0s 18ms/step - loss: 0.0879 - accuracy: 0.9662 - val_loss: 0.1973 - val_accuracy: 0.8947\n",
            "Epoch 26/100\n",
            "5/5 [==============================] - 0s 17ms/step - loss: 0.1049 - accuracy: 0.9595 - val_loss: 0.3008 - val_accuracy: 0.8421\n",
            "Epoch 27/100\n",
            "5/5 [==============================] - 0s 19ms/step - loss: 0.1034 - accuracy: 0.9595 - val_loss: 0.1144 - val_accuracy: 0.9474\n",
            "Epoch 28/100\n",
            "5/5 [==============================] - 0s 15ms/step - loss: 0.0809 - accuracy: 0.9797 - val_loss: 0.5667 - val_accuracy: 0.7632\n",
            "Epoch 29/100\n",
            "5/5 [==============================] - 0s 21ms/step - loss: 0.1269 - accuracy: 0.9459 - val_loss: 0.1975 - val_accuracy: 0.8684\n",
            "Epoch 30/100\n",
            "5/5 [==============================] - 0s 20ms/step - loss: 0.1408 - accuracy: 0.9527 - val_loss: 0.3776 - val_accuracy: 0.8684\n",
            "Epoch 31/100\n",
            "5/5 [==============================] - 0s 16ms/step - loss: 0.0885 - accuracy: 0.9527 - val_loss: 0.2288 - val_accuracy: 0.8684\n",
            "Epoch 32/100\n",
            "5/5 [==============================] - 0s 19ms/step - loss: 0.0589 - accuracy: 1.0000 - val_loss: 0.2197 - val_accuracy: 0.8421\n",
            "Epoch 33/100\n",
            "5/5 [==============================] - 0s 19ms/step - loss: 0.0652 - accuracy: 0.9865 - val_loss: 0.1933 - val_accuracy: 0.8947\n",
            "Epoch 34/100\n",
            "5/5 [==============================] - 0s 20ms/step - loss: 0.0573 - accuracy: 0.9797 - val_loss: 0.3378 - val_accuracy: 0.8684\n",
            "Epoch 35/100\n",
            "5/5 [==============================] - 0s 17ms/step - loss: 0.1065 - accuracy: 0.9662 - val_loss: 0.3124 - val_accuracy: 0.8684\n",
            "Epoch 36/100\n",
            "5/5 [==============================] - 0s 17ms/step - loss: 0.0739 - accuracy: 0.9730 - val_loss: 0.2625 - val_accuracy: 0.8684\n",
            "Epoch 37/100\n",
            "5/5 [==============================] - 0s 14ms/step - loss: 0.0436 - accuracy: 0.9797 - val_loss: 0.4149 - val_accuracy: 0.8684\n",
            "Epoch 38/100\n",
            "5/5 [==============================] - 0s 13ms/step - loss: 0.0650 - accuracy: 0.9865 - val_loss: 0.1844 - val_accuracy: 0.8684\n",
            "Epoch 39/100\n",
            "5/5 [==============================] - 0s 16ms/step - loss: 0.0446 - accuracy: 0.9865 - val_loss: 0.5440 - val_accuracy: 0.7895\n",
            "Epoch 40/100\n",
            "5/5 [==============================] - 0s 13ms/step - loss: 0.0483 - accuracy: 0.9730 - val_loss: 0.0694 - val_accuracy: 0.9737\n",
            "Epoch 41/100\n",
            "5/5 [==============================] - 0s 14ms/step - loss: 0.0299 - accuracy: 0.9932 - val_loss: 0.3158 - val_accuracy: 0.8684\n",
            "Epoch 42/100\n",
            "5/5 [==============================] - 0s 18ms/step - loss: 0.0292 - accuracy: 0.9865 - val_loss: 0.3161 - val_accuracy: 0.8684\n",
            "Epoch 43/100\n",
            "5/5 [==============================] - 0s 17ms/step - loss: 0.0148 - accuracy: 1.0000 - val_loss: 0.2540 - val_accuracy: 0.8684\n",
            "Epoch 44/100\n",
            "5/5 [==============================] - 0s 13ms/step - loss: 0.0105 - accuracy: 1.0000 - val_loss: 0.5529 - val_accuracy: 0.8421\n",
            "Epoch 45/100\n",
            "5/5 [==============================] - 0s 13ms/step - loss: 0.0245 - accuracy: 0.9932 - val_loss: 0.1058 - val_accuracy: 0.9211\n",
            "Epoch 46/100\n",
            "5/5 [==============================] - 0s 14ms/step - loss: 0.0433 - accuracy: 0.9865 - val_loss: 0.5650 - val_accuracy: 0.8421\n",
            "Epoch 47/100\n",
            "5/5 [==============================] - 0s 17ms/step - loss: 0.0089 - accuracy: 1.0000 - val_loss: 0.5242 - val_accuracy: 0.8421\n",
            "Epoch 48/100\n",
            "5/5 [==============================] - 0s 13ms/step - loss: 0.0223 - accuracy: 0.9865 - val_loss: 0.3575 - val_accuracy: 0.8421\n",
            "Epoch 49/100\n",
            "5/5 [==============================] - 0s 14ms/step - loss: 0.0056 - accuracy: 1.0000 - val_loss: 0.2768 - val_accuracy: 0.8684\n",
            "Epoch 50/100\n",
            "5/5 [==============================] - 0s 19ms/step - loss: 0.0067 - accuracy: 1.0000 - val_loss: 0.2943 - val_accuracy: 0.8684\n",
            "Epoch 51/100\n",
            "5/5 [==============================] - 0s 15ms/step - loss: 0.0094 - accuracy: 1.0000 - val_loss: 0.2597 - val_accuracy: 0.8684\n",
            "Epoch 52/100\n",
            "5/5 [==============================] - 0s 14ms/step - loss: 0.0096 - accuracy: 1.0000 - val_loss: 0.5861 - val_accuracy: 0.8158\n",
            "Epoch 53/100\n",
            "5/5 [==============================] - 0s 14ms/step - loss: 0.0215 - accuracy: 0.9932 - val_loss: 0.3534 - val_accuracy: 0.8421\n",
            "Epoch 54/100\n",
            "5/5 [==============================] - 0s 13ms/step - loss: 0.0131 - accuracy: 1.0000 - val_loss: 0.2318 - val_accuracy: 0.8684\n",
            "Epoch 55/100\n",
            "5/5 [==============================] - 0s 14ms/step - loss: 0.0137 - accuracy: 0.9932 - val_loss: 0.7996 - val_accuracy: 0.7895\n",
            "Epoch 56/100\n",
            "5/5 [==============================] - 0s 15ms/step - loss: 0.0140 - accuracy: 1.0000 - val_loss: 0.5994 - val_accuracy: 0.8421\n",
            "Epoch 57/100\n",
            "5/5 [==============================] - 0s 12ms/step - loss: 0.0092 - accuracy: 1.0000 - val_loss: 0.2318 - val_accuracy: 0.8684\n",
            "Epoch 58/100\n",
            "5/5 [==============================] - 0s 10ms/step - loss: 0.0058 - accuracy: 1.0000 - val_loss: 0.3708 - val_accuracy: 0.8421\n",
            "Epoch 59/100\n",
            "5/5 [==============================] - 0s 12ms/step - loss: 0.0087 - accuracy: 0.9932 - val_loss: 0.4932 - val_accuracy: 0.8421\n",
            "Epoch 60/100\n",
            "5/5 [==============================] - 0s 14ms/step - loss: 0.0051 - accuracy: 1.0000 - val_loss: 0.3388 - val_accuracy: 0.8421\n",
            "Epoch 61/100\n",
            "5/5 [==============================] - 0s 11ms/step - loss: 0.0034 - accuracy: 1.0000 - val_loss: 0.2106 - val_accuracy: 0.8684\n",
            "Epoch 62/100\n",
            "5/5 [==============================] - 0s 11ms/step - loss: 0.0054 - accuracy: 1.0000 - val_loss: 0.2753 - val_accuracy: 0.8684\n",
            "Epoch 63/100\n",
            "5/5 [==============================] - 0s 10ms/step - loss: 0.0016 - accuracy: 1.0000 - val_loss: 0.4572 - val_accuracy: 0.8421\n",
            "Epoch 64/100\n",
            "5/5 [==============================] - 0s 10ms/step - loss: 0.0066 - accuracy: 1.0000 - val_loss: 0.5579 - val_accuracy: 0.8421\n",
            "Epoch 65/100\n",
            "5/5 [==============================] - 0s 11ms/step - loss: 0.0161 - accuracy: 0.9932 - val_loss: 0.4829 - val_accuracy: 0.8421\n",
            "Epoch 66/100\n",
            "5/5 [==============================] - 0s 11ms/step - loss: 0.0108 - accuracy: 1.0000 - val_loss: 0.2825 - val_accuracy: 0.8684\n",
            "Epoch 67/100\n",
            "5/5 [==============================] - 0s 12ms/step - loss: 0.0059 - accuracy: 1.0000 - val_loss: 0.2323 - val_accuracy: 0.8947\n",
            "Epoch 68/100\n",
            "5/5 [==============================] - 0s 10ms/step - loss: 0.0095 - accuracy: 1.0000 - val_loss: 0.5633 - val_accuracy: 0.8421\n",
            "Epoch 69/100\n",
            "5/5 [==============================] - 0s 11ms/step - loss: 0.0061 - accuracy: 1.0000 - val_loss: 0.5948 - val_accuracy: 0.8421\n",
            "Epoch 70/100\n",
            "5/5 [==============================] - 0s 11ms/step - loss: 0.0044 - accuracy: 1.0000 - val_loss: 0.5623 - val_accuracy: 0.8421\n",
            "Epoch 71/100\n",
            "5/5 [==============================] - 0s 11ms/step - loss: 0.0019 - accuracy: 1.0000 - val_loss: 0.4485 - val_accuracy: 0.8421\n",
            "Epoch 72/100\n",
            "5/5 [==============================] - 0s 15ms/step - loss: 0.0021 - accuracy: 1.0000 - val_loss: 0.4527 - val_accuracy: 0.8421\n",
            "Epoch 73/100\n",
            "5/5 [==============================] - 0s 12ms/step - loss: 0.0073 - accuracy: 1.0000 - val_loss: 0.3472 - val_accuracy: 0.8684\n",
            "Epoch 74/100\n",
            "5/5 [==============================] - 0s 10ms/step - loss: 0.0021 - accuracy: 1.0000 - val_loss: 0.3216 - val_accuracy: 0.8684\n",
            "Epoch 75/100\n",
            "5/5 [==============================] - 0s 11ms/step - loss: 0.0088 - accuracy: 0.9932 - val_loss: 0.4986 - val_accuracy: 0.8421\n",
            "Epoch 76/100\n",
            "5/5 [==============================] - 0s 11ms/step - loss: 0.0062 - accuracy: 1.0000 - val_loss: 0.4447 - val_accuracy: 0.8421\n",
            "Epoch 77/100\n",
            "5/5 [==============================] - 0s 11ms/step - loss: 0.0026 - accuracy: 1.0000 - val_loss: 0.2916 - val_accuracy: 0.8684\n",
            "Epoch 78/100\n",
            "5/5 [==============================] - 0s 12ms/step - loss: 0.0074 - accuracy: 1.0000 - val_loss: 0.6557 - val_accuracy: 0.8421\n",
            "Epoch 79/100\n",
            "5/5 [==============================] - 0s 11ms/step - loss: 0.0203 - accuracy: 0.9865 - val_loss: 0.1645 - val_accuracy: 0.9211\n",
            "Epoch 80/100\n",
            "5/5 [==============================] - 0s 10ms/step - loss: 0.0180 - accuracy: 0.9932 - val_loss: 0.5889 - val_accuracy: 0.8421\n",
            "Epoch 81/100\n",
            "5/5 [==============================] - 0s 11ms/step - loss: 0.0070 - accuracy: 1.0000 - val_loss: 0.8771 - val_accuracy: 0.8421\n",
            "Epoch 82/100\n",
            "5/5 [==============================] - 0s 11ms/step - loss: 0.0144 - accuracy: 0.9932 - val_loss: 0.1204 - val_accuracy: 0.9737\n",
            "Epoch 83/100\n",
            "5/5 [==============================] - 0s 12ms/step - loss: 0.0198 - accuracy: 0.9932 - val_loss: 1.0358 - val_accuracy: 0.7632\n",
            "Epoch 84/100\n",
            "5/5 [==============================] - 0s 15ms/step - loss: 0.0341 - accuracy: 0.9932 - val_loss: 0.1351 - val_accuracy: 0.9474\n",
            "Epoch 85/100\n",
            "5/5 [==============================] - 0s 13ms/step - loss: 0.0299 - accuracy: 0.9865 - val_loss: 1.6344 - val_accuracy: 0.6579\n",
            "Epoch 86/100\n",
            "5/5 [==============================] - 0s 11ms/step - loss: 0.0150 - accuracy: 1.0000 - val_loss: 0.3836 - val_accuracy: 0.8684\n",
            "Epoch 87/100\n",
            "5/5 [==============================] - 0s 12ms/step - loss: 0.0064 - accuracy: 1.0000 - val_loss: 0.2171 - val_accuracy: 0.9211\n",
            "Epoch 88/100\n",
            "5/5 [==============================] - 0s 11ms/step - loss: 0.0187 - accuracy: 0.9932 - val_loss: 0.9376 - val_accuracy: 0.7895\n",
            "Epoch 89/100\n",
            "5/5 [==============================] - 0s 12ms/step - loss: 0.0235 - accuracy: 0.9865 - val_loss: 0.5282 - val_accuracy: 0.8421\n",
            "Epoch 90/100\n",
            "5/5 [==============================] - 0s 11ms/step - loss: 0.0080 - accuracy: 1.0000 - val_loss: 0.0820 - val_accuracy: 0.9474\n",
            "Epoch 91/100\n",
            "5/5 [==============================] - 0s 11ms/step - loss: 0.0230 - accuracy: 0.9932 - val_loss: 0.5867 - val_accuracy: 0.7895\n",
            "Epoch 92/100\n",
            "5/5 [==============================] - 0s 11ms/step - loss: 0.0147 - accuracy: 0.9932 - val_loss: 0.7300 - val_accuracy: 0.7895\n",
            "Epoch 93/100\n",
            "5/5 [==============================] - 0s 11ms/step - loss: 0.0023 - accuracy: 1.0000 - val_loss: 0.3811 - val_accuracy: 0.8684\n",
            "Epoch 94/100\n",
            "5/5 [==============================] - 0s 12ms/step - loss: 0.0081 - accuracy: 0.9932 - val_loss: 0.3889 - val_accuracy: 0.8684\n",
            "Epoch 95/100\n",
            "5/5 [==============================] - 0s 12ms/step - loss: 0.0029 - accuracy: 1.0000 - val_loss: 0.9217 - val_accuracy: 0.7895\n",
            "Epoch 96/100\n",
            "5/5 [==============================] - 0s 11ms/step - loss: 0.0081 - accuracy: 1.0000 - val_loss: 0.6300 - val_accuracy: 0.8158\n",
            "Epoch 97/100\n",
            "5/5 [==============================] - 0s 11ms/step - loss: 0.0027 - accuracy: 1.0000 - val_loss: 0.2418 - val_accuracy: 0.9211\n",
            "Epoch 98/100\n",
            "5/5 [==============================] - 0s 11ms/step - loss: 0.0068 - accuracy: 1.0000 - val_loss: 0.3581 - val_accuracy: 0.8947\n",
            "Epoch 99/100\n",
            "5/5 [==============================] - 0s 11ms/step - loss: 0.0021 - accuracy: 1.0000 - val_loss: 0.7172 - val_accuracy: 0.8421\n",
            "Epoch 100/100\n",
            "5/5 [==============================] - 0s 10ms/step - loss: 0.0018 - accuracy: 1.0000 - val_loss: 0.8840 - val_accuracy: 0.8158\n"
          ]
        }
      ],
      "source": [
        "history = model.fit( X_train, y_train, epochs = 100, verbose=1 ,  validation_split=0.2  )"
      ]
    },
    {
      "attachments": {},
      "cell_type": "markdown",
      "metadata": {},
      "source": [
        "# plot the loss and the accuracy per epochs lineplot"
      ]
    },
    {
      "cell_type": "code",
      "execution_count": 57,
      "metadata": {
        "colab": {
          "base_uri": "https://localhost:8080/",
          "height": 590
        },
        "id": "zWwWqIMeWVuJ",
        "outputId": "7f7a6a4b-f0a3-47e2-baf9-aee2f6a9433f"
      },
      "outputs": [
        {
          "data": {
            "image/png": "[encoded data removed]",
            "text/plain": [
              "<Figure size 432x288 with 1 Axes>"
            ]
          },
          "metadata": {
            "needs_background": "light"
          },
          "output_type": "display_data"
        },
        {
          "data": {
            "text/plain": [
              "<matplotlib.legend.Legend at 0x7faa6c089640>"
            ]
          },
          "execution_count": 57,
          "metadata": {},
          "output_type": "execute_result"
        },
        {
          "data": {
            "image/png": "[encoded data removed]",
            "text/plain": [
              "<Figure size 432x288 with 1 Axes>"
            ]
          },
          "metadata": {
            "needs_background": "light"
          },
          "output_type": "display_data"
        }
      ],
      "source": [
        "import matplotlib.pyplot as plt\n",
        "loss = history.history['loss']\n",
        "val_loss = history.history['val_loss']\n",
        "acc = history.history['accuracy']\n",
        "val_acc = history.history['val_accuracy']\n",
        "epochs = range(1, len(loss) + 1)\n",
        "plt.plot(epochs, loss, color='green', label='Training loss')\n",
        "plt.plot(epochs, val_loss, color='blue', linestyle='dashed', label='Validation loss')\n",
        "plt.xlabel('Epochs')\n",
        "plt.ylabel('Loss')\n",
        "plt.title('Training and validation loss')\n",
        "plt.legend()\n",
        "plt.show()\n",
        "plt.figure()\n",
        "plt.plot(epochs, acc, color='green', label='Training acc')\n",
        "plt.plot(epochs, val_acc, color='blue', linestyle='dashed', label='Validation acc')\n",
        "plt.xlabel('Epochs')\n",
        "plt.ylabel('Loss')\n",
        "plt.title('Training and validation accuracy')\n",
        "plt.legend()\n"
      ]
    },
    {
      "attachments": {},
      "cell_type": "markdown",
      "metadata": {},
      "source": [
        "# train & test loss and accuracy"
      ]
    },
    {
      "cell_type": "code",
      "execution_count": 58,
      "metadata": {
        "colab": {
          "base_uri": "https://localhost:8080/"
        },
        "id": "EkYh86BhWcnU",
        "outputId": "8027f251-2b43-4647-bc5b-3348512afb58"
      },
      "outputs": [
        {
          "name": "stdout",
          "output_type": "stream",
          "text": [
            "Train loss: 0.18080854415893555\n",
            "Train accuracy:  96.23655676841736 %\n"
          ]
        }
      ],
      "source": [
        "score = model.evaluate(X_train , y_train, verbose=0)\n",
        "\n",
        "print('Train loss:', score[0])\n",
        "print('Train accuracy: ', score[1]*100.0 ,'%')"
      ]
    },
    {
      "cell_type": "code",
      "execution_count": 59,
      "metadata": {
        "colab": {
          "base_uri": "https://localhost:8080/"
        },
        "id": "neYfPGSSWeM8",
        "outputId": "b7e09792-09ee-491b-9ad9-360c352f6263"
      },
      "outputs": [
        {
          "name": "stdout",
          "output_type": "stream",
          "text": [
            "Test loss: 0.8106009364128113\n",
            "Test accuracy:  86.53846383094788 %\n"
          ]
        }
      ],
      "source": [
        "score = model.evaluate(X_test , y_test, verbose=0)\n",
        "print('Test loss:', score[0])\n",
        "print('Test accuracy: ', score[1]*100.0 ,'%')"
      ]
    }
  ],
  "metadata": {
    "accelerator": "GPU",
    "colab": {
      "provenance": []
    },
    "gpuClass": "standard",
    "kernelspec": {
      "display_name": "Python 3",
      "language": "python",
      "name": "python3"
    },
    "language_info": {
      "name": "python",
      "version": "3.10.5 (tags/v3.10.5:f377153, Jun  6 2022, 16:14:13) [MSC v.1929 64 bit (AMD64)]"
    },
    "vscode": {
      "interpreter": {
        "hash": "98a70705198618b40757f4d0e0cd81e920cd534dd864d2ad541ce8c6b4f10eed"
      }
    }
  },
  "nbformat": 4,
  "nbformat_minor": 0
}
