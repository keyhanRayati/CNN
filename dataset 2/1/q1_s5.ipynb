{
  "cells": [
    {
      "cell_type": "code",
      "execution_count": 9,
      "metadata": {
        "id": "oLe-QW3iU50o"
      },
      "outputs": [],
      "source": [
        "import numpy as np\n",
        "from tensorflow import keras\n",
        "from tensorflow.keras import layers\n",
        "from tensorflow.keras.models import Sequential\n",
        "from tensorflow.keras.layers import Flatten, Conv2D, MaxPool2D, Dense, Dropout , Input\n",
        "from tensorflow.keras.utils import to_categorical\n",
        "from tensorflow.keras.preprocessing.image import ImageDataGenerator\n",
        "from tensorflow.keras.models import load_model\n",
        "from tensorflow.keras.layers import GlobalMaxPooling2D, MaxPooling2D\n",
        "from tensorflow.keras.layers import BatchNormalization\n",
        "from tensorflow.keras.models import Model\n",
        "from tensorflow.keras import regularizers, optimizers\n",
        "from sklearn.metrics import accuracy_score\n",
        "import matplotlib.pyplot as plt\n",
        "import pandas as pd\n",
        "from PIL import Image\n",
        "import glob\n",
        "import cv2\n",
        "import keras\n",
        "import tensorflow as tf\n",
        "\n",
        "\n",
        "\n",
        "\n",
        "import warnings\n",
        "warnings.filterwarnings('ignore')"
      ]
    },
    {
      "attachments": {},
      "cell_type": "markdown",
      "metadata": {},
      "source": [
        "# Prepare and load data Train"
      ]
    },
    {
      "cell_type": "code",
      "execution_count": 10,
      "metadata": {
        "id": "Z2SmjZATU___"
      },
      "outputs": [],
      "source": [
        "X_train = []\n",
        "y_train = []\n",
        "for img in glob.glob(\"/content/drive/MyDrive/datasets2/Covid19-dataset/train/Covid/*.jpeg\"):\n",
        "    n = cv2.imread(img)\n",
        "    n = cv2.resize(n, (64,64), interpolation = cv2.INTER_AREA)\n",
        "    X_train.append(n)\n",
        "    y_train.append( 0)\n",
        "\n",
        "for img in glob.glob(\"/content/drive/MyDrive/datasets2/Covid19-dataset/train/Normal/*.jpeg\"):\n",
        "    n = cv2.imread(img)\n",
        "    n = cv2.resize(n, (64,64), interpolation = cv2.INTER_AREA)\n",
        "    X_train.append(n)\n",
        "    y_train.append( 1)\n",
        "\n",
        "\n",
        "for img in glob.glob(r\"/content/drive/MyDrive/datasets2/Covid19-dataset/train/Viral Pneumonia/*.jpeg\"):\n",
        "    n = cv2.imread(img)\n",
        "    n = cv2.resize(n, (64,64), interpolation = cv2.INTER_AREA)\n",
        "    X_train.append(n)\n",
        "    y_train.append( 2)"
      ]
    },
    {
      "attachments": {},
      "cell_type": "markdown",
      "metadata": {},
      "source": [
        "# Prepare and load data Test"
      ]
    },
    {
      "cell_type": "code",
      "execution_count": 15,
      "metadata": {
        "id": "zfafq9_cVTlA"
      },
      "outputs": [],
      "source": [
        "X_test = []\n",
        "y_test = []\n",
        "for img in glob.glob(\"/content/drive/MyDrive/datasets2/Covid19-dataset/test/Covid/*.jpeg\"):\n",
        "    n = cv2.imread(img)\n",
        "    n = cv2.resize(n, (64,64), interpolation = cv2.INTER_AREA)\n",
        "    X_test.append(n)\n",
        "    y_test.append(0)\n",
        "\n",
        "for img in glob.glob(\"/content/drive/MyDrive/datasets2/Covid19-dataset/test/Normal/*.jpeg\"):\n",
        "    n = cv2.imread(img)\n",
        "    n = cv2.resize(n, (64,64), interpolation = cv2.INTER_AREA)\n",
        "    X_test.append(n)\n",
        "    y_test.append( 1)\n",
        "\n",
        "\n",
        "for img in glob.glob(\"/content/drive/MyDrive/datasets2/Covid19-dataset/test/Viral Pneumonia/*.jpeg\"):\n",
        "    n = cv2.imread(img)\n",
        "    n = cv2.resize(n, (64,64), interpolation = cv2.INTER_AREA)\n",
        "    X_test.append(n)\n",
        "    y_test.append( 2)"
      ]
    },
    {
      "cell_type": "code",
      "execution_count": 16,
      "metadata": {
        "id": "ewCfCmhIWAe2"
      },
      "outputs": [],
      "source": [
        "X_train = np.array(X_train)/255\n",
        "X_test = np.array(X_test)/255\n",
        "y_train = np.array(y_train)\n",
        "y_test = np.array(y_test)"
      ]
    },
    {
      "cell_type": "code",
      "execution_count": 17,
      "metadata": {
        "id": "PzaBLu5IWB-S"
      },
      "outputs": [],
      "source": [
        "from tensorflow.keras.layers import GlobalMaxPooling2D, MaxPooling2D\n",
        "\n"
      ]
    },
    {
      "attachments": {},
      "cell_type": "markdown",
      "metadata": {},
      "source": [
        "# prepare the model "
      ]
    },
    {
      "cell_type": "code",
      "execution_count": 85,
      "metadata": {
        "id": "CaCKsxXmWFXv"
      },
      "outputs": [],
      "source": [
        "model = Sequential()\n",
        "model.add(Conv2D(32, 3, input_shape=(64,64,3), activation='relu'))\n",
        "model.add(MaxPooling2D(pool_size=2))\n",
        "model.add(Conv2D(64, 3, activation='relu'))\n",
        "model.add(MaxPooling2D(pool_size=2))\n",
        "model.add(Dropout(0.5))\n",
        "model.add(Flatten())\n",
        "model.add(Dense(128, activation='relu'))\n",
        "model.add(Dense(3, activation='softmax'))\n",
        "model.compile(loss='sparse_categorical_crossentropy',optimizer='Adam',metrics=['accuracy'])"
      ]
    },
    {
      "cell_type": "code",
      "execution_count": 86,
      "metadata": {
        "colab": {
          "base_uri": "https://localhost:8080/"
        },
        "id": "aPgTBODZWK1E",
        "outputId": "ac893258-64c7-476d-9612-63f2d7eb083b"
      },
      "outputs": [
        {
          "name": "stdout",
          "output_type": "stream",
          "text": [
            "Model: \"sequential_12\"\n",
            "_________________________________________________________________\n",
            " Layer (type)                Output Shape              Param #   \n",
            "=================================================================\n",
            " conv2d_41 (Conv2D)          (None, 62, 62, 32)        896       \n",
            "                                                                 \n",
            " max_pooling2d_41 (MaxPoolin  (None, 31, 31, 32)       0         \n",
            " g2D)                                                            \n",
            "                                                                 \n",
            " conv2d_42 (Conv2D)          (None, 29, 29, 64)        18496     \n",
            "                                                                 \n",
            " max_pooling2d_42 (MaxPoolin  (None, 14, 14, 64)       0         \n",
            " g2D)                                                            \n",
            "                                                                 \n",
            " dropout_21 (Dropout)        (None, 14, 14, 64)        0         \n",
            "                                                                 \n",
            " flatten_12 (Flatten)        (None, 12544)             0         \n",
            "                                                                 \n",
            " dense_32 (Dense)            (None, 128)               1605760   \n",
            "                                                                 \n",
            " dense_33 (Dense)            (None, 3)                 387       \n",
            "                                                                 \n",
            "=================================================================\n",
            "Total params: 1,625,539\n",
            "Trainable params: 1,625,539\n",
            "Non-trainable params: 0\n",
            "_________________________________________________________________\n"
          ]
        }
      ],
      "source": [
        "model.summary() "
      ]
    },
    {
      "attachments": {},
      "cell_type": "markdown",
      "metadata": {},
      "source": [
        "# Train the model"
      ]
    },
    {
      "cell_type": "code",
      "execution_count": 87,
      "metadata": {
        "colab": {
          "base_uri": "https://localhost:8080/"
        },
        "id": "yDI0_pXFWNCR",
        "outputId": "0906551e-e84c-4d36-de10-85890b1ed937"
      },
      "outputs": [
        {
          "name": "stdout",
          "output_type": "stream",
          "text": [
            "Epoch 1/40\n",
            "5/5 [==============================] - 1s 46ms/step - loss: 0.9197 - accuracy: 0.5899 - val_loss: 1.8964 - val_accuracy: 0.0000e+00\n",
            "Epoch 2/40\n",
            "5/5 [==============================] - 0s 12ms/step - loss: 0.5702 - accuracy: 0.8058 - val_loss: 1.0985 - val_accuracy: 0.0851\n",
            "Epoch 3/40\n",
            "5/5 [==============================] - 0s 12ms/step - loss: 0.3289 - accuracy: 0.8993 - val_loss: 0.9246 - val_accuracy: 0.4894\n",
            "Epoch 4/40\n",
            "5/5 [==============================] - 0s 15ms/step - loss: 0.3047 - accuracy: 0.8777 - val_loss: 0.1834 - val_accuracy: 0.9574\n",
            "Epoch 5/40\n",
            "5/5 [==============================] - 0s 11ms/step - loss: 0.3221 - accuracy: 0.8849 - val_loss: 1.0298 - val_accuracy: 0.5319\n",
            "Epoch 6/40\n",
            "5/5 [==============================] - 0s 11ms/step - loss: 0.2144 - accuracy: 0.9065 - val_loss: 0.6653 - val_accuracy: 0.6596\n",
            "Epoch 7/40\n",
            "5/5 [==============================] - 0s 11ms/step - loss: 0.1580 - accuracy: 0.9424 - val_loss: 0.4395 - val_accuracy: 0.8085\n",
            "Epoch 8/40\n",
            "5/5 [==============================] - 0s 12ms/step - loss: 0.1318 - accuracy: 0.9496 - val_loss: 0.3298 - val_accuracy: 0.8936\n",
            "Epoch 9/40\n",
            "5/5 [==============================] - 0s 12ms/step - loss: 0.1333 - accuracy: 0.9496 - val_loss: 1.2805 - val_accuracy: 0.5319\n",
            "Epoch 10/40\n",
            "5/5 [==============================] - 0s 12ms/step - loss: 0.1423 - accuracy: 0.9424 - val_loss: 0.1674 - val_accuracy: 0.9574\n",
            "Epoch 11/40\n",
            "5/5 [==============================] - 0s 12ms/step - loss: 0.1765 - accuracy: 0.9137 - val_loss: 1.0705 - val_accuracy: 0.5745\n",
            "Epoch 12/40\n",
            "5/5 [==============================] - 0s 11ms/step - loss: 0.2388 - accuracy: 0.8993 - val_loss: 0.3699 - val_accuracy: 0.8511\n",
            "Epoch 13/40\n",
            "5/5 [==============================] - 0s 12ms/step - loss: 0.1129 - accuracy: 0.9712 - val_loss: 0.2213 - val_accuracy: 0.9362\n",
            "Epoch 14/40\n",
            "5/5 [==============================] - 0s 11ms/step - loss: 0.0708 - accuracy: 0.9856 - val_loss: 0.5641 - val_accuracy: 0.7447\n",
            "Epoch 15/40\n",
            "5/5 [==============================] - 0s 12ms/step - loss: 0.0488 - accuracy: 0.9928 - val_loss: 0.2557 - val_accuracy: 0.9149\n",
            "Epoch 16/40\n",
            "5/5 [==============================] - 0s 14ms/step - loss: 0.0452 - accuracy: 0.9928 - val_loss: 0.5250 - val_accuracy: 0.7872\n",
            "Epoch 17/40\n",
            "5/5 [==============================] - 0s 15ms/step - loss: 0.0232 - accuracy: 1.0000 - val_loss: 0.4165 - val_accuracy: 0.8085\n",
            "Epoch 18/40\n",
            "5/5 [==============================] - 0s 12ms/step - loss: 0.0210 - accuracy: 1.0000 - val_loss: 0.3588 - val_accuracy: 0.8723\n",
            "Epoch 19/40\n",
            "5/5 [==============================] - 0s 12ms/step - loss: 0.0164 - accuracy: 0.9928 - val_loss: 0.4025 - val_accuracy: 0.8298\n",
            "Epoch 20/40\n",
            "5/5 [==============================] - 0s 11ms/step - loss: 0.0286 - accuracy: 0.9928 - val_loss: 0.2156 - val_accuracy: 0.9574\n",
            "Epoch 21/40\n",
            "5/5 [==============================] - 0s 12ms/step - loss: 0.0186 - accuracy: 1.0000 - val_loss: 0.6046 - val_accuracy: 0.7660\n",
            "Epoch 22/40\n",
            "5/5 [==============================] - 0s 11ms/step - loss: 0.0090 - accuracy: 1.0000 - val_loss: 0.2659 - val_accuracy: 0.9574\n",
            "Epoch 23/40\n",
            "5/5 [==============================] - 0s 12ms/step - loss: 0.0112 - accuracy: 1.0000 - val_loss: 0.4109 - val_accuracy: 0.8298\n",
            "Epoch 24/40\n",
            "5/5 [==============================] - 0s 12ms/step - loss: 0.0099 - accuracy: 1.0000 - val_loss: 0.4477 - val_accuracy: 0.8298\n",
            "Epoch 25/40\n",
            "5/5 [==============================] - 0s 11ms/step - loss: 0.0042 - accuracy: 1.0000 - val_loss: 0.5663 - val_accuracy: 0.8085\n",
            "Epoch 26/40\n",
            "5/5 [==============================] - 0s 12ms/step - loss: 0.0044 - accuracy: 1.0000 - val_loss: 0.4283 - val_accuracy: 0.8511\n",
            "Epoch 27/40\n",
            "5/5 [==============================] - 0s 11ms/step - loss: 0.0038 - accuracy: 1.0000 - val_loss: 0.4907 - val_accuracy: 0.8298\n",
            "Epoch 28/40\n",
            "5/5 [==============================] - 0s 11ms/step - loss: 0.0036 - accuracy: 1.0000 - val_loss: 0.4407 - val_accuracy: 0.8298\n",
            "Epoch 29/40\n",
            "5/5 [==============================] - 0s 11ms/step - loss: 0.0039 - accuracy: 1.0000 - val_loss: 0.4473 - val_accuracy: 0.8511\n",
            "Epoch 30/40\n",
            "5/5 [==============================] - 0s 11ms/step - loss: 0.0025 - accuracy: 1.0000 - val_loss: 0.4559 - val_accuracy: 0.8298\n",
            "Epoch 31/40\n",
            "5/5 [==============================] - 0s 11ms/step - loss: 0.0036 - accuracy: 1.0000 - val_loss: 0.4273 - val_accuracy: 0.8936\n",
            "Epoch 32/40\n",
            "5/5 [==============================] - 0s 11ms/step - loss: 0.0014 - accuracy: 1.0000 - val_loss: 0.8775 - val_accuracy: 0.7447\n",
            "Epoch 33/40\n",
            "5/5 [==============================] - 0s 12ms/step - loss: 0.0043 - accuracy: 1.0000 - val_loss: 0.3067 - val_accuracy: 0.9362\n",
            "Epoch 34/40\n",
            "5/5 [==============================] - 0s 12ms/step - loss: 0.0052 - accuracy: 1.0000 - val_loss: 0.3281 - val_accuracy: 0.9362\n",
            "Epoch 35/40\n",
            "5/5 [==============================] - 0s 12ms/step - loss: 0.0020 - accuracy: 1.0000 - val_loss: 0.6442 - val_accuracy: 0.7660\n",
            "Epoch 36/40\n",
            "5/5 [==============================] - 0s 11ms/step - loss: 0.0018 - accuracy: 1.0000 - val_loss: 0.6385 - val_accuracy: 0.7660\n",
            "Epoch 37/40\n",
            "5/5 [==============================] - 0s 12ms/step - loss: 0.0025 - accuracy: 1.0000 - val_loss: 0.1963 - val_accuracy: 0.9574\n",
            "Epoch 38/40\n",
            "5/5 [==============================] - 0s 12ms/step - loss: 0.0067 - accuracy: 1.0000 - val_loss: 0.5344 - val_accuracy: 0.7872\n",
            "Epoch 39/40\n",
            "5/5 [==============================] - 0s 12ms/step - loss: 0.0036 - accuracy: 1.0000 - val_loss: 0.9555 - val_accuracy: 0.7447\n",
            "Epoch 40/40\n",
            "5/5 [==============================] - 0s 11ms/step - loss: 0.0029 - accuracy: 1.0000 - val_loss: 0.4448 - val_accuracy: 0.8511\n"
          ]
        }
      ],
      "source": [
        "history = model.fit( X_train, y_train, epochs = 40, verbose=1 ,  validation_split=0.25  )"
      ]
    },
    {
      "attachments": {},
      "cell_type": "markdown",
      "metadata": {},
      "source": [
        "# plot the loss and the accuracy per epochs lineplot"
      ]
    },
    {
      "cell_type": "code",
      "execution_count": 88,
      "metadata": {
        "colab": {
          "base_uri": "https://localhost:8080/",
          "height": 590
        },
        "id": "zWwWqIMeWVuJ",
        "outputId": "a281e670-d7b1-457e-9a7c-c3e2f1fcbb7f"
      },
      "outputs": [
        {
          "data": {
            "image/png": "[encoded data removed]",
            "text/plain": [
              "<Figure size 432x288 with 1 Axes>"
            ]
          },
          "metadata": {
            "needs_background": "light"
          },
          "output_type": "display_data"
        },
        {
          "data": {
            "text/plain": [
              "<matplotlib.legend.Legend at 0x7faac02bdb80>"
            ]
          },
          "execution_count": 88,
          "metadata": {},
          "output_type": "execute_result"
        },
        {
          "data": {
            "image/png": "[encoded data removed]",
            "text/plain": [
              "<Figure size 432x288 with 1 Axes>"
            ]
          },
          "metadata": {
            "needs_background": "light"
          },
          "output_type": "display_data"
        }
      ],
      "source": [
        "import matplotlib.pyplot as plt\n",
        "loss = history.history['loss']\n",
        "val_loss = history.history['val_loss']\n",
        "acc = history.history['accuracy']\n",
        "val_acc = history.history['val_accuracy']\n",
        "epochs = range(1, len(loss) + 1)\n",
        "plt.plot(epochs, loss, color='green', label='Training loss')\n",
        "plt.plot(epochs, val_loss, color='blue', linestyle='dashed', label='Validation loss')\n",
        "plt.xlabel('Epochs')\n",
        "plt.ylabel('Loss')\n",
        "plt.title('Training and validation loss')\n",
        "plt.legend()\n",
        "plt.show()\n",
        "plt.figure()\n",
        "plt.plot(epochs, acc, color='green', label='Training acc')\n",
        "plt.plot(epochs, val_acc, color='blue', linestyle='dashed', label='Validation acc')\n",
        "plt.xlabel('Epochs')\n",
        "plt.ylabel('accuracy')\n",
        "plt.title('Training and validation accuracy')\n",
        "plt.legend()\n"
      ]
    },
    {
      "attachments": {},
      "cell_type": "markdown",
      "metadata": {},
      "source": [
        "# train & test loss and accuracy"
      ]
    },
    {
      "cell_type": "code",
      "execution_count": 89,
      "metadata": {
        "colab": {
          "base_uri": "https://localhost:8080/"
        },
        "id": "EkYh86BhWcnU",
        "outputId": "a6e1ea21-853b-4db4-f5aa-8823391ee4ee"
      },
      "outputs": [
        {
          "name": "stdout",
          "output_type": "stream",
          "text": [
            "Train loss: 0.1129232868552208\n",
            "Train accuracy:  96.23655676841736 %\n"
          ]
        }
      ],
      "source": [
        "score = model.evaluate(X_train , y_train, verbose=0)\n",
        "\n",
        "print('Train loss:', score[0])\n",
        "print('Train accuracy: ', score[1]*100.0 ,'%')"
      ]
    },
    {
      "cell_type": "code",
      "execution_count": 90,
      "metadata": {
        "colab": {
          "base_uri": "https://localhost:8080/"
        },
        "id": "neYfPGSSWeM8",
        "outputId": "2ecb01f3-6bcf-491a-b900-69898073ee44"
      },
      "outputs": [
        {
          "name": "stdout",
          "output_type": "stream",
          "text": [
            "Test loss: 0.6197391152381897\n",
            "Test accuracy:  84.61538553237915 %\n"
          ]
        }
      ],
      "source": [
        "score = model.evaluate(X_test , y_test, verbose=0)\n",
        "print('Test loss:', score[0])\n",
        "print('Test accuracy: ', score[1]*100.0 ,'%')"
      ]
    }
  ],
  "metadata": {
    "accelerator": "GPU",
    "colab": {
      "provenance": []
    },
    "gpuClass": "standard",
    "kernelspec": {
      "display_name": "Python 3",
      "name": "python3"
    },
    "language_info": {
      "name": "python"
    }
  },
  "nbformat": 4,
  "nbformat_minor": 0
}
