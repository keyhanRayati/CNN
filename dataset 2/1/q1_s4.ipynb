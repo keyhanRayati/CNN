{
  "cells": [
    {
      "cell_type": "code",
      "execution_count": 9,
      "metadata": {
        "id": "oLe-QW3iU50o"
      },
      "outputs": [],
      "source": [
        "import numpy as np\n",
        "from tensorflow import keras\n",
        "from tensorflow.keras import layers\n",
        "from tensorflow.keras.models import Sequential\n",
        "from tensorflow.keras.layers import Flatten, Conv2D, MaxPool2D, Dense, Dropout , Input\n",
        "from tensorflow.keras.utils import to_categorical\n",
        "from tensorflow.keras.preprocessing.image import ImageDataGenerator\n",
        "from tensorflow.keras.models import load_model\n",
        "from tensorflow.keras.layers import GlobalMaxPooling2D, MaxPooling2D\n",
        "from tensorflow.keras.layers import BatchNormalization\n",
        "from tensorflow.keras.models import Model\n",
        "from tensorflow.keras import regularizers, optimizers\n",
        "from sklearn.metrics import accuracy_score\n",
        "import matplotlib.pyplot as plt\n",
        "import pandas as pd\n",
        "from PIL import Image\n",
        "import glob\n",
        "import cv2\n",
        "import keras\n",
        "import tensorflow as tf\n",
        "\n",
        "\n",
        "\n",
        "\n",
        "import warnings\n",
        "warnings.filterwarnings('ignore')import numpy as np\n",
        "from tensorflow import keras\n",
        "from tensorflow.keras import layers\n",
        "from tensorflow.keras.models import Sequential\n",
        "from tensorflow.keras.layers import Flatten, Conv2D, MaxPool2D, Dense, Dropout , Input\n",
        "from tensorflow.keras.utils import to_categorical\n",
        "from tensorflow.keras.preprocessing.image import ImageDataGenerator\n",
        "from tensorflow.keras.models import load_model\n",
        "from tensorflow.keras.layers import GlobalMaxPooling2D, MaxPooling2D\n",
        "from tensorflow.keras.layers import BatchNormalization\n",
        "from tensorflow.keras.models import Model\n",
        "from tensorflow.keras import regularizers, optimizers\n",
        "from sklearn.metrics import accuracy_score\n",
        "import matplotlib.pyplot as plt\n",
        "import pandas as pd\n",
        "from PIL import Image\n",
        "import glob\n",
        "import cv2\n",
        "import keras\n",
        "import tensorflow as tf\n",
        "\n",
        "\n",
        "\n",
        "\n",
        "import warnings\n",
        "warnings.filterwarnings('ignore')"
      ]
    },
    {
      "attachments": {},
      "cell_type": "markdown",
      "metadata": {},
      "source": [
        "# Prepare and load data Train"
      ]
    },
    {
      "cell_type": "code",
      "execution_count": 10,
      "metadata": {
        "id": "Z2SmjZATU___"
      },
      "outputs": [],
      "source": [
        "X_train = []\n",
        "y_train = []\n",
        "for img in glob.glob(\"/content/drive/MyDrive/datasets2/Covid19-dataset/train/Covid/*.jpeg\"):\n",
        "    n = cv2.imread(img)\n",
        "    n = cv2.resize(n, (64,64), interpolation = cv2.INTER_AREA)\n",
        "    X_train.append(n)\n",
        "    y_train.append( 0)\n",
        "\n",
        "for img in glob.glob(\"/content/drive/MyDrive/datasets2/Covid19-dataset/train/Normal/*.jpeg\"):\n",
        "    n = cv2.imread(img)\n",
        "    n = cv2.resize(n, (64,64), interpolation = cv2.INTER_AREA)\n",
        "    X_train.append(n)\n",
        "    y_train.append( 1)\n",
        "\n",
        "\n",
        "for img in glob.glob(r\"/content/drive/MyDrive/datasets2/Covid19-dataset/train/Viral Pneumonia/*.jpeg\"):\n",
        "    n = cv2.imread(img)\n",
        "    n = cv2.resize(n, (64,64), interpolation = cv2.INTER_AREA)\n",
        "    X_train.append(n)\n",
        "    y_train.append( 2)"
      ]
    },
    {
      "attachments": {},
      "cell_type": "markdown",
      "metadata": {},
      "source": [
        "# Prepare and load data Test"
      ]
    },
    {
      "cell_type": "code",
      "execution_count": 15,
      "metadata": {
        "id": "zfafq9_cVTlA"
      },
      "outputs": [],
      "source": [
        "X_test = []\n",
        "y_test = []\n",
        "for img in glob.glob(\"/content/drive/MyDrive/datasets2/Covid19-dataset/test/Covid/*.jpeg\"):\n",
        "    n = cv2.imread(img)\n",
        "    n = cv2.resize(n, (64,64), interpolation = cv2.INTER_AREA)\n",
        "    X_test.append(n)\n",
        "    y_test.append(0)\n",
        "\n",
        "for img in glob.glob(\"/content/drive/MyDrive/datasets2/Covid19-dataset/test/Normal/*.jpeg\"):\n",
        "    n = cv2.imread(img)\n",
        "    n = cv2.resize(n, (64,64), interpolation = cv2.INTER_AREA)\n",
        "    X_test.append(n)\n",
        "    y_test.append( 1)\n",
        "\n",
        "\n",
        "for img in glob.glob(\"/content/drive/MyDrive/datasets2/Covid19-dataset/test/Viral Pneumonia/*.jpeg\"):\n",
        "    n = cv2.imread(img)\n",
        "    n = cv2.resize(n, (64,64), interpolation = cv2.INTER_AREA)\n",
        "    X_test.append(n)\n",
        "    y_test.append( 2)"
      ]
    },
    {
      "cell_type": "code",
      "execution_count": 16,
      "metadata": {
        "id": "ewCfCmhIWAe2"
      },
      "outputs": [],
      "source": [
        "X_train = np.array(X_train)/255\n",
        "X_test = np.array(X_test)/255\n",
        "y_train = np.array(y_train)\n",
        "y_test = np.array(y_test)"
      ]
    },
    {
      "cell_type": "code",
      "execution_count": 17,
      "metadata": {
        "id": "PzaBLu5IWB-S"
      },
      "outputs": [],
      "source": [
        "from tensorflow.keras.layers import GlobalMaxPooling2D, MaxPooling2D\n",
        "\n"
      ]
    },
    {
      "attachments": {},
      "cell_type": "markdown",
      "metadata": {},
      "source": [
        "# Prepare the model"
      ]
    },
    {
      "cell_type": "code",
      "execution_count": 79,
      "metadata": {
        "id": "CaCKsxXmWFXv"
      },
      "outputs": [],
      "source": [
        "model = Sequential()\n",
        "model.add(Conv2D(32, (3, 3), activation='relu', input_shape=(64, 64, 3), kernel_regularizer=regularizers.l2(0.0001)))\n",
        "model.add(MaxPooling2D(pool_size=2))\n",
        "model.add(Conv2D(64, (3, 3), activation='relu', kernel_regularizer=regularizers.l2(0.0001)))\n",
        "model.add(MaxPooling2D(pool_size=2))\n",
        "model.add(Conv2D(128, (3, 3), activation='relu', kernel_regularizer=regularizers.l2(0.0001)))\n",
        "model.add(MaxPooling2D(pool_size=2))\n",
        "model.add(Dropout(0.5))\n",
        "model.add(Flatten())\n",
        "model.add(Dense(512, activation='relu'))\n",
        "model.add(Dense(3, activation='softmax'))\n",
        "model.compile(loss='sparse_categorical_crossentropy',optimizer='Adam',metrics=['accuracy'])"
      ]
    },
    {
      "cell_type": "code",
      "execution_count": 80,
      "metadata": {
        "colab": {
          "base_uri": "https://localhost:8080/"
        },
        "id": "aPgTBODZWK1E",
        "outputId": "e1e77c59-3d97-44a7-f1f8-8bff0f115e23"
      },
      "outputs": [
        {
          "name": "stdout",
          "output_type": "stream",
          "text": [
            "Model: \"sequential_11\"\n",
            "_________________________________________________________________\n",
            " Layer (type)                Output Shape              Param #   \n",
            "=================================================================\n",
            " conv2d_38 (Conv2D)          (None, 62, 62, 32)        896       \n",
            "                                                                 \n",
            " max_pooling2d_38 (MaxPoolin  (None, 31, 31, 32)       0         \n",
            " g2D)                                                            \n",
            "                                                                 \n",
            " conv2d_39 (Conv2D)          (None, 29, 29, 64)        18496     \n",
            "                                                                 \n",
            " max_pooling2d_39 (MaxPoolin  (None, 14, 14, 64)       0         \n",
            " g2D)                                                            \n",
            "                                                                 \n",
            " conv2d_40 (Conv2D)          (None, 12, 12, 128)       73856     \n",
            "                                                                 \n",
            " max_pooling2d_40 (MaxPoolin  (None, 6, 6, 128)        0         \n",
            " g2D)                                                            \n",
            "                                                                 \n",
            " dropout_20 (Dropout)        (None, 6, 6, 128)         0         \n",
            "                                                                 \n",
            " flatten_11 (Flatten)        (None, 4608)              0         \n",
            "                                                                 \n",
            " dense_30 (Dense)            (None, 512)               2359808   \n",
            "                                                                 \n",
            " dense_31 (Dense)            (None, 3)                 1539      \n",
            "                                                                 \n",
            "=================================================================\n",
            "Total params: 2,454,595\n",
            "Trainable params: 2,454,595\n",
            "Non-trainable params: 0\n",
            "_________________________________________________________________\n"
          ]
        }
      ],
      "source": [
        "model.summary() "
      ]
    },
    {
      "attachments": {},
      "cell_type": "markdown",
      "metadata": {},
      "source": [
        "# train the  model"
      ]
    },
    {
      "cell_type": "code",
      "execution_count": 81,
      "metadata": {
        "colab": {
          "base_uri": "https://localhost:8080/"
        },
        "id": "yDI0_pXFWNCR",
        "outputId": "ef35aefe-9ea0-48a7-ba68-b954eb1540b8"
      },
      "outputs": [
        {
          "name": "stdout",
          "output_type": "stream",
          "text": [
            "Epoch 1/40\n",
            "5/5 [==============================] - 1s 99ms/step - loss: 1.0188 - accuracy: 0.4820 - val_loss: 1.5519 - val_accuracy: 0.0000e+00\n",
            "Epoch 2/40\n",
            "5/5 [==============================] - 0s 12ms/step - loss: 0.9092 - accuracy: 0.5396 - val_loss: 1.8485 - val_accuracy: 0.0000e+00\n",
            "Epoch 3/40\n",
            "5/5 [==============================] - 0s 12ms/step - loss: 0.7478 - accuracy: 0.7770 - val_loss: 0.6235 - val_accuracy: 0.9362\n",
            "Epoch 4/40\n",
            "5/5 [==============================] - 0s 12ms/step - loss: 0.7234 - accuracy: 0.7194 - val_loss: 0.8168 - val_accuracy: 0.6170\n",
            "Epoch 5/40\n",
            "5/5 [==============================] - 0s 11ms/step - loss: 0.4311 - accuracy: 0.8273 - val_loss: 1.0120 - val_accuracy: 0.4255\n",
            "Epoch 6/40\n",
            "5/5 [==============================] - 0s 12ms/step - loss: 0.2644 - accuracy: 0.9065 - val_loss: 0.2359 - val_accuracy: 0.9149\n",
            "Epoch 7/40\n",
            "5/5 [==============================] - 0s 13ms/step - loss: 0.3228 - accuracy: 0.8849 - val_loss: 0.2580 - val_accuracy: 0.8723\n",
            "Epoch 8/40\n",
            "5/5 [==============================] - 0s 13ms/step - loss: 0.2459 - accuracy: 0.9065 - val_loss: 0.9933 - val_accuracy: 0.6383\n",
            "Epoch 9/40\n",
            "5/5 [==============================] - 0s 12ms/step - loss: 0.2531 - accuracy: 0.9137 - val_loss: 0.2516 - val_accuracy: 0.8723\n",
            "Epoch 10/40\n",
            "5/5 [==============================] - 0s 14ms/step - loss: 0.2464 - accuracy: 0.9137 - val_loss: 0.8681 - val_accuracy: 0.5745\n",
            "Epoch 11/40\n",
            "5/5 [==============================] - 0s 14ms/step - loss: 0.1927 - accuracy: 0.9209 - val_loss: 0.3581 - val_accuracy: 0.8298\n",
            "Epoch 12/40\n",
            "5/5 [==============================] - 0s 15ms/step - loss: 0.1329 - accuracy: 0.9640 - val_loss: 0.2740 - val_accuracy: 0.8723\n",
            "Epoch 13/40\n",
            "5/5 [==============================] - 0s 12ms/step - loss: 0.1051 - accuracy: 0.9712 - val_loss: 0.7160 - val_accuracy: 0.7872\n",
            "Epoch 14/40\n",
            "5/5 [==============================] - 0s 12ms/step - loss: 0.0934 - accuracy: 0.9712 - val_loss: 0.3866 - val_accuracy: 0.8511\n",
            "Epoch 15/40\n",
            "5/5 [==============================] - 0s 12ms/step - loss: 0.1079 - accuracy: 0.9568 - val_loss: 0.2566 - val_accuracy: 0.8723\n",
            "Epoch 16/40\n",
            "5/5 [==============================] - 0s 12ms/step - loss: 0.1084 - accuracy: 0.9568 - val_loss: 0.4251 - val_accuracy: 0.8298\n",
            "Epoch 17/40\n",
            "5/5 [==============================] - 0s 12ms/step - loss: 0.0898 - accuracy: 0.9640 - val_loss: 0.4711 - val_accuracy: 0.8298\n",
            "Epoch 18/40\n",
            "5/5 [==============================] - 0s 12ms/step - loss: 0.0563 - accuracy: 0.9856 - val_loss: 0.4466 - val_accuracy: 0.8085\n",
            "Epoch 19/40\n",
            "5/5 [==============================] - 0s 12ms/step - loss: 0.0465 - accuracy: 0.9928 - val_loss: 0.5023 - val_accuracy: 0.7872\n",
            "Epoch 20/40\n",
            "5/5 [==============================] - 0s 12ms/step - loss: 0.0976 - accuracy: 0.9712 - val_loss: 0.4846 - val_accuracy: 0.8085\n",
            "Epoch 21/40\n",
            "5/5 [==============================] - 0s 12ms/step - loss: 0.0760 - accuracy: 0.9712 - val_loss: 0.3924 - val_accuracy: 0.8511\n",
            "Epoch 22/40\n",
            "5/5 [==============================] - 0s 12ms/step - loss: 0.0663 - accuracy: 0.9856 - val_loss: 0.7707 - val_accuracy: 0.7872\n",
            "Epoch 23/40\n",
            "5/5 [==============================] - 0s 12ms/step - loss: 0.0727 - accuracy: 0.9784 - val_loss: 0.4202 - val_accuracy: 0.7872\n",
            "Epoch 24/40\n",
            "5/5 [==============================] - 0s 16ms/step - loss: 0.0672 - accuracy: 0.9784 - val_loss: 0.3638 - val_accuracy: 0.8085\n",
            "Epoch 25/40\n",
            "5/5 [==============================] - 0s 12ms/step - loss: 0.0713 - accuracy: 0.9712 - val_loss: 0.8135 - val_accuracy: 0.7872\n",
            "Epoch 26/40\n",
            "5/5 [==============================] - 0s 14ms/step - loss: 0.0511 - accuracy: 0.9928 - val_loss: 0.3359 - val_accuracy: 0.8298\n",
            "Epoch 27/40\n",
            "5/5 [==============================] - 0s 12ms/step - loss: 0.0365 - accuracy: 1.0000 - val_loss: 0.4921 - val_accuracy: 0.7872\n",
            "Epoch 28/40\n",
            "5/5 [==============================] - 0s 12ms/step - loss: 0.0449 - accuracy: 1.0000 - val_loss: 0.1946 - val_accuracy: 0.9149\n",
            "Epoch 29/40\n",
            "5/5 [==============================] - 0s 13ms/step - loss: 0.0350 - accuracy: 0.9928 - val_loss: 0.2678 - val_accuracy: 0.8936\n",
            "Epoch 30/40\n",
            "5/5 [==============================] - 0s 12ms/step - loss: 0.0455 - accuracy: 0.9856 - val_loss: 1.3253 - val_accuracy: 0.7234\n",
            "Epoch 31/40\n",
            "5/5 [==============================] - 0s 12ms/step - loss: 0.0671 - accuracy: 0.9712 - val_loss: 0.1395 - val_accuracy: 0.9574\n",
            "Epoch 32/40\n",
            "5/5 [==============================] - 0s 12ms/step - loss: 0.0441 - accuracy: 0.9784 - val_loss: 1.7400 - val_accuracy: 0.6383\n",
            "Epoch 33/40\n",
            "5/5 [==============================] - 0s 13ms/step - loss: 0.0497 - accuracy: 0.9856 - val_loss: 0.6001 - val_accuracy: 0.7660\n",
            "Epoch 34/40\n",
            "5/5 [==============================] - 0s 12ms/step - loss: 0.0208 - accuracy: 1.0000 - val_loss: 0.1578 - val_accuracy: 0.9574\n",
            "Epoch 35/40\n",
            "5/5 [==============================] - 0s 12ms/step - loss: 0.0260 - accuracy: 0.9928 - val_loss: 0.8601 - val_accuracy: 0.7660\n",
            "Epoch 36/40\n",
            "5/5 [==============================] - 0s 12ms/step - loss: 0.0310 - accuracy: 0.9928 - val_loss: 0.7136 - val_accuracy: 0.7660\n",
            "Epoch 37/40\n",
            "5/5 [==============================] - 0s 13ms/step - loss: 0.0289 - accuracy: 0.9928 - val_loss: 0.2835 - val_accuracy: 0.9362\n",
            "Epoch 38/40\n",
            "5/5 [==============================] - 0s 12ms/step - loss: 0.0178 - accuracy: 1.0000 - val_loss: 0.4516 - val_accuracy: 0.8298\n",
            "Epoch 39/40\n",
            "5/5 [==============================] - 0s 12ms/step - loss: 0.0319 - accuracy: 0.9928 - val_loss: 0.5575 - val_accuracy: 0.7872\n",
            "Epoch 40/40\n",
            "5/5 [==============================] - 0s 12ms/step - loss: 0.0885 - accuracy: 0.9640 - val_loss: 0.3942 - val_accuracy: 0.8511\n"
          ]
        }
      ],
      "source": [
        "history = model.fit( X_train, y_train, epochs = 40, verbose=1 ,  validation_split=0.25  )"
      ]
    },
    {
      "attachments": {},
      "cell_type": "markdown",
      "metadata": {},
      "source": [
        "# plot the loss and the accuracy per epochs lineplot"
      ]
    },
    {
      "cell_type": "code",
      "execution_count": 82,
      "metadata": {
        "colab": {
          "base_uri": "https://localhost:8080/",
          "height": 590
        },
        "id": "zWwWqIMeWVuJ",
        "outputId": "d6419074-fe7b-4fa5-8be8-71a28388825e"
      },
      "outputs": [
        {
          "data": {
            "image/png": "[encoded data removed]",
            "text/plain": [
              "<Figure size 432x288 with 1 Axes>"
            ]
          },
          "metadata": {
            "needs_background": "light"
          },
          "output_type": "display_data"
        },
        {
          "data": {
            "text/plain": [
              "<matplotlib.legend.Legend at 0x7faa6c028f70>"
            ]
          },
          "execution_count": 82,
          "metadata": {},
          "output_type": "execute_result"
        },
        {
          "data": {
            "image/png": "[encoded data removed]",
            "text/plain": [
              "<Figure size 432x288 with 1 Axes>"
            ]
          },
          "metadata": {
            "needs_background": "light"
          },
          "output_type": "display_data"
        }
      ],
      "source": [
        "import matplotlib.pyplot as plt\n",
        "loss = history.history['loss']\n",
        "val_loss = history.history['val_loss']\n",
        "acc = history.history['accuracy']\n",
        "val_acc = history.history['val_accuracy']\n",
        "epochs = range(1, len(loss) + 1)\n",
        "plt.plot(epochs, loss, color='green', label='Training loss')\n",
        "plt.plot(epochs, val_loss, color='blue', linestyle='dashed', label='Validation loss')\n",
        "plt.xlabel('Epochs')\n",
        "plt.ylabel('Loss')\n",
        "plt.title('Training and validation loss')\n",
        "plt.legend()\n",
        "plt.show()\n",
        "plt.figure()\n",
        "plt.plot(epochs, acc, color='green', label='Training acc')\n",
        "plt.plot(epochs, val_acc, color='blue', linestyle='dashed', label='Validation acc')\n",
        "plt.xlabel('Epochs')\n",
        "plt.ylabel('accuracy')\n",
        "plt.title('Training and validation accuracy')\n",
        "plt.legend()\n"
      ]
    },
    {
      "attachments": {},
      "cell_type": "markdown",
      "metadata": {},
      "source": [
        "# train & test loss and accuracy"
      ]
    },
    {
      "cell_type": "code",
      "execution_count": 83,
      "metadata": {
        "colab": {
          "base_uri": "https://localhost:8080/"
        },
        "id": "EkYh86BhWcnU",
        "outputId": "59cafe5e-5d64-4fff-b91b-6570f04982fd"
      },
      "outputs": [
        {
          "name": "stdout",
          "output_type": "stream",
          "text": [
            "Train loss: 0.10996571183204651\n",
            "Train accuracy:  96.23655676841736 %\n"
          ]
        }
      ],
      "source": [
        "score = model.evaluate(X_train , y_train, verbose=0)\n",
        "\n",
        "print('Train loss:', score[0])\n",
        "print('Train accuracy: ', score[1]*100.0 ,'%')"
      ]
    },
    {
      "cell_type": "code",
      "execution_count": 84,
      "metadata": {
        "colab": {
          "base_uri": "https://localhost:8080/"
        },
        "id": "neYfPGSSWeM8",
        "outputId": "187624a0-8a93-49e4-97a4-a5ca3d7d2f2d"
      },
      "outputs": [
        {
          "name": "stdout",
          "output_type": "stream",
          "text": [
            "Test loss: 0.33685335516929626\n",
            "Test accuracy:  86.53846383094788 %\n"
          ]
        }
      ],
      "source": [
        "score = model.evaluate(X_test , y_test, verbose=0)\n",
        "print('Test loss:', score[0])\n",
        "print('Test accuracy: ', score[1]*100.0 ,'%')"
      ]
    }
  ],
  "metadata": {
    "accelerator": "GPU",
    "colab": {
      "provenance": []
    },
    "gpuClass": "standard",
    "kernelspec": {
      "display_name": "Python 3",
      "name": "python3"
    },
    "language_info": {
      "name": "python"
    }
  },
  "nbformat": 4,
  "nbformat_minor": 0
}
