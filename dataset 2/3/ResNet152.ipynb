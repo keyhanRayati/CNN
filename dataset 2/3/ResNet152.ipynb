{
  "cells": [
    {
      "cell_type": "code",
      "execution_count": 5,
      "metadata": {
        "id": "TigqoVMMP-pU"
      },
      "outputs": [],
      "source": [
        "import numpy as np\n",
        "from tensorflow import keras\n",
        "from tensorflow.keras import layers\n",
        "from tensorflow.keras.models import Sequential\n",
        "from tensorflow.keras.layers import Flatten, Conv2D, MaxPool2D, Dense, Dropout , Input\n",
        "from tensorflow.keras.utils import to_categorical\n",
        "from tensorflow.keras.preprocessing.image import ImageDataGenerator\n",
        "from tensorflow.keras.models import load_model\n",
        "from tensorflow.keras.layers import GlobalMaxPooling2D, MaxPooling2D\n",
        "from tensorflow.keras.layers import BatchNormalization\n",
        "from tensorflow.keras.models import Model\n",
        "from tensorflow.keras import regularizers, optimizers\n",
        "from sklearn.metrics import accuracy_score\n",
        "import matplotlib.pyplot as plt\n",
        "import pandas as pd\n",
        "from PIL import Image\n",
        "import glob\n",
        "import cv2\n",
        "import keras\n",
        "import tensorflow as tf\n",
        "\n",
        "\n",
        "\n",
        "\n",
        "import warnings\n",
        "warnings.filterwarnings('ignore')"
      ]
    },
    {
      "cell_type": "markdown",
      "metadata": {
        "id": "RsE1OwGuJo4I"
      },
      "source": [
        "# Prepare and load dataset"
      ]
    },
    {
      "cell_type": "code",
      "execution_count": 23,
      "metadata": {
        "id": "QUfKXoGgCgaX"
      },
      "outputs": [],
      "source": [
        "x_train = []\n",
        "y_train = []\n",
        "for img in glob.glob(\"/content/drive/MyDrive/datasets2/Covid19-dataset/train/Covid/*.jpeg\"):\n",
        "    n = cv2.imread(img)\n",
        "    n = cv2.resize(n, (130,130), interpolation = cv2.INTER_AREA)\n",
        "    x_train.append(n)\n",
        "    y_train.append( 0)\n",
        "\n",
        "for img in glob.glob(\"/content/drive/MyDrive/datasets2/Covid19-dataset/train/Normal/*.jpeg\"):\n",
        "    n = cv2.imread(img)\n",
        "    n = cv2.resize(n, (130,130), interpolation = cv2.INTER_AREA)\n",
        "    x_train.append(n)\n",
        "    y_train.append( 1)\n",
        "\n",
        "\n",
        "for img in glob.glob(r\"/content/drive/MyDrive/datasets2/Covid19-dataset/train/Viral Pneumonia/*.jpeg\"):\n",
        "    n = cv2.imread(img)\n",
        "    n = cv2.resize(n, (130,130), interpolation = cv2.INTER_AREA)\n",
        "    x_train.append(n)\n",
        "    y_train.append( 2)\n",
        "\n",
        "\n"
      ]
    },
    {
      "cell_type": "code",
      "execution_count": 24,
      "metadata": {
        "id": "K9hMt5K-ZfXF"
      },
      "outputs": [],
      "source": [
        "from sklearn.model_selection import train_test_split\n",
        "x_train, x_valid, y_train, y_valid = train_test_split(x_train, y_train, test_size=0.15, random_state=42)"
      ]
    },
    {
      "cell_type": "markdown",
      "metadata": {
        "id": "5YhV_1lKJo4N"
      },
      "source": [
        "# Prepare and load data Test"
      ]
    },
    {
      "cell_type": "code",
      "execution_count": 25,
      "metadata": {
        "id": "dqkaAsmYyQQV"
      },
      "outputs": [],
      "source": [
        "x_test = []\n",
        "y_test = []\n",
        "for img in glob.glob(\"/content/drive/MyDrive/datasets2/Covid19-dataset/test/Covid/*.jpeg\"):\n",
        "    n = cv2.imread(img)\n",
        "    n = cv2.resize(n, (130,130), interpolation = cv2.INTER_AREA)\n",
        "    x_test.append(n)\n",
        "    y_test.append(0)\n",
        "\n",
        "for img in glob.glob(\"/content/drive/MyDrive/datasets2/Covid19-dataset/test/Normal/*.jpeg\"):\n",
        "    n = cv2.imread(img)\n",
        "    n = cv2.resize(n, (130,130), interpolation = cv2.INTER_AREA)\n",
        "    x_test.append(n)\n",
        "    y_test.append( 1)\n",
        "\n",
        "\n",
        "for img in glob.glob(\"/content/drive/MyDrive/datasets2/Covid19-dataset/test/Viral Pneumonia/*.jpeg\"):\n",
        "    n = cv2.imread(img)\n",
        "    n = cv2.resize(n, (130,130), interpolation = cv2.INTER_AREA)\n",
        "    x_test.append(n)\n",
        "    y_test.append( 2)"
      ]
    },
    {
      "attachments": {},
      "cell_type": "markdown",
      "metadata": {
        "id": "zm9YBMbUHnba"
      },
      "source": [
        "# Preprocess the data"
      ]
    },
    {
      "cell_type": "code",
      "execution_count": 27,
      "metadata": {
        "id": "QGvYnniBL8j5"
      },
      "outputs": [],
      "source": [
        "x_train = np.array(x_train)\n",
        "x_test = np.array(x_test)\n",
        "x_valid = np.array(x_valid)\n",
        "y_valid = np.array(y_valid)\n",
        "y_train = np.array(y_train)\n",
        "y_test = np.array(y_test)"
      ]
    },
    {
      "cell_type": "code",
      "execution_count": 28,
      "metadata": {
        "id": "iyk1vvm4Cgag"
      },
      "outputs": [],
      "source": [
        "from tensorflow.keras.applications.resnet import preprocess_input \n",
        "\n",
        "train_ds = preprocess_input(x_train)\n",
        "valid_ds = preprocess_input(x_valid) \n",
        "test_ds = preprocess_input(x_test)"
      ]
    },
    {
      "attachments": {},
      "cell_type": "markdown",
      "metadata": {},
      "source": [
        "# Create the base model from the pre-trained model ResNet152"
      ]
    },
    {
      "cell_type": "code",
      "execution_count": 29,
      "metadata": {
        "id": "1xxAvUKOMoqB"
      },
      "outputs": [],
      "source": [
        "from tensorflow.keras.applications.resnet import ResNet152\n",
        "\n",
        "base_model = tf.keras.applications.ResNet152(weights = 'imagenet', include_top = False, input_shape = (130,130,3))\n",
        "for layer in base_model.layers:\n",
        "  layer.trainable = False"
      ]
    },
    {
      "cell_type": "code",
      "execution_count": 30,
      "metadata": {
        "id": "nt04jGzMCgag"
      },
      "outputs": [],
      "source": [
        "model = Sequential()\n",
        "model.add(base_model)\n",
        "model.add(Flatten())\n",
        "model.add(Dropout(0.5))\n",
        "\n",
        "model.add(Dense(4096,activation='relu'))\n",
        "model.add(Dense(4096,activation='relu'))\n",
        "model.add(Dense(3 , activation = 'softmax'))\n",
        "model.compile(loss='sparse_categorical_crossentropy',optimizer='Adam',metrics=['accuracy'])"
      ]
    },
    {
      "attachments": {},
      "cell_type": "markdown",
      "metadata": {
        "id": "5iB3QRkdJo4R"
      },
      "source": [
        "# Train the model"
      ]
    },
    {
      "cell_type": "code",
      "execution_count": 31,
      "metadata": {
        "colab": {
          "base_uri": "https://localhost:8080/"
        },
        "id": "hLyhUhAlbnnm",
        "outputId": "e05e959d-4295-4eb0-c788-25a9382a2ccb"
      },
      "outputs": [
        {
          "name": "stdout",
          "output_type": "stream",
          "text": [
            "Epoch 1/50\n",
            "5/5 [==============================] - 14s 2s/step - loss: 332.5443 - accuracy: 0.3354 - val_loss: 5.5959 - val_accuracy: 0.8214\n",
            "Epoch 2/50\n",
            "5/5 [==============================] - 2s 398ms/step - loss: 3.2740 - accuracy: 0.6962 - val_loss: 0.5489 - val_accuracy: 0.9286\n",
            "Epoch 3/50\n",
            "5/5 [==============================] - 1s 184ms/step - loss: 0.7208 - accuracy: 0.9494 - val_loss: 0.5506 - val_accuracy: 0.9286\n",
            "Epoch 4/50\n",
            "5/5 [==============================] - 1s 184ms/step - loss: 0.5919 - accuracy: 0.9430 - val_loss: 2.3295 - val_accuracy: 0.8571\n",
            "Epoch 5/50\n",
            "5/5 [==============================] - 1s 196ms/step - loss: 0.1373 - accuracy: 0.9747 - val_loss: 0.9307 - val_accuracy: 0.7500\n",
            "Epoch 6/50\n",
            "5/5 [==============================] - 1s 186ms/step - loss: 0.1451 - accuracy: 0.9620 - val_loss: 0.7210 - val_accuracy: 0.9286\n",
            "Epoch 7/50\n",
            "5/5 [==============================] - 2s 419ms/step - loss: 9.6996e-05 - accuracy: 1.0000 - val_loss: 0.3812 - val_accuracy: 0.9643\n",
            "Epoch 8/50\n",
            "5/5 [==============================] - 1s 198ms/step - loss: 0.0036 - accuracy: 1.0000 - val_loss: 0.4095 - val_accuracy: 0.9286\n",
            "Epoch 9/50\n",
            "5/5 [==============================] - 1s 184ms/step - loss: 0.0056 - accuracy: 1.0000 - val_loss: 0.9379 - val_accuracy: 0.9286\n",
            "Epoch 10/50\n",
            "5/5 [==============================] - 1s 196ms/step - loss: 7.5013e-05 - accuracy: 1.0000 - val_loss: 1.5325 - val_accuracy: 0.8571\n",
            "Epoch 11/50\n",
            "5/5 [==============================] - 1s 185ms/step - loss: 0.0028 - accuracy: 1.0000 - val_loss: 1.7413 - val_accuracy: 0.8571\n",
            "Epoch 12/50\n",
            "5/5 [==============================] - 1s 184ms/step - loss: 7.6151e-05 - accuracy: 1.0000 - val_loss: 1.6035 - val_accuracy: 0.8571\n",
            "Epoch 13/50\n",
            "5/5 [==============================] - 1s 185ms/step - loss: 0.0036 - accuracy: 1.0000 - val_loss: 1.0765 - val_accuracy: 0.8929\n",
            "Epoch 14/50\n",
            "5/5 [==============================] - 1s 184ms/step - loss: 3.8684e-05 - accuracy: 1.0000 - val_loss: 0.8315 - val_accuracy: 0.8929\n",
            "Epoch 15/50\n",
            "5/5 [==============================] - 1s 185ms/step - loss: 0.0045 - accuracy: 0.9937 - val_loss: 0.8927 - val_accuracy: 0.8929\n",
            "Epoch 16/50\n",
            "5/5 [==============================] - 1s 186ms/step - loss: 6.0886e-07 - accuracy: 1.0000 - val_loss: 1.1603 - val_accuracy: 0.8929\n",
            "Epoch 17/50\n",
            "5/5 [==============================] - 1s 186ms/step - loss: 2.7162e-08 - accuracy: 1.0000 - val_loss: 1.3245 - val_accuracy: 0.8929\n",
            "Epoch 18/50\n",
            "5/5 [==============================] - 1s 186ms/step - loss: 6.8957e-07 - accuracy: 1.0000 - val_loss: 1.4592 - val_accuracy: 0.8571\n",
            "Epoch 19/50\n",
            "5/5 [==============================] - 1s 193ms/step - loss: 3.9458e-06 - accuracy: 1.0000 - val_loss: 1.5581 - val_accuracy: 0.8571\n",
            "Epoch 20/50\n",
            "5/5 [==============================] - 1s 196ms/step - loss: 1.9961e-05 - accuracy: 1.0000 - val_loss: 1.5860 - val_accuracy: 0.8571\n",
            "Epoch 21/50\n",
            "5/5 [==============================] - 1s 197ms/step - loss: 6.9130e-06 - accuracy: 1.0000 - val_loss: 1.5804 - val_accuracy: 0.8571\n",
            "Epoch 22/50\n",
            "5/5 [==============================] - 1s 191ms/step - loss: 4.3588e-06 - accuracy: 1.0000 - val_loss: 1.5422 - val_accuracy: 0.8571\n",
            "Epoch 23/50\n",
            "5/5 [==============================] - 1s 196ms/step - loss: 3.1247e-06 - accuracy: 1.0000 - val_loss: 1.4827 - val_accuracy: 0.8571\n",
            "Epoch 24/50\n",
            "5/5 [==============================] - 1s 186ms/step - loss: 2.1886e-06 - accuracy: 1.0000 - val_loss: 1.4144 - val_accuracy: 0.8571\n",
            "Epoch 25/50\n",
            "5/5 [==============================] - 1s 184ms/step - loss: 6.3377e-08 - accuracy: 1.0000 - val_loss: 1.3597 - val_accuracy: 0.8571\n",
            "Epoch 26/50\n",
            "5/5 [==============================] - 1s 186ms/step - loss: 8.1933e-07 - accuracy: 1.0000 - val_loss: 1.3202 - val_accuracy: 0.8571\n",
            "Epoch 27/50\n",
            "5/5 [==============================] - 1s 185ms/step - loss: 4.8287e-08 - accuracy: 1.0000 - val_loss: 1.2811 - val_accuracy: 0.8571\n",
            "Epoch 28/50\n",
            "5/5 [==============================] - 1s 184ms/step - loss: 2.0975e-07 - accuracy: 1.0000 - val_loss: 1.2532 - val_accuracy: 0.8571\n",
            "Epoch 29/50\n",
            "5/5 [==============================] - 1s 185ms/step - loss: 5.1756e-07 - accuracy: 1.0000 - val_loss: 1.2325 - val_accuracy: 0.8571\n",
            "Epoch 30/50\n",
            "5/5 [==============================] - 1s 186ms/step - loss: 4.8965e-07 - accuracy: 1.0000 - val_loss: 1.2061 - val_accuracy: 0.8929\n",
            "Epoch 31/50\n",
            "5/5 [==============================] - 1s 186ms/step - loss: 1.4342e-06 - accuracy: 1.0000 - val_loss: 1.1622 - val_accuracy: 0.8929\n",
            "Epoch 32/50\n",
            "5/5 [==============================] - 1s 184ms/step - loss: 6.2623e-08 - accuracy: 1.0000 - val_loss: 1.1311 - val_accuracy: 0.8929\n",
            "Epoch 33/50\n",
            "5/5 [==============================] - 1s 196ms/step - loss: 3.9233e-08 - accuracy: 1.0000 - val_loss: 1.1127 - val_accuracy: 0.8929\n",
            "Epoch 34/50\n",
            "5/5 [==============================] - 1s 185ms/step - loss: 5.6207e-07 - accuracy: 1.0000 - val_loss: 1.1054 - val_accuracy: 0.8929\n",
            "Epoch 35/50\n",
            "5/5 [==============================] - 1s 185ms/step - loss: 5.2814e-08 - accuracy: 1.0000 - val_loss: 1.1134 - val_accuracy: 0.8929\n",
            "Epoch 36/50\n",
            "5/5 [==============================] - 1s 186ms/step - loss: 3.2443e-08 - accuracy: 1.0000 - val_loss: 1.1185 - val_accuracy: 0.8929\n",
            "Epoch 37/50\n",
            "5/5 [==============================] - ETA: 0s - loss: 7.0167e-08 - accuracy: 1.0000Restoring model weights from the end of the best epoch: 7.\n",
            "5/5 [==============================] - 1s 328ms/step - loss: 7.0167e-08 - accuracy: 1.0000 - val_loss: 1.1214 - val_accuracy: 0.8929\n",
            "Epoch 37: early stopping\n"
          ]
        }
      ],
      "source": [
        "from tensorflow.keras.callbacks import EarlyStopping\n",
        "\n",
        "\n",
        "\n",
        "history = model.fit(train_ds,y_train, validation_data= (valid_ds,y_valid),  \n",
        "                              epochs=50,\n",
        "                              verbose=1,callbacks=[tf.keras.callbacks.EarlyStopping\n",
        "                               (monitor=\"val_loss\",\n",
        "                                patience=30,verbose=1,\n",
        "                                restore_best_weights=True),\n",
        "                               ])"
      ]
    },
    {
      "cell_type": "markdown",
      "metadata": {
        "id": "o1i6Kp0pJo4T"
      },
      "source": [
        "# plot the loss and accuracy of the model"
      ]
    },
    {
      "cell_type": "code",
      "execution_count": 32,
      "metadata": {
        "colab": {
          "base_uri": "https://localhost:8080/",
          "height": 281
        },
        "id": "gcBB7V8JEbna",
        "outputId": "3f8a1f0c-76b9-47de-d5a9-6d93ef04dab1"
      },
      "outputs": [
        {
          "data": {
            "image/png": "[encoded data removed]",
            "text/plain": [
              "<Figure size 1080x288 with 2 Axes>"
            ]
          },
          "metadata": {
            "needs_background": "light"
          },
          "output_type": "display_data"
        }
      ],
      "source": [
        "import matplotlib.pyplot as plt\n",
        "fig, ax = plt.subplots(1, 2, figsize = (15, 4))\n",
        "ax[0].plot(history.history['loss'], color='b', label=\"Training loss\")\n",
        "ax[0].plot(history.history['val_loss'], color='r', label=\"validation loss\",axes =ax[0])\n",
        "ax[0].set_title('Loss function per ephoch')\n",
        "legend = ax[0].legend(loc='best', shadow=True)\n",
        "ax[1].plot(history.history['accuracy'], color='b', label=\"Training accuracy\")\n",
        "ax[1].plot(history.history['val_accuracy'], color='r',label=\"Validation accuracy\")\n",
        "ax[1].set_title('Model Accuracy')\n",
        "legend = ax[1].legend(loc='best', shadow=True)"
      ]
    },
    {
      "cell_type": "markdown",
      "metadata": {
        "id": "qIYQFXxeJo4T"
      },
      "source": [
        "# train & test loss and accuracy"
      ]
    },
    {
      "cell_type": "code",
      "execution_count": 33,
      "metadata": {
        "colab": {
          "base_uri": "https://localhost:8080/"
        },
        "id": "Hy9cUaCMHLRh",
        "outputId": "dcfd473b-c8ee-41c6-ce52-115dd9c37adc"
      },
      "outputs": [
        {
          "name": "stdout",
          "output_type": "stream",
          "text": [
            "5/5 [==============================] - 1s 120ms/step - loss: 0.0010 - accuracy: 1.0000\n",
            "train acc: 1.0\n",
            "train loss: 0.0010126514825969934\n"
          ]
        }
      ],
      "source": [
        "train_loss, train_acc= model.evaluate(train_ds,y_train)\n",
        "print('train acc:', train_acc)\n",
        "print('train loss:', train_loss)"
      ]
    },
    {
      "cell_type": "code",
      "execution_count": 34,
      "metadata": {
        "colab": {
          "base_uri": "https://localhost:8080/"
        },
        "id": "5dy_luE5Hsmr",
        "outputId": "e2a97be9-ed41-430a-ae98-e8bafbf8facb"
      },
      "outputs": [
        {
          "name": "stdout",
          "output_type": "stream",
          "text": [
            "2/2 [==============================] - 1s 541ms/step - loss: 0.8089 - accuracy: 0.9038\n",
            "test acc: 0.9038461446762085\n",
            "test loss: 0.8089081048965454\n"
          ]
        }
      ],
      "source": [
        "test_loss, test_acc = model.evaluate(test_ds,y_test)\n",
        "print('test acc:', test_acc)\n",
        "print('test loss:', test_loss)"
      ]
    }
  ],
  "metadata": {
    "accelerator": "GPU",
    "colab": {
      "provenance": []
    },
    "gpuClass": "standard",
    "kernelspec": {
      "display_name": "Python 3",
      "language": "python",
      "name": "python3"
    },
    "language_info": {
      "codemirror_mode": {
        "name": "ipython",
        "version": 3
      },
      "file_extension": ".py",
      "mimetype": "text/x-python",
      "name": "python",
      "nbconvert_exporter": "python",
      "pygments_lexer": "ipython3",
      "version": "3.10.5 (tags/v3.10.5:f377153, Jun  6 2022, 16:14:13) [MSC v.1929 64 bit (AMD64)]"
    },
    "vscode": {
      "interpreter": {
        "hash": "98a70705198618b40757f4d0e0cd81e920cd534dd864d2ad541ce8c6b4f10eed"
      }
    }
  },
  "nbformat": 4,
  "nbformat_minor": 0
}
