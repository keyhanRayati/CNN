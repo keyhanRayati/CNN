{
  "cells": [
    {
      "cell_type": "code",
      "execution_count": 5,
      "metadata": {
        "id": "TigqoVMMP-pU"
      },
      "outputs": [],
      "source": [
        "import numpy as np\n",
        "from tensorflow import keras\n",
        "from tensorflow.keras import layers\n",
        "from tensorflow.keras.models import Sequential\n",
        "from tensorflow.keras.layers import Flatten, Conv2D, MaxPool2D, Dense, Dropout , Input\n",
        "from tensorflow.keras.utils import to_categorical\n",
        "from tensorflow.keras.preprocessing.image import ImageDataGenerator\n",
        "from tensorflow.keras.models import load_model\n",
        "from tensorflow.keras.layers import GlobalMaxPooling2D, MaxPooling2D\n",
        "from tensorflow.keras.layers import BatchNormalization\n",
        "from tensorflow.keras.models import Model\n",
        "from tensorflow.keras import regularizers, optimizers\n",
        "from sklearn.metrics import accuracy_score\n",
        "import matplotlib.pyplot as plt\n",
        "import pandas as pd\n",
        "from PIL import Image\n",
        "import glob\n",
        "import cv2\n",
        "import keras\n",
        "import tensorflow as tf\n",
        "\n",
        "\n",
        "\n",
        "\n",
        "import warnings\n",
        "warnings.filterwarnings('ignore')"
      ]
    },
    {
      "cell_type": "markdown",
      "metadata": {
        "id": "RsE1OwGuJo4I"
      },
      "source": [
        "# Prepare and load dataset"
      ]
    },
    {
      "cell_type": "code",
      "execution_count": 6,
      "metadata": {
        "id": "QUfKXoGgCgaX"
      },
      "outputs": [],
      "source": [
        "x_train = []\n",
        "y_train = []\n",
        "for img in glob.glob(\"/content/drive/MyDrive/datasets/Training/glioma_tumor/*.jpg\"):\n",
        "    n = cv2.imread(img)\n",
        "    n = cv2.resize(n,(130,130), interpolation = cv2.INTER_AREA)\n",
        "    x_train.append(n)\n",
        "    y_train.append(0)\n",
        "\n",
        "for img in glob.glob(\"/content/drive/MyDrive/datasets/Training/meningioma_tumor/*.jpg\"):\n",
        "    n = cv2.imread(img)\n",
        "    n = cv2.resize(n,(130,130), interpolation = cv2.INTER_AREA)\n",
        "    x_train.append(n)\n",
        "    y_train.append(1)\n",
        "\n",
        "\n",
        "for img in glob.glob(\"/content/drive/MyDrive/datasets/Training/no_tumor/*.jpg\"):\n",
        "    n = cv2.imread(img)\n",
        "    n = cv2.resize(n, (130,130), interpolation = cv2.INTER_AREA)\n",
        "    x_train.append(n)\n",
        "    y_train.append(2)\n",
        "\n",
        "for img in glob.glob(\"/content/drive/MyDrive/datasets/Training/pituitary_tumor/*.jpg\"):\n",
        "    n = cv2.imread(img)\n",
        "    n = cv2.resize(n, (130,130), interpolation = cv2.INTER_AREA)\n",
        "    x_train.append(n)\n",
        "    y_train.append(3)\n"
      ]
    },
    {
      "cell_type": "code",
      "execution_count": 7,
      "metadata": {
        "id": "K9hMt5K-ZfXF"
      },
      "outputs": [],
      "source": [
        "from sklearn.model_selection import train_test_split\n",
        "x_train, x_valid, y_train, y_valid = train_test_split(x_train, y_train, test_size=0.15, random_state=42)"
      ]
    },
    {
      "cell_type": "markdown",
      "metadata": {
        "id": "5YhV_1lKJo4N"
      },
      "source": [
        "# Prepare and load data Test"
      ]
    },
    {
      "cell_type": "code",
      "execution_count": 8,
      "metadata": {
        "id": "dqkaAsmYyQQV"
      },
      "outputs": [],
      "source": [
        "x_test = []\n",
        "y_test = []\n",
        "for img in glob.glob(\"/content/drive/MyDrive/datasets/Testing/glioma_tumor/*.jpg\"):\n",
        "    n = cv2.imread(img)\n",
        "    n = cv2.resize(n, (130,130), interpolation = cv2.INTER_AREA)\n",
        "    x_test.append(n)\n",
        "    y_test.append(0)\n",
        "\n",
        "for img in glob.glob(\"/content/drive/MyDrive/datasets/Testing/meningioma_tumor/*.jpg\"):\n",
        "    n = cv2.imread(img)\n",
        "    n = cv2.resize(n, (130,130), interpolation = cv2.INTER_AREA)\n",
        "    x_test.append(n)\n",
        "    y_test.append( 1)\n",
        "\n",
        "\n",
        "for img in glob.glob(\"/content/drive/MyDrive/datasets/Testing/no_tumor/*.jpg\"):\n",
        "    n = cv2.imread(img)\n",
        "    n = cv2.resize(n, (130,130), interpolation = cv2.INTER_AREA)\n",
        "    x_test.append(n)\n",
        "    y_test.append( 2)\n",
        "\n",
        "\n",
        "\n",
        "\n",
        "for img in glob.glob(\"/content/drive/MyDrive/datasets/Testing/pituitary_tumor/*.jpg\"):\n",
        "    n = cv2.imread(img)\n",
        "    n = cv2.resize(n, (130,130), interpolation = cv2.INTER_AREA)\n",
        "    x_test.append(n)\n",
        "    y_test.append( 3)"
      ]
    },
    {
      "attachments": {},
      "cell_type": "markdown",
      "metadata": {},
      "source": [
        "# Preprocess the data"
      ]
    },
    {
      "cell_type": "code",
      "execution_count": 10,
      "metadata": {
        "id": "QGvYnniBL8j5"
      },
      "outputs": [],
      "source": [
        "x_train = np.array(x_train)\n",
        "x_test = np.array(x_test)\n",
        "x_valid = np.array(x_valid)\n",
        "y_valid = np.array(y_valid)\n",
        "y_train = np.array(y_train)\n",
        "y_test = np.array(y_test)"
      ]
    },
    {
      "cell_type": "code",
      "execution_count": 11,
      "metadata": {
        "id": "iyk1vvm4Cgag"
      },
      "outputs": [],
      "source": [
        "from tensorflow.keras.applications.resnet import preprocess_input\n",
        "\n",
        "train_ds = preprocess_input(x_train)\n",
        "valid_ds = preprocess_input(x_valid) \n",
        "test_ds = preprocess_input(x_test)"
      ]
    },
    {
      "cell_type": "markdown",
      "metadata": {
        "id": "zm9YBMbUHnba"
      },
      "source": [
        "# Create the base model from the pre-trained model ResNet152"
      ]
    },
    {
      "cell_type": "code",
      "execution_count": 12,
      "metadata": {
        "colab": {
          "base_uri": "https://localhost:8080/"
        },
        "id": "1xxAvUKOMoqB",
        "outputId": "7e445458-c524-4dfc-a8d9-37026befea5e"
      },
      "outputs": [
        {
          "name": "stdout",
          "output_type": "stream",
          "text": [
            "Downloading data from https://storage.googleapis.com/tensorflow/keras-applications/resnet/resnet152_weights_tf_dim_ordering_tf_kernels_notop.h5\n",
            "234698864/234698864 [==============================] - 11s 0us/step\n"
          ]
        }
      ],
      "source": [
        "from tensorflow.keras.applications.resnet import ResNet152\n",
        "\n",
        "base_model = tf.keras.applications.ResNet152(weights = 'imagenet', include_top = False, input_shape = (130,130,3))\n",
        "for layer in base_model.layers:\n",
        "  layer.trainable = False"
      ]
    },
    {
      "cell_type": "code",
      "execution_count": 16,
      "metadata": {
        "id": "nt04jGzMCgag"
      },
      "outputs": [],
      "source": [
        "model = Sequential()\n",
        "model.add(base_model)\n",
        "model.add(Flatten())\n",
        "model.add(Dropout(0.5))\n",
        "\n",
        "model.add(Dense(4096,activation='relu'))\n",
        "model.add(Dense(4096,activation='relu'))\n",
        "model.add(Dense(4 , activation = 'softmax'))\n",
        "model.compile(loss='sparse_categorical_crossentropy',optimizer='Adam',metrics=['accuracy'])"
      ]
    },
    {
      "attachments": {},
      "cell_type": "markdown",
      "metadata": {
        "id": "5iB3QRkdJo4R"
      },
      "source": [
        "# Train the model"
      ]
    },
    {
      "cell_type": "code",
      "execution_count": 17,
      "metadata": {
        "colab": {
          "base_uri": "https://localhost:8080/"
        },
        "id": "hLyhUhAlbnnm",
        "outputId": "5c28185b-6664-47b6-d5b4-989fd0af7828"
      },
      "outputs": [
        {
          "name": "stdout",
          "output_type": "stream",
          "text": [
            "Epoch 1/50\n",
            "77/77 [==============================] - 35s 268ms/step - loss: 9.6060 - accuracy: 0.7372 - val_loss: 0.5106 - val_accuracy: 0.8376\n",
            "Epoch 2/50\n",
            "77/77 [==============================] - 15s 190ms/step - loss: 0.2851 - accuracy: 0.9008 - val_loss: 0.3569 - val_accuracy: 0.8863\n",
            "Epoch 3/50\n",
            "77/77 [==============================] - 14s 181ms/step - loss: 0.1934 - accuracy: 0.9319 - val_loss: 0.7379 - val_accuracy: 0.8144\n",
            "Epoch 4/50\n",
            "77/77 [==============================] - 15s 195ms/step - loss: 0.1666 - accuracy: 0.9438 - val_loss: 0.4738 - val_accuracy: 0.8863\n",
            "Epoch 5/50\n",
            "77/77 [==============================] - 14s 183ms/step - loss: 0.1313 - accuracy: 0.9541 - val_loss: 0.5442 - val_accuracy: 0.8956\n",
            "Epoch 6/50\n",
            "77/77 [==============================] - 14s 184ms/step - loss: 0.1565 - accuracy: 0.9578 - val_loss: 0.7251 - val_accuracy: 0.8654\n",
            "Epoch 7/50\n",
            "77/77 [==============================] - 14s 185ms/step - loss: 0.2386 - accuracy: 0.9422 - val_loss: 0.5761 - val_accuracy: 0.8677\n",
            "Epoch 8/50\n",
            "77/77 [==============================] - 14s 187ms/step - loss: 0.1002 - accuracy: 0.9676 - val_loss: 0.7029 - val_accuracy: 0.8747\n",
            "Epoch 9/50\n",
            "77/77 [==============================] - 15s 202ms/step - loss: 0.1304 - accuracy: 0.9647 - val_loss: 0.3561 - val_accuracy: 0.9281\n",
            "Epoch 10/50\n",
            "77/77 [==============================] - 15s 190ms/step - loss: 0.0612 - accuracy: 0.9787 - val_loss: 0.3781 - val_accuracy: 0.9304\n",
            "Epoch 11/50\n",
            "77/77 [==============================] - 15s 199ms/step - loss: 0.0592 - accuracy: 0.9807 - val_loss: 0.8426 - val_accuracy: 0.8515\n",
            "Epoch 12/50\n",
            "77/77 [==============================] - 14s 187ms/step - loss: 0.0359 - accuracy: 0.9885 - val_loss: 0.4354 - val_accuracy: 0.9118\n",
            "Epoch 13/50\n",
            "77/77 [==============================] - 14s 186ms/step - loss: 0.0494 - accuracy: 0.9856 - val_loss: 0.4504 - val_accuracy: 0.9142\n",
            "Epoch 14/50\n",
            "77/77 [==============================] - 15s 198ms/step - loss: 0.0342 - accuracy: 0.9881 - val_loss: 0.4161 - val_accuracy: 0.9142\n",
            "Epoch 15/50\n",
            "77/77 [==============================] - 14s 188ms/step - loss: 0.0335 - accuracy: 0.9906 - val_loss: 0.4820 - val_accuracy: 0.9095\n",
            "Epoch 16/50\n",
            "77/77 [==============================] - 14s 188ms/step - loss: 0.0095 - accuracy: 0.9959 - val_loss: 0.4781 - val_accuracy: 0.9165\n",
            "Epoch 17/50\n",
            "77/77 [==============================] - 15s 198ms/step - loss: 0.0156 - accuracy: 0.9963 - val_loss: 0.5193 - val_accuracy: 0.9026\n",
            "Epoch 18/50\n",
            "77/77 [==============================] - 14s 186ms/step - loss: 0.0175 - accuracy: 0.9922 - val_loss: 0.4035 - val_accuracy: 0.9304\n",
            "Epoch 19/50\n",
            "77/77 [==============================] - 14s 186ms/step - loss: 0.0121 - accuracy: 0.9955 - val_loss: 0.3709 - val_accuracy: 0.9142\n",
            "Epoch 20/50\n",
            "77/77 [==============================] - 14s 186ms/step - loss: 0.0470 - accuracy: 0.9885 - val_loss: 0.7601 - val_accuracy: 0.8770\n",
            "Epoch 21/50\n",
            "77/77 [==============================] - 14s 186ms/step - loss: 0.0857 - accuracy: 0.9791 - val_loss: 1.1755 - val_accuracy: 0.8910\n",
            "Epoch 22/50\n",
            "77/77 [==============================] - 15s 198ms/step - loss: 0.0467 - accuracy: 0.9873 - val_loss: 0.5971 - val_accuracy: 0.9211\n",
            "Epoch 23/50\n",
            "77/77 [==============================] - 14s 186ms/step - loss: 0.0522 - accuracy: 0.9865 - val_loss: 0.4732 - val_accuracy: 0.9188\n",
            "Epoch 24/50\n",
            "77/77 [==============================] - 14s 187ms/step - loss: 0.0336 - accuracy: 0.9902 - val_loss: 0.8592 - val_accuracy: 0.8979\n",
            "Epoch 25/50\n",
            "77/77 [==============================] - 14s 186ms/step - loss: 0.0217 - accuracy: 0.9934 - val_loss: 0.6144 - val_accuracy: 0.9258\n",
            "Epoch 26/50\n",
            "77/77 [==============================] - 14s 188ms/step - loss: 0.0514 - accuracy: 0.9869 - val_loss: 0.8850 - val_accuracy: 0.9026\n",
            "Epoch 27/50\n",
            "77/77 [==============================] - 15s 189ms/step - loss: 0.0788 - accuracy: 0.9820 - val_loss: 1.2885 - val_accuracy: 0.8840\n",
            "Epoch 28/50\n",
            "77/77 [==============================] - 14s 186ms/step - loss: 0.1654 - accuracy: 0.9709 - val_loss: 0.6400 - val_accuracy: 0.9142\n",
            "Epoch 29/50\n",
            "77/77 [==============================] - 14s 186ms/step - loss: 0.1067 - accuracy: 0.9779 - val_loss: 0.7732 - val_accuracy: 0.8840\n",
            "Epoch 30/50\n",
            "77/77 [==============================] - 14s 186ms/step - loss: 0.0411 - accuracy: 0.9893 - val_loss: 0.5502 - val_accuracy: 0.9281\n",
            "Epoch 31/50\n",
            "77/77 [==============================] - 15s 198ms/step - loss: 0.0504 - accuracy: 0.9881 - val_loss: 0.8125 - val_accuracy: 0.9072\n",
            "Epoch 32/50\n",
            "77/77 [==============================] - 15s 197ms/step - loss: 0.0202 - accuracy: 0.9955 - val_loss: 0.5652 - val_accuracy: 0.9234\n",
            "Epoch 33/50\n",
            "77/77 [==============================] - 15s 198ms/step - loss: 0.0113 - accuracy: 0.9959 - val_loss: 0.6290 - val_accuracy: 0.9118\n",
            "Epoch 34/50\n",
            "77/77 [==============================] - 14s 186ms/step - loss: 0.0279 - accuracy: 0.9922 - val_loss: 0.5924 - val_accuracy: 0.9118\n",
            "Epoch 35/50\n",
            "77/77 [==============================] - 14s 186ms/step - loss: 0.0107 - accuracy: 0.9963 - val_loss: 0.7018 - val_accuracy: 0.9118\n",
            "Epoch 36/50\n",
            "77/77 [==============================] - 14s 186ms/step - loss: 0.0121 - accuracy: 0.9959 - val_loss: 0.5803 - val_accuracy: 0.9211\n",
            "Epoch 37/50\n",
            "77/77 [==============================] - 14s 186ms/step - loss: 0.0304 - accuracy: 0.9914 - val_loss: 0.6996 - val_accuracy: 0.9072\n",
            "Epoch 38/50\n",
            "77/77 [==============================] - 14s 185ms/step - loss: 0.0189 - accuracy: 0.9914 - val_loss: 0.7268 - val_accuracy: 0.9350\n",
            "Epoch 39/50\n",
            "77/77 [==============================] - ETA: 0s - loss: 0.0308 - accuracy: 0.9938Restoring model weights from the end of the best epoch: 9.\n",
            "77/77 [==============================] - 15s 195ms/step - loss: 0.0308 - accuracy: 0.9938 - val_loss: 0.7472 - val_accuracy: 0.9095\n",
            "Epoch 39: early stopping\n"
          ]
        }
      ],
      "source": [
        "from tensorflow.keras.callbacks import EarlyStopping\n",
        "\n",
        "\n",
        "\n",
        "history = model.fit(train_ds,y_train, validation_data= (valid_ds,y_valid),  \n",
        "                              epochs=50,\n",
        "                              verbose=1,callbacks=[tf.keras.callbacks.EarlyStopping\n",
        "                               (monitor=\"val_loss\",\n",
        "                                patience=30,verbose=1,\n",
        "                                restore_best_weights=True),\n",
        "                               ])"
      ]
    },
    {
      "cell_type": "markdown",
      "metadata": {
        "id": "o1i6Kp0pJo4T"
      },
      "source": [
        "# plot the loss and accuracy of the model"
      ]
    },
    {
      "cell_type": "code",
      "execution_count": 18,
      "metadata": {
        "colab": {
          "base_uri": "https://localhost:8080/",
          "height": 281
        },
        "id": "gcBB7V8JEbna",
        "outputId": "f341e01e-828e-4108-d37c-009df96a19b5"
      },
      "outputs": [
        {
          "data": {
            "image/png": "[encoded data removed]",
            "text/plain": [
              "<Figure size 1080x288 with 2 Axes>"
            ]
          },
          "metadata": {
            "needs_background": "light"
          },
          "output_type": "display_data"
        }
      ],
      "source": [
        "import matplotlib.pyplot as plt\n",
        "fig, ax = plt.subplots(1, 2, figsize = (15, 4))\n",
        "ax[0].plot(history.history['loss'], color='b', label=\"Training loss\")\n",
        "ax[0].plot(history.history['val_loss'], color='r', label=\"validation loss\",axes =ax[0])\n",
        "ax[0].set_title('Loss function per ephoch')\n",
        "legend = ax[0].legend(loc='best', shadow=True)\n",
        "ax[1].plot(history.history['accuracy'], color='b', label=\"Training accuracy\")\n",
        "ax[1].plot(history.history['val_accuracy'], color='r',label=\"Validation accuracy\")\n",
        "ax[1].set_title('Model Accuracy')\n",
        "legend = ax[1].legend(loc='best', shadow=True)"
      ]
    },
    {
      "cell_type": "markdown",
      "metadata": {
        "id": "qIYQFXxeJo4T"
      },
      "source": [
        "# train & test loss and accuracy"
      ]
    },
    {
      "cell_type": "code",
      "execution_count": 21,
      "metadata": {
        "colab": {
          "base_uri": "https://localhost:8080/"
        },
        "id": "Hy9cUaCMHLRh",
        "outputId": "26e51d8a-6d92-44a6-964d-f6087dbdf61d"
      },
      "outputs": [
        {
          "name": "stdout",
          "output_type": "stream",
          "text": [
            "77/77 [==============================] - 9s 120ms/step - loss: 0.0107 - accuracy: 0.9967\n",
            "train acc: 0.9967199563980103\n",
            "train loss: 0.010667418129742146\n"
          ]
        }
      ],
      "source": [
        "train_loss, train_acc= model.evaluate(train_ds,y_train)\n",
        "print('train acc:', train_acc)\n",
        "print('train loss:', train_loss)"
      ]
    },
    {
      "cell_type": "code",
      "execution_count": 22,
      "metadata": {
        "colab": {
          "base_uri": "https://localhost:8080/"
        },
        "id": "5dy_luE5Hsmr",
        "outputId": "aa125d08-45c4-4451-abcb-f1619472e2d3"
      },
      "outputs": [
        {
          "name": "stdout",
          "output_type": "stream",
          "text": [
            "13/13 [==============================] - 2s 118ms/step - loss: 2.4090 - accuracy: 0.7538\n",
            "test acc: 0.7538071274757385\n",
            "test loss: 2.408998727798462\n"
          ]
        }
      ],
      "source": [
        "test_loss, test_acc = model.evaluate(test_ds,y_test)\n",
        "print('test acc:', test_acc)\n",
        "print('test loss:', test_loss)"
      ]
    }
  ],
  "metadata": {
    "accelerator": "GPU",
    "colab": {
      "provenance": []
    },
    "gpuClass": "standard",
    "kernelspec": {
      "display_name": "Python 3",
      "language": "python",
      "name": "python3"
    },
    "language_info": {
      "codemirror_mode": {
        "name": "ipython",
        "version": 3
      },
      "file_extension": ".py",
      "mimetype": "text/x-python",
      "name": "python",
      "nbconvert_exporter": "python",
      "pygments_lexer": "ipython3",
      "version": "3.10.5 (tags/v3.10.5:f377153, Jun  6 2022, 16:14:13) [MSC v.1929 64 bit (AMD64)]"
    },
    "vscode": {
      "interpreter": {
        "hash": "98a70705198618b40757f4d0e0cd81e920cd534dd864d2ad541ce8c6b4f10eed"
      }
    }
  },
  "nbformat": 4,
  "nbformat_minor": 0
}
