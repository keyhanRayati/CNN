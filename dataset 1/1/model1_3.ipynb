{
  "cells": [
    {
      "cell_type": "code",
      "execution_count": 2,
      "metadata": {
        "id": "0eYwMmWmaOb-"
      },
      "outputs": [],
      "source": [
        "import numpy as np\n",
        "from tensorflow import keras\n",
        "from tensorflow.keras import layers\n",
        "from tensorflow.keras.models import Sequential\n",
        "from tensorflow.keras.layers import Flatten, Conv2D, MaxPool2D, Dense, Dropout , Input\n",
        "from tensorflow.keras.utils import to_categorical\n",
        "from tensorflow.keras.preprocessing.image import ImageDataGenerator\n",
        "from tensorflow.keras.models import load_model\n",
        "from tensorflow.keras.layers import GlobalMaxPooling2D, MaxPooling2D\n",
        "from tensorflow.keras.layers import BatchNormalization\n",
        "from tensorflow.keras.models import Model\n",
        "from tensorflow.keras import regularizers, optimizers\n",
        "from sklearn.metrics import accuracy_score\n",
        "import matplotlib.pyplot as plt\n",
        "import pandas as pd\n",
        "from PIL import Image\n",
        "import glob\n",
        "import cv2\n",
        "import keras\n",
        "import tensorflow as tf\n",
        "\n",
        "\n",
        "\n",
        "\n",
        "import warnings\n",
        "warnings.filterwarnings('ignore')"
      ]
    },
    {
      "attachments": {},
      "cell_type": "markdown",
      "metadata": {
        "id": "0n4BMzCjaRxW"
      },
      "source": [
        "# Prepare and load dataset\n",
        "\n",
        "\n"
      ]
    },
    {
      "cell_type": "code",
      "execution_count": 3,
      "metadata": {
        "id": "mevQ1BmN9RfR"
      },
      "outputs": [],
      "source": [
        "X_train = []\n",
        "y_train = []\n",
        "for img in glob.glob(\"/content/drive/MyDrive/datasets/Training/glioma_tumor/*.jpg\"):\n",
        "    n = cv2.imread(img)\n",
        "    n = cv2.resize(n, (130,130), interpolation = cv2.INTER_AREA)\n",
        "    X_train.append(n)\n",
        "    y_train.append( 0)\n",
        "\n",
        "for img in glob.glob(\"/content/drive/MyDrive/datasets/Training/meningioma_tumor/*.jpg\"):\n",
        "    n = cv2.imread(img)\n",
        "    n = cv2.resize(n, (130,130), interpolation = cv2.INTER_AREA)\n",
        "    X_train.append(n)\n",
        "    y_train.append( 1)\n",
        "\n",
        "\n",
        "for img in glob.glob(\"/content/drive/MyDrive/datasets/Training/no_tumor/*.jpg\"):\n",
        "    n = cv2.imread(img)\n",
        "    n = cv2.resize(n, (130,130), interpolation = cv2.INTER_AREA)\n",
        "    X_train.append(n)\n",
        "    y_train.append( 2)\n",
        "\n",
        "for img in glob.glob(\"/content/drive/MyDrive/datasets/Training/pituitary_tumor/*.jpg\"):\n",
        "    n = cv2.imread(img)\n",
        "    n = cv2.resize(n, (130,130), interpolation = cv2.INTER_AREA)\n",
        "    X_train.append(n)\n",
        "    y_train.append(3)\n",
        "\n",
        "\n"
      ]
    },
    {
      "attachments": {},
      "cell_type": "markdown",
      "metadata": {},
      "source": [
        "# Prepare and load data Test"
      ]
    },
    {
      "cell_type": "code",
      "execution_count": 4,
      "metadata": {
        "id": "97DQeNHNbmcQ"
      },
      "outputs": [],
      "source": [
        "X_test = []\n",
        "y_test = []\n",
        "for img in glob.glob(\"/content/drive/MyDrive/datasets/Testing/glioma_tumor/*.jpg\"):\n",
        "    n = cv2.imread(img)\n",
        "    n = cv2.resize(n, (130,130), interpolation = cv2.INTER_AREA)\n",
        "    X_test.append(n)\n",
        "    y_test.append(0)\n",
        "\n",
        "for img in glob.glob(\"/content/drive/MyDrive/datasets/Testing/meningioma_tumor/*.jpg\"):\n",
        "    n = cv2.imread(img)\n",
        "    n = cv2.resize(n, (130,130), interpolation = cv2.INTER_AREA)\n",
        "    X_test.append(n)\n",
        "    y_test.append( 1)\n",
        "\n",
        "\n",
        "for img in glob.glob(\"/content/drive/MyDrive/datasets/Testing/no_tumor/*.jpg\"):\n",
        "    n = cv2.imread(img)\n",
        "    n = cv2.resize(n, (130,130), interpolation = cv2.INTER_AREA)\n",
        "    X_test.append(n)\n",
        "    y_test.append( 2)\n",
        "\n",
        "for img in glob.glob(\"/content/drive/MyDrive/datasets/Testing/pituitary_tumor/*.jpg\"):\n",
        "    n = cv2.imread(img)\n",
        "    n = cv2.resize(n, (130,130), interpolation = cv2.INTER_AREA)\n",
        "    X_test.append(n)\n",
        "    y_test.append( 3)\n",
        "\n"
      ]
    },
    {
      "cell_type": "code",
      "execution_count": 5,
      "metadata": {
        "id": "ZF7WveRHb5t-"
      },
      "outputs": [],
      "source": [
        "X_train = np.array(X_train)/255\n",
        "X_test = np.array(X_test)/255\n",
        "y_train = np.array(y_train)\n",
        "y_test = np.array(y_test)"
      ]
    },
    {
      "cell_type": "code",
      "execution_count": 6,
      "metadata": {
        "id": "A20BX9UETLp7"
      },
      "outputs": [],
      "source": [
        "from tensorflow.keras.layers import GlobalMaxPooling2D, MaxPooling2D\n"
      ]
    },
    {
      "cell_type": "markdown",
      "metadata": {
        "id": "301iM4LtYfSj"
      },
      "source": [
        "# Building the network"
      ]
    },
    {
      "cell_type": "code",
      "execution_count": 14,
      "metadata": {
        "id": "X2XFs310VCRS"
      },
      "outputs": [],
      "source": [
        "model = Sequential()\n",
        "model.add(Conv2D(64, 3, input_shape=(130,130,3) , activation='relu'))\n",
        "model.add(Dropout(0.3))\n",
        "\n",
        "model.add(MaxPooling2D(pool_size=2))\n",
        "model.add(Conv2D(128, 3,activation='relu'))\n",
        "model.add(Dropout(0.3))\n",
        "\n",
        "model.add(MaxPooling2D(pool_size=2))\n",
        "model.add(Conv2D(256, 3, activation='relu'))\n",
        "model.add(Dropout(0.3))\n",
        "\n",
        "model.add(MaxPooling2D(pool_size=2))\n",
        "\n",
        "model.add(Flatten())\n",
        "model.add(Dropout(0.5))\n",
        "model.add(Dense(4096, activation='relu'))\n",
        "model.add(Dropout(0.4))\n",
        "model.add(Dense(2048, activation='relu'))\n",
        "model.add(Dropout(0.3))\n",
        "model.add(Dense(4, activation='softmax'))\n",
        "\n",
        "model.compile(loss='sparse_categorical_crossentropy',optimizer='Adam',metrics=['accuracy'])\n"
      ]
    },
    {
      "cell_type": "code",
      "execution_count": 15,
      "metadata": {
        "colab": {
          "base_uri": "https://localhost:8080/"
        },
        "id": "rClcuCfnKyrG",
        "outputId": "193af225-7a3e-4661-f7e6-dc5453abb656"
      },
      "outputs": [
        {
          "name": "stdout",
          "output_type": "stream",
          "text": [
            "Model: \"sequential_1\"\n",
            "_________________________________________________________________\n",
            " Layer (type)                Output Shape              Param #   \n",
            "=================================================================\n",
            " conv2d_3 (Conv2D)           (None, 128, 128, 64)      1792      \n",
            "                                                                 \n",
            " dropout_3 (Dropout)         (None, 128, 128, 64)      0         \n",
            "                                                                 \n",
            " max_pooling2d_3 (MaxPooling  (None, 64, 64, 64)       0         \n",
            " 2D)                                                             \n",
            "                                                                 \n",
            " conv2d_4 (Conv2D)           (None, 62, 62, 128)       73856     \n",
            "                                                                 \n",
            " dropout_4 (Dropout)         (None, 62, 62, 128)       0         \n",
            "                                                                 \n",
            " max_pooling2d_4 (MaxPooling  (None, 31, 31, 128)      0         \n",
            " 2D)                                                             \n",
            "                                                                 \n",
            " conv2d_5 (Conv2D)           (None, 29, 29, 256)       295168    \n",
            "                                                                 \n",
            " dropout_5 (Dropout)         (None, 29, 29, 256)       0         \n",
            "                                                                 \n",
            " max_pooling2d_5 (MaxPooling  (None, 14, 14, 256)      0         \n",
            " 2D)                                                             \n",
            "                                                                 \n",
            " flatten_1 (Flatten)         (None, 50176)             0         \n",
            "                                                                 \n",
            " dropout_6 (Dropout)         (None, 50176)             0         \n",
            "                                                                 \n",
            " dense_3 (Dense)             (None, 4096)              205524992 \n",
            "                                                                 \n",
            " dropout_7 (Dropout)         (None, 4096)              0         \n",
            "                                                                 \n",
            " dense_4 (Dense)             (None, 2048)              8390656   \n",
            "                                                                 \n",
            " dropout_8 (Dropout)         (None, 2048)              0         \n",
            "                                                                 \n",
            " dense_5 (Dense)             (None, 4)                 8196      \n",
            "                                                                 \n",
            "=================================================================\n",
            "Total params: 214,294,660\n",
            "Trainable params: 214,294,660\n",
            "Non-trainable params: 0\n",
            "_________________________________________________________________\n"
          ]
        }
      ],
      "source": [
        "model.summary() "
      ]
    },
    {
      "attachments": {},
      "cell_type": "markdown",
      "metadata": {
        "id": "Ndmu9g3OSA4s"
      },
      "source": [
        "# Split data into Train and Validation"
      ]
    },
    {
      "cell_type": "code",
      "execution_count": 16,
      "metadata": {
        "id": "qvMOw6TkySTb"
      },
      "outputs": [],
      "source": [
        "from sklearn.model_selection import train_test_split\n",
        "X_train, X_valid, y_train, y_valid = train_test_split(X_train, y_train, test_size=0.15, random_state=42)"
      ]
    },
    {
      "attachments": {},
      "cell_type": "markdown",
      "metadata": {},
      "source": [
        "# train the network"
      ]
    },
    {
      "cell_type": "code",
      "execution_count": 17,
      "metadata": {
        "colab": {
          "base_uri": "https://localhost:8080/"
        },
        "id": "ht-CV4KTRvq_",
        "outputId": "b19bd97a-dfe3-4e88-9725-d2d7e11d6506"
      },
      "outputs": [
        {
          "name": "stdout",
          "output_type": "stream",
          "text": [
            "Epoch 1/50\n",
            "65/65 [==============================] - 8s 120ms/step - loss: 1.6014 - accuracy: 0.4858 - val_loss: 1.1420 - val_accuracy: 0.5410\n",
            "Epoch 2/50\n",
            "65/65 [==============================] - 6s 98ms/step - loss: 0.8356 - accuracy: 0.6483 - val_loss: 0.8919 - val_accuracy: 0.6038\n",
            "Epoch 3/50\n",
            "65/65 [==============================] - 6s 99ms/step - loss: 0.6211 - accuracy: 0.7458 - val_loss: 0.8165 - val_accuracy: 0.6749\n",
            "Epoch 4/50\n",
            "65/65 [==============================] - 6s 99ms/step - loss: 0.5518 - accuracy: 0.7810 - val_loss: 0.7125 - val_accuracy: 0.7131\n",
            "Epoch 5/50\n",
            "65/65 [==============================] - 6s 100ms/step - loss: 0.4596 - accuracy: 0.8259 - val_loss: 0.6717 - val_accuracy: 0.7514\n",
            "Epoch 6/50\n",
            "65/65 [==============================] - 6s 99ms/step - loss: 0.4037 - accuracy: 0.8432 - val_loss: 0.5244 - val_accuracy: 0.8197\n",
            "Epoch 7/50\n",
            "65/65 [==============================] - 6s 98ms/step - loss: 0.3430 - accuracy: 0.8664 - val_loss: 0.5233 - val_accuracy: 0.7760\n",
            "Epoch 8/50\n",
            "65/65 [==============================] - 6s 99ms/step - loss: 0.2995 - accuracy: 0.8784 - val_loss: 0.4563 - val_accuracy: 0.8443\n",
            "Epoch 9/50\n",
            "65/65 [==============================] - 6s 99ms/step - loss: 0.2740 - accuracy: 0.8919 - val_loss: 0.6133 - val_accuracy: 0.7268\n",
            "Epoch 10/50\n",
            "65/65 [==============================] - 6s 99ms/step - loss: 0.2521 - accuracy: 0.8982 - val_loss: 0.4032 - val_accuracy: 0.8798\n",
            "Epoch 11/50\n",
            "65/65 [==============================] - 6s 98ms/step - loss: 0.2186 - accuracy: 0.9194 - val_loss: 0.5052 - val_accuracy: 0.8279\n",
            "Epoch 12/50\n",
            "65/65 [==============================] - 6s 100ms/step - loss: 0.2038 - accuracy: 0.9267 - val_loss: 0.5715 - val_accuracy: 0.7814\n",
            "Epoch 13/50\n",
            "65/65 [==============================] - 7s 101ms/step - loss: 0.1883 - accuracy: 0.9310 - val_loss: 0.5656 - val_accuracy: 0.7623\n",
            "Epoch 14/50\n",
            "65/65 [==============================] - 6s 98ms/step - loss: 0.2165 - accuracy: 0.9219 - val_loss: 0.5059 - val_accuracy: 0.8306\n",
            "Epoch 15/50\n",
            "65/65 [==============================] - 6s 98ms/step - loss: 0.1417 - accuracy: 0.9411 - val_loss: 0.3285 - val_accuracy: 0.8907\n",
            "Epoch 16/50\n",
            "65/65 [==============================] - 6s 98ms/step - loss: 0.1262 - accuracy: 0.9474 - val_loss: 0.3723 - val_accuracy: 0.8770\n",
            "Epoch 17/50\n",
            "65/65 [==============================] - 6s 98ms/step - loss: 0.1397 - accuracy: 0.9469 - val_loss: 0.4255 - val_accuracy: 0.8388\n",
            "Epoch 18/50\n",
            "65/65 [==============================] - 6s 98ms/step - loss: 0.1083 - accuracy: 0.9614 - val_loss: 0.3505 - val_accuracy: 0.8579\n",
            "Epoch 19/50\n",
            "65/65 [==============================] - 6s 98ms/step - loss: 0.1056 - accuracy: 0.9653 - val_loss: 0.4495 - val_accuracy: 0.8634\n",
            "Epoch 20/50\n",
            "65/65 [==============================] - 7s 100ms/step - loss: 0.0914 - accuracy: 0.9609 - val_loss: 0.4243 - val_accuracy: 0.8689\n",
            "Epoch 21/50\n",
            "65/65 [==============================] - 6s 100ms/step - loss: 0.0833 - accuracy: 0.9662 - val_loss: 0.3413 - val_accuracy: 0.8743\n",
            "Epoch 22/50\n",
            "65/65 [==============================] - 6s 99ms/step - loss: 0.0904 - accuracy: 0.9658 - val_loss: 0.3288 - val_accuracy: 0.8934\n",
            "Epoch 23/50\n",
            "65/65 [==============================] - 6s 99ms/step - loss: 0.0774 - accuracy: 0.9720 - val_loss: 0.3447 - val_accuracy: 0.8962\n",
            "Epoch 24/50\n",
            "65/65 [==============================] - 6s 99ms/step - loss: 0.0825 - accuracy: 0.9725 - val_loss: 0.3342 - val_accuracy: 0.8880\n",
            "Epoch 25/50\n",
            "65/65 [==============================] - 6s 99ms/step - loss: 0.0833 - accuracy: 0.9677 - val_loss: 0.3294 - val_accuracy: 0.9153\n",
            "Epoch 26/50\n",
            "65/65 [==============================] - 6s 99ms/step - loss: 0.1017 - accuracy: 0.9672 - val_loss: 0.3464 - val_accuracy: 0.8907\n",
            "Epoch 27/50\n",
            "65/65 [==============================] - 6s 98ms/step - loss: 0.0808 - accuracy: 0.9720 - val_loss: 0.3005 - val_accuracy: 0.9044\n",
            "Epoch 28/50\n",
            "65/65 [==============================] - 6s 98ms/step - loss: 0.0657 - accuracy: 0.9807 - val_loss: 0.3935 - val_accuracy: 0.8689\n",
            "Epoch 29/50\n",
            "65/65 [==============================] - 6s 98ms/step - loss: 0.0594 - accuracy: 0.9778 - val_loss: 0.2832 - val_accuracy: 0.9044\n",
            "Epoch 30/50\n",
            "65/65 [==============================] - 6s 99ms/step - loss: 0.0902 - accuracy: 0.9706 - val_loss: 0.3864 - val_accuracy: 0.8689\n",
            "Epoch 31/50\n",
            "65/65 [==============================] - 6s 98ms/step - loss: 0.0409 - accuracy: 0.9870 - val_loss: 0.2902 - val_accuracy: 0.9153\n",
            "Epoch 32/50\n",
            "65/65 [==============================] - 6s 98ms/step - loss: 0.0467 - accuracy: 0.9836 - val_loss: 0.3497 - val_accuracy: 0.8743\n",
            "Epoch 33/50\n",
            "65/65 [==============================] - 6s 99ms/step - loss: 0.0938 - accuracy: 0.9754 - val_loss: 0.3776 - val_accuracy: 0.8907\n",
            "Epoch 34/50\n",
            "65/65 [==============================] - 6s 99ms/step - loss: 0.0478 - accuracy: 0.9855 - val_loss: 0.3004 - val_accuracy: 0.9153\n",
            "Epoch 35/50\n",
            "65/65 [==============================] - 6s 98ms/step - loss: 0.0549 - accuracy: 0.9822 - val_loss: 0.3779 - val_accuracy: 0.8770\n",
            "Epoch 36/50\n",
            "65/65 [==============================] - 6s 99ms/step - loss: 0.0586 - accuracy: 0.9778 - val_loss: 0.3887 - val_accuracy: 0.8962\n",
            "Epoch 37/50\n",
            "65/65 [==============================] - 6s 98ms/step - loss: 0.0374 - accuracy: 0.9884 - val_loss: 0.3072 - val_accuracy: 0.9126\n",
            "Epoch 38/50\n",
            "65/65 [==============================] - 6s 99ms/step - loss: 0.0659 - accuracy: 0.9822 - val_loss: 0.3764 - val_accuracy: 0.8825\n",
            "Epoch 39/50\n",
            "65/65 [==============================] - 6s 98ms/step - loss: 0.0626 - accuracy: 0.9812 - val_loss: 0.2873 - val_accuracy: 0.9071\n",
            "Epoch 40/50\n",
            "65/65 [==============================] - 6s 98ms/step - loss: 0.0469 - accuracy: 0.9850 - val_loss: 0.2802 - val_accuracy: 0.9016\n",
            "Epoch 41/50\n",
            "65/65 [==============================] - 6s 99ms/step - loss: 0.0453 - accuracy: 0.9884 - val_loss: 0.3319 - val_accuracy: 0.9016\n",
            "Epoch 42/50\n",
            "65/65 [==============================] - 6s 99ms/step - loss: 0.0205 - accuracy: 0.9932 - val_loss: 0.2619 - val_accuracy: 0.9153\n",
            "Epoch 43/50\n",
            "65/65 [==============================] - 7s 101ms/step - loss: 0.0364 - accuracy: 0.9846 - val_loss: 0.2930 - val_accuracy: 0.9180\n",
            "Epoch 44/50\n",
            "65/65 [==============================] - 7s 101ms/step - loss: 0.0639 - accuracy: 0.9836 - val_loss: 0.3064 - val_accuracy: 0.9071\n",
            "Epoch 45/50\n",
            "65/65 [==============================] - 6s 98ms/step - loss: 0.0489 - accuracy: 0.9850 - val_loss: 0.3222 - val_accuracy: 0.8989\n",
            "Epoch 46/50\n",
            "65/65 [==============================] - 6s 99ms/step - loss: 0.0457 - accuracy: 0.9870 - val_loss: 0.3170 - val_accuracy: 0.9044\n",
            "Epoch 47/50\n",
            "65/65 [==============================] - 6s 98ms/step - loss: 0.0332 - accuracy: 0.9923 - val_loss: 0.3042 - val_accuracy: 0.9098\n",
            "Epoch 48/50\n",
            "65/65 [==============================] - 6s 100ms/step - loss: 0.0707 - accuracy: 0.9812 - val_loss: 0.3333 - val_accuracy: 0.9044\n",
            "Epoch 49/50\n",
            "65/65 [==============================] - 6s 98ms/step - loss: 0.0481 - accuracy: 0.9836 - val_loss: 0.3408 - val_accuracy: 0.9044\n",
            "Epoch 50/50\n",
            "65/65 [==============================] - 6s 98ms/step - loss: 0.0269 - accuracy: 0.9899 - val_loss: 0.3362 - val_accuracy: 0.8989\n"
          ]
        }
      ],
      "source": [
        "history = model.fit( X_train, y_train, epochs = 50 ,  verbose=1 , validation_data=(X_valid , y_valid) )"
      ]
    },
    {
      "cell_type": "markdown",
      "metadata": {
        "id": "ImshxwL4VoLi"
      },
      "source": [
        "# plot the loss and accuracy of the model over the training and validation data during training"
      ]
    },
    {
      "cell_type": "code",
      "execution_count": 18,
      "metadata": {
        "colab": {
          "base_uri": "https://localhost:8080/",
          "height": 590
        },
        "id": "Qc0QEU45VvyT",
        "outputId": "120fec4c-1aed-4731-f01d-c08ffe723c22"
      },
      "outputs": [
        {
          "data": {
            "image/png": "[encoded data removed]",
            "text/plain": [
              "<Figure size 432x288 with 1 Axes>"
            ]
          },
          "metadata": {
            "needs_background": "light"
          },
          "output_type": "display_data"
        },
        {
          "data": {
            "text/plain": [
              "<matplotlib.legend.Legend at 0x7f890f796e20>"
            ]
          },
          "execution_count": 18,
          "metadata": {},
          "output_type": "execute_result"
        },
        {
          "data": {
            "image/png": "[encoded data removed]",
            "text/plain": [
              "<Figure size 432x288 with 1 Axes>"
            ]
          },
          "metadata": {
            "needs_background": "light"
          },
          "output_type": "display_data"
        }
      ],
      "source": [
        "import matplotlib.pyplot as plt\n",
        "loss = history.history['loss']\n",
        "val_loss = history.history['val_loss']\n",
        "acc = history.history['accuracy']\n",
        "val_acc = history.history['val_accuracy']\n",
        "epochs = range(1, len(loss) + 1)\n",
        "plt.plot(epochs, loss, color='green', label='Training loss')\n",
        "plt.plot(epochs, val_loss, color='blue', linestyle='dashed', label='Validation loss')\n",
        "plt.xlabel('Epochs')\n",
        "plt.ylabel('Loss')\n",
        "plt.title('Training and validation loss')\n",
        "plt.legend()\n",
        "plt.show()\n",
        "plt.figure()\n",
        "plt.plot(epochs, acc, color='green', label='Training acc')\n",
        "plt.plot(epochs, val_acc, color='blue', linestyle='dashed', label='Validation acc')\n",
        "plt.xlabel('Epochs')\n",
        "plt.ylabel('Loss')\n",
        "plt.title('Training and validation accuracy')\n",
        "plt.legend()\n"
      ]
    },
    {
      "cell_type": "markdown",
      "metadata": {
        "id": "UOBtEajfXa5c"
      },
      "source": [
        "# train & test loss and accuracy"
      ]
    },
    {
      "cell_type": "code",
      "execution_count": 19,
      "metadata": {
        "colab": {
          "base_uri": "https://localhost:8080/"
        },
        "id": "JuFwaEpgXe6a",
        "outputId": "3843a56b-d2ab-4d3a-a053-09a43694caca"
      },
      "outputs": [
        {
          "name": "stdout",
          "output_type": "stream",
          "text": [
            "Train loss: 0.022416356950998306\n",
            "Train accuracy:  99.7588038444519 %\n"
          ]
        }
      ],
      "source": [
        "score = model.evaluate(X_train , y_train, verbose=0)\n",
        "\n",
        "print('Train loss:', score[0])\n",
        "print('Train accuracy: ', score[1]*100.0 ,'%')"
      ]
    },
    {
      "cell_type": "code",
      "execution_count": 20,
      "metadata": {
        "colab": {
          "base_uri": "https://localhost:8080/"
        },
        "id": "I1IU3VRbYD_R",
        "outputId": "bf792a5a-6a42-48be-ec76-57878a2308c3"
      },
      "outputs": [
        {
          "name": "stdout",
          "output_type": "stream",
          "text": [
            "Test loss: 1.8371975421905518\n",
            "Test accuracy:  72.33502268791199 %\n"
          ]
        }
      ],
      "source": [
        "score = model.evaluate(X_test , y_test, verbose=0)\n",
        "\n",
        "print('Test loss:', score[0])\n",
        "print('Test accuracy: ', score[1]*100.0 ,'%')"
      ]
    }
  ],
  "metadata": {
    "accelerator": "GPU",
    "colab": {
      "provenance": []
    },
    "gpuClass": "standard",
    "kernelspec": {
      "display_name": "Python 3",
      "language": "python",
      "name": "python3"
    },
    "language_info": {
      "codemirror_mode": {
        "name": "ipython",
        "version": 3
      },
      "file_extension": ".py",
      "mimetype": "text/x-python",
      "name": "python",
      "nbconvert_exporter": "python",
      "pygments_lexer": "ipython3",
      "version": "3.10.5 (tags/v3.10.5:f377153, Jun  6 2022, 16:14:13) [MSC v.1929 64 bit (AMD64)]"
    },
    "vscode": {
      "interpreter": {
        "hash": "98a70705198618b40757f4d0e0cd81e920cd534dd864d2ad541ce8c6b4f10eed"
      }
    }
  },
  "nbformat": 4,
  "nbformat_minor": 0
}
