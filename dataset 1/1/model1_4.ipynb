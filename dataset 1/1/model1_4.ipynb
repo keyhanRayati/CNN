{
  "cells": [
    {
      "cell_type": "code",
      "execution_count": null,
      "metadata": {
        "id": "0eYwMmWmaOb-"
      },
      "outputs": [],
      "source": [
        "import numpy as np\n",
        "from tensorflow import keras\n",
        "from tensorflow.keras import layers\n",
        "from tensorflow.keras.models import Sequential\n",
        "from tensorflow.keras.layers import Flatten, Conv2D, MaxPool2D, Dense, Dropout , Input\n",
        "from tensorflow.keras.utils import to_categorical\n",
        "from tensorflow.keras.preprocessing.image import ImageDataGenerator\n",
        "from tensorflow.keras.models import load_model\n",
        "from tensorflow.keras.layers import GlobalMaxPooling2D, MaxPooling2D\n",
        "from tensorflow.keras.layers import BatchNormalization\n",
        "from tensorflow.keras.models import Model\n",
        "from tensorflow.keras import regularizers, optimizers\n",
        "from sklearn.metrics import accuracy_score\n",
        "import matplotlib.pyplot as plt\n",
        "import pandas as pd\n",
        "from PIL import Image\n",
        "import glob\n",
        "import cv2\n",
        "import keras\n",
        "import tensorflow as tf\n",
        "\n",
        "\n",
        "\n",
        "\n",
        "import warnings\n",
        "warnings.filterwarnings('ignore')"
      ]
    },
    {
      "attachments": {},
      "cell_type": "markdown",
      "metadata": {
        "id": "0n4BMzCjaRxW"
      },
      "source": [
        "# Prepare and load dataset \n",
        "\n",
        "\n"
      ]
    },
    {
      "cell_type": "code",
      "execution_count": 3,
      "metadata": {
        "id": "mevQ1BmN9RfR"
      },
      "outputs": [],
      "source": [
        "X_train = []\n",
        "y_train = []\n",
        "for img in glob.glob(\"/content/drive/MyDrive/datasets/Training/glioma_tumor/*.jpg\"):\n",
        "    n = cv2.imread(img)\n",
        "    n = cv2.resize(n, (130,130), interpolation = cv2.INTER_AREA)\n",
        "    X_train.append(n)\n",
        "    y_train.append( 0)\n",
        "\n",
        "for img in glob.glob(\"/content/drive/MyDrive/datasets/Training/meningioma_tumor/*.jpg\"):\n",
        "    n = cv2.imread(img)\n",
        "    n = cv2.resize(n, (130,130), interpolation = cv2.INTER_AREA)\n",
        "    X_train.append(n)\n",
        "    y_train.append( 1)\n",
        "\n",
        "\n",
        "for img in glob.glob(\"/content/drive/MyDrive/datasets/Training/no_tumor/*.jpg\"):\n",
        "    n = cv2.imread(img)\n",
        "    n = cv2.resize(n, (130,130), interpolation = cv2.INTER_AREA)\n",
        "    X_train.append(n)\n",
        "    y_train.append( 2)\n",
        "\n",
        "for img in glob.glob(\"/content/drive/MyDrive/datasets/Training/pituitary_tumor/*.jpg\"):\n",
        "    n = cv2.imread(img)\n",
        "    n = cv2.resize(n, (130,130), interpolation = cv2.INTER_AREA)\n",
        "    X_train.append(n)\n",
        "    y_train.append(3)\n",
        "\n",
        "\n"
      ]
    },
    {
      "attachments": {},
      "cell_type": "markdown",
      "metadata": {},
      "source": [
        "# Prepare and load data Test"
      ]
    },
    {
      "cell_type": "code",
      "execution_count": 4,
      "metadata": {
        "id": "97DQeNHNbmcQ"
      },
      "outputs": [],
      "source": [
        "X_test = []\n",
        "y_test = []\n",
        "for img in glob.glob(\"/content/drive/MyDrive/datasets/Testing/glioma_tumor/*.jpg\"):\n",
        "    n = cv2.imread(img)\n",
        "    n = cv2.resize(n, (130,130), interpolation = cv2.INTER_AREA)\n",
        "    X_test.append(n)\n",
        "    y_test.append(0)\n",
        "\n",
        "for img in glob.glob(\"/content/drive/MyDrive/datasets/Testing/meningioma_tumor/*.jpg\"):\n",
        "    n = cv2.imread(img)\n",
        "    n = cv2.resize(n, (130,130), interpolation = cv2.INTER_AREA)\n",
        "    X_test.append(n)\n",
        "    y_test.append( 1)\n",
        "\n",
        "\n",
        "for img in glob.glob(\"/content/drive/MyDrive/datasets/Testing/no_tumor/*.jpg\"):\n",
        "    n = cv2.imread(img)\n",
        "    n = cv2.resize(n, (130,130), interpolation = cv2.INTER_AREA)\n",
        "    X_test.append(n)\n",
        "    y_test.append( 2)\n",
        "\n",
        "for img in glob.glob(\"/content/drive/MyDrive/datasets/Testing/pituitary_tumor/*.jpg\"):\n",
        "    n = cv2.imread(img)\n",
        "    n = cv2.resize(n, (130,130), interpolation = cv2.INTER_AREA)\n",
        "    X_test.append(n)\n",
        "    y_test.append( 3)\n",
        "\n"
      ]
    },
    {
      "cell_type": "code",
      "execution_count": 5,
      "metadata": {
        "id": "ZF7WveRHb5t-"
      },
      "outputs": [],
      "source": [
        "X_train = np.array(X_train)/255\n",
        "X_test = np.array(X_test)/255\n",
        "y_train = np.array(y_train)\n",
        "y_test = np.array(y_test)"
      ]
    },
    {
      "cell_type": "code",
      "execution_count": 6,
      "metadata": {
        "id": "A20BX9UETLp7"
      },
      "outputs": [],
      "source": [
        "from tensorflow.keras.layers import GlobalMaxPooling2D, MaxPooling2D\n"
      ]
    },
    {
      "cell_type": "markdown",
      "metadata": {
        "id": "301iM4LtYfSj"
      },
      "source": [
        "# Building the network"
      ]
    },
    {
      "cell_type": "code",
      "execution_count": 21,
      "metadata": {
        "id": "X2XFs310VCRS"
      },
      "outputs": [],
      "source": [
        "model = Sequential()\n",
        "model.add(Conv2D(64, 3, input_shape=(130,130,3) , activation='relu'))\n",
        "\n",
        "model.add(MaxPooling2D(pool_size=2))\n",
        "model.add(Conv2D(128, 3,activation='relu'))\n",
        "model.add(Conv2D(128, 3,activation='relu'))\n",
        "\n",
        "model.add(MaxPooling2D(pool_size=2))\n",
        "model.add(Conv2D(256, 3, activation='relu'))\n",
        "\n",
        "model.add(MaxPooling2D(pool_size=2))\n",
        "\n",
        "model.add(Flatten())\n",
        "model.add(Dropout(0.5))\n",
        "model.add(Dense(4096, activation='relu'))\n",
        "model.add(Dropout(0.4))\n",
        "model.add(Dense(2048, activation='relu'))\n",
        "model.add(Dropout(0.3))\n",
        "model.add(Dense(4, activation='softmax'))\n",
        "\n",
        "model.compile(loss='sparse_categorical_crossentropy',optimizer='Adam',metrics=['accuracy'])\n"
      ]
    },
    {
      "cell_type": "markdown",
      "metadata": {
        "id": "yK0b1Ix-lSob"
      },
      "source": [
        "# compile Model"
      ]
    },
    {
      "cell_type": "code",
      "execution_count": 22,
      "metadata": {
        "colab": {
          "base_uri": "https://localhost:8080/"
        },
        "id": "rClcuCfnKyrG",
        "outputId": "747669ba-dfd1-4cb0-bc15-0d0e7432c5d5"
      },
      "outputs": [
        {
          "name": "stdout",
          "output_type": "stream",
          "text": [
            "Model: \"sequential_2\"\n",
            "_________________________________________________________________\n",
            " Layer (type)                Output Shape              Param #   \n",
            "=================================================================\n",
            " conv2d_6 (Conv2D)           (None, 128, 128, 64)      1792      \n",
            "                                                                 \n",
            " max_pooling2d_6 (MaxPooling  (None, 64, 64, 64)       0         \n",
            " 2D)                                                             \n",
            "                                                                 \n",
            " conv2d_7 (Conv2D)           (None, 62, 62, 128)       73856     \n",
            "                                                                 \n",
            " conv2d_8 (Conv2D)           (None, 60, 60, 128)       147584    \n",
            "                                                                 \n",
            " max_pooling2d_7 (MaxPooling  (None, 30, 30, 128)      0         \n",
            " 2D)                                                             \n",
            "                                                                 \n",
            " conv2d_9 (Conv2D)           (None, 28, 28, 256)       295168    \n",
            "                                                                 \n",
            " max_pooling2d_8 (MaxPooling  (None, 14, 14, 256)      0         \n",
            " 2D)                                                             \n",
            "                                                                 \n",
            " flatten_2 (Flatten)         (None, 50176)             0         \n",
            "                                                                 \n",
            " dropout_9 (Dropout)         (None, 50176)             0         \n",
            "                                                                 \n",
            " dense_6 (Dense)             (None, 4096)              205524992 \n",
            "                                                                 \n",
            " dropout_10 (Dropout)        (None, 4096)              0         \n",
            "                                                                 \n",
            " dense_7 (Dense)             (None, 2048)              8390656   \n",
            "                                                                 \n",
            " dropout_11 (Dropout)        (None, 2048)              0         \n",
            "                                                                 \n",
            " dense_8 (Dense)             (None, 4)                 8196      \n",
            "                                                                 \n",
            "=================================================================\n",
            "Total params: 214,442,244\n",
            "Trainable params: 214,442,244\n",
            "Non-trainable params: 0\n",
            "_________________________________________________________________\n"
          ]
        }
      ],
      "source": [
        "model.summary() "
      ]
    },
    {
      "attachments": {},
      "cell_type": "markdown",
      "metadata": {
        "id": "Ndmu9g3OSA4s"
      },
      "source": [
        "# Split data into Train and Validation"
      ]
    },
    {
      "cell_type": "code",
      "execution_count": 23,
      "metadata": {
        "id": "qvMOw6TkySTb"
      },
      "outputs": [],
      "source": [
        "from sklearn.model_selection import train_test_split\n",
        "X_train, X_valid, y_train, y_valid = train_test_split(X_train, y_train, test_size=0.15, random_state=42)"
      ]
    },
    {
      "attachments": {},
      "cell_type": "markdown",
      "metadata": {},
      "source": [
        "# train the network"
      ]
    },
    {
      "cell_type": "code",
      "execution_count": 24,
      "metadata": {
        "colab": {
          "base_uri": "https://localhost:8080/"
        },
        "id": "ht-CV4KTRvq_",
        "outputId": "bef3eb02-3361-4637-9a74-e90805a8c733"
      },
      "outputs": [
        {
          "name": "stdout",
          "output_type": "stream",
          "text": [
            "Epoch 1/50\n",
            "56/56 [==============================] - 7s 111ms/step - loss: 1.2149 - accuracy: 0.4818 - val_loss: 1.0694 - val_accuracy: 0.5595\n",
            "Epoch 2/50\n",
            "56/56 [==============================] - 6s 98ms/step - loss: 0.8390 - accuracy: 0.6300 - val_loss: 1.0135 - val_accuracy: 0.6238\n",
            "Epoch 3/50\n",
            "56/56 [==============================] - 5s 98ms/step - loss: 0.7401 - accuracy: 0.6844 - val_loss: 0.7992 - val_accuracy: 0.6720\n",
            "Epoch 4/50\n",
            "56/56 [==============================] - 6s 99ms/step - loss: 0.5551 - accuracy: 0.7650 - val_loss: 0.5474 - val_accuracy: 0.7781\n",
            "Epoch 5/50\n",
            "56/56 [==============================] - 6s 100ms/step - loss: 0.4258 - accuracy: 0.8201 - val_loss: 0.5714 - val_accuracy: 0.7942\n",
            "Epoch 6/50\n",
            "56/56 [==============================] - 6s 99ms/step - loss: 0.3901 - accuracy: 0.8462 - val_loss: 0.6053 - val_accuracy: 0.7653\n",
            "Epoch 7/50\n",
            "56/56 [==============================] - 6s 99ms/step - loss: 0.2915 - accuracy: 0.8871 - val_loss: 0.5718 - val_accuracy: 0.8232\n",
            "Epoch 8/50\n",
            "56/56 [==============================] - 6s 99ms/step - loss: 0.2613 - accuracy: 0.9007 - val_loss: 0.6194 - val_accuracy: 0.8006\n",
            "Epoch 9/50\n",
            "56/56 [==============================] - 6s 100ms/step - loss: 0.2216 - accuracy: 0.9200 - val_loss: 0.4725 - val_accuracy: 0.8778\n",
            "Epoch 10/50\n",
            "56/56 [==============================] - 6s 99ms/step - loss: 0.1765 - accuracy: 0.9347 - val_loss: 0.3093 - val_accuracy: 0.9003\n",
            "Epoch 11/50\n",
            "56/56 [==============================] - 6s 99ms/step - loss: 0.1133 - accuracy: 0.9603 - val_loss: 0.4086 - val_accuracy: 0.8778\n",
            "Epoch 12/50\n",
            "56/56 [==============================] - 6s 102ms/step - loss: 0.1115 - accuracy: 0.9625 - val_loss: 0.3021 - val_accuracy: 0.8971\n",
            "Epoch 13/50\n",
            "56/56 [==============================] - 6s 102ms/step - loss: 0.1250 - accuracy: 0.9546 - val_loss: 0.4882 - val_accuracy: 0.8939\n",
            "Epoch 14/50\n",
            "56/56 [==============================] - 6s 99ms/step - loss: 0.0966 - accuracy: 0.9665 - val_loss: 0.4930 - val_accuracy: 0.8617\n",
            "Epoch 15/50\n",
            "56/56 [==============================] - 6s 99ms/step - loss: 0.1188 - accuracy: 0.9614 - val_loss: 0.3674 - val_accuracy: 0.8875\n",
            "Epoch 16/50\n",
            "56/56 [==============================] - 6s 99ms/step - loss: 0.0608 - accuracy: 0.9790 - val_loss: 0.5562 - val_accuracy: 0.8746\n",
            "Epoch 17/50\n",
            "56/56 [==============================] - 6s 99ms/step - loss: 0.0734 - accuracy: 0.9784 - val_loss: 0.6997 - val_accuracy: 0.8617\n",
            "Epoch 18/50\n",
            "56/56 [==============================] - 6s 99ms/step - loss: 0.0565 - accuracy: 0.9835 - val_loss: 0.5449 - val_accuracy: 0.9003\n",
            "Epoch 19/50\n",
            "56/56 [==============================] - 6s 99ms/step - loss: 0.0376 - accuracy: 0.9869 - val_loss: 0.6471 - val_accuracy: 0.8810\n",
            "Epoch 20/50\n",
            "56/56 [==============================] - 6s 99ms/step - loss: 0.0459 - accuracy: 0.9835 - val_loss: 0.6678 - val_accuracy: 0.8746\n",
            "Epoch 21/50\n",
            "56/56 [==============================] - 6s 99ms/step - loss: 0.0604 - accuracy: 0.9813 - val_loss: 0.4285 - val_accuracy: 0.8971\n",
            "Epoch 22/50\n",
            "56/56 [==============================] - 6s 99ms/step - loss: 0.0193 - accuracy: 0.9926 - val_loss: 0.4565 - val_accuracy: 0.9003\n",
            "Epoch 23/50\n",
            "56/56 [==============================] - 6s 99ms/step - loss: 0.0481 - accuracy: 0.9847 - val_loss: 0.4812 - val_accuracy: 0.8810\n",
            "Epoch 24/50\n",
            "56/56 [==============================] - 6s 99ms/step - loss: 0.0587 - accuracy: 0.9796 - val_loss: 0.6604 - val_accuracy: 0.8810\n",
            "Epoch 25/50\n",
            "56/56 [==============================] - 6s 99ms/step - loss: 0.0599 - accuracy: 0.9796 - val_loss: 0.7411 - val_accuracy: 0.8585\n",
            "Epoch 26/50\n",
            "56/56 [==============================] - 6s 100ms/step - loss: 0.0587 - accuracy: 0.9796 - val_loss: 0.4290 - val_accuracy: 0.8939\n",
            "Epoch 27/50\n",
            "56/56 [==============================] - 6s 100ms/step - loss: 0.0368 - accuracy: 0.9875 - val_loss: 0.8810 - val_accuracy: 0.8682\n",
            "Epoch 28/50\n",
            "56/56 [==============================] - 6s 100ms/step - loss: 0.0422 - accuracy: 0.9898 - val_loss: 0.6817 - val_accuracy: 0.8842\n",
            "Epoch 29/50\n",
            "56/56 [==============================] - 6s 100ms/step - loss: 0.0465 - accuracy: 0.9847 - val_loss: 0.5015 - val_accuracy: 0.9035\n",
            "Epoch 30/50\n",
            "56/56 [==============================] - 6s 100ms/step - loss: 0.0187 - accuracy: 0.9921 - val_loss: 0.6387 - val_accuracy: 0.8875\n",
            "Epoch 31/50\n",
            "56/56 [==============================] - 6s 100ms/step - loss: 0.0168 - accuracy: 0.9938 - val_loss: 0.6208 - val_accuracy: 0.8875\n",
            "Epoch 32/50\n",
            "56/56 [==============================] - 6s 100ms/step - loss: 0.0301 - accuracy: 0.9921 - val_loss: 0.6355 - val_accuracy: 0.8842\n",
            "Epoch 33/50\n",
            "56/56 [==============================] - 6s 100ms/step - loss: 0.0461 - accuracy: 0.9904 - val_loss: 0.6032 - val_accuracy: 0.8875\n",
            "Epoch 34/50\n",
            "56/56 [==============================] - 6s 100ms/step - loss: 0.0223 - accuracy: 0.9938 - val_loss: 0.6962 - val_accuracy: 0.8714\n",
            "Epoch 35/50\n",
            "56/56 [==============================] - 6s 100ms/step - loss: 0.0455 - accuracy: 0.9864 - val_loss: 0.6120 - val_accuracy: 0.8939\n",
            "Epoch 36/50\n",
            "56/56 [==============================] - 6s 100ms/step - loss: 0.0229 - accuracy: 0.9926 - val_loss: 0.8125 - val_accuracy: 0.8778\n",
            "Epoch 37/50\n",
            "56/56 [==============================] - 6s 100ms/step - loss: 0.0262 - accuracy: 0.9898 - val_loss: 0.9436 - val_accuracy: 0.8778\n",
            "Epoch 38/50\n",
            "56/56 [==============================] - 6s 100ms/step - loss: 0.0530 - accuracy: 0.9864 - val_loss: 0.6189 - val_accuracy: 0.8746\n",
            "Epoch 39/50\n",
            "56/56 [==============================] - 6s 100ms/step - loss: 0.0450 - accuracy: 0.9858 - val_loss: 0.4827 - val_accuracy: 0.9035\n",
            "Epoch 40/50\n",
            "56/56 [==============================] - 6s 100ms/step - loss: 0.0119 - accuracy: 0.9966 - val_loss: 0.6234 - val_accuracy: 0.9003\n",
            "Epoch 41/50\n",
            "56/56 [==============================] - 6s 100ms/step - loss: 0.0107 - accuracy: 0.9977 - val_loss: 0.8051 - val_accuracy: 0.8778\n",
            "Epoch 42/50\n",
            "56/56 [==============================] - 6s 101ms/step - loss: 0.0259 - accuracy: 0.9915 - val_loss: 0.6228 - val_accuracy: 0.8971\n",
            "Epoch 43/50\n",
            "56/56 [==============================] - 6s 99ms/step - loss: 0.0549 - accuracy: 0.9864 - val_loss: 0.7031 - val_accuracy: 0.8842\n",
            "Epoch 44/50\n",
            "56/56 [==============================] - 6s 99ms/step - loss: 0.0384 - accuracy: 0.9915 - val_loss: 0.5440 - val_accuracy: 0.8714\n",
            "Epoch 45/50\n",
            "56/56 [==============================] - 6s 99ms/step - loss: 0.0132 - accuracy: 0.9955 - val_loss: 0.6094 - val_accuracy: 0.8778\n",
            "Epoch 46/50\n",
            "56/56 [==============================] - 6s 99ms/step - loss: 0.0174 - accuracy: 0.9949 - val_loss: 0.5570 - val_accuracy: 0.8842\n",
            "Epoch 47/50\n",
            "56/56 [==============================] - 6s 101ms/step - loss: 0.0181 - accuracy: 0.9955 - val_loss: 0.4543 - val_accuracy: 0.9196\n",
            "Epoch 48/50\n",
            "56/56 [==============================] - 6s 99ms/step - loss: 0.0108 - accuracy: 0.9960 - val_loss: 0.5940 - val_accuracy: 0.9068\n",
            "Epoch 49/50\n",
            "56/56 [==============================] - 6s 99ms/step - loss: 0.0146 - accuracy: 0.9960 - val_loss: 1.0035 - val_accuracy: 0.8682\n",
            "Epoch 50/50\n",
            "56/56 [==============================] - 6s 99ms/step - loss: 0.0384 - accuracy: 0.9875 - val_loss: 0.9111 - val_accuracy: 0.8842\n"
          ]
        }
      ],
      "source": [
        "history = model.fit( X_train, y_train, epochs = 50 ,  verbose=1 , validation_data=(X_valid , y_valid) )"
      ]
    },
    {
      "cell_type": "markdown",
      "metadata": {
        "id": "ImshxwL4VoLi"
      },
      "source": [
        "# plot the loss and accuracy of the model over the training and validation data during training"
      ]
    },
    {
      "cell_type": "code",
      "execution_count": 25,
      "metadata": {
        "colab": {
          "base_uri": "https://localhost:8080/",
          "height": 590
        },
        "id": "Qc0QEU45VvyT",
        "outputId": "2e5ac4a5-51ca-4453-b3e6-3f12b7bd3d2a"
      },
      "outputs": [
        {
          "data": {
            "image/png": "[encoded data removed]",
            "text/plain": [
              "<Figure size 432x288 with 1 Axes>"
            ]
          },
          "metadata": {
            "needs_background": "light"
          },
          "output_type": "display_data"
        },
        {
          "data": {
            "text/plain": [
              "<matplotlib.legend.Legend at 0x7f890f767e80>"
            ]
          },
          "execution_count": 25,
          "metadata": {},
          "output_type": "execute_result"
        },
        {
          "data": {
            "image/png": "[encoded data removed]",
            "text/plain": [
              "<Figure size 432x288 with 1 Axes>"
            ]
          },
          "metadata": {
            "needs_background": "light"
          },
          "output_type": "display_data"
        }
      ],
      "source": [
        "import matplotlib.pyplot as plt\n",
        "loss = history.history['loss']\n",
        "val_loss = history.history['val_loss']\n",
        "acc = history.history['accuracy']\n",
        "val_acc = history.history['val_accuracy']\n",
        "epochs = range(1, len(loss) + 1)\n",
        "plt.plot(epochs, loss, color='green', label='Training loss')\n",
        "plt.plot(epochs, val_loss, color='blue', linestyle='dashed', label='Validation loss')\n",
        "plt.xlabel('Epochs')\n",
        "plt.ylabel('Loss')\n",
        "plt.title('Training and validation loss')\n",
        "plt.legend()\n",
        "plt.show()\n",
        "plt.figure()\n",
        "plt.plot(epochs, acc, color='green', label='Training acc')\n",
        "plt.plot(epochs, val_acc, color='blue', linestyle='dashed', label='Validation acc')\n",
        "plt.xlabel('Epochs')\n",
        "plt.ylabel('Loss')\n",
        "plt.title('Training and validation accuracy')\n",
        "plt.legend()\n"
      ]
    },
    {
      "cell_type": "markdown",
      "metadata": {
        "id": "UOBtEajfXa5c"
      },
      "source": [
        "# train & test loss and accuracy"
      ]
    },
    {
      "cell_type": "code",
      "execution_count": 26,
      "metadata": {
        "colab": {
          "base_uri": "https://localhost:8080/"
        },
        "id": "JuFwaEpgXe6a",
        "outputId": "117e8f85-128c-416c-bd6b-8d97a14bfaa4"
      },
      "outputs": [
        {
          "name": "stdout",
          "output_type": "stream",
          "text": [
            "Train loss: 0.00042365893023088574\n",
            "Train accuracy:  100.0 %\n"
          ]
        }
      ],
      "source": [
        "score = model.evaluate(X_train , y_train, verbose=0)\n",
        "\n",
        "print('Train loss:', score[0])\n",
        "print('Train accuracy: ', score[1]*100.0 ,'%')"
      ]
    },
    {
      "cell_type": "code",
      "execution_count": 27,
      "metadata": {
        "colab": {
          "base_uri": "https://localhost:8080/"
        },
        "id": "I1IU3VRbYD_R",
        "outputId": "d60800ca-eeb6-4e2b-ed64-c3964a2cda97"
      },
      "outputs": [
        {
          "name": "stdout",
          "output_type": "stream",
          "text": [
            "Test loss: 2.8635361194610596\n",
            "Test accuracy:  71.0659921169281 %\n"
          ]
        }
      ],
      "source": [
        "score = model.evaluate(X_test , y_test, verbose=0)\n",
        "\n",
        "print('Test loss:', score[0])\n",
        "print('Test accuracy: ', score[1]*100.0 ,'%')"
      ]
    }
  ],
  "metadata": {
    "accelerator": "GPU",
    "colab": {
      "provenance": []
    },
    "gpuClass": "standard",
    "kernelspec": {
      "display_name": "Python 3",
      "language": "python",
      "name": "python3"
    },
    "language_info": {
      "codemirror_mode": {
        "name": "ipython",
        "version": 3
      },
      "file_extension": ".py",
      "mimetype": "text/x-python",
      "name": "python",
      "nbconvert_exporter": "python",
      "pygments_lexer": "ipython3",
      "version": "3.10.5"
    },
    "vscode": {
      "interpreter": {
        "hash": "98a70705198618b40757f4d0e0cd81e920cd534dd864d2ad541ce8c6b4f10eed"
      }
    }
  },
  "nbformat": 4,
  "nbformat_minor": 0
}
