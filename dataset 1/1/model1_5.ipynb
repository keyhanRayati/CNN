{
  "cells": [
    {
      "cell_type": "code",
      "execution_count": 1,
      "metadata": {
        "id": "0eYwMmWmaOb-"
      },
      "outputs": [],
      "source": [
        "import numpy as np\n",
        "from tensorflow import keras\n",
        "from tensorflow.keras import layers\n",
        "from tensorflow.keras.models import Sequential\n",
        "from tensorflow.keras.layers import Flatten, Conv2D, MaxPool2D, Dense, Dropout , Input\n",
        "from tensorflow.keras.utils import to_categorical\n",
        "from tensorflow.keras.preprocessing.image import ImageDataGenerator\n",
        "from tensorflow.keras.models import load_model\n",
        "from tensorflow.keras.layers import GlobalMaxPooling2D, MaxPooling2D\n",
        "from tensorflow.keras.layers import BatchNormalization\n",
        "from tensorflow.keras.models import Model\n",
        "from tensorflow.keras import regularizers, optimizers\n",
        "from sklearn.metrics import accuracy_score\n",
        "import matplotlib.pyplot as plt\n",
        "import pandas as pd\n",
        "from PIL import Image\n",
        "import glob\n",
        "import cv2\n",
        "import keras\n",
        "import tensorflow as tf\n",
        "\n",
        "\n",
        "\n",
        "\n",
        "import warnings\n",
        "warnings.filterwarnings('ignore')"
      ]
    },
    {
      "attachments": {},
      "cell_type": "markdown",
      "metadata": {
        "id": "0n4BMzCjaRxW"
      },
      "source": [
        "# Prepare and load dataset\n",
        "\n",
        "\n"
      ]
    },
    {
      "cell_type": "code",
      "execution_count": 3,
      "metadata": {
        "id": "mevQ1BmN9RfR"
      },
      "outputs": [],
      "source": [
        "X_train = []\n",
        "y_train = []\n",
        "for img in glob.glob(\"/content/drive/MyDrive/datasets/Training/glioma_tumor/*.jpg\"):\n",
        "    n = cv2.imread(img)\n",
        "    n = cv2.resize(n, (130,130), interpolation = cv2.INTER_AREA)\n",
        "    X_train.append(n)\n",
        "    y_train.append( 0)\n",
        "\n",
        "for img in glob.glob(\"/content/drive/MyDrive/datasets/Training/meningioma_tumor/*.jpg\"):\n",
        "    n = cv2.imread(img)\n",
        "    n = cv2.resize(n, (130,130), interpolation = cv2.INTER_AREA)\n",
        "    X_train.append(n)\n",
        "    y_train.append( 1)\n",
        "\n",
        "\n",
        "for img in glob.glob(\"/content/drive/MyDrive/datasets/Training/no_tumor/*.jpg\"):\n",
        "    n = cv2.imread(img)\n",
        "    n = cv2.resize(n, (130,130), interpolation = cv2.INTER_AREA)\n",
        "    X_train.append(n)\n",
        "    y_train.append( 2)\n",
        "\n",
        "for img in glob.glob(\"/content/drive/MyDrive/datasets/Training/pituitary_tumor/*.jpg\"):\n",
        "    n = cv2.imread(img)\n",
        "    n = cv2.resize(n, (130,130), interpolation = cv2.INTER_AREA)\n",
        "    X_train.append(n)\n",
        "    y_train.append(3)\n",
        "\n",
        "\n"
      ]
    },
    {
      "attachments": {},
      "cell_type": "markdown",
      "metadata": {},
      "source": [
        "# Prepare and load data Test"
      ]
    },
    {
      "cell_type": "code",
      "execution_count": 4,
      "metadata": {
        "id": "97DQeNHNbmcQ"
      },
      "outputs": [],
      "source": [
        "X_test = []\n",
        "y_test = []\n",
        "for img in glob.glob(\"/content/drive/MyDrive/datasets/Testing/glioma_tumor/*.jpg\"):\n",
        "    n = cv2.imread(img)\n",
        "    n = cv2.resize(n, (130,130), interpolation = cv2.INTER_AREA)\n",
        "    X_test.append(n)\n",
        "    y_test.append(0)\n",
        "\n",
        "for img in glob.glob(\"/content/drive/MyDrive/datasets/Testing/meningioma_tumor/*.jpg\"):\n",
        "    n = cv2.imread(img)\n",
        "    n = cv2.resize(n, (130,130), interpolation = cv2.INTER_AREA)\n",
        "    X_test.append(n)\n",
        "    y_test.append( 1)\n",
        "\n",
        "\n",
        "for img in glob.glob(\"/content/drive/MyDrive/datasets/Testing/no_tumor/*.jpg\"):\n",
        "    n = cv2.imread(img)\n",
        "    n = cv2.resize(n, (130,130), interpolation = cv2.INTER_AREA)\n",
        "    X_test.append(n)\n",
        "    y_test.append( 2)\n",
        "\n",
        "for img in glob.glob(\"/content/drive/MyDrive/datasets/Testing/pituitary_tumor/*.jpg\"):\n",
        "    n = cv2.imread(img)\n",
        "    n = cv2.resize(n, (130,130), interpolation = cv2.INTER_AREA)\n",
        "    X_test.append(n)\n",
        "    y_test.append( 3)\n",
        "\n"
      ]
    },
    {
      "cell_type": "code",
      "execution_count": 5,
      "metadata": {
        "id": "ZF7WveRHb5t-"
      },
      "outputs": [],
      "source": [
        "X_train = np.array(X_train)/255\n",
        "X_test = np.array(X_test)/255\n",
        "y_train = np.array(y_train)\n",
        "y_test = np.array(y_test)"
      ]
    },
    {
      "cell_type": "code",
      "execution_count": 6,
      "metadata": {
        "id": "A20BX9UETLp7"
      },
      "outputs": [],
      "source": [
        "from tensorflow.keras.layers import GlobalMaxPooling2D, MaxPooling2D\n"
      ]
    },
    {
      "attachments": {},
      "cell_type": "markdown",
      "metadata": {},
      "source": [
        "# Building the network"
      ]
    },
    {
      "cell_type": "code",
      "execution_count": 7,
      "metadata": {
        "id": "X2XFs310VCRS"
      },
      "outputs": [],
      "source": [
        "model = Sequential()\n",
        "\n",
        "model.add(Conv2D(128, 3, input_shape=(130,130,3) , activation='relu'))\n",
        "model.add(MaxPooling2D(pool_size=2))\n",
        "\n",
        "model.add(Conv2D(256, 3,activation='relu'))\n",
        "model.add(MaxPooling2D(pool_size=2))\n",
        "\n",
        "model.add(Conv2D(512, 3, activation='relu'))\n",
        "model.add(MaxPooling2D(pool_size=2))\n",
        "\n",
        "\n",
        "model.add(Flatten())\n",
        "\n",
        "model.add(Dropout(0.5))\n",
        "model.add(Dense(4096, activation='relu'))\n",
        "model.add(Dense(2048, activation='relu'))\n",
        "model.add(Dense(4, activation='softmax'))\n",
        "\n",
        "model.compile(loss='sparse_categorical_crossentropy',optimizer='Adam',metrics=['accuracy'])\n"
      ]
    },
    {
      "cell_type": "code",
      "execution_count": 8,
      "metadata": {
        "colab": {
          "base_uri": "https://localhost:8080/"
        },
        "id": "rClcuCfnKyrG",
        "outputId": "daa9bfe9-3b40-4b01-a91d-9eb3adcb294a"
      },
      "outputs": [
        {
          "name": "stdout",
          "output_type": "stream",
          "text": [
            "Model: \"sequential\"\n",
            "_________________________________________________________________\n",
            " Layer (type)                Output Shape              Param #   \n",
            "=================================================================\n",
            " conv2d (Conv2D)             (None, 128, 128, 128)     3584      \n",
            "                                                                 \n",
            " max_pooling2d (MaxPooling2D  (None, 64, 64, 128)      0         \n",
            " )                                                               \n",
            "                                                                 \n",
            " conv2d_1 (Conv2D)           (None, 62, 62, 256)       295168    \n",
            "                                                                 \n",
            " max_pooling2d_1 (MaxPooling  (None, 31, 31, 256)      0         \n",
            " 2D)                                                             \n",
            "                                                                 \n",
            " conv2d_2 (Conv2D)           (None, 29, 29, 512)       1180160   \n",
            "                                                                 \n",
            " max_pooling2d_2 (MaxPooling  (None, 14, 14, 512)      0         \n",
            " 2D)                                                             \n",
            "                                                                 \n",
            " flatten (Flatten)           (None, 100352)            0         \n",
            "                                                                 \n",
            " dropout (Dropout)           (None, 100352)            0         \n",
            "                                                                 \n",
            " dense (Dense)               (None, 4096)              411045888 \n",
            "                                                                 \n",
            " dense_1 (Dense)             (None, 2048)              8390656   \n",
            "                                                                 \n",
            " dense_2 (Dense)             (None, 4)                 8196      \n",
            "                                                                 \n",
            "=================================================================\n",
            "Total params: 420,923,652\n",
            "Trainable params: 420,923,652\n",
            "Non-trainable params: 0\n",
            "_________________________________________________________________\n"
          ]
        }
      ],
      "source": [
        "model.summary() "
      ]
    },
    {
      "attachments": {},
      "cell_type": "markdown",
      "metadata": {
        "id": "Ndmu9g3OSA4s"
      },
      "source": [
        "# Split data into Train and Validation"
      ]
    },
    {
      "cell_type": "code",
      "execution_count": 9,
      "metadata": {
        "id": "qvMOw6TkySTb"
      },
      "outputs": [],
      "source": [
        "from sklearn.model_selection import train_test_split\n",
        "X_train, X_valid, y_train, y_valid = train_test_split(X_train, y_train, test_size=0.15, random_state=42)"
      ]
    },
    {
      "attachments": {},
      "cell_type": "markdown",
      "metadata": {},
      "source": [
        "# train the network"
      ]
    },
    {
      "cell_type": "code",
      "execution_count": 10,
      "metadata": {
        "colab": {
          "base_uri": "https://localhost:8080/"
        },
        "id": "ht-CV4KTRvq_",
        "outputId": "c0a2b0ce-ac9e-4255-d560-165f38efa196"
      },
      "outputs": [
        {
          "name": "stdout",
          "output_type": "stream",
          "text": [
            "Epoch 1/50\n",
            "77/77 [==============================] - 18s 182ms/step - loss: 1.3322 - accuracy: 0.5379 - val_loss: 0.7615 - val_accuracy: 0.6334\n",
            "Epoch 2/50\n",
            "77/77 [==============================] - 13s 168ms/step - loss: 0.6485 - accuracy: 0.7212 - val_loss: 0.9681 - val_accuracy: 0.5916\n",
            "Epoch 3/50\n",
            "77/77 [==============================] - 13s 168ms/step - loss: 0.5275 - accuracy: 0.7811 - val_loss: 0.4242 - val_accuracy: 0.8051\n",
            "Epoch 4/50\n",
            "77/77 [==============================] - 13s 169ms/step - loss: 0.3648 - accuracy: 0.8479 - val_loss: 0.3227 - val_accuracy: 0.8538\n",
            "Epoch 5/50\n",
            "77/77 [==============================] - 13s 168ms/step - loss: 0.2900 - accuracy: 0.8877 - val_loss: 0.3150 - val_accuracy: 0.8840\n",
            "Epoch 6/50\n",
            "77/77 [==============================] - 13s 169ms/step - loss: 0.2125 - accuracy: 0.9159 - val_loss: 0.3223 - val_accuracy: 0.9072\n",
            "Epoch 7/50\n",
            "77/77 [==============================] - 13s 169ms/step - loss: 0.1604 - accuracy: 0.9340 - val_loss: 0.2807 - val_accuracy: 0.9026\n",
            "Epoch 8/50\n",
            "77/77 [==============================] - 13s 170ms/step - loss: 0.1767 - accuracy: 0.9410 - val_loss: 0.2915 - val_accuracy: 0.9072\n",
            "Epoch 9/50\n",
            "77/77 [==============================] - 13s 169ms/step - loss: 0.1007 - accuracy: 0.9635 - val_loss: 0.3680 - val_accuracy: 0.9165\n",
            "Epoch 10/50\n",
            "77/77 [==============================] - 13s 169ms/step - loss: 0.1338 - accuracy: 0.9508 - val_loss: 0.2567 - val_accuracy: 0.9258\n",
            "Epoch 11/50\n",
            "77/77 [==============================] - 13s 171ms/step - loss: 0.0763 - accuracy: 0.9770 - val_loss: 0.3068 - val_accuracy: 0.9165\n",
            "Epoch 12/50\n",
            "77/77 [==============================] - 13s 169ms/step - loss: 0.0759 - accuracy: 0.9774 - val_loss: 0.3558 - val_accuracy: 0.9234\n",
            "Epoch 13/50\n",
            "77/77 [==============================] - 13s 169ms/step - loss: 0.0533 - accuracy: 0.9791 - val_loss: 0.3572 - val_accuracy: 0.9234\n",
            "Epoch 14/50\n",
            "77/77 [==============================] - 13s 169ms/step - loss: 0.0624 - accuracy: 0.9820 - val_loss: 0.3434 - val_accuracy: 0.9072\n",
            "Epoch 15/50\n",
            "77/77 [==============================] - 13s 169ms/step - loss: 0.0645 - accuracy: 0.9774 - val_loss: 0.2876 - val_accuracy: 0.9281\n",
            "Epoch 16/50\n",
            "77/77 [==============================] - 13s 169ms/step - loss: 0.0507 - accuracy: 0.9807 - val_loss: 0.3304 - val_accuracy: 0.9327\n",
            "Epoch 17/50\n",
            "77/77 [==============================] - 13s 169ms/step - loss: 0.0284 - accuracy: 0.9897 - val_loss: 0.3575 - val_accuracy: 0.9304\n",
            "Epoch 18/50\n",
            "77/77 [==============================] - 13s 169ms/step - loss: 0.0147 - accuracy: 0.9951 - val_loss: 0.3890 - val_accuracy: 0.9397\n",
            "Epoch 19/50\n",
            "77/77 [==============================] - 13s 170ms/step - loss: 0.0167 - accuracy: 0.9951 - val_loss: 0.3599 - val_accuracy: 0.9350\n",
            "Epoch 20/50\n",
            "77/77 [==============================] - 13s 170ms/step - loss: 0.0437 - accuracy: 0.9873 - val_loss: 0.4239 - val_accuracy: 0.9049\n",
            "Epoch 21/50\n",
            "77/77 [==============================] - 13s 170ms/step - loss: 0.0463 - accuracy: 0.9852 - val_loss: 0.2991 - val_accuracy: 0.9397\n",
            "Epoch 22/50\n",
            "77/77 [==============================] - 13s 170ms/step - loss: 0.0315 - accuracy: 0.9906 - val_loss: 0.3184 - val_accuracy: 0.9281\n",
            "Epoch 23/50\n",
            "77/77 [==============================] - 13s 170ms/step - loss: 0.0280 - accuracy: 0.9906 - val_loss: 0.3939 - val_accuracy: 0.9165\n",
            "Epoch 24/50\n",
            "77/77 [==============================] - 13s 170ms/step - loss: 0.0514 - accuracy: 0.9865 - val_loss: 0.5652 - val_accuracy: 0.8910\n",
            "Epoch 25/50\n",
            "77/77 [==============================] - 13s 170ms/step - loss: 0.0432 - accuracy: 0.9856 - val_loss: 0.3958 - val_accuracy: 0.9095\n",
            "Epoch 26/50\n",
            "77/77 [==============================] - 13s 170ms/step - loss: 0.0232 - accuracy: 0.9926 - val_loss: 0.4311 - val_accuracy: 0.9142\n",
            "Epoch 27/50\n",
            "77/77 [==============================] - 13s 170ms/step - loss: 0.0268 - accuracy: 0.9926 - val_loss: 0.3501 - val_accuracy: 0.9374\n",
            "Epoch 28/50\n",
            "77/77 [==============================] - 13s 170ms/step - loss: 0.0323 - accuracy: 0.9918 - val_loss: 0.3200 - val_accuracy: 0.9350\n",
            "Epoch 29/50\n",
            "77/77 [==============================] - 13s 170ms/step - loss: 0.0141 - accuracy: 0.9947 - val_loss: 0.3658 - val_accuracy: 0.9420\n",
            "Epoch 30/50\n",
            "77/77 [==============================] - 13s 170ms/step - loss: 0.0129 - accuracy: 0.9951 - val_loss: 0.4416 - val_accuracy: 0.9327\n",
            "Epoch 31/50\n",
            "77/77 [==============================] - 13s 170ms/step - loss: 0.0129 - accuracy: 0.9967 - val_loss: 0.3644 - val_accuracy: 0.9397\n",
            "Epoch 32/50\n",
            "77/77 [==============================] - 13s 170ms/step - loss: 0.0190 - accuracy: 0.9943 - val_loss: 0.3702 - val_accuracy: 0.9327\n",
            "Epoch 33/50\n",
            "77/77 [==============================] - 13s 173ms/step - loss: 0.0072 - accuracy: 0.9979 - val_loss: 0.4341 - val_accuracy: 0.9374\n",
            "Epoch 34/50\n",
            "77/77 [==============================] - 13s 170ms/step - loss: 0.0276 - accuracy: 0.9906 - val_loss: 0.5891 - val_accuracy: 0.9188\n",
            "Epoch 35/50\n",
            "77/77 [==============================] - 13s 170ms/step - loss: 0.0496 - accuracy: 0.9852 - val_loss: 0.3382 - val_accuracy: 0.9234\n",
            "Epoch 36/50\n",
            "77/77 [==============================] - 13s 170ms/step - loss: 0.0234 - accuracy: 0.9938 - val_loss: 0.3997 - val_accuracy: 0.9211\n",
            "Epoch 37/50\n",
            "77/77 [==============================] - 13s 170ms/step - loss: 0.0361 - accuracy: 0.9914 - val_loss: 0.3996 - val_accuracy: 0.9234\n",
            "Epoch 38/50\n",
            "77/77 [==============================] - 13s 170ms/step - loss: 0.0096 - accuracy: 0.9975 - val_loss: 0.5534 - val_accuracy: 0.9258\n",
            "Epoch 39/50\n",
            "77/77 [==============================] - 13s 170ms/step - loss: 0.0303 - accuracy: 0.9893 - val_loss: 0.3505 - val_accuracy: 0.9304\n",
            "Epoch 40/50\n",
            "77/77 [==============================] - 13s 170ms/step - loss: 0.0034 - accuracy: 0.9992 - val_loss: 0.4950 - val_accuracy: 0.9281\n",
            "Epoch 41/50\n",
            "77/77 [==============================] - 13s 171ms/step - loss: 0.0077 - accuracy: 0.9979 - val_loss: 0.5012 - val_accuracy: 0.9281\n",
            "Epoch 42/50\n",
            "77/77 [==============================] - 13s 171ms/step - loss: 0.0118 - accuracy: 0.9959 - val_loss: 0.5040 - val_accuracy: 0.9258\n",
            "Epoch 43/50\n",
            "77/77 [==============================] - 13s 170ms/step - loss: 0.0190 - accuracy: 0.9938 - val_loss: 0.4164 - val_accuracy: 0.9304\n",
            "Epoch 44/50\n",
            "77/77 [==============================] - 13s 170ms/step - loss: 0.0447 - accuracy: 0.9885 - val_loss: 0.5199 - val_accuracy: 0.9211\n",
            "Epoch 45/50\n",
            "77/77 [==============================] - 13s 170ms/step - loss: 0.0460 - accuracy: 0.9885 - val_loss: 0.3533 - val_accuracy: 0.9374\n",
            "Epoch 46/50\n",
            "77/77 [==============================] - 13s 170ms/step - loss: 0.0157 - accuracy: 0.9955 - val_loss: 0.4316 - val_accuracy: 0.9420\n",
            "Epoch 47/50\n",
            "77/77 [==============================] - 13s 171ms/step - loss: 0.0057 - accuracy: 0.9975 - val_loss: 0.4014 - val_accuracy: 0.9397\n",
            "Epoch 48/50\n",
            "77/77 [==============================] - 13s 170ms/step - loss: 0.0022 - accuracy: 0.9996 - val_loss: 0.4273 - val_accuracy: 0.9397\n",
            "Epoch 49/50\n",
            "77/77 [==============================] - 13s 170ms/step - loss: 5.3435e-04 - accuracy: 1.0000 - val_loss: 0.5988 - val_accuracy: 0.9327\n",
            "Epoch 50/50\n",
            "77/77 [==============================] - 13s 170ms/step - loss: 0.0015 - accuracy: 0.9992 - val_loss: 0.6223 - val_accuracy: 0.9327\n"
          ]
        }
      ],
      "source": [
        "history = model.fit( X_train, y_train, epochs = 50 ,  verbose=1 , validation_data=(X_valid , y_valid) )"
      ]
    },
    {
      "cell_type": "markdown",
      "metadata": {
        "id": "ImshxwL4VoLi"
      },
      "source": [
        "# plot the loss and accuracy of the model over the training and validation data during training"
      ]
    },
    {
      "cell_type": "code",
      "execution_count": 11,
      "metadata": {
        "colab": {
          "base_uri": "https://localhost:8080/",
          "height": 590
        },
        "id": "Qc0QEU45VvyT",
        "outputId": "efb3a885-0f1f-4987-9158-74c95f3f78c4"
      },
      "outputs": [
        {
          "data": {
            "image/png": "[encoded data removed]",
            "text/plain": [
              "<Figure size 432x288 with 1 Axes>"
            ]
          },
          "metadata": {
            "needs_background": "light"
          },
          "output_type": "display_data"
        },
        {
          "data": {
            "text/plain": [
              "<matplotlib.legend.Legend at 0x7fbe741ee3a0>"
            ]
          },
          "execution_count": 11,
          "metadata": {},
          "output_type": "execute_result"
        },
        {
          "data": {
            "image/png": "[encoded data removed]",
            "text/plain": [
              "<Figure size 432x288 with 1 Axes>"
            ]
          },
          "metadata": {
            "needs_background": "light"
          },
          "output_type": "display_data"
        }
      ],
      "source": [
        "import matplotlib.pyplot as plt\n",
        "loss = history.history['loss']\n",
        "val_loss = history.history['val_loss']\n",
        "acc = history.history['accuracy']\n",
        "val_acc = history.history['val_accuracy']\n",
        "epochs = range(1, len(loss) + 1)\n",
        "plt.plot(epochs, loss, color='green', label='Training loss')\n",
        "plt.plot(epochs, val_loss, color='blue', linestyle='dashed', label='Validation loss')\n",
        "plt.xlabel('Epochs')\n",
        "plt.ylabel('Loss')\n",
        "plt.title('Training and validation loss')\n",
        "plt.legend()\n",
        "plt.show()\n",
        "plt.figure()\n",
        "plt.plot(epochs, acc, color='green', label='Training acc')\n",
        "plt.plot(epochs, val_acc, color='blue', linestyle='dashed', label='Validation acc')\n",
        "plt.xlabel('Epochs')\n",
        "plt.ylabel('Loss')\n",
        "plt.title('Training and validation accuracy')\n",
        "plt.legend()\n"
      ]
    },
    {
      "cell_type": "markdown",
      "metadata": {
        "id": "UOBtEajfXa5c"
      },
      "source": [
        "# train & test loss and accuracy"
      ]
    },
    {
      "cell_type": "code",
      "execution_count": 12,
      "metadata": {
        "colab": {
          "base_uri": "https://localhost:8080/"
        },
        "id": "JuFwaEpgXe6a",
        "outputId": "a2c9d92f-b958-4149-91c4-396bacabaa18"
      },
      "outputs": [
        {
          "name": "stdout",
          "output_type": "stream",
          "text": [
            "Train loss: 0.0010678338585421443\n",
            "Train accuracy:  99.95899796485901 %\n"
          ]
        }
      ],
      "source": [
        "score = model.evaluate(X_train , y_train, verbose=0)\n",
        "\n",
        "print('Train loss:', score[0])\n",
        "print('Train accuracy: ', score[1]*100.0 ,'%')"
      ]
    },
    {
      "cell_type": "code",
      "execution_count": 13,
      "metadata": {
        "colab": {
          "base_uri": "https://localhost:8080/"
        },
        "id": "I1IU3VRbYD_R",
        "outputId": "4ce9cb36-c86a-45c5-85b8-9159cb5f701d"
      },
      "outputs": [
        {
          "name": "stdout",
          "output_type": "stream",
          "text": [
            "Test loss: 5.660799026489258\n",
            "Test accuracy:  74.36548471450806 %\n"
          ]
        }
      ],
      "source": [
        "score = model.evaluate(X_test , y_test, verbose=0)\n",
        "\n",
        "print('Test loss:', score[0])\n",
        "print('Test accuracy: ', score[1]*100.0 ,'%')"
      ]
    }
  ],
  "metadata": {
    "accelerator": "GPU",
    "colab": {
      "provenance": []
    },
    "gpuClass": "standard",
    "kernelspec": {
      "display_name": "Python 3",
      "language": "python",
      "name": "python3"
    },
    "language_info": {
      "codemirror_mode": {
        "name": "ipython",
        "version": 3
      },
      "file_extension": ".py",
      "mimetype": "text/x-python",
      "name": "python",
      "nbconvert_exporter": "python",
      "pygments_lexer": "ipython3",
      "version": "3.10.5 (tags/v3.10.5:f377153, Jun  6 2022, 16:14:13) [MSC v.1929 64 bit (AMD64)]"
    },
    "vscode": {
      "interpreter": {
        "hash": "98a70705198618b40757f4d0e0cd81e920cd534dd864d2ad541ce8c6b4f10eed"
      }
    }
  },
  "nbformat": 4,
  "nbformat_minor": 0
}
