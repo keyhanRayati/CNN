{
  "cells": [
    {
      "cell_type": "code",
      "execution_count": 2,
      "metadata": {
        "id": "0eYwMmWmaOb-"
      },
      "outputs": [],
      "source": [
        "import numpy as np\n",
        "from tensorflow import keras\n",
        "from tensorflow.keras import layers\n",
        "from tensorflow.keras.models import Sequential\n",
        "from tensorflow.keras.layers import Flatten, Conv2D, MaxPool2D, Dense, Dropout , Input\n",
        "from tensorflow.keras.utils import to_categorical\n",
        "from tensorflow.keras.preprocessing.image import ImageDataGenerator\n",
        "from tensorflow.keras.models import load_model\n",
        "from tensorflow.keras.layers import GlobalMaxPooling2D, MaxPooling2D\n",
        "from tensorflow.keras.layers import BatchNormalization\n",
        "from tensorflow.keras.models import Model\n",
        "from tensorflow.keras import regularizers, optimizers\n",
        "from sklearn.metrics import accuracy_score\n",
        "import matplotlib.pyplot as plt\n",
        "import pandas as pd\n",
        "from PIL import Image\n",
        "import glob\n",
        "import cv2\n",
        "import keras\n",
        "import tensorflow as tf\n",
        "\n",
        "\n",
        "\n",
        "\n",
        "import warnings\n",
        "warnings.filterwarnings('ignore')"
      ]
    },
    {
      "attachments": {},
      "cell_type": "markdown",
      "metadata": {
        "id": "0n4BMzCjaRxW"
      },
      "source": [
        "# Prepare and load dataset\n",
        "\n",
        "\n"
      ]
    },
    {
      "cell_type": "code",
      "execution_count": 3,
      "metadata": {
        "id": "mevQ1BmN9RfR"
      },
      "outputs": [],
      "source": [
        "X_train = []\n",
        "y_train = []\n",
        "for img in glob.glob(\"/content/drive/MyDrive/datasets/Training/glioma_tumor/*.jpg\"):\n",
        "    n = cv2.imread(img)\n",
        "    n = cv2.resize(n, (130,130), interpolation = cv2.INTER_AREA)\n",
        "    X_train.append(n)\n",
        "    y_train.append( 0)\n",
        "\n",
        "for img in glob.glob(\"/content/drive/MyDrive/datasets/Training/meningioma_tumor/*.jpg\"):\n",
        "    n = cv2.imread(img)\n",
        "    n = cv2.resize(n, (130,130), interpolation = cv2.INTER_AREA)\n",
        "    X_train.append(n)\n",
        "    y_train.append( 1)\n",
        "\n",
        "\n",
        "for img in glob.glob(\"/content/drive/MyDrive/datasets/Training/no_tumor/*.jpg\"):\n",
        "    n = cv2.imread(img)\n",
        "    n = cv2.resize(n, (130,130), interpolation = cv2.INTER_AREA)\n",
        "    X_train.append(n)\n",
        "    y_train.append( 2)\n",
        "\n",
        "for img in glob.glob(\"/content/drive/MyDrive/datasets/Training/pituitary_tumor/*.jpg\"):\n",
        "    n = cv2.imread(img)\n",
        "    n = cv2.resize(n, (130,130), interpolation = cv2.INTER_AREA)\n",
        "    X_train.append(n)\n",
        "    y_train.append(3)\n",
        "\n",
        "\n"
      ]
    },
    {
      "attachments": {},
      "cell_type": "markdown",
      "metadata": {},
      "source": [
        "# Prepare and load data Test"
      ]
    },
    {
      "cell_type": "code",
      "execution_count": 4,
      "metadata": {
        "id": "97DQeNHNbmcQ"
      },
      "outputs": [],
      "source": [
        "X_test = []\n",
        "y_test = []\n",
        "for img in glob.glob(\"/content/drive/MyDrive/datasets/Testing/glioma_tumor/*.jpg\"):\n",
        "    n = cv2.imread(img)\n",
        "    n = cv2.resize(n, (130,130), interpolation = cv2.INTER_AREA)\n",
        "    X_test.append(n)\n",
        "    y_test.append(0)\n",
        "\n",
        "for img in glob.glob(\"/content/drive/MyDrive/datasets/Testing/meningioma_tumor/*.jpg\"):\n",
        "    n = cv2.imread(img)\n",
        "    n = cv2.resize(n, (130,130), interpolation = cv2.INTER_AREA)\n",
        "    X_test.append(n)\n",
        "    y_test.append( 1)\n",
        "\n",
        "\n",
        "for img in glob.glob(\"/content/drive/MyDrive/datasets/Testing/no_tumor/*.jpg\"):\n",
        "    n = cv2.imread(img)\n",
        "    n = cv2.resize(n, (130,130), interpolation = cv2.INTER_AREA)\n",
        "    X_test.append(n)\n",
        "    y_test.append( 2)\n",
        "\n",
        "for img in glob.glob(\"/content/drive/MyDrive/datasets/Testing/pituitary_tumor/*.jpg\"):\n",
        "    n = cv2.imread(img)\n",
        "    n = cv2.resize(n, (130,130), interpolation = cv2.INTER_AREA)\n",
        "    X_test.append(n)\n",
        "    y_test.append( 3)\n",
        "\n"
      ]
    },
    {
      "cell_type": "code",
      "execution_count": 5,
      "metadata": {
        "id": "ZF7WveRHb5t-"
      },
      "outputs": [],
      "source": [
        "X_train = np.array(X_train)/255\n",
        "X_test = np.array(X_test)/255\n",
        "y_train = np.array(y_train)\n",
        "y_test = np.array(y_test)"
      ]
    },
    {
      "cell_type": "code",
      "execution_count": 6,
      "metadata": {
        "id": "A20BX9UETLp7"
      },
      "outputs": [],
      "source": [
        "from tensorflow.keras.layers import GlobalMaxPooling2D, MaxPooling2D\n"
      ]
    },
    {
      "cell_type": "markdown",
      "metadata": {
        "id": "301iM4LtYfSj"
      },
      "source": [
        "# Building the network"
      ]
    },
    {
      "cell_type": "code",
      "execution_count": 7,
      "metadata": {
        "id": "X2XFs310VCRS"
      },
      "outputs": [],
      "source": [
        "model = Sequential()\n",
        "model.add(Conv2D(64, 3, input_shape=(130,130,3) , activation='relu'))\n",
        "model.add(MaxPooling2D(pool_size=2))\n",
        "model.add(Conv2D(128, 3,activation='relu'))\n",
        "\n",
        "model.add(MaxPooling2D(pool_size=2))\n",
        "model.add(Conv2D(256, 3, activation='relu'))\n",
        "model.add(MaxPooling2D(pool_size=2))\n",
        "\n",
        "model.add(Flatten())\n",
        "model.add(Dropout(0.5))\n",
        "model.add(Dense(4096, activation='relu'))\n",
        "model.add(Dropout(0.4))\n",
        "model.add(Dense(2048, activation='relu'))\n",
        "model.add(Dropout(0.3))\n",
        "model.add(Dense(4, activation='softmax'))\n",
        "\n",
        "model.compile(loss='sparse_categorical_crossentropy',optimizer='Adam',metrics=['accuracy'])\n"
      ]
    },
    {
      "cell_type": "code",
      "execution_count": 8,
      "metadata": {
        "colab": {
          "base_uri": "https://localhost:8080/"
        },
        "id": "rClcuCfnKyrG",
        "outputId": "4d9dd0eb-d30c-4ef0-ef66-9ea772f587d5"
      },
      "outputs": [
        {
          "name": "stdout",
          "output_type": "stream",
          "text": [
            "Model: \"sequential\"\n",
            "_________________________________________________________________\n",
            " Layer (type)                Output Shape              Param #   \n",
            "=================================================================\n",
            " conv2d (Conv2D)             (None, 128, 128, 64)      1792      \n",
            "                                                                 \n",
            " max_pooling2d (MaxPooling2D  (None, 64, 64, 64)       0         \n",
            " )                                                               \n",
            "                                                                 \n",
            " conv2d_1 (Conv2D)           (None, 62, 62, 128)       73856     \n",
            "                                                                 \n",
            " max_pooling2d_1 (MaxPooling  (None, 31, 31, 128)      0         \n",
            " 2D)                                                             \n",
            "                                                                 \n",
            " conv2d_2 (Conv2D)           (None, 29, 29, 256)       295168    \n",
            "                                                                 \n",
            " max_pooling2d_2 (MaxPooling  (None, 14, 14, 256)      0         \n",
            " 2D)                                                             \n",
            "                                                                 \n",
            " flatten (Flatten)           (None, 50176)             0         \n",
            "                                                                 \n",
            " dropout (Dropout)           (None, 50176)             0         \n",
            "                                                                 \n",
            " dense (Dense)               (None, 4096)              205524992 \n",
            "                                                                 \n",
            " dropout_1 (Dropout)         (None, 4096)              0         \n",
            "                                                                 \n",
            " dense_1 (Dense)             (None, 2048)              8390656   \n",
            "                                                                 \n",
            " dropout_2 (Dropout)         (None, 2048)              0         \n",
            "                                                                 \n",
            " dense_2 (Dense)             (None, 4)                 8196      \n",
            "                                                                 \n",
            "=================================================================\n",
            "Total params: 214,294,660\n",
            "Trainable params: 214,294,660\n",
            "Non-trainable params: 0\n",
            "_________________________________________________________________\n"
          ]
        }
      ],
      "source": [
        "model.summary() "
      ]
    },
    {
      "attachments": {},
      "cell_type": "markdown",
      "metadata": {
        "id": "Ndmu9g3OSA4s"
      },
      "source": [
        "# Split data into Train and Validation"
      ]
    },
    {
      "cell_type": "code",
      "execution_count": 9,
      "metadata": {
        "id": "qvMOw6TkySTb"
      },
      "outputs": [],
      "source": [
        "from sklearn.model_selection import train_test_split\n",
        "X_train, X_valid, y_train, y_valid = train_test_split(X_train, y_train, test_size=0.15, random_state=42)"
      ]
    },
    {
      "attachments": {},
      "cell_type": "markdown",
      "metadata": {},
      "source": [
        "# train the network"
      ]
    },
    {
      "cell_type": "code",
      "execution_count": 10,
      "metadata": {
        "colab": {
          "base_uri": "https://localhost:8080/"
        },
        "id": "ht-CV4KTRvq_",
        "outputId": "f9fd683c-67a9-4540-8517-444a94b0998b"
      },
      "outputs": [
        {
          "name": "stdout",
          "output_type": "stream",
          "text": [
            "Epoch 1/50\n",
            "77/77 [==============================] - 16s 93ms/step - loss: 1.1582 - accuracy: 0.5289 - val_loss: 0.8659 - val_accuracy: 0.5963\n",
            "Epoch 2/50\n",
            "77/77 [==============================] - 6s 84ms/step - loss: 0.7070 - accuracy: 0.6991 - val_loss: 0.6932 - val_accuracy: 0.6659\n",
            "Epoch 3/50\n",
            "77/77 [==============================] - 7s 85ms/step - loss: 0.5368 - accuracy: 0.7864 - val_loss: 0.5174 - val_accuracy: 0.7773\n",
            "Epoch 4/50\n",
            "77/77 [==============================] - 6s 84ms/step - loss: 0.4427 - accuracy: 0.8130 - val_loss: 0.3661 - val_accuracy: 0.8631\n",
            "Epoch 5/50\n",
            "77/77 [==============================] - 7s 85ms/step - loss: 0.3605 - accuracy: 0.8549 - val_loss: 0.4924 - val_accuracy: 0.7773\n",
            "Epoch 6/50\n",
            "77/77 [==============================] - 7s 85ms/step - loss: 0.3239 - accuracy: 0.8733 - val_loss: 0.2939 - val_accuracy: 0.8956\n",
            "Epoch 7/50\n",
            "77/77 [==============================] - 6s 84ms/step - loss: 0.2741 - accuracy: 0.8930 - val_loss: 0.3211 - val_accuracy: 0.8654\n",
            "Epoch 8/50\n",
            "77/77 [==============================] - 6s 84ms/step - loss: 0.2152 - accuracy: 0.9155 - val_loss: 0.3295 - val_accuracy: 0.8886\n",
            "Epoch 9/50\n",
            "77/77 [==============================] - 7s 85ms/step - loss: 0.2133 - accuracy: 0.9127 - val_loss: 0.3020 - val_accuracy: 0.9095\n",
            "Epoch 10/50\n",
            "77/77 [==============================] - 7s 85ms/step - loss: 0.2012 - accuracy: 0.9233 - val_loss: 0.2719 - val_accuracy: 0.9026\n",
            "Epoch 11/50\n",
            "77/77 [==============================] - 6s 84ms/step - loss: 0.1350 - accuracy: 0.9475 - val_loss: 0.3251 - val_accuracy: 0.9026\n",
            "Epoch 12/50\n",
            "77/77 [==============================] - 6s 84ms/step - loss: 0.1668 - accuracy: 0.9405 - val_loss: 0.2895 - val_accuracy: 0.9304\n",
            "Epoch 13/50\n",
            "77/77 [==============================] - 6s 84ms/step - loss: 0.1564 - accuracy: 0.9451 - val_loss: 0.2500 - val_accuracy: 0.9234\n",
            "Epoch 14/50\n",
            "77/77 [==============================] - 6s 84ms/step - loss: 0.1143 - accuracy: 0.9569 - val_loss: 0.3197 - val_accuracy: 0.9188\n",
            "Epoch 15/50\n",
            "77/77 [==============================] - 7s 85ms/step - loss: 0.1035 - accuracy: 0.9582 - val_loss: 0.3155 - val_accuracy: 0.9188\n",
            "Epoch 16/50\n",
            "77/77 [==============================] - 6s 84ms/step - loss: 0.1065 - accuracy: 0.9660 - val_loss: 0.3964 - val_accuracy: 0.9072\n",
            "Epoch 17/50\n",
            "77/77 [==============================] - 6s 84ms/step - loss: 0.0860 - accuracy: 0.9701 - val_loss: 0.3324 - val_accuracy: 0.9234\n",
            "Epoch 18/50\n",
            "77/77 [==============================] - 6s 84ms/step - loss: 0.1171 - accuracy: 0.9619 - val_loss: 0.2741 - val_accuracy: 0.9211\n",
            "Epoch 19/50\n",
            "77/77 [==============================] - 6s 84ms/step - loss: 0.1047 - accuracy: 0.9639 - val_loss: 0.3665 - val_accuracy: 0.9234\n",
            "Epoch 20/50\n",
            "77/77 [==============================] - 7s 85ms/step - loss: 0.0767 - accuracy: 0.9758 - val_loss: 0.3659 - val_accuracy: 0.9142\n",
            "Epoch 21/50\n",
            "77/77 [==============================] - 7s 88ms/step - loss: 0.0562 - accuracy: 0.9807 - val_loss: 0.3245 - val_accuracy: 0.9258\n",
            "Epoch 22/50\n",
            "77/77 [==============================] - 7s 85ms/step - loss: 0.0423 - accuracy: 0.9828 - val_loss: 0.4057 - val_accuracy: 0.9211\n",
            "Epoch 23/50\n",
            "77/77 [==============================] - 7s 85ms/step - loss: 0.0470 - accuracy: 0.9820 - val_loss: 0.5867 - val_accuracy: 0.9234\n",
            "Epoch 24/50\n",
            "77/77 [==============================] - 7s 85ms/step - loss: 0.0440 - accuracy: 0.9865 - val_loss: 0.3867 - val_accuracy: 0.9304\n",
            "Epoch 25/50\n",
            "77/77 [==============================] - 7s 85ms/step - loss: 0.0427 - accuracy: 0.9865 - val_loss: 0.3386 - val_accuracy: 0.9234\n",
            "Epoch 26/50\n",
            "77/77 [==============================] - 7s 85ms/step - loss: 0.0610 - accuracy: 0.9807 - val_loss: 0.3878 - val_accuracy: 0.9142\n",
            "Epoch 27/50\n",
            "77/77 [==============================] - 7s 85ms/step - loss: 0.0373 - accuracy: 0.9877 - val_loss: 0.3623 - val_accuracy: 0.9258\n",
            "Epoch 28/50\n",
            "77/77 [==============================] - 7s 85ms/step - loss: 0.0294 - accuracy: 0.9902 - val_loss: 0.3848 - val_accuracy: 0.9327\n",
            "Epoch 29/50\n",
            "77/77 [==============================] - 7s 85ms/step - loss: 0.0502 - accuracy: 0.9856 - val_loss: 0.4284 - val_accuracy: 0.9211\n",
            "Epoch 30/50\n",
            "77/77 [==============================] - 7s 85ms/step - loss: 0.0610 - accuracy: 0.9828 - val_loss: 0.4406 - val_accuracy: 0.9118\n",
            "Epoch 31/50\n",
            "77/77 [==============================] - 7s 85ms/step - loss: 0.0453 - accuracy: 0.9844 - val_loss: 0.3021 - val_accuracy: 0.9304\n",
            "Epoch 32/50\n",
            "77/77 [==============================] - 7s 84ms/step - loss: 0.0595 - accuracy: 0.9815 - val_loss: 0.3930 - val_accuracy: 0.9350\n",
            "Epoch 33/50\n",
            "77/77 [==============================] - 6s 84ms/step - loss: 0.0272 - accuracy: 0.9889 - val_loss: 0.3439 - val_accuracy: 0.9420\n",
            "Epoch 34/50\n",
            "77/77 [==============================] - 7s 85ms/step - loss: 0.0164 - accuracy: 0.9943 - val_loss: 0.5402 - val_accuracy: 0.9281\n",
            "Epoch 35/50\n",
            "77/77 [==============================] - 7s 85ms/step - loss: 0.0420 - accuracy: 0.9889 - val_loss: 0.3861 - val_accuracy: 0.9443\n",
            "Epoch 36/50\n",
            "77/77 [==============================] - 6s 84ms/step - loss: 0.0278 - accuracy: 0.9893 - val_loss: 0.4610 - val_accuracy: 0.9420\n",
            "Epoch 37/50\n",
            "77/77 [==============================] - 7s 85ms/step - loss: 0.0463 - accuracy: 0.9856 - val_loss: 0.3944 - val_accuracy: 0.9327\n",
            "Epoch 38/50\n",
            "77/77 [==============================] - 7s 85ms/step - loss: 0.0268 - accuracy: 0.9914 - val_loss: 0.4599 - val_accuracy: 0.9188\n",
            "Epoch 39/50\n",
            "77/77 [==============================] - 7s 86ms/step - loss: 0.0353 - accuracy: 0.9873 - val_loss: 0.3462 - val_accuracy: 0.9466\n",
            "Epoch 40/50\n",
            "77/77 [==============================] - 7s 86ms/step - loss: 0.0206 - accuracy: 0.9930 - val_loss: 0.4573 - val_accuracy: 0.9304\n",
            "Epoch 41/50\n",
            "77/77 [==============================] - 7s 86ms/step - loss: 0.0250 - accuracy: 0.9914 - val_loss: 0.4405 - val_accuracy: 0.9374\n",
            "Epoch 42/50\n",
            "77/77 [==============================] - 7s 86ms/step - loss: 0.0689 - accuracy: 0.9783 - val_loss: 0.4871 - val_accuracy: 0.9142\n",
            "Epoch 43/50\n",
            "77/77 [==============================] - 7s 86ms/step - loss: 0.0461 - accuracy: 0.9861 - val_loss: 0.3808 - val_accuracy: 0.9397\n",
            "Epoch 44/50\n",
            "77/77 [==============================] - 7s 85ms/step - loss: 0.0295 - accuracy: 0.9910 - val_loss: 0.5329 - val_accuracy: 0.9350\n",
            "Epoch 45/50\n",
            "77/77 [==============================] - 7s 86ms/step - loss: 0.0429 - accuracy: 0.9861 - val_loss: 0.4853 - val_accuracy: 0.9072\n",
            "Epoch 46/50\n",
            "77/77 [==============================] - 7s 85ms/step - loss: 0.0146 - accuracy: 0.9951 - val_loss: 0.5394 - val_accuracy: 0.9397\n",
            "Epoch 47/50\n",
            "77/77 [==============================] - 7s 85ms/step - loss: 0.0236 - accuracy: 0.9943 - val_loss: 0.5389 - val_accuracy: 0.9327\n",
            "Epoch 48/50\n",
            "77/77 [==============================] - 7s 85ms/step - loss: 0.0212 - accuracy: 0.9934 - val_loss: 0.4759 - val_accuracy: 0.9118\n",
            "Epoch 49/50\n",
            "77/77 [==============================] - 7s 86ms/step - loss: 0.0130 - accuracy: 0.9947 - val_loss: 0.4493 - val_accuracy: 0.9397\n",
            "Epoch 50/50\n",
            "77/77 [==============================] - 7s 86ms/step - loss: 0.0070 - accuracy: 0.9963 - val_loss: 0.4221 - val_accuracy: 0.9420\n"
          ]
        }
      ],
      "source": [
        "history = model.fit( X_train, y_train, epochs = 50 ,  verbose=1 , validation_data=(X_valid , y_valid) )"
      ]
    },
    {
      "cell_type": "markdown",
      "metadata": {
        "id": "ImshxwL4VoLi"
      },
      "source": [
        "# plot the loss and accuracy of the model over the training and validation data during training"
      ]
    },
    {
      "cell_type": "code",
      "execution_count": 11,
      "metadata": {
        "colab": {
          "base_uri": "https://localhost:8080/",
          "height": 590
        },
        "id": "Qc0QEU45VvyT",
        "outputId": "6472b9d8-b628-402b-9dd7-639e19c8bf21"
      },
      "outputs": [
        {
          "data": {
            "image/png": "[encoded data removed]",
            "text/plain": [
              "<Figure size 432x288 with 1 Axes>"
            ]
          },
          "metadata": {
            "needs_background": "light"
          },
          "output_type": "display_data"
        },
        {
          "data": {
            "text/plain": [
              "<matplotlib.legend.Legend at 0x7f8a26242910>"
            ]
          },
          "execution_count": 11,
          "metadata": {},
          "output_type": "execute_result"
        },
        {
          "data": {
            "image/png": "[encoded data removed]",
            "text/plain": [
              "<Figure size 432x288 with 1 Axes>"
            ]
          },
          "metadata": {
            "needs_background": "light"
          },
          "output_type": "display_data"
        }
      ],
      "source": [
        "import matplotlib.pyplot as plt\n",
        "loss = history.history['loss']\n",
        "val_loss = history.history['val_loss']\n",
        "acc = history.history['accuracy']\n",
        "val_acc = history.history['val_accuracy']\n",
        "epochs = range(1, len(loss) + 1)\n",
        "plt.plot(epochs, loss, color='green', label='Training loss')\n",
        "plt.plot(epochs, val_loss, color='blue', linestyle='dashed', label='Validation loss')\n",
        "plt.xlabel('Epochs')\n",
        "plt.ylabel('Loss')\n",
        "plt.title('Training and validation loss')\n",
        "plt.legend()\n",
        "plt.show()\n",
        "plt.figure()\n",
        "plt.plot(epochs, acc, color='green', label='Training acc')\n",
        "plt.plot(epochs, val_acc, color='blue', linestyle='dashed', label='Validation acc')\n",
        "plt.xlabel('Epochs')\n",
        "plt.ylabel('Loss')\n",
        "plt.title('Training and validation accuracy')\n",
        "plt.legend()\n"
      ]
    },
    {
      "cell_type": "markdown",
      "metadata": {
        "id": "UOBtEajfXa5c"
      },
      "source": [
        "# train & test loss and accuracy"
      ]
    },
    {
      "cell_type": "code",
      "execution_count": 12,
      "metadata": {
        "colab": {
          "base_uri": "https://localhost:8080/"
        },
        "id": "JuFwaEpgXe6a",
        "outputId": "07700f6e-7a38-451e-ee5f-62d746b13265"
      },
      "outputs": [
        {
          "name": "stdout",
          "output_type": "stream",
          "text": [
            "Train loss: 8.271453407360241e-05\n",
            "Train accuracy:  100.0 %\n"
          ]
        }
      ],
      "source": [
        "score = model.evaluate(X_train , y_train, verbose=0)\n",
        "\n",
        "print('Train loss:', score[0])\n",
        "print('Train accuracy: ', score[1]*100.0 ,'%')"
      ]
    },
    {
      "cell_type": "code",
      "execution_count": 13,
      "metadata": {
        "colab": {
          "base_uri": "https://localhost:8080/"
        },
        "id": "I1IU3VRbYD_R",
        "outputId": "a884c275-bd81-445c-d37f-d8eaf06bbc05"
      },
      "outputs": [
        {
          "name": "stdout",
          "output_type": "stream",
          "text": [
            "Test loss: 4.268820285797119\n",
            "Test accuracy:  74.11167621612549 %\n"
          ]
        }
      ],
      "source": [
        "score = model.evaluate(X_test , y_test, verbose=0)\n",
        "\n",
        "print('Test loss:', score[0])\n",
        "print('Test accuracy: ', score[1]*100.0 ,'%')"
      ]
    }
  ],
  "metadata": {
    "accelerator": "GPU",
    "colab": {
      "provenance": []
    },
    "gpuClass": "standard",
    "kernelspec": {
      "display_name": "Python 3",
      "language": "python",
      "name": "python3"
    },
    "language_info": {
      "codemirror_mode": {
        "name": "ipython",
        "version": 3
      },
      "file_extension": ".py",
      "mimetype": "text/x-python",
      "name": "python",
      "nbconvert_exporter": "python",
      "pygments_lexer": "ipython3",
      "version": "3.10.5 (tags/v3.10.5:f377153, Jun  6 2022, 16:14:13) [MSC v.1929 64 bit (AMD64)]"
    },
    "vscode": {
      "interpreter": {
        "hash": "98a70705198618b40757f4d0e0cd81e920cd534dd864d2ad541ce8c6b4f10eed"
      }
    }
  },
  "nbformat": 4,
  "nbformat_minor": 0
}
