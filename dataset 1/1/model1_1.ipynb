{
  "cells": [
    {
      "cell_type": "code",
      "execution_count": 10,
      "metadata": {
        "id": "0eYwMmWmaOb-"
      },
      "outputs": [],
      "source": [
        "import numpy as np\n",
        "from tensorflow import keras\n",
        "from tensorflow.keras import layers\n",
        "from tensorflow.keras.models import Sequential\n",
        "from tensorflow.keras.layers import Flatten, Conv2D, MaxPool2D, Dense, Dropout , Input\n",
        "from tensorflow.keras.utils import to_categorical\n",
        "from tensorflow.keras.preprocessing.image import ImageDataGenerator\n",
        "from tensorflow.keras.models import load_model\n",
        "from tensorflow.keras.layers import GlobalMaxPooling2D, MaxPooling2D\n",
        "from tensorflow.keras.layers import BatchNormalization\n",
        "from tensorflow.keras.models import Model\n",
        "from tensorflow.keras import regularizers, optimizers\n",
        "from sklearn.metrics import accuracy_score\n",
        "import matplotlib.pyplot as plt\n",
        "import pandas as pd\n",
        "from PIL import Image\n",
        "import glob\n",
        "import cv2\n",
        "import keras\n",
        "import tensorflow as tf\n",
        "\n",
        "\n",
        "\n",
        "\n",
        "import warnings\n",
        "warnings.filterwarnings('ignore')"
      ]
    },
    {
      "attachments": {},
      "cell_type": "markdown",
      "metadata": {
        "id": "0n4BMzCjaRxW"
      },
      "source": [
        "# Prepare and load dataset\n",
        "\n",
        "\n"
      ]
    },
    {
      "cell_type": "code",
      "execution_count": 11,
      "metadata": {
        "id": "mevQ1BmN9RfR"
      },
      "outputs": [],
      "source": [
        "X_train = []\n",
        "y_train = []\n",
        "for img in glob.glob(\"/content/drive/MyDrive/datasets/Training/glioma_tumor/*.jpg\"):\n",
        "    n = cv2.imread(img)\n",
        "    n = cv2.resize(n, (130,130), interpolation = cv2.INTER_AREA)\n",
        "    X_train.append(n)\n",
        "    y_train.append( 0)\n",
        "\n",
        "for img in glob.glob(\"/content/drive/MyDrive/datasets/Training/meningioma_tumor/*.jpg\"):\n",
        "    n = cv2.imread(img)\n",
        "    n = cv2.resize(n, (130,130), interpolation = cv2.INTER_AREA)\n",
        "    X_train.append(n)\n",
        "    y_train.append( 1)\n",
        "\n",
        "\n",
        "for img in glob.glob(\"/content/drive/MyDrive/datasets/Training/no_tumor/*.jpg\"):\n",
        "    n = cv2.imread(img)\n",
        "    n = cv2.resize(n, (130,130), interpolation = cv2.INTER_AREA)\n",
        "    X_train.append(n)\n",
        "    y_train.append( 2)\n",
        "\n",
        "for img in glob.glob(\"/content/drive/MyDrive/datasets/Training/pituitary_tumor/*.jpg\"):\n",
        "    n = cv2.imread(img)\n",
        "    n = cv2.resize(n, (130,130), interpolation = cv2.INTER_AREA)\n",
        "    X_train.append(n)\n",
        "    y_train.append(3)\n",
        "\n",
        "\n"
      ]
    },
    {
      "attachments": {},
      "cell_type": "markdown",
      "metadata": {},
      "source": [
        "# Prepare and load data Test"
      ]
    },
    {
      "cell_type": "code",
      "execution_count": 12,
      "metadata": {
        "id": "97DQeNHNbmcQ"
      },
      "outputs": [],
      "source": [
        "X_test = []\n",
        "y_test = []\n",
        "for img in glob.glob(\"/content/drive/MyDrive/datasets/Testing/glioma_tumor/*.jpg\"):\n",
        "    n = cv2.imread(img)\n",
        "    n = cv2.resize(n, (130,130), interpolation = cv2.INTER_AREA)\n",
        "    X_test.append(n)\n",
        "    y_test.append(0)\n",
        "\n",
        "for img in glob.glob(\"/content/drive/MyDrive/datasets/Testing/meningioma_tumor/*.jpg\"):\n",
        "    n = cv2.imread(img)\n",
        "    n = cv2.resize(n, (130,130), interpolation = cv2.INTER_AREA)\n",
        "    X_test.append(n)\n",
        "    y_test.append( 1)\n",
        "\n",
        "\n",
        "for img in glob.glob(\"/content/drive/MyDrive/datasets/Testing/no_tumor/*.jpg\"):\n",
        "    n = cv2.imread(img)\n",
        "    n = cv2.resize(n, (130,130), interpolation = cv2.INTER_AREA)\n",
        "    X_test.append(n)\n",
        "    y_test.append( 2)\n",
        "\n",
        "for img in glob.glob(\"/content/drive/MyDrive/datasets/Testing/pituitary_tumor/*.jpg\"):\n",
        "    n = cv2.imread(img)\n",
        "    n = cv2.resize(n, (130,130), interpolation = cv2.INTER_AREA)\n",
        "    X_test.append(n)\n",
        "    y_test.append( 3)\n",
        "\n"
      ]
    },
    {
      "cell_type": "code",
      "execution_count": 13,
      "metadata": {
        "id": "ZF7WveRHb5t-"
      },
      "outputs": [],
      "source": [
        "X_train = np.array(X_train)/255\n",
        "X_test = np.array(X_test)/255\n",
        "y_train = np.array(y_train)\n",
        "y_test = np.array(y_test)"
      ]
    },
    {
      "cell_type": "code",
      "execution_count": 14,
      "metadata": {
        "id": "A20BX9UETLp7"
      },
      "outputs": [],
      "source": [
        "from tensorflow.keras.layers import GlobalMaxPooling2D, MaxPooling2D\n"
      ]
    },
    {
      "cell_type": "markdown",
      "metadata": {
        "id": "301iM4LtYfSj"
      },
      "source": [
        "# Building the network"
      ]
    },
    {
      "cell_type": "code",
      "execution_count": 15,
      "metadata": {
        "id": "X2XFs310VCRS"
      },
      "outputs": [],
      "source": [
        "model = Sequential()\n",
        "model.add(Conv2D(32, 3, input_shape=(130,130,3) , activation='relu'))\n",
        "model.add(MaxPooling2D(pool_size=2))\n",
        "model.add(Conv2D(64, 3,activation='relu'))\n",
        "model.add(MaxPooling2D(pool_size=2))\n",
        "model.add(Conv2D(128, 3, activation='relu'))\n",
        "model.add(MaxPooling2D(pool_size=2))\n",
        "\n",
        "model.add(Flatten())\n",
        "model.add(Dropout(0.5))\n",
        "model.add(Dense(4096, activation='relu'))\n",
        "\n",
        "model.add(Dense(4096, activation='relu'))\n",
        "\n",
        "model.add(Dense(4, activation='softmax'))\n",
        "\n",
        "model.compile(loss='sparse_categorical_crossentropy',optimizer='Adam',metrics=['accuracy'])\n"
      ]
    },
    {
      "cell_type": "code",
      "execution_count": 16,
      "metadata": {
        "colab": {
          "base_uri": "https://localhost:8080/"
        },
        "id": "rClcuCfnKyrG",
        "outputId": "8f23306d-6f94-46f8-e40d-48d6ca8f568f"
      },
      "outputs": [
        {
          "name": "stdout",
          "output_type": "stream",
          "text": [
            "Model: \"sequential_1\"\n",
            "_________________________________________________________________\n",
            " Layer (type)                Output Shape              Param #   \n",
            "=================================================================\n",
            " conv2d_3 (Conv2D)           (None, 128, 128, 32)      896       \n",
            "                                                                 \n",
            " max_pooling2d_3 (MaxPooling  (None, 64, 64, 32)       0         \n",
            " 2D)                                                             \n",
            "                                                                 \n",
            " conv2d_4 (Conv2D)           (None, 62, 62, 64)        18496     \n",
            "                                                                 \n",
            " max_pooling2d_4 (MaxPooling  (None, 31, 31, 64)       0         \n",
            " 2D)                                                             \n",
            "                                                                 \n",
            " conv2d_5 (Conv2D)           (None, 29, 29, 128)       73856     \n",
            "                                                                 \n",
            " max_pooling2d_5 (MaxPooling  (None, 14, 14, 128)      0         \n",
            " 2D)                                                             \n",
            "                                                                 \n",
            " flatten_1 (Flatten)         (None, 25088)             0         \n",
            "                                                                 \n",
            " dropout_1 (Dropout)         (None, 25088)             0         \n",
            "                                                                 \n",
            " dense_3 (Dense)             (None, 4096)              102764544 \n",
            "                                                                 \n",
            " dense_4 (Dense)             (None, 4096)              16781312  \n",
            "                                                                 \n",
            " dense_5 (Dense)             (None, 4)                 16388     \n",
            "                                                                 \n",
            "=================================================================\n",
            "Total params: 119,655,492\n",
            "Trainable params: 119,655,492\n",
            "Non-trainable params: 0\n",
            "_________________________________________________________________\n"
          ]
        }
      ],
      "source": [
        "model.summary() "
      ]
    },
    {
      "attachments": {},
      "cell_type": "markdown",
      "metadata": {
        "id": "Ndmu9g3OSA4s"
      },
      "source": [
        "# Split data into Train and Validation"
      ]
    },
    {
      "cell_type": "code",
      "execution_count": 17,
      "metadata": {
        "id": "qvMOw6TkySTb"
      },
      "outputs": [],
      "source": [
        "from sklearn.model_selection import train_test_split\n",
        "X_train, X_valid, y_train, y_valid = train_test_split(X_train, y_train, test_size=0.15, random_state=42)"
      ]
    },
    {
      "attachments": {},
      "cell_type": "markdown",
      "metadata": {},
      "source": [
        "# train the network"
      ]
    },
    {
      "cell_type": "code",
      "execution_count": 18,
      "metadata": {
        "colab": {
          "base_uri": "https://localhost:8080/"
        },
        "id": "ht-CV4KTRvq_",
        "outputId": "77205ea8-0c49-44d1-efc2-9157284c22d1"
      },
      "outputs": [
        {
          "name": "stdout",
          "output_type": "stream",
          "text": [
            "Epoch 1/100\n",
            "77/77 [==============================] - 13s 56ms/step - loss: 1.1326 - accuracy: 0.5314 - val_loss: 0.8165 - val_accuracy: 0.6032\n",
            "Epoch 2/100\n",
            "77/77 [==============================] - 4s 47ms/step - loss: 0.7006 - accuracy: 0.7081 - val_loss: 0.5997 - val_accuracy: 0.7123\n",
            "Epoch 3/100\n",
            "77/77 [==============================] - 4s 47ms/step - loss: 0.5153 - accuracy: 0.7929 - val_loss: 0.5255 - val_accuracy: 0.7471\n",
            "Epoch 4/100\n",
            "77/77 [==============================] - 4s 47ms/step - loss: 0.3642 - accuracy: 0.8549 - val_loss: 0.4427 - val_accuracy: 0.8213\n",
            "Epoch 5/100\n",
            "77/77 [==============================] - 4s 47ms/step - loss: 0.2691 - accuracy: 0.8946 - val_loss: 0.3727 - val_accuracy: 0.8747\n",
            "Epoch 6/100\n",
            "77/77 [==============================] - 4s 47ms/step - loss: 0.1950 - accuracy: 0.9221 - val_loss: 0.3800 - val_accuracy: 0.8770\n",
            "Epoch 7/100\n",
            "77/77 [==============================] - 4s 47ms/step - loss: 0.1495 - accuracy: 0.9446 - val_loss: 0.3081 - val_accuracy: 0.8910\n",
            "Epoch 8/100\n",
            "77/77 [==============================] - 4s 47ms/step - loss: 0.1438 - accuracy: 0.9483 - val_loss: 0.2824 - val_accuracy: 0.9072\n",
            "Epoch 9/100\n",
            "77/77 [==============================] - 4s 47ms/step - loss: 0.1222 - accuracy: 0.9635 - val_loss: 0.2539 - val_accuracy: 0.9142\n",
            "Epoch 10/100\n",
            "77/77 [==============================] - 4s 47ms/step - loss: 0.0788 - accuracy: 0.9709 - val_loss: 0.2844 - val_accuracy: 0.9304\n",
            "Epoch 11/100\n",
            "77/77 [==============================] - 4s 47ms/step - loss: 0.0863 - accuracy: 0.9709 - val_loss: 0.3000 - val_accuracy: 0.9095\n",
            "Epoch 12/100\n",
            "77/77 [==============================] - 4s 47ms/step - loss: 0.0767 - accuracy: 0.9762 - val_loss: 0.3468 - val_accuracy: 0.9211\n",
            "Epoch 13/100\n",
            "77/77 [==============================] - 4s 49ms/step - loss: 0.0539 - accuracy: 0.9807 - val_loss: 0.4271 - val_accuracy: 0.9258\n",
            "Epoch 14/100\n",
            "77/77 [==============================] - 4s 47ms/step - loss: 0.0500 - accuracy: 0.9820 - val_loss: 0.3807 - val_accuracy: 0.9188\n",
            "Epoch 15/100\n",
            "77/77 [==============================] - 4s 47ms/step - loss: 0.0512 - accuracy: 0.9832 - val_loss: 0.3344 - val_accuracy: 0.9211\n",
            "Epoch 16/100\n",
            "77/77 [==============================] - 4s 47ms/step - loss: 0.0387 - accuracy: 0.9852 - val_loss: 0.2921 - val_accuracy: 0.9188\n",
            "Epoch 17/100\n",
            "77/77 [==============================] - 4s 47ms/step - loss: 0.0405 - accuracy: 0.9869 - val_loss: 0.2484 - val_accuracy: 0.9397\n",
            "Epoch 18/100\n",
            "77/77 [==============================] - 4s 49ms/step - loss: 0.0323 - accuracy: 0.9897 - val_loss: 0.3137 - val_accuracy: 0.9234\n",
            "Epoch 19/100\n",
            "77/77 [==============================] - 4s 47ms/step - loss: 0.0432 - accuracy: 0.9877 - val_loss: 0.4556 - val_accuracy: 0.9234\n",
            "Epoch 20/100\n",
            "77/77 [==============================] - 4s 47ms/step - loss: 0.0424 - accuracy: 0.9873 - val_loss: 0.3418 - val_accuracy: 0.9281\n",
            "Epoch 21/100\n",
            "77/77 [==============================] - 4s 47ms/step - loss: 0.0291 - accuracy: 0.9906 - val_loss: 0.3199 - val_accuracy: 0.9304\n",
            "Epoch 22/100\n",
            "77/77 [==============================] - 4s 47ms/step - loss: 0.0474 - accuracy: 0.9861 - val_loss: 0.2690 - val_accuracy: 0.9374\n",
            "Epoch 23/100\n",
            "77/77 [==============================] - 4s 47ms/step - loss: 0.0244 - accuracy: 0.9926 - val_loss: 0.3822 - val_accuracy: 0.9420\n",
            "Epoch 24/100\n",
            "77/77 [==============================] - 4s 47ms/step - loss: 0.0263 - accuracy: 0.9902 - val_loss: 0.3766 - val_accuracy: 0.9420\n",
            "Epoch 25/100\n",
            "77/77 [==============================] - 4s 49ms/step - loss: 0.0163 - accuracy: 0.9947 - val_loss: 0.3919 - val_accuracy: 0.9374\n",
            "Epoch 26/100\n",
            "77/77 [==============================] - 4s 47ms/step - loss: 0.0452 - accuracy: 0.9844 - val_loss: 0.4551 - val_accuracy: 0.9350\n",
            "Epoch 27/100\n",
            "77/77 [==============================] - 4s 47ms/step - loss: 0.0828 - accuracy: 0.9733 - val_loss: 0.2572 - val_accuracy: 0.9327\n",
            "Epoch 28/100\n",
            "77/77 [==============================] - 4s 47ms/step - loss: 0.0229 - accuracy: 0.9938 - val_loss: 0.2841 - val_accuracy: 0.9490\n",
            "Epoch 29/100\n",
            "77/77 [==============================] - 4s 47ms/step - loss: 0.0170 - accuracy: 0.9947 - val_loss: 0.2844 - val_accuracy: 0.9513\n",
            "Epoch 30/100\n",
            "77/77 [==============================] - 4s 47ms/step - loss: 0.0246 - accuracy: 0.9918 - val_loss: 0.2625 - val_accuracy: 0.9490\n",
            "Epoch 31/100\n",
            "77/77 [==============================] - 4s 47ms/step - loss: 0.0217 - accuracy: 0.9918 - val_loss: 0.2807 - val_accuracy: 0.9466\n",
            "Epoch 32/100\n",
            "77/77 [==============================] - 4s 47ms/step - loss: 0.0109 - accuracy: 0.9979 - val_loss: 0.2990 - val_accuracy: 0.9443\n",
            "Epoch 33/100\n",
            "77/77 [==============================] - 4s 47ms/step - loss: 0.0216 - accuracy: 0.9922 - val_loss: 0.2964 - val_accuracy: 0.9420\n",
            "Epoch 34/100\n",
            "77/77 [==============================] - 4s 47ms/step - loss: 0.0084 - accuracy: 0.9967 - val_loss: 0.4129 - val_accuracy: 0.9397\n",
            "Epoch 35/100\n",
            "77/77 [==============================] - 4s 47ms/step - loss: 0.0461 - accuracy: 0.9869 - val_loss: 0.8506 - val_accuracy: 0.8747\n",
            "Epoch 36/100\n",
            "77/77 [==============================] - 4s 47ms/step - loss: 0.0573 - accuracy: 0.9852 - val_loss: 0.3378 - val_accuracy: 0.9443\n",
            "Epoch 37/100\n",
            "77/77 [==============================] - 4s 47ms/step - loss: 0.0251 - accuracy: 0.9926 - val_loss: 0.3150 - val_accuracy: 0.9374\n",
            "Epoch 38/100\n",
            "77/77 [==============================] - 4s 47ms/step - loss: 0.0110 - accuracy: 0.9971 - val_loss: 0.4413 - val_accuracy: 0.9350\n",
            "Epoch 39/100\n",
            "77/77 [==============================] - 4s 47ms/step - loss: 0.0121 - accuracy: 0.9955 - val_loss: 0.3450 - val_accuracy: 0.9536\n",
            "Epoch 40/100\n",
            "77/77 [==============================] - 4s 47ms/step - loss: 0.0173 - accuracy: 0.9951 - val_loss: 0.3300 - val_accuracy: 0.9350\n",
            "Epoch 41/100\n",
            "77/77 [==============================] - 4s 47ms/step - loss: 0.0101 - accuracy: 0.9955 - val_loss: 0.3154 - val_accuracy: 0.9559\n",
            "Epoch 42/100\n",
            "77/77 [==============================] - 4s 47ms/step - loss: 0.0088 - accuracy: 0.9979 - val_loss: 0.4269 - val_accuracy: 0.9304\n",
            "Epoch 43/100\n",
            "77/77 [==============================] - 4s 47ms/step - loss: 0.0045 - accuracy: 0.9988 - val_loss: 0.3551 - val_accuracy: 0.9420\n",
            "Epoch 44/100\n",
            "77/77 [==============================] - 4s 47ms/step - loss: 0.0115 - accuracy: 0.9959 - val_loss: 0.7248 - val_accuracy: 0.9165\n",
            "Epoch 45/100\n",
            "77/77 [==============================] - 4s 47ms/step - loss: 0.0356 - accuracy: 0.9930 - val_loss: 0.3369 - val_accuracy: 0.9420\n",
            "Epoch 46/100\n",
            "77/77 [==============================] - 4s 49ms/step - loss: 0.0165 - accuracy: 0.9971 - val_loss: 0.3107 - val_accuracy: 0.9397\n",
            "Epoch 47/100\n",
            "77/77 [==============================] - 4s 47ms/step - loss: 0.0010 - accuracy: 0.9996 - val_loss: 0.4104 - val_accuracy: 0.9374\n",
            "Epoch 48/100\n",
            "77/77 [==============================] - 4s 47ms/step - loss: 0.0054 - accuracy: 0.9979 - val_loss: 0.4814 - val_accuracy: 0.9420\n",
            "Epoch 49/100\n",
            "77/77 [==============================] - 4s 47ms/step - loss: 0.0240 - accuracy: 0.9963 - val_loss: 0.3341 - val_accuracy: 0.9350\n",
            "Epoch 50/100\n",
            "77/77 [==============================] - 4s 47ms/step - loss: 0.0118 - accuracy: 0.9963 - val_loss: 0.3166 - val_accuracy: 0.9490\n",
            "Epoch 51/100\n",
            "77/77 [==============================] - 4s 47ms/step - loss: 0.0014 - accuracy: 0.9992 - val_loss: 0.3162 - val_accuracy: 0.9490\n",
            "Epoch 52/100\n",
            "77/77 [==============================] - 4s 47ms/step - loss: 0.0032 - accuracy: 0.9984 - val_loss: 0.3365 - val_accuracy: 0.9466\n",
            "Epoch 53/100\n",
            "77/77 [==============================] - 4s 47ms/step - loss: 0.0025 - accuracy: 0.9984 - val_loss: 0.4472 - val_accuracy: 0.9443\n",
            "Epoch 54/100\n",
            "77/77 [==============================] - 4s 47ms/step - loss: 0.0228 - accuracy: 0.9947 - val_loss: 1.2942 - val_accuracy: 0.8724\n",
            "Epoch 55/100\n",
            "77/77 [==============================] - 4s 47ms/step - loss: 0.0488 - accuracy: 0.9861 - val_loss: 0.4461 - val_accuracy: 0.9374\n",
            "Epoch 56/100\n",
            "77/77 [==============================] - 4s 47ms/step - loss: 0.0458 - accuracy: 0.9889 - val_loss: 0.3398 - val_accuracy: 0.9513\n",
            "Epoch 57/100\n",
            "77/77 [==============================] - 4s 47ms/step - loss: 0.0079 - accuracy: 0.9979 - val_loss: 0.3244 - val_accuracy: 0.9536\n",
            "Epoch 58/100\n",
            "77/77 [==============================] - 4s 47ms/step - loss: 0.0087 - accuracy: 0.9975 - val_loss: 0.3362 - val_accuracy: 0.9490\n",
            "Epoch 59/100\n",
            "77/77 [==============================] - 4s 47ms/step - loss: 0.0129 - accuracy: 0.9955 - val_loss: 0.3290 - val_accuracy: 0.9536\n",
            "Epoch 60/100\n",
            "77/77 [==============================] - 4s 47ms/step - loss: 0.0853 - accuracy: 0.9832 - val_loss: 0.4764 - val_accuracy: 0.9234\n",
            "Epoch 61/100\n",
            "77/77 [==============================] - 4s 47ms/step - loss: 0.0289 - accuracy: 0.9910 - val_loss: 0.3711 - val_accuracy: 0.9490\n",
            "Epoch 62/100\n",
            "77/77 [==============================] - 4s 47ms/step - loss: 0.0087 - accuracy: 0.9963 - val_loss: 0.4007 - val_accuracy: 0.9466\n",
            "Epoch 63/100\n",
            "77/77 [==============================] - 4s 47ms/step - loss: 0.0049 - accuracy: 0.9984 - val_loss: 0.4226 - val_accuracy: 0.9582\n",
            "Epoch 64/100\n",
            "77/77 [==============================] - 4s 47ms/step - loss: 0.0243 - accuracy: 0.9934 - val_loss: 0.4061 - val_accuracy: 0.9397\n",
            "Epoch 65/100\n",
            "77/77 [==============================] - 4s 47ms/step - loss: 0.0132 - accuracy: 0.9959 - val_loss: 0.4156 - val_accuracy: 0.9165\n",
            "Epoch 66/100\n",
            "77/77 [==============================] - 4s 47ms/step - loss: 0.0188 - accuracy: 0.9947 - val_loss: 0.4733 - val_accuracy: 0.9350\n",
            "Epoch 67/100\n",
            "77/77 [==============================] - 4s 47ms/step - loss: 0.0085 - accuracy: 0.9975 - val_loss: 0.4201 - val_accuracy: 0.9513\n",
            "Epoch 68/100\n",
            "77/77 [==============================] - 4s 47ms/step - loss: 0.0060 - accuracy: 0.9984 - val_loss: 0.4243 - val_accuracy: 0.9443\n",
            "Epoch 69/100\n",
            "77/77 [==============================] - 4s 47ms/step - loss: 3.0439e-04 - accuracy: 1.0000 - val_loss: 0.4649 - val_accuracy: 0.9536\n",
            "Epoch 70/100\n",
            "77/77 [==============================] - 4s 47ms/step - loss: 1.5164e-04 - accuracy: 1.0000 - val_loss: 0.4745 - val_accuracy: 0.9536\n",
            "Epoch 71/100\n",
            "77/77 [==============================] - 4s 47ms/step - loss: 0.0127 - accuracy: 0.9971 - val_loss: 0.4422 - val_accuracy: 0.9374\n",
            "Epoch 72/100\n",
            "77/77 [==============================] - 4s 47ms/step - loss: 0.0154 - accuracy: 0.9963 - val_loss: 0.5511 - val_accuracy: 0.9350\n",
            "Epoch 73/100\n",
            "77/77 [==============================] - 4s 47ms/step - loss: 0.0268 - accuracy: 0.9955 - val_loss: 0.4751 - val_accuracy: 0.9350\n",
            "Epoch 74/100\n",
            "77/77 [==============================] - 4s 47ms/step - loss: 0.0075 - accuracy: 0.9979 - val_loss: 0.5149 - val_accuracy: 0.9327\n",
            "Epoch 75/100\n",
            "77/77 [==============================] - 4s 49ms/step - loss: 0.0036 - accuracy: 0.9988 - val_loss: 0.4935 - val_accuracy: 0.9350\n",
            "Epoch 76/100\n",
            "77/77 [==============================] - 4s 49ms/step - loss: 0.0104 - accuracy: 0.9967 - val_loss: 0.4769 - val_accuracy: 0.9374\n",
            "Epoch 77/100\n",
            "77/77 [==============================] - 4s 47ms/step - loss: 3.3723e-04 - accuracy: 1.0000 - val_loss: 0.4662 - val_accuracy: 0.9490\n",
            "Epoch 78/100\n",
            "77/77 [==============================] - 4s 47ms/step - loss: 0.0086 - accuracy: 0.9984 - val_loss: 0.5512 - val_accuracy: 0.9397\n",
            "Epoch 79/100\n",
            "77/77 [==============================] - 4s 47ms/step - loss: 0.0059 - accuracy: 0.9979 - val_loss: 0.6045 - val_accuracy: 0.9374\n",
            "Epoch 80/100\n",
            "77/77 [==============================] - 4s 47ms/step - loss: 0.0223 - accuracy: 0.9947 - val_loss: 0.5033 - val_accuracy: 0.9420\n",
            "Epoch 81/100\n",
            "77/77 [==============================] - 4s 47ms/step - loss: 0.0427 - accuracy: 0.9922 - val_loss: 0.4054 - val_accuracy: 0.9397\n",
            "Epoch 82/100\n",
            "77/77 [==============================] - 4s 47ms/step - loss: 0.0174 - accuracy: 0.9963 - val_loss: 0.4563 - val_accuracy: 0.9490\n",
            "Epoch 83/100\n",
            "77/77 [==============================] - 4s 47ms/step - loss: 0.0056 - accuracy: 0.9992 - val_loss: 0.5367 - val_accuracy: 0.9397\n",
            "Epoch 84/100\n",
            "77/77 [==============================] - 4s 51ms/step - loss: 0.0219 - accuracy: 0.9951 - val_loss: 0.5023 - val_accuracy: 0.9374\n",
            "Epoch 85/100\n",
            "77/77 [==============================] - 4s 52ms/step - loss: 0.0091 - accuracy: 0.9971 - val_loss: 0.5753 - val_accuracy: 0.9490\n",
            "Epoch 86/100\n",
            "77/77 [==============================] - 4s 47ms/step - loss: 0.0045 - accuracy: 0.9984 - val_loss: 0.4624 - val_accuracy: 0.9513\n",
            "Epoch 87/100\n",
            "77/77 [==============================] - 4s 47ms/step - loss: 0.0030 - accuracy: 0.9988 - val_loss: 0.4981 - val_accuracy: 0.9559\n",
            "Epoch 88/100\n",
            "77/77 [==============================] - 4s 47ms/step - loss: 4.2356e-04 - accuracy: 0.9996 - val_loss: 0.5073 - val_accuracy: 0.9513\n",
            "Epoch 89/100\n",
            "77/77 [==============================] - 4s 47ms/step - loss: 0.0125 - accuracy: 0.9979 - val_loss: 0.4861 - val_accuracy: 0.9466\n",
            "Epoch 90/100\n",
            "77/77 [==============================] - 4s 47ms/step - loss: 0.0025 - accuracy: 0.9992 - val_loss: 0.5207 - val_accuracy: 0.9513\n",
            "Epoch 91/100\n",
            "77/77 [==============================] - 4s 47ms/step - loss: 0.0062 - accuracy: 0.9992 - val_loss: 0.6226 - val_accuracy: 0.9443\n",
            "Epoch 92/100\n",
            "77/77 [==============================] - 4s 47ms/step - loss: 0.0071 - accuracy: 0.9979 - val_loss: 0.5588 - val_accuracy: 0.9443\n",
            "Epoch 93/100\n",
            "77/77 [==============================] - 4s 47ms/step - loss: 0.0084 - accuracy: 0.9979 - val_loss: 0.7659 - val_accuracy: 0.9397\n",
            "Epoch 94/100\n",
            "77/77 [==============================] - 4s 47ms/step - loss: 0.0528 - accuracy: 0.9848 - val_loss: 0.4725 - val_accuracy: 0.9374\n",
            "Epoch 95/100\n",
            "77/77 [==============================] - 4s 47ms/step - loss: 0.0188 - accuracy: 0.9951 - val_loss: 0.5801 - val_accuracy: 0.9327\n",
            "Epoch 96/100\n",
            "77/77 [==============================] - 4s 47ms/step - loss: 0.0089 - accuracy: 0.9984 - val_loss: 0.4579 - val_accuracy: 0.9327\n",
            "Epoch 97/100\n",
            "77/77 [==============================] - 4s 47ms/step - loss: 0.0131 - accuracy: 0.9955 - val_loss: 0.8280 - val_accuracy: 0.9258\n",
            "Epoch 98/100\n",
            "77/77 [==============================] - 4s 47ms/step - loss: 0.0178 - accuracy: 0.9967 - val_loss: 0.5724 - val_accuracy: 0.9350\n",
            "Epoch 99/100\n",
            "77/77 [==============================] - 4s 47ms/step - loss: 0.0146 - accuracy: 0.9967 - val_loss: 0.5988 - val_accuracy: 0.9374\n",
            "Epoch 100/100\n",
            "77/77 [==============================] - 4s 47ms/step - loss: 0.0137 - accuracy: 0.9955 - val_loss: 1.2614 - val_accuracy: 0.9188\n"
          ]
        }
      ],
      "source": [
        "history = model.fit( X_train, y_train, epochs = 100 ,  verbose=1 , validation_data=(X_valid , y_valid) )"
      ]
    },
    {
      "cell_type": "markdown",
      "metadata": {
        "id": "ImshxwL4VoLi"
      },
      "source": [
        "# plot the loss and accuracy of the model over the training and validation data during training"
      ]
    },
    {
      "cell_type": "code",
      "execution_count": 19,
      "metadata": {
        "colab": {
          "base_uri": "https://localhost:8080/",
          "height": 590
        },
        "id": "Qc0QEU45VvyT",
        "outputId": "33351b6d-d88b-4218-857c-fa17cc9600d9"
      },
      "outputs": [
        {
          "data": {
            "image/png": "[encoded data removed]",
            "text/plain": [
              "<Figure size 432x288 with 1 Axes>"
            ]
          },
          "metadata": {
            "needs_background": "light"
          },
          "output_type": "display_data"
        },
        {
          "data": {
            "text/plain": [
              "<matplotlib.legend.Legend at 0x7f108f780640>"
            ]
          },
          "execution_count": 19,
          "metadata": {},
          "output_type": "execute_result"
        },
        {
          "data": {
            "image/png": "[encoded data removed]",
            "text/plain": [
              "<Figure size 432x288 with 1 Axes>"
            ]
          },
          "metadata": {
            "needs_background": "light"
          },
          "output_type": "display_data"
        }
      ],
      "source": [
        "import matplotlib.pyplot as plt\n",
        "loss = history.history['loss']\n",
        "val_loss = history.history['val_loss']\n",
        "acc = history.history['accuracy']\n",
        "val_acc = history.history['val_accuracy']\n",
        "epochs = range(1, len(loss) + 1)\n",
        "plt.plot(epochs, loss, color='green', label='Training loss')\n",
        "plt.plot(epochs, val_loss, color='blue', linestyle='dashed', label='Validation loss')\n",
        "plt.xlabel('Epochs')\n",
        "plt.ylabel('Loss')\n",
        "plt.title('Training and validation loss')\n",
        "plt.legend()\n",
        "plt.show()\n",
        "plt.figure()\n",
        "plt.plot(epochs, acc, color='green', label='Training acc')\n",
        "plt.plot(epochs, val_acc, color='blue', linestyle='dashed', label='Validation acc')\n",
        "plt.xlabel('Epochs')\n",
        "plt.ylabel('Loss')\n",
        "plt.title('Training and validation accuracy')\n",
        "plt.legend()\n"
      ]
    },
    {
      "cell_type": "markdown",
      "metadata": {
        "id": "UOBtEajfXa5c"
      },
      "source": [
        "# train & test loss and accuracy"
      ]
    },
    {
      "cell_type": "code",
      "execution_count": 20,
      "metadata": {
        "colab": {
          "base_uri": "https://localhost:8080/"
        },
        "id": "JuFwaEpgXe6a",
        "outputId": "f389a12f-9396-4e90-ccdc-48da8cb09b7b"
      },
      "outputs": [
        {
          "name": "stdout",
          "output_type": "stream",
          "text": [
            "Train loss: 0.051307011395692825\n",
            "Train accuracy:  99.38499331474304 %\n"
          ]
        }
      ],
      "source": [
        "score = model.evaluate(X_train , y_train, verbose=0)\n",
        "\n",
        "print('Train loss:', score[0])\n",
        "print('Train accuracy: ', score[1]*100.0 ,'%')"
      ]
    },
    {
      "cell_type": "code",
      "execution_count": 21,
      "metadata": {
        "colab": {
          "base_uri": "https://localhost:8080/"
        },
        "id": "I1IU3VRbYD_R",
        "outputId": "3012b019-5dda-478e-9dc7-1db6228e5c50"
      },
      "outputs": [
        {
          "name": "stdout",
          "output_type": "stream",
          "text": [
            "Test loss: 3.4543063640594482\n",
            "Test accuracy:  76.64974331855774 %\n"
          ]
        }
      ],
      "source": [
        "score = model.evaluate(X_test , y_test, verbose=0)\n",
        "\n",
        "print('Test loss:', score[0])\n",
        "print('Test accuracy: ', score[1]*100.0 ,'%')"
      ]
    }
  ],
  "metadata": {
    "accelerator": "GPU",
    "colab": {
      "provenance": []
    },
    "gpuClass": "standard",
    "kernelspec": {
      "display_name": "Python 3",
      "language": "python",
      "name": "python3"
    },
    "language_info": {
      "codemirror_mode": {
        "name": "ipython",
        "version": 3
      },
      "file_extension": ".py",
      "mimetype": "text/x-python",
      "name": "python",
      "nbconvert_exporter": "python",
      "pygments_lexer": "ipython3",
      "version": "3.10.5 (tags/v3.10.5:f377153, Jun  6 2022, 16:14:13) [MSC v.1929 64 bit (AMD64)]"
    },
    "vscode": {
      "interpreter": {
        "hash": "98a70705198618b40757f4d0e0cd81e920cd534dd864d2ad541ce8c6b4f10eed"
      }
    }
  },
  "nbformat": 4,
  "nbformat_minor": 0
}
